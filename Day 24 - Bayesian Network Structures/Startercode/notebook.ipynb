{
    "cells": [
        {
            "cell_type": "markdown",
            "metadata": {
                "nbgrader": {
                    "grade": false,
                    "grade_id": "cell-1b8f133bd2642668",
                    "locked": true,
                    "schema_version": 1,
                    "solution": false
                },
                "editable": false,
                "deletable": false
            },
            "source": [
                "# Day 24 notebook\n",
                "\n",
                "The objectives of this notebook are to practice\n",
                "\n",
                "* computing the probablity of data given the graph (the model evidence)\n",
                "* counting the number of possible Bayesian network structures"
            ]
        },
        {
            "cell_type": "markdown",
            "metadata": {
                "nbgrader": {
                    "grade": false,
                    "grade_id": "cell-9fce1bb08a29e010",
                    "locked": true,
                    "schema_version": 1,
                    "solution": false
                },
                "editable": false,
                "deletable": false
            },
            "source": [
                "## Modules used for this assignment"
            ]
        },
        {
            "cell_type": "code",
            "execution_count": null,
            "metadata": {
                "collapsed": true,
                "nbgrader": {
                    "grade": false,
                    "grade_id": "cell-c4fca047940fa76c",
                    "locked": true,
                    "schema_version": 1,
                    "solution": false
                },
                "editable": false,
                "deletable": false
            },
            "outputs": [],
            "source": [
                "# standard library modules\n",
                "import math             # for log and lgamma\n",
                "\n",
                "# course modules\n",
                "import bayesian_network # for the BayesianNetwork class"
            ]
        },
        {
            "cell_type": "markdown",
            "metadata": {
                "nbgrader": {
                    "grade": false,
                    "grade_id": "cell-9843bef3440ecb81",
                    "locked": true,
                    "schema_version": 1,
                    "solution": false
                },
                "editable": false,
                "deletable": false
            },
            "source": [
                "## PROBLEM 1: Computing the score (model evidence) of Bayesian network structure\n",
                "\n",
                "In this notebook we will compute $\\log P(D | G)$ (the model evidence) for a particular data set, $D$, and a particular Bayesian network graph, $G$.  This value is the score of the Bayesian network in the structure learning task.  In practice, we would want to find the Bayesian network structure that has the highest score, but for now we will focus simply on computing the score for one particular structure, given a data set.\n",
                "\n",
                "We will be modeling three binary random variables $X_1, X_2,$ and $X_3$ for which we have data.  Here is the data set we will be using to compute the score of a graph:"
            ]
        },
        {
            "cell_type": "code",
            "execution_count": null,
            "metadata": {
                "collapsed": true,
                "nbgrader": {
                    "grade": false,
                    "grade_id": "cell-983dd7920ed48f3a",
                    "locked": true,
                    "schema_version": 1,
                    "solution": false
                },
                "scrolled": true,
                "editable": false,
                "deletable": false
            },
            "outputs": [],
            "source": [
                "# read in the data set as a list of tuples \n",
                "# (each tuple is one joint observation of the three variables)\n",
                "data = [tuple(map(int, line.split())) for line in open(\"data.txt\")]\n",
                "\n",
                "# here are the first six observations\n",
                "num_first = 6\n",
                "print(\"The first %d (out of %d total) observations:\" % (num_first, len(data)))\n",
                "print(*data[:num_first], sep=\"\\n\")"
            ]
        },
        {
            "cell_type": "markdown",
            "metadata": {
                "nbgrader": {
                    "grade": false,
                    "grade_id": "cell-f5a2e0962ab0924c",
                    "locked": true,
                    "schema_version": 1,
                    "solution": false
                },
                "editable": false,
                "deletable": false
            },
            "source": [
                "Each tuple is an observation of the three random variables $(x_1, x_2, x_3)$."
            ]
        },
        {
            "cell_type": "markdown",
            "metadata": {
                "nbgrader": {
                    "grade": false,
                    "grade_id": "cell-5d7be66cc6646665",
                    "locked": true,
                    "schema_version": 1,
                    "solution": false
                },
                "editable": false,
                "deletable": false
            },
            "source": [
                "You are to compute $\\log P(D | G)$ for the Bayesian network, $G$, defined below.  We will be using flat, i.e., $Beta(1,1)$, prior distributions for all parameters of the network.  The formula (and its derivation) for this value is given in the Day 24 Structure scoring example.\n",
                "\n",
                "In the Bayesian network instantiated below, you should ignore the parameter values in the CPDs.  The only important aspect of the network is its structure."
            ]
        },
        {
            "cell_type": "code",
            "execution_count": null,
            "metadata": {
                "collapsed": true,
                "nbgrader": {
                    "grade": false,
                    "grade_id": "cell-2eff81a84a81f614",
                    "locked": true,
                    "schema_version": 1,
                    "solution": false
                },
                "editable": false,
                "deletable": false
            },
            "outputs": [],
            "source": [
                "random_variables = [\"x1\", \"x2\", \"x3\"]\n",
                "g = bayesian_network.BayesianNetwork(random_variables)\n",
                "\n",
                "g.set_cpd(\"x1\",\n",
                "          [], [0, 1],\n",
                "          {(): [0.75, 0.25]})\n",
                "g.set_cpd(\"x2\",\n",
                "          [], [0, 1],\n",
                "          {(): [0.75, 0.25]})\n",
                "g.set_cpd(\"x3\",\n",
                "          [\"x1\", \"x2\"], [0, 1],\n",
                "          {(0, 0): [0.9, 0.1],\n",
                "           (0, 1): [0.3, 0.7],\n",
                "           (1, 0): [0.2, 0.8],\n",
                "           (1, 1): [0.1, 0.9]})\n",
                "\n",
                "g.plot()"
            ]
        },
        {
            "cell_type": "markdown",
            "metadata": {
                "nbgrader": {
                    "grade": false,
                    "grade_id": "cell-88e98833a7181917",
                    "locked": true,
                    "schema_version": 1,
                    "solution": false
                },
                "editable": false,
                "deletable": false
            },
            "source": [
                "To answer this question, assign the value of $\\log P(D | G)$ for this graph and the given dataset to the variable `log_prob_data_given_graph` below.  You will likely want to make use of the function `logbinom` provided below, which computes the natural logarithm of a [binomial coefficient](http:\/\/mathworld.wolfram.com\/BinomialCoefficient.html)."
            ]
        },
        {
            "cell_type": "code",
            "execution_count": null,
            "metadata": {
                "collapsed": true,
                "nbgrader": {
                    "grade": false,
                    "grade_id": "cell-97be6985fc2a1654",
                    "locked": true,
                    "schema_version": 1,
                    "solution": false
                },
                "editable": false,
                "deletable": false
            },
            "outputs": [],
            "source": [
                "def logbinom(n, k):\n",
                "    \"\"\"The natural logarithm of the binomial coefficient (n choose k)\"\"\"\n",
                "    return math.lgamma(n + 1) - math.lgamma(k + 1) - math.lgamma(n - k + 1)"
            ]
        },
        {
            "cell_type": "code",
            "execution_count": null,
            "metadata": {
                "collapsed": true,
                "nbgrader": {
                    "grade": false,
                    "grade_id": "cell-0e8d6f0b81aa96c6",
                    "locked": false,
                    "schema_version": 1,
                    "solution": true
                },
                "scrolled": false
            },
            "outputs": [],
            "source": [
                "###\n",
                "### log_prob_data_given_graph=?\n",
                "###\n"
            ]
        },
        {
            "cell_type": "code",
            "execution_count": null,
            "metadata": {
                "collapsed": true,
                "nbgrader": {
                    "grade": true,
                    "grade_id": "prob_data_given_graph",
                    "locked": true,
                    "points": 1,
                    "schema_version": 1,
                    "solution": false
                },
                "editable": false,
                "deletable": false
            },
            "outputs": [],
            "source": [
                "# test for prob_data_given_graph\n",
                "assert isinstance(log_prob_data_given_graph, float)\n",
                "assert -2000 < log_prob_data_given_graph < 0\n",
                "###\n",
                "### AUTOGRADER TEST - DO NOT REMOVE\n",
                "###\n"
            ]
        },
        {
            "cell_type": "markdown",
            "metadata": {
                "nbgrader": {
                    "grade": false,
                    "grade_id": "cell-11a03b7a24b6bd67",
                    "locked": true,
                    "schema_version": 1,
                    "solution": false
                },
                "editable": false,
                "deletable": false
            },
            "source": [
                "## PROBLEM 2: Counting the number of possible Bayesian network structures (1 POINT)\n",
                "For a Bayesian network of *three* random variables (like the one in Problem 1), how many possible Bayesian network structures are there?  Assign your answer to the variable `num_3var_networks` below."
            ]
        },
        {
            "cell_type": "code",
            "execution_count": null,
            "metadata": {
                "collapsed": true,
                "nbgrader": {
                    "grade": false,
                    "grade_id": "cell-6ba838b3200968c2",
                    "locked": false,
                    "schema_version": 1,
                    "solution": true
                }
            },
            "outputs": [],
            "source": [
                "###\n",
                "### num_3var_networks=?\n",
                "###\n"
            ]
        },
        {
            "cell_type": "code",
            "execution_count": null,
            "metadata": {
                "collapsed": true,
                "nbgrader": {
                    "grade": true,
                    "grade_id": "num_3var_networks",
                    "locked": true,
                    "points": 1,
                    "schema_version": 1,
                    "solution": false
                },
                "editable": false,
                "deletable": false
            },
            "outputs": [],
            "source": [
                "# test for num_3var_networks\n",
                "assert isinstance(num_3var_networks, int)\n",
                "assert num_3var_networks > 0\n",
                "###\n",
                "### AUTOGRADER TEST - DO NOT REMOVE\n",
                "###\n"
            ]
        },
        {
            "cell_type": "markdown",
            "metadata": {
                "nbgrader": {
                    "grade": false,
                    "grade_id": "cell-13bebab3829908af",
                    "locked": true,
                    "schema_version": 1,
                    "solution": false
                },
                "editable": false,
                "deletable": false
            },
            "source": [
                "## BONUS PROBLEM: Find the Bayesian network structure with maximum score\n",
                "For the dataset in Problem 1, find the Bayesian network structure that gives the maximum score (model evidence)."
            ]
        }
    ],
    "metadata": {
        "celltoolbar": "Create Assignment",
        "kernelspec": {
            "display_name": "Python 3 [3.6]",
            "language": "python",
            "name": "python3"
        },
        "language_info": {
            "codemirror_mode": {
                "name": "ipython",
                "version": 3
            },
            "file_extension": ".py",
            "mimetype": "text\/x-python",
            "name": "python",
            "nbconvert_exporter": "python",
            "pygments_lexer": "ipython3",
            "version": "3.6.4"
        }
    },
    "nbformat": 4,
    "nbformat_minor": 2
}