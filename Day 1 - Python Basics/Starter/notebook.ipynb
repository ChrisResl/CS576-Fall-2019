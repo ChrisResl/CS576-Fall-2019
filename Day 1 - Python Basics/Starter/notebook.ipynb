{
    "cells": [
        {
            "cell_type": "markdown",
            "metadata": {
                "nbgrader": {
                    "grade": false,
                    "locked": true,
                    "solution": false
                },
                "editable": false,
                "deletable": false
            },
            "source": [
                "# Day 1 notebook\n",
                "\n",
                "The objectives of this notebook are to practice\n",
                "* the biological concepts of \n",
                "  * representing DNA molecules as strings\n",
                "  * determining the complementary strand of a double-stranded DNA molecule\n",
                "  * transcription of DNA to RNA\n",
                "  * codons and their translation to amino acids\n",
                "* the Python concepts of \n",
                "  * working with strings and lists\n",
                "  * writing functions\n",
                "  * looping over sequences\n",
                "  * using list comprehensions\n",
                "  * using dictionaries\n",
                "* using and submitting Jupyter notebooks"
            ]
        },
        {
            "cell_type": "markdown",
            "metadata": {
                "nbgrader": {
                    "grade": false,
                    "locked": true,
                    "solution": false
                },
                "editable": false,
                "deletable": false
            },
            "source": [
                "## Providing answers to problems in Jupyter Notebooks\n",
                "\n",
                "Much of your work in this class will be done in Jupyter Notebooks with a Python 3 kernel (Python 3.6, to be specific).  In general, you will be provided with a *template* notebook and your job will be to fill in the missing sections by following the specifications preceding each missing section.  The missing sections may be either code blocks, text (in Markdown), or perhaps even a plot or image.  \n",
                "\n",
                "Following each missing section will be some tests (in the form of `assert` statements) of the accuracy of your solutions.  Some tests will be visible to you and others may be hidden for the purposes of grading.  You should not modify the test blocks, but you should certainly run them to see if your code is passing the visible tests.  Do not worry if you modify the test blocks.  They will be automatically replaced with their original tests when you submit."
            ]
        },
        {
            "cell_type": "markdown",
            "metadata": {
                "nbgrader": {
                    "grade": false,
                    "locked": true,
                    "solution": false
                },
                "editable": false,
                "deletable": false
            },
            "source": [
                "### PROBLEM 1 - variable assignment (10 POINTS)\n",
                "Your first excercise\/problem is to simply assign to the variable `my_name` a string containing your name.  Please do so in the code cell below."
            ]
        },
        {
            "cell_type": "code",
            "execution_count": null,
            "metadata": {
                "collapsed": true
            },
            "outputs": [],
            "source": [
                "###\n",
                "### YOUR CODE HERE\n",
                "###\n"
            ]
        },
        {
            "cell_type": "markdown",
            "metadata": {
                "nbgrader": {
                    "grade": false,
                    "locked": true,
                    "solution": false
                },
                "editable": false,
                "deletable": false
            },
            "source": [
                "The code block below will test that you have successfully assigned a non-empty string to the variable `my_name`.  If all of the assertions run without failure, you have passed the tests for this problem and earned the points assigned to it."
            ]
        },
        {
            "cell_type": "code",
            "execution_count": null,
            "metadata": {
                "nbgrader": {
                    "grade": true,
                    "grade_id": "my_name",
                    "locked": true,
                    "points": "10",
                    "solution": false
                },
                "editable": false,
                "deletable": false
            },
            "outputs": [],
            "source": [
                "# tests for my_name\n",
                "assert isinstance(my_name, str), \"my_name was not assigned to a string object\"\n",
                "assert my_name != \"\", \"my_name is empty\"\n",
                "print(\"SUCCESS: all tests for my_name passed!\")"
            ]
        },
        {
            "cell_type": "markdown",
            "metadata": {
                "nbgrader": {
                    "grade": false,
                    "locked": true,
                    "solution": false
                },
                "editable": false,
                "deletable": false
            },
            "source": [
                "## Representing and working with DNA molecules as strings\n",
                "\n",
                "In this notebook we will work with a fragment of the DNA sequence for the human gene *CFTR*, mutations in which are known to cause the disease [Cystic Fibrosis](https:\/\/en.wikipedia.org\/wiki\/Cystic_fibrosis)."
            ]
        },
        {
            "cell_type": "code",
            "execution_count": null,
            "metadata": {
                "nbgrader": {
                    "grade": false,
                    "locked": true,
                    "solution": false
                },
                "editable": false,
                "deletable": false
            },
            "outputs": [],
            "source": [
                "cftr_gene_fragment = (\"ACTTCACTTCTAATGGTGATTATGGGAGAACTGGAGCCTTCAGAGGGTAA\"\n",
                "                      \"AATTAAGCACAGTGGAAGAATTTCATTCTGTTCTCAGTTTTCCTGGATTA\"\n",
                "                      \"TGCCTGGCACCATTAAAGAAAATATCATCTTTGGTGTTTCCTATGATGAA\"\n",
                "                      \"TATAGATACAGAAGCGTCATCAAAGCATGCCAACTAGAAGAG\")\n",
                "print(cftr_gene_fragment)"
            ]
        },
        {
            "cell_type": "markdown",
            "metadata": {
                "nbgrader": {
                    "grade": false,
                    "locked": true,
                    "solution": false
                },
                "editable": false,
                "deletable": false
            },
            "source": [
                "Just to get you familiar with writing functions in Python, here is a silly function that returns the concatenation of the first and last characters of a string."
            ]
        },
        {
            "cell_type": "code",
            "execution_count": null,
            "metadata": {
                "collapsed": true,
                "nbgrader": {
                    "grade": false,
                    "locked": true,
                    "solution": false
                },
                "editable": false,
                "deletable": false
            },
            "outputs": [],
            "source": [
                "def first_and_last(s):\n",
                "    return s[0] + s[-1]"
            ]
        },
        {
            "cell_type": "code",
            "execution_count": null,
            "metadata": {
                "nbgrader": {
                    "grade": false,
                    "locked": true,
                    "solution": false
                },
                "scrolled": true,
                "editable": false,
                "deletable": false
            },
            "outputs": [],
            "source": [
                "first_and_last(cftr_gene_fragment)"
            ]
        },
        {
            "cell_type": "markdown",
            "metadata": {
                "nbgrader": {
                    "grade": false,
                    "locked": true,
                    "solution": false
                },
                "editable": false,
                "deletable": false
            },
            "source": [
                "### PROBLEM 2 - slicing and concatenating strings (1 POINT)\n",
                "\n",
                "One of the most famous disease causing mutations in humans is the deltaF508 mutation in the *CFTR* gene.  This is most common mutation carried by people with Cystic Fibrosis.  This mutation occurs in the gene fragment specified above and corresponds to the deletion of 3 consecutive bases, starting at base 129 (using 1-based numbering).  The code below shows how to \"slice\" the string representing this gene fragment to determine the identity of the 3 bases that are deleted by this mutation.  Note that Python uses 0-based indexing!\n"
            ]
        },
        {
            "cell_type": "code",
            "execution_count": null,
            "metadata": {
                "nbgrader": {
                    "grade": false,
                    "locked": true,
                    "solution": false
                },
                "editable": false,
                "deletable": false
            },
            "outputs": [],
            "source": [
                "print(\"The deleted bases in the deltaF508 mutation are\", cftr_gene_fragment[128:131])"
            ]
        },
        {
            "cell_type": "markdown",
            "metadata": {
                "nbgrader": {
                    "grade": false,
                    "locked": true,
                    "solution": false
                },
                "editable": false,
                "deletable": false
            },
            "source": [
                "In this problem, you are to write a function that takes as input a string, a `start` position (0-based index), and a `length`, and returns a *new* string that is the result of deleting `length` characters starting at the `start position` from the input string.  Note that string objects are immutable (i.e., you cannot modify them) in Python. We will use this function to determine the sequence of the gene fragment that results from the deltaF508 mutation.  "
            ]
        },
        {
            "cell_type": "code",
            "execution_count": null,
            "metadata": {
                "collapsed": true
            },
            "outputs": [],
            "source": [
                "def delete_substring(s, start, length):\n",
                "    ###\n",
                "    ### YOUR CODE HERE\n",
                "    ###\n"
            ]
        },
        {
            "cell_type": "code",
            "execution_count": null,
            "metadata": {
                "nbgrader": {
                    "grade": true,
                    "grade_id": "delete_substring",
                    "locked": true,
                    "points": "1",
                    "solution": false
                },
                "editable": false,
                "deletable": false
            },
            "outputs": [],
            "source": [
                "# tests for delete_substring\n",
                "assert delete_substring(\"Testing\", 0, 2) == \"sting\"\n",
                "assert delete_substring(\"Testing\", 4, 3) == \"Test\"\n",
                "assert delete_substring(\"Testing\", 1, 3) == \"Ting\"\n",
                "print(\"SUCCESS: all tests for delete_substring passed!\")"
            ]
        },
        {
            "cell_type": "markdown",
            "metadata": {
                "nbgrader": {
                    "grade": false,
                    "locked": true,
                    "solution": false
                },
                "editable": false,
                "deletable": false
            },
            "source": [
                "Now let's use your function to determine the sequence of the gene fragment that results from the deltaF508 mutation:"
            ]
        },
        {
            "cell_type": "code",
            "execution_count": null,
            "metadata": {
                "nbgrader": {
                    "grade": false,
                    "locked": true,
                    "solution": false
                },
                "editable": false,
                "deletable": false
            },
            "outputs": [],
            "source": [
                "delete_substring(cftr_gene_fragment, 128, 3)"
            ]
        },
        {
            "cell_type": "markdown",
            "metadata": {
                "nbgrader": {
                    "grade": false,
                    "locked": true,
                    "solution": false
                },
                "editable": false,
                "deletable": false
            },
            "source": [
                "### PROBLEM 3 - complementary bases (1 POINT)\n",
                "In this problem we will practice using the Python `if` statement to write a function that returns the complement of a single-base (single-character) string.  You are provided with the first few lines of the function."
            ]
        },
        {
            "cell_type": "code",
            "execution_count": null,
            "metadata": {
                "collapsed": true
            },
            "outputs": [],
            "source": [
                "def complement(base):\n",
                "    if base == 'A':\n",
                "        return 'T'\n",
                "    elif base == 'C':\n",
                "    ###\n",
                "    ### YOUR CODE HERE\n",
                "    ###\n",
                "    else:\n",
                "        raise ValueError(base + \" is not a valid DNA base\")"
            ]
        },
        {
            "cell_type": "code",
            "execution_count": null,
            "metadata": {
                "nbgrader": {
                    "grade": true,
                    "grade_id": "complement",
                    "locked": true,
                    "points": "1",
                    "solution": false
                },
                "scrolled": true,
                "editable": false,
                "deletable": false
            },
            "outputs": [],
            "source": [
                "# tests for complement\n",
                "assert complement('A') == 'T'\n",
                "assert complement('T') == 'A'\n",
                "assert complement('C') == 'G'\n",
                "assert complement('G') == 'C'\n",
                "print(\"SUCCESS: all tests for complement passed!\")"
            ]
        },
        {
            "cell_type": "markdown",
            "metadata": {
                "nbgrader": {
                    "grade": false,
                    "locked": true,
                    "solution": false
                },
                "editable": false,
                "deletable": false
            },
            "source": [
                "### PROBLEM 4 - reverse complement (1 POINT)\n",
                "In this problem, we will write a function that is given the string representing one strand of a double-stranded DNA molecule and returns a string representing the opposite (complementary) strand, specified in the 5' to 3' direction.  To do this, we will first construct a `list` containing the characters of the opposite strand and then use the `join` method of string objects to convert from a `list` back to a `string`.  This will be more efficient than repeated concatentation."
            ]
        },
        {
            "cell_type": "markdown",
            "metadata": {
                "nbgrader": {
                    "grade": false,
                    "locked": true,
                    "solution": false
                },
                "editable": false,
                "deletable": false
            },
            "source": [
                "One function you might consider using is `reversed`, which allows you to loop over sequences in reverse order.  For example:"
            ]
        },
        {
            "cell_type": "code",
            "execution_count": null,
            "metadata": {
                "nbgrader": {
                    "grade": false,
                    "locked": true,
                    "solution": false
                },
                "editable": false,
                "deletable": false
            },
            "outputs": [],
            "source": [
                "for number in reversed(range(5)):\n",
                "    print(number)"
            ]
        },
        {
            "cell_type": "code",
            "execution_count": null,
            "metadata": {
                "collapsed": true
            },
            "outputs": [],
            "source": [
                "def reverse_complement(s):\n",
                "    # we first start with an empty list\n",
                "    opposite_bases = []\n",
                "    # using a for loop, we loop through the bases of s in *reverse* order\n",
                "    # and append the complementary base to the opposite bases list\n",
                "    ###\n",
                "    ### YOUR CODE HERE\n",
                "    ###\n",
                "    # we can use the 'join' method with an empty string\n",
                "    # to concatenate all strings in the list\n",
                "    return ''.join(opposite_bases)"
            ]
        },
        {
            "cell_type": "code",
            "execution_count": null,
            "metadata": {
                "nbgrader": {
                    "grade": true,
                    "grade_id": "reverse_complement",
                    "locked": true,
                    "points": "1",
                    "solution": false
                },
                "editable": false,
                "deletable": false
            },
            "outputs": [],
            "source": [
                "# tests for reverse_complement\n",
                "assert reverse_complement(\"ATCG\") == \"CGAT\"\n",
                "assert reverse_complement(\"A\") == \"T\"\n",
                "assert reverse_complement(\"\") == \"\"\n",
                "assert reverse_complement(\"GAATTC\") == \"GAATTC\", \"Failed on palindromic EcoR1 recognition sequence\"\n",
                "print(\"SUCCESS: all tests for reverse_complement passed!\")"
            ]
        },
        {
            "cell_type": "markdown",
            "metadata": {
                "nbgrader": {
                    "grade": false,
                    "locked": true,
                    "solution": false
                },
                "editable": false,
                "deletable": false
            },
            "source": [
                "Finally, let us use your `reverse_complement` function to determine the opposite strand of the *CFTR* gene fragment that we have been working with in this notebook."
            ]
        },
        {
            "cell_type": "code",
            "execution_count": null,
            "metadata": {
                "nbgrader": {
                    "grade": false,
                    "locked": true,
                    "solution": false
                },
                "editable": false,
                "deletable": false
            },
            "outputs": [],
            "source": [
                "reverse_complement(cftr_gene_fragment)"
            ]
        },
        {
            "cell_type": "markdown",
            "metadata": {
                "nbgrader": {
                    "grade": false,
                    "locked": true,
                    "solution": false
                },
                "editable": false,
                "deletable": false
            },
            "source": [
                "### PROBLEM 5 - transcription (1 POINT)\n",
                "Write a function that takes as input a DNA string (sense strand) and outputs the string representing the RNA that would result from transcribing this DNA sequence."
            ]
        },
        {
            "cell_type": "markdown",
            "metadata": {
                "nbgrader": {
                    "grade": false,
                    "locked": true,
                    "solution": false
                },
                "editable": false,
                "deletable": false
            },
            "source": [
                "You will likely find one of the [methods of string objects](https:\/\/docs.python.org\/3\/library\/stdtypes.html#string-methods) very convenient for accomplishing this with a single line.  For example, to obtain a string with characters of a string in uppercase, you can use the `upper` method."
            ]
        },
        {
            "cell_type": "code",
            "execution_count": null,
            "metadata": {
                "nbgrader": {
                    "grade": false,
                    "locked": true,
                    "solution": false
                },
                "editable": false,
                "deletable": false
            },
            "outputs": [],
            "source": [
                "\"AcTggggTTatgatTAG\".upper()"
            ]
        },
        {
            "cell_type": "code",
            "execution_count": null,
            "metadata": {
                "collapsed": true
            },
            "outputs": [],
            "source": [
                "def transcribe(dna_sequence):\n",
                "###\n",
                "### YOUR CODE HERE\n",
                "###\n"
            ]
        },
        {
            "cell_type": "code",
            "execution_count": null,
            "metadata": {
                "nbgrader": {
                    "grade": true,
                    "grade_id": "transcribe",
                    "locked": true,
                    "points": "1",
                    "solution": false
                },
                "scrolled": true,
                "editable": false,
                "deletable": false
            },
            "outputs": [],
            "source": [
                "# tests for function transcribe\n",
                "assert transcribe(\"ACGT\") == \"ACGU\", \"Failed on input 'ACGT'\"\n",
                "assert transcribe(\"\") == \"\", \"Failed on empty string input\"\n",
                "assert transcribe(\"CTACTACTGCTA\") == 'CUACUACUGCUA', \"Failed on input 'CTACTACTGCTA'\"\n",
                "print(\"SUCCESS: transcribe passed all tests!\")"
            ]
        },
        {
            "cell_type": "markdown",
            "metadata": {
                "nbgrader": {
                    "grade": false,
                    "locked": true,
                    "solution": false
                },
                "editable": false,
                "deletable": false
            },
            "source": [
                "### PROBLEM 6 - Splitting an RNA into its codons (1 POINT)"
            ]
        },
        {
            "cell_type": "markdown",
            "metadata": {
                "nbgrader": {
                    "grade": false,
                    "locked": true,
                    "solution": false
                },
                "editable": false,
                "deletable": false
            },
            "source": [
                "We will next write a function that takes as input an RNA string and returns a list of its codons, in the same order as they appear in the RNA.  We will assume that the first three bases of the RNA correspond to a codon and that the length of RNA is a multiple of three."
            ]
        },
        {
            "cell_type": "markdown",
            "metadata": {
                "nbgrader": {
                    "grade": false,
                    "locked": true,
                    "solution": false
                },
                "editable": false,
                "deletable": false
            },
            "source": [
                "In this problem I encourage you to learn about and use Python's [list comprehension](https:\/\/docs.python.org\/3\/tutorial\/datastructures.html#list-comprehensions) syntax, which is concise way to construct a list.  For example, the code below, which constructs a list of the squares of the first ten non-negative integers"
            ]
        },
        {
            "cell_type": "code",
            "execution_count": null,
            "metadata": {
                "collapsed": true,
                "nbgrader": {
                    "grade": false,
                    "locked": true,
                    "solution": false
                },
                "editable": false,
                "deletable": false
            },
            "outputs": [],
            "source": [
                "squares = []\n",
                "for x in range(10):\n",
                "    squares.append(x**2)"
            ]
        },
        {
            "cell_type": "markdown",
            "metadata": {
                "nbgrader": {
                    "grade": false,
                    "locked": true,
                    "solution": false
                },
                "editable": false,
                "deletable": false
            },
            "source": [
                "can be more concisely writtten as"
            ]
        },
        {
            "cell_type": "code",
            "execution_count": null,
            "metadata": {
                "collapsed": true,
                "nbgrader": {
                    "grade": false,
                    "locked": true,
                    "solution": false
                },
                "editable": false,
                "deletable": false
            },
            "outputs": [],
            "source": [
                "squares = [x**2 for x in range(10)]"
            ]
        },
        {
            "cell_type": "code",
            "execution_count": null,
            "metadata": {
                "collapsed": true
            },
            "outputs": [],
            "source": [
                "def codons(rna):\n",
                "###\n",
                "### YOUR CODE HERE\n",
                "###\n"
            ]
        },
        {
            "cell_type": "code",
            "execution_count": null,
            "metadata": {
                "nbgrader": {
                    "grade": true,
                    "grade_id": "codons",
                    "locked": true,
                    "points": "1",
                    "solution": false
                },
                "scrolled": true,
                "editable": false,
                "deletable": false
            },
            "outputs": [],
            "source": [
                "# tests for function codons\n",
                "assert codons(\"ACGCCUGGG\") == [\"ACG\", \"CCU\", \"GGG\"], \"Failed on input 'ACGCCUGGG'\"\n",
                "assert codons(\"UUU\") == [\"UUU\"], \"Failed on input 'UUU'\"\n",
                "assert codons(\"\") == [], \"Failed on empty string\"\n",
                "print(\"SUCCESS: codons passed all tests!\")"
            ]
        },
        {
            "cell_type": "markdown",
            "metadata": {
                "nbgrader": {
                    "grade": false,
                    "locked": true,
                    "solution": false
                },
                "editable": false,
                "deletable": false
            },
            "source": [
                "### PROBLEM 7 - codon translation (1 POINT)"
            ]
        },
        {
            "cell_type": "markdown",
            "metadata": {
                "nbgrader": {
                    "grade": false,
                    "locked": true,
                    "solution": false
                },
                "editable": false,
                "deletable": false
            },
            "source": [
                "Finally, we will explore the use of the Python [dictionary](https:\/\/docs.python.org\/3\/tutorial\/datastructures.html#dictionaries) data structure as a convenient way in which to implement a function that translates an RNA codon to its corresponding amino acid.  We could write a giant set of if-elif statements for this, but it will be more elegant, convenient, and (usually) efficient to implement this as a lookup in a table, such as a dictionary object.  I have done the hard work for you and specified the standard genetic code (RNA codon to amino acid) as a dictionary below."
            ]
        },
        {
            "cell_type": "code",
            "execution_count": null,
            "metadata": {
                "collapsed": true,
                "nbgrader": {
                    "grade": false,
                    "locked": true,
                    "solution": false
                },
                "editable": false,
                "deletable": false
            },
            "outputs": [],
            "source": [
                "genetic_code = {\n",
                " 'AAA': 'K', 'AAC': 'N', 'AAG': 'K', 'AAU': 'N',\n",
                " 'ACA': 'U', 'ACC': 'U', 'ACG': 'U', 'ACU': 'U',\n",
                " 'AGA': 'R', 'AGC': 'S', 'AGG': 'R', 'AGU': 'S',\n",
                " 'AUA': 'I', 'AUC': 'I', 'AUG': 'M', 'AUU': 'I',\n",
                " 'CAA': 'Q', 'CAC': 'H', 'CAG': 'Q', 'CAU': 'H',\n",
                " 'CCA': 'P', 'CCC': 'P', 'CCG': 'P', 'CCU': 'P',\n",
                " 'CGA': 'R', 'CGC': 'R', 'CGG': 'R', 'CGU': 'R',\n",
                " 'CUA': 'L', 'CUC': 'L', 'CUG': 'L', 'CUU': 'L',\n",
                " 'GAA': 'E', 'GAC': 'D', 'GAG': 'E', 'GAU': 'D',\n",
                " 'GCA': 'A', 'GCC': 'A', 'GCG': 'A', 'GCU': 'A',\n",
                " 'GGA': 'G', 'GGC': 'G', 'GGG': 'G', 'GGU': 'G',\n",
                " 'GUA': 'V', 'GUC': 'V', 'GUG': 'V', 'GUU': 'V',\n",
                " 'UAA': '*', 'UAC': 'Y', 'UAG': '*', 'UAU': 'Y',\n",
                " 'UCA': 'S', 'UCC': 'S', 'UCG': 'S', 'UCU': 'S',\n",
                " 'UGA': '*', 'UGC': 'C', 'UGG': 'W', 'UGU': 'C',\n",
                " 'UUA': 'L', 'UUC': 'F', 'UUG': 'L', 'UUU': 'F'}"
            ]
        },
        {
            "cell_type": "markdown",
            "metadata": {
                "nbgrader": {
                    "grade": false,
                    "locked": true,
                    "solution": false
                },
                "editable": false,
                "deletable": false
            },
            "source": [
                "Note that in the table above, `*` is used to represent a stop codon, and is not an amino acid."
            ]
        },
        {
            "cell_type": "markdown",
            "metadata": {
                "nbgrader": {
                    "grade": false,
                    "locked": true,
                    "solution": false
                },
                "editable": false,
                "deletable": false
            },
            "source": [
                "Using this dictionary object, write a (very simple) function that takes as input a single RNA codon string and outputs its corresponding amino acid, or the symbol representing the stop codon.  You need not check that the input is valid."
            ]
        },
        {
            "cell_type": "code",
            "execution_count": null,
            "metadata": {
                "collapsed": true
            },
            "outputs": [],
            "source": [
                "def translate_codon(rna_codon):\n",
                "###\n",
                "### YOUR CODE HERE\n",
                "###\n"
            ]
        },
        {
            "cell_type": "code",
            "execution_count": null,
            "metadata": {
                "nbgrader": {
                    "grade": true,
                    "grade_id": "translate_codon",
                    "locked": true,
                    "points": "1",
                    "solution": false
                },
                "editable": false,
                "deletable": false
            },
            "outputs": [],
            "source": [
                "# tests for function translate_codon\n",
                "assert translate_codon(\"ACG\") == \"U\", \"Failed on input 'ACG'\"\n",
                "assert translate_codon(\"UUU\") == \"F\", \"Failed on input 'UUU'\"\n",
                "assert translate_codon(\"UGA\") == \"*\", \"Failed on stop codon input 'UGA'\"\n",
                "\n",
                "# Check that the genetic_code dictionary is being used\n",
                "orig_genetic_code = genetic_code\n",
                "del genetic_code\n",
                "try:\n",
                "    translate_codon(\"ACG\")\n",
                "except NameError:\n",
                "    pass\n",
                "else:\n",
                "    raise AssertionError(\"translate_codon does not use genetic_code\")\n",
                "finally:\n",
                "    genetic_code = orig_genetic_code\n",
                "\n",
                "print(\"SUCCESS: translate_codon passed all tests!\")"
            ]
        },
        {
            "cell_type": "markdown",
            "metadata": {
                "nbgrader": {
                    "grade": false,
                    "locked": true,
                    "solution": false
                },
                "editable": false,
                "deletable": false
            },
            "source": [
                "## Submitting your notebook"
            ]
        },
        {
            "cell_type": "markdown",
            "metadata": {
                "nbgrader": {
                    "grade": false,
                    "locked": true,
                    "solution": false
                },
                "editable": false,
                "deletable": false
            },
            "source": [
                "Congratulations, you have reached the end of this notebook!  To double check that you have completed all of the problems correctly, you are encouraged to restart Python and run all of the cells in the notebook from beginning to end.  You can do so automatically by running the command \"Restart & Run All\" from the \"Kernel\" menu.  After running this command, look through your noteobok and check that all of the tests ran successfully.\n",
                "\n",
                "To submit your work, press the big blue \"Submit\" button at the top of this web page.  You may submit as many times as you wish and your final grade will be based on your most recent submission.  After you submit, a grade report will become available telling you how many points you received on each problem in the notebook."
            ]
        }
    ],
    "metadata": {
        "kernelspec": {
            "display_name": "Python 3 [3.6]",
            "language": "python",
            "name": "python3"
        },
        "language_info": {
            "codemirror_mode": {
                "name": "ipython",
                "version": 3
            },
            "file_extension": ".py",
            "mimetype": "text\/x-python",
            "name": "python",
            "nbconvert_exporter": "python",
            "pygments_lexer": "ipython3",
            "version": "3.6.4"
        }
    },
    "nbformat": 4,
    "nbformat_minor": 2
}