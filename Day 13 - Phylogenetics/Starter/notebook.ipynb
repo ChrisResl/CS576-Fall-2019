{
    "cells": [
        {
            "cell_type": "markdown",
            "metadata": {
                "nbgrader": {
                    "grade": false,
                    "grade_id": "cell-f72136f64c7a0259",
                    "locked": true,
                    "schema_version": 1,
                    "solution": false
                },
                "editable": false,
                "deletable": false
            },
            "source": [
                "# Day 13 notebook\n",
                "\n",
                "The objectives of this notebook are to practice\n",
                "\n",
                "* representing trees as strings\n",
                "* visualizing trees\n",
                "* enumerating trees\n",
                "* examining trees"
            ]
        },
        {
            "cell_type": "markdown",
            "metadata": {
                "nbgrader": {
                    "grade": false,
                    "grade_id": "cell-6315cddeb19e7ba8",
                    "locked": true,
                    "schema_version": 1,
                    "solution": false
                },
                "editable": false,
                "deletable": false
            },
            "source": [
                "## The `toytree` module\n",
                "\n",
                "In this activity we will use the `toytree` (third-party) module to work with phylogenetic trees.  In particular, we will use the newick-format parsing and visualization functionality of this module.  I encourage you to look through the [`toytree` documentation](https:\/\/toytree.readthedocs.io\/en\/latest\/4-tutorial.html)."
            ]
        },
        {
            "cell_type": "code",
            "execution_count": null,
            "metadata": {
                "collapsed": true,
                "nbgrader": {
                    "grade": false,
                    "grade_id": "cell-ba0bbd11b63800da",
                    "locked": true,
                    "schema_version": 1,
                    "solution": false
                },
                "editable": false,
                "deletable": false
            },
            "outputs": [],
            "source": [
                "import toytree # for working with tree data structures"
            ]
        },
        {
            "cell_type": "markdown",
            "metadata": {
                "nbgrader": {
                    "grade": false,
                    "grade_id": "cell-d81a3868f8672fd0",
                    "locked": true,
                    "schema_version": 1,
                    "solution": false
                },
                "editable": false,
                "deletable": false
            },
            "source": [
                "## The newick format for trees\n",
                "The classic string representation for trees is the [Newick format](https:\/\/en.wikipedia.org\/wiki\/Newick_format).  In addition to the Wikipedia article, you can also read the [description by Joe Felsenstein](http:\/\/evolution.genetics.washington.edu\/phylip\/newicktree.html), one of the leaders in the field of phylogenetics (and also a UW-Madison alumnus!)."
            ]
        },
        {
            "cell_type": "markdown",
            "metadata": {
                "nbgrader": {
                    "grade": false,
                    "grade_id": "cell-a61856ed0f280919",
                    "locked": true,
                    "schema_version": 1,
                    "solution": false
                },
                "editable": false,
                "deletable": false
            },
            "source": [
                "For example, the Newick formatted string `\"((A, B),((C, D),E));\"` corresponds to the tree below:"
            ]
        },
        {
            "cell_type": "code",
            "execution_count": null,
            "metadata": {
                "collapsed": true,
                "nbgrader": {
                    "grade": false,
                    "grade_id": "cell-8324a87088813a64",
                    "locked": true,
                    "schema_version": 1,
                    "solution": false
                },
                "scrolled": true,
                "editable": false,
                "deletable": false
            },
            "outputs": [],
            "source": [
                "example_newick = \"((A, B), ((C, D), E));\"\n",
                "example_tree = toytree.tree(example_newick)\n",
                "canvas, axes = example_tree.draw(use_edge_lengths=False)"
            ]
        },
        {
            "cell_type": "markdown",
            "metadata": {
                "nbgrader": {
                    "grade": false,
                    "grade_id": "cell-872e36fba56df17e",
                    "locked": true,
                    "schema_version": 1,
                    "solution": false
                },
                "editable": false,
                "deletable": false
            },
            "source": [
                "You can specify branch lengths in a Newick string using a colon (`:`) followed by a number after the child node of the branch.  For example, the Newick formatted string `\"((A:3, B:3):1,((C:1,D:1):2,E:3):1);\"` corresponds to the tree below:"
            ]
        },
        {
            "cell_type": "code",
            "execution_count": null,
            "metadata": {
                "collapsed": true,
                "nbgrader": {
                    "grade": false,
                    "grade_id": "cell-95fb44eef3472e42",
                    "locked": true,
                    "schema_version": 1,
                    "solution": false
                },
                "editable": false,
                "deletable": false
            },
            "outputs": [],
            "source": [
                "example2_newick = \"((A:3, B:3):1, ((C:1, D:1):2, E:3):1);\"\n",
                "example2_tree = toytree.tree(example2_newick)\n",
                "canvas, axes = example2_tree.draw(use_edge_lengths=True)\n",
                "# Turn on the x axis so that branch lengths can be measured\n",
                "axes.show = True\n",
                "axes.y.show = False # the y-axis is meaningless\n",
                "axes.x.ticks.show = True"
            ]
        },
        {
            "cell_type": "markdown",
            "metadata": {
                "nbgrader": {
                    "grade": false,
                    "grade_id": "cell-c952f9cac77af96d",
                    "locked": true,
                    "schema_version": 1,
                    "solution": false
                },
                "editable": false,
                "deletable": false
            },
            "source": [
                "Here is an alternative tree visualization of the same tree.  Note that the lengths of the vertical lines in the previous visualization are not meaningful."
            ]
        },
        {
            "cell_type": "code",
            "execution_count": null,
            "metadata": {
                "collapsed": true,
                "nbgrader": {
                    "grade": false,
                    "grade_id": "cell-dcdf142dc68e1df3",
                    "locked": true,
                    "schema_version": 1,
                    "solution": false
                },
                "editable": false,
                "deletable": false
            },
            "outputs": [],
            "source": [
                "canvas, axes = example2_tree.draw(tree_style=\"c\", tip_labels=True, node_labels=False, orient=\"right\")"
            ]
        },
        {
            "cell_type": "markdown",
            "metadata": {
                "nbgrader": {
                    "grade": false,
                    "grade_id": "cell-e2574babc9f55fbb",
                    "locked": true,
                    "schema_version": 1,
                    "solution": false
                },
                "editable": false,
                "deletable": false
            },
            "source": [
                "The Newick format also allows for specifying the names and support values of internal nodes, but we will not generally use those features, so do not worry about that aspect of the format for now."
            ]
        },
        {
            "cell_type": "markdown",
            "metadata": {
                "nbgrader": {
                    "grade": false,
                    "grade_id": "cell-7525a219417e9d7b",
                    "locked": true,
                    "schema_version": 1,
                    "solution": false
                },
                "editable": false,
                "deletable": false
            },
            "source": [
                "## PROBLEM 1: Newick string for a tree without branch lengths (1 POINT)"
            ]
        },
        {
            "cell_type": "markdown",
            "metadata": {
                "nbgrader": {
                    "grade": false,
                    "grade_id": "cell-252958cbd167788e",
                    "locked": true,
                    "schema_version": 1,
                    "solution": false
                },
                "editable": false,
                "deletable": false
            },
            "source": [
                "Give a Newick string (without branch lengths) that respresents the tree shown below.  Assign that string to the variable `problem1_newick` in the cell below.\n",
                "![problem1_tree](problem1_tree.png)"
            ]
        },
        {
            "cell_type": "code",
            "execution_count": null,
            "metadata": {
                "collapsed": true,
                "scrolled": true
            },
            "outputs": [],
            "source": [
                "###\n",
                "### problem1_newick=?\n",
                "###\n"
            ]
        },
        {
            "cell_type": "code",
            "execution_count": null,
            "metadata": {
                "collapsed": true,
                "nbgrader": {
                    "grade": true,
                    "grade_id": "problem1_newick",
                    "locked": true,
                    "points": 1,
                    "schema_version": 1,
                    "solution": false
                },
                "editable": false,
                "deletable": false
            },
            "outputs": [],
            "source": [
                "# tests for problem1_newick\n",
                "problem1_tree = toytree.tree(problem1_newick) # this will raise an exception if the string is not valid\n",
                "###\n",
                "### AUTOGRADER TEST - DO NOT REMOVE\n",
                "###\n",
                "print(\"SUCCESS: problem1_newick passed all visible tests\")"
            ]
        },
        {
            "cell_type": "markdown",
            "metadata": {
                "nbgrader": {
                    "grade": false,
                    "grade_id": "cell-cfce986c321a682c",
                    "locked": true,
                    "schema_version": 1,
                    "solution": false
                },
                "editable": false,
                "deletable": false
            },
            "source": [
                "## PROBLEM 2: Newick string for a tree with branch lengths (1 POINT)"
            ]
        },
        {
            "cell_type": "markdown",
            "metadata": {
                "nbgrader": {
                    "grade": false,
                    "grade_id": "cell-a3ad703cfa2f231c",
                    "locked": true,
                    "schema_version": 1,
                    "solution": false
                },
                "editable": false,
                "deletable": false
            },
            "source": [
                "Give a Newick string (with branch lengths) that respresents the tree shown below.  Assign that string to the variable `problem2_newick` in the cell below.\n",
                "![problem2_tree](problem2_tree.png)"
            ]
        },
        {
            "cell_type": "code",
            "execution_count": null,
            "metadata": {
                "collapsed": true,
                "scrolled": true
            },
            "outputs": [],
            "source": [
                "###\n",
                "### problem2_newick=?\n",
                "###\n"
            ]
        },
        {
            "cell_type": "code",
            "execution_count": null,
            "metadata": {
                "collapsed": true,
                "nbgrader": {
                    "grade": true,
                    "grade_id": "problem2_newick",
                    "locked": true,
                    "points": 1,
                    "schema_version": 1,
                    "solution": false
                },
                "editable": false,
                "deletable": false
            },
            "outputs": [],
            "source": [
                "# tests for problem2_newick\n",
                "problem2_tree = toytree.tree(problem2_newick) # this will raise an exception if the string is not valid\n",
                "###\n",
                "### AUTOGRADER TEST - DO NOT REMOVE\n",
                "###\n",
                "print(\"SUCCESS: problem2_newick passed all visible tests\")"
            ]
        },
        {
            "cell_type": "markdown",
            "metadata": {
                "nbgrader": {
                    "grade": false,
                    "grade_id": "cell-d836b7bb77f7a880",
                    "locked": true,
                    "schema_version": 1,
                    "solution": false
                },
                "editable": false,
                "deletable": false
            },
            "source": [
                "## PROBLEM 3: Newick strings for all rooted trees with four leaves (1 POINT)\n",
                "List all possible binary rooted trees with four leaves, $\\{A, B, C, D\\}$.  Assign a list containing the Newick strings for the trees to the variable `problem3_newick_list` below."
            ]
        },
        {
            "cell_type": "code",
            "execution_count": null,
            "metadata": {
                "collapsed": true,
                "scrolled": true
            },
            "outputs": [],
            "source": [
                "###\n",
                "### problem3_newick_list=?\n",
                "###\n"
            ]
        },
        {
            "cell_type": "code",
            "execution_count": null,
            "metadata": {
                "collapsed": true,
                "nbgrader": {
                    "grade": true,
                    "grade_id": "problem3_newick_list",
                    "locked": true,
                    "points": 1,
                    "schema_version": 1,
                    "solution": false
                },
                "editable": false,
                "deletable": false
            },
            "outputs": [],
            "source": [
                "# tests for problem3_newick_list\n",
                "# the line below will raise an exception if the strings are not valid\n",
                "problem3_trees = toytree.Multitree.MultiTree(\"\\n\".join(problem3_newick_list)) \n",
                "###\n",
                "### AUTOGRADER TEST - DO NOT REMOVE\n",
                "###\n",
                "print(\"SUCCESS: problem3_newick_list passed all visible tests\")"
            ]
        },
        {
            "cell_type": "markdown",
            "metadata": {
                "nbgrader": {
                    "grade": false,
                    "grade_id": "cell-cce8e5658e1a6cb2",
                    "locked": true,
                    "schema_version": 1,
                    "solution": false
                },
                "editable": false,
                "deletable": false
            },
            "source": [
                "## PROBLEM 4:  A primate phylogenetic tree (1 POINT)\n",
                "[Perelman et al.](https:\/\/doi.org\/10.1371\/journal.pgen.1001342) sequenced DNA from 186 primate species and constructed one of the most refined phylogenetic trees of the primates to date.  This phyogenetic tree is provided as the file `primates.newick` in this activity.  \n",
                "\n",
                "Examine this tree (you will likely need to use large \"height\" and \"width\" arguments to the `tree.draw` method to see the tree clearly).  Are humans more closely related to [galagos](https:\/\/en.wikipedia.org\/wiki\/Galago), [tarsiers](https:\/\/en.wikipedia.org\/wiki\/Tarsier), or [lemurs](https:\/\/en.wikipedia.org\/wiki\/Lemur), according to this tree?  Give your answer by assigning the string \"galagos\", \"tarsiers\", or \"lemurs\" to the variable `humans_most_closely_related_to`."
            ]
        },
        {
            "cell_type": "code",
            "execution_count": null,
            "metadata": {
                "collapsed": true
            },
            "outputs": [],
            "source": [
                "###\n",
                "### humans_most_closely_related_to=?\n",
                "###\n"
            ]
        },
        {
            "cell_type": "code",
            "execution_count": null,
            "metadata": {
                "collapsed": true,
                "nbgrader": {
                    "grade": true,
                    "grade_id": "humans_most_closely_related_to",
                    "locked": true,
                    "points": 1,
                    "schema_version": 1,
                    "solution": false
                },
                "editable": false,
                "deletable": false
            },
            "outputs": [],
            "source": [
                "# tests for humans_most_closely_related_to\n",
                "assert humans_most_closely_related_to in {\"galagos\", \"tarsiers\", \"lemurs\"}\n",
                "###\n",
                "### AUTOGRADER TEST - DO NOT REMOVE\n",
                "###\n",
                "print(\"SUCCESS: humans_most_closely_related_to passed all visible tests\")"
            ]
        }
    ],
    "metadata": {
        "celltoolbar": "Create Assignment",
        "kernelspec": {
            "display_name": "Python 3 [3.6]",
            "language": "python",
            "name": "python3"
        },
        "language_info": {
            "codemirror_mode": {
                "name": "ipython",
                "version": 3
            },
            "file_extension": ".py",
            "mimetype": "text\/x-python",
            "name": "python",
            "nbconvert_exporter": "python",
            "pygments_lexer": "ipython3",
            "version": "3.6.4"
        }
    },
    "nbformat": 4,
    "nbformat_minor": 2
}