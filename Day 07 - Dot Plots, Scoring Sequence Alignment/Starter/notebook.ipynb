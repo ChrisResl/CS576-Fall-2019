{
    "cells": [
        {
            "cell_type": "markdown",
            "metadata": {
                "nbgrader": {
                    "grade": false,
                    "grade_id": "cell-35bd2cc21b2e9063",
                    "locked": true,
                    "schema_version": 1,
                    "solution": false
                },
                "editable": false,
                "deletable": false
            },
            "source": [
                "# Day 7 notebook\n",
                "\n",
                "The objectives of this notebook are to practice with the concepts of\n",
                "\n",
                "* dot plots\n",
                "* scoring sequence alignments"
            ]
        },
        {
            "cell_type": "markdown",
            "metadata": {
                "nbgrader": {
                    "grade": false,
                    "locked": true,
                    "solution": false
                },
                "editable": false,
                "deletable": false
            },
            "source": [
                "# Modules used in this notebook"
            ]
        },
        {
            "cell_type": "code",
            "execution_count": null,
            "metadata": {
                "collapsed": true,
                "nbgrader": {
                    "grade": false,
                    "locked": true,
                    "solution": false
                },
                "editable": false,
                "deletable": false
            },
            "outputs": [],
            "source": [
                "import matplotlib.pyplot as plt # for plotting\n",
                "import fasta                    # for reading FASTA files\n",
                "import submatrix                # for reading substitution matrices"
            ]
        },
        {
            "cell_type": "markdown",
            "metadata": {
                "nbgrader": {
                    "grade": false,
                    "grade_id": "cell-efc438296a00bf55",
                    "locked": true,
                    "schema_version": 1,
                    "solution": false
                },
                "editable": false,
                "deletable": false
            },
            "source": [
                "## Dot plots"
            ]
        },
        {
            "cell_type": "markdown",
            "metadata": {
                "nbgrader": {
                    "grade": false,
                    "grade_id": "cell-3845d6f4801d76bd",
                    "locked": true,
                    "schema_version": 1,
                    "solution": false
                },
                "editable": false,
                "deletable": false
            },
            "source": [
                "### PROBLEM 1: Generating dot plot points (1 POINT)\n",
                "\n",
                "A *dot plot* is a useful visualization technique for comparing a pair of sequences, $s_1$ and $s_2$.  In its simplest form, a dot plot is a scatterplot in which there is a point at coordinate $(x, y)$ if $s_1[x] = s_2[y]$.  Write a function below that gives a *list of points* that should be plotted in a dot plot for a pair of input sequences.  Each point should be represented as a two-element tuple, `(x, y)`.\n"
            ]
        },
        {
            "cell_type": "code",
            "execution_count": null,
            "metadata": {
                "collapsed": true,
                "nbgrader": {
                    "grade": false,
                    "grade_id": "cell-45c3c74af1519ebc",
                    "locked": false,
                    "schema_version": 1,
                    "solution": true
                }
            },
            "outputs": [],
            "source": [
                "def dot_plot_points(seq1, seq2):\n",
                "    \"\"\"Computes the coordinates of the points in a dot plot for seq1 compared to seq2.\n",
                "    A point, (x,y), in such a plot represents positions at which seq1[x] == seq2[y].\n",
                "\n",
                "    Args:\n",
                "        seq1: the first string\n",
                "        seq2: the second string\n",
                "    Returns:\n",
                "        A list of points, where each point is represented as a tuple, (x, y)\n",
                "    \"\"\"\n",
                "    ###\n",
                "    ### YOUR CODE HERE\n",
                "    ###\n"
            ]
        },
        {
            "cell_type": "code",
            "execution_count": null,
            "metadata": {
                "nbgrader": {
                    "grade": true,
                    "grade_id": "dot_plot_points",
                    "locked": true,
                    "points": 1,
                    "schema_version": 1,
                    "solution": false
                },
                "editable": false,
                "deletable": false
            },
            "outputs": [],
            "source": [
                "# tests for dot_plot_points\n",
                "assert sorted(dot_plot_points(\"CACG\", \"ACT\")) == [(0, 1), (1, 0), (2, 1)]\n",
                "assert sorted(dot_plot_points(\"ACGT\", \"ACGT\")) == [(0, 0), (1, 1), (2, 2), (3, 3)]\n",
                "assert sorted(dot_plot_points(\"CACG\", \"TT\")) == []\n",
                "assert sorted(dot_plot_points(\"\", \"\")) == []\n",
                "print(\"SUCCESS: tests for dot_plot_points passed!\")"
            ]
        },
        {
            "cell_type": "markdown",
            "metadata": {
                "nbgrader": {
                    "grade": false,
                    "grade_id": "cell-60ce56b220e8b62e",
                    "locked": true,
                    "schema_version": 1,
                    "solution": false
                },
                "editable": false,
                "deletable": false
            },
            "source": [
                "### Plotting a dot plot"
            ]
        },
        {
            "cell_type": "markdown",
            "metadata": {
                "nbgrader": {
                    "grade": false,
                    "grade_id": "cell-e048ebdbac33a8e2",
                    "locked": true,
                    "schema_version": 1,
                    "solution": false
                },
                "editable": false,
                "deletable": false
            },
            "source": [
                "Next, we will practice generating a dot plot, using the function you wrote above.  \n",
                "\n",
                "### Converting to a data frame\n",
                "Before doing so, we will convert the output of your function into a data structure commonly used in data analysis known as *data frame*.  A data frame is simply a two dimensional table that is typically stored as a collection of columns of equal length, each column indexable by a human-readable name.  Often, the rows of such data frames represent observations and the columns represent variables for those observations (this is the philosophy of [tidy data](https:\/\/www.jstatsoft.org\/index.php\/jss\/article\/view\/v059i10\/v59i10.pdf)). Putting data into such a form often makes a lot of downstream analyses much easier, particularly if you are working with libraries that use the same philosophy.\n",
                "\n",
                "Below is a function that will convert a list of tuples (such as generated by `dot_plot_points`) into a data frame, represented as a dictionary mapping column names to tuples."
            ]
        },
        {
            "cell_type": "code",
            "execution_count": null,
            "metadata": {
                "collapsed": true,
                "nbgrader": {
                    "grade": false,
                    "grade_id": "cell-750e59961c79d52a",
                    "locked": true,
                    "schema_version": 1,
                    "solution": false
                },
                "editable": false,
                "deletable": false
            },
            "outputs": [],
            "source": [
                "def data_frame_from_tuple_list(tuples, column_names):\n",
                "    \"\"\"Converts a tabular dataset from a row-based data structure to a \n",
                "    column-based data structure.\n",
                "\n",
                "    Args:\n",
                "        tuples: a list of rows, where each row is a tuple of the same length\n",
                "        column_names: a list of strings giving the names of the columns\n",
                "    Returns:\n",
                "        A dictionary with column names as keys and columns as values.\n",
                "    \"\"\"    \n",
                "    columns = zip(*tuples)\n",
                "    return dict(zip(column_names, columns))"
            ]
        },
        {
            "cell_type": "markdown",
            "metadata": {
                "nbgrader": {
                    "grade": false,
                    "grade_id": "cell-0481339642cd5107",
                    "locked": true,
                    "schema_version": 1,
                    "solution": false
                },
                "editable": false,
                "deletable": false
            },
            "source": [
                "Here is an example of running this function with some US city data."
            ]
        },
        {
            "cell_type": "code",
            "execution_count": null,
            "metadata": {
                "nbgrader": {
                    "grade": false,
                    "grade_id": "cell-09d1bb6b48acbcf5",
                    "locked": true,
                    "schema_version": 1,
                    "solution": false
                },
                "editable": false,
                "deletable": false
            },
            "outputs": [],
            "source": [
                "data_frame_from_tuple_list([(\"Madison\", \"WI\", 233209), \n",
                "                            (\"Chicago\", \"IL\", 2695598), \n",
                "                            (\"St. Paul\", \"MN\", 285068)],\n",
                "                           (\"city\", \"state\", \"population\"))"
            ]
        },
        {
            "cell_type": "markdown",
            "metadata": {
                "nbgrader": {
                    "grade": false,
                    "grade_id": "cell-0dab514ae07832fb",
                    "locked": true,
                    "schema_version": 1,
                    "solution": false
                },
                "editable": false,
                "deletable": false
            },
            "source": [
                "### A dot plot of alpha vs. delta globin\n",
                "Included with this notebook is a FASTA-formatted file containing the amino acid sequences of human alpha and delta globin, which are homologous genes.  A normal variant of hemoglobin found in low levels in your blood is Hemoglobin A2 (HbA2), which consists of two polypeptides of alpha globin and two polypeptides of delta globin.  Here we will plot a dotplot of the amino acids sequences of these two genes."
            ]
        },
        {
            "cell_type": "code",
            "execution_count": null,
            "metadata": {
                "collapsed": true,
                "nbgrader": {
                    "grade": false,
                    "grade_id": "cell-73ee19c8317fbaf7",
                    "locked": true,
                    "schema_version": 1,
                    "solution": false
                },
                "editable": false,
                "deletable": false
            },
            "outputs": [],
            "source": [
                "# Load the globin sequences into a dictionary, indexed by the sequence name\n",
                "globin_seqs = dict(fasta.read_sequences_from_fasta_file(\"human_alpha_and_delta_globin.fasta\"))"
            ]
        },
        {
            "cell_type": "code",
            "execution_count": null,
            "metadata": {
                "collapsed": true,
                "nbgrader": {
                    "grade": false,
                    "grade_id": "cell-5bdb26e4b38fbbae",
                    "locked": true,
                    "schema_version": 1,
                    "solution": false
                },
                "editable": false,
                "deletable": false
            },
            "outputs": [],
            "source": [
                "# Generate dot plot points and convert to a data frame\n",
                "globin_dot_plot_points = dot_plot_points(globin_seqs[\"alpha\"], globin_seqs[\"delta\"])\n",
                "globin_dot_plot_data_frame = data_frame_from_tuple_list(globin_dot_plot_points, \n",
                "                                                        (\"seq1 position\", \"seq2 position\"))"
            ]
        },
        {
            "cell_type": "markdown",
            "metadata": {
                "nbgrader": {
                    "grade": false,
                    "grade_id": "cell-d2510555f4f17fc7",
                    "locked": true,
                    "schema_version": 1,
                    "solution": false
                },
                "editable": false,
                "deletable": false
            },
            "source": [
                "We will now use the [Plotting with keyword strings](https:\/\/matplotlib.org\/tutorials\/introductory\/pyplot.html#plotting-with-keyword-strings) feature of Pyplot to generate the plot."
            ]
        },
        {
            "cell_type": "code",
            "execution_count": null,
            "metadata": {
                "nbgrader": {
                    "grade": false,
                    "grade_id": "cell-2e648cf450b7f0df",
                    "locked": true,
                    "schema_version": 1,
                    "solution": false
                },
                "editable": false,
                "deletable": false
            },
            "outputs": [],
            "source": [
                "# Generate a dot plot using the data frame\n",
                "plt.figure(figsize=(10, 10))\n",
                "plt.scatter(\"seq1 position\", \"seq2 position\", marker=\".\", data=globin_dot_plot_data_frame)\n",
                "plt.xlabel(\"position in alpha globin\")\n",
                "plt.ylabel(\"position in delta globin\")\n",
                "plt.show()"
            ]
        },
        {
            "cell_type": "markdown",
            "metadata": {
                "nbgrader": {
                    "grade": false,
                    "locked": true,
                    "solution": false
                },
                "editable": false,
                "deletable": false
            },
            "source": [
                "What do you notice in this dot plot?  Do these two genes look related?\n",
                "\n",
                "*ENTER YOUR THOUGHTS BELOW*"
            ]
        },
        {
            "cell_type": "markdown",
            "metadata": {},
            "source": []
        },
        {
            "cell_type": "markdown",
            "metadata": {
                "nbgrader": {
                    "grade": false,
                    "grade_id": "cell-dda432d59b2940d6",
                    "locked": true,
                    "schema_version": 1,
                    "solution": false
                },
                "editable": false,
                "deletable": false
            },
            "source": [
                "## PROBLEM 2: Generating dot plot points using a substitution matrix (1 point)\n",
                "For amino acid sequences, it is often useful to generate dot plots that show pairs of positions that have exactly matching or *similar* amino acids.  In this problem, we will use a substitution matrix to determine which pairs of positions in two sequences have similar or exactly matching characters.  In general, the substitution score for a pair of similar or exactly matching characters will be a positive value, whereas the score for all other pairs of chacters will be zero or negative."
            ]
        },
        {
            "cell_type": "markdown",
            "metadata": {
                "nbgrader": {
                    "grade": false,
                    "locked": true,
                    "solution": false
                },
                "editable": false,
                "deletable": false
            },
            "source": [
                "### The BLOSUM62 substitution matrix"
            ]
        },
        {
            "cell_type": "markdown",
            "metadata": {
                "nbgrader": {
                    "grade": false,
                    "grade_id": "cell-7f46eaa0bee3358e",
                    "locked": true,
                    "schema_version": 1,
                    "solution": false
                },
                "editable": false,
                "deletable": false
            },
            "source": [
                "Included with this notebook is a module `submatrix` and a file containing the BLOSUM62 substitution matrix, which is commonly used in bioinformatics.  We will read this substitution matrix in below:"
            ]
        },
        {
            "cell_type": "code",
            "execution_count": null,
            "metadata": {
                "collapsed": true,
                "nbgrader": {
                    "grade": false,
                    "grade_id": "cell-516f8d3049df7b46",
                    "locked": true,
                    "schema_version": 1,
                    "solution": false
                },
                "editable": false,
                "deletable": false
            },
            "outputs": [],
            "source": [
                "blosum62 = submatrix.read_substitution_matrix(\"BLOSUM62.txt\")"
            ]
        },
        {
            "cell_type": "code",
            "execution_count": null,
            "metadata": {
                "nbgrader": {
                    "grade": false,
                    "grade_id": "cell-fe070a2eb89d5438",
                    "locked": true,
                    "schema_version": 1,
                    "solution": false
                },
                "scrolled": true,
                "editable": false,
                "deletable": false
            },
            "outputs": [],
            "source": [
                "# here are some of the entries of this matrix\n",
                "print(\"S(W, W) =\", blosum62[(\"W\", \"W\")])\n",
                "print(\"S(I, L) =\", blosum62[(\"I\", \"L\")])\n",
                "print(\"S(S, P) =\", blosum62[(\"S\", \"P\")])"
            ]
        },
        {
            "cell_type": "markdown",
            "metadata": {
                "nbgrader": {
                    "grade": false,
                    "locked": true,
                    "solution": false
                },
                "editable": false,
                "deletable": false
            },
            "source": [
                "### Substitution matrix-derived dot plots"
            ]
        },
        {
            "cell_type": "markdown",
            "metadata": {
                "nbgrader": {
                    "grade": false,
                    "grade_id": "cell-ffc97c2ad0abd619",
                    "locked": true,
                    "schema_version": 1,
                    "solution": false
                },
                "editable": false,
                "deletable": false
            },
            "source": [
                "Write a function below which gives a list of *scored* points that should be plotted in a dot plot for a pair of input sequences and a given substitution matrix. Each point should be represented as a three-element tuple, `(x, y, score)`, where `score` is the substitution matrix score for the pair of characters at `(x, y)`.  Only points with positive scores should be output."
            ]
        },
        {
            "cell_type": "code",
            "execution_count": null,
            "metadata": {
                "collapsed": true,
                "nbgrader": {
                    "grade": false,
                    "grade_id": "cell-ff2dd597d8741f2f",
                    "locked": false,
                    "schema_version": 1,
                    "solution": true
                }
            },
            "outputs": [],
            "source": [
                "def dot_plot_points_with_matrix(seq1, seq2, matrix):\n",
                "    \"\"\"Computes the coordinates and scores of the points in a dot plot for seq1 compared to seq2.\n",
                "    \n",
                "    A point, (x,y), in such a plot represents positions at which matrix[(seq1[x], seq2[y])] > 0, i.e.,\n",
                "    only points with positive score are returned.\n",
                "\n",
                "    Args:\n",
                "        seq1: the first string\n",
                "        seq2: the second string\n",
                "        matrix: a substitution matrix, using the representation of the submatrix module\n",
                "    Returns:\n",
                "        A list of scored points, where each point is represented as a tuple, (x, y, score)\n",
                "    \"\"\"\n",
                "    ###\n",
                "    ### YOUR CODE HERE\n",
                "    ###\n"
            ]
        },
        {
            "cell_type": "code",
            "execution_count": null,
            "metadata": {
                "nbgrader": {
                    "grade": true,
                    "grade_id": "dot_plot_points_with_matrix",
                    "locked": true,
                    "points": 1,
                    "schema_version": 1,
                    "solution": false
                },
                "editable": false,
                "deletable": false
            },
            "outputs": [],
            "source": [
                "# tests for dot_plot_points_with_matrix\n",
                "assert sorted(dot_plot_points_with_matrix(\"WCAG\", \"ACS\", blosum62)) == [(1, 1, 9), (2, 0, 4), (2, 2, 1)]\n",
                "assert sorted(dot_plot_points_with_matrix(\"ACT\", \"GS\", blosum62)) == [(0, 1, 1), (2, 1, 1)]\n",
                "assert sorted(dot_plot_points_with_matrix(\"CACG\", \"TT\", blosum62)) == []\n",
                "assert sorted(dot_plot_points_with_matrix(\"\", \"\", blosum62)) == []\n",
                "print(\"SUCCESS: dot_plot_points_with_matrix passed all tests!\")"
            ]
        },
        {
            "cell_type": "markdown",
            "metadata": {
                "collapsed": true,
                "nbgrader": {
                    "grade": false,
                    "grade_id": "cell-349de6b18d8e9987",
                    "locked": true,
                    "schema_version": 1,
                    "solution": false
                },
                "editable": false,
                "deletable": false
            },
            "source": [
                "### A substitution matrix-derived dot plot of alpha and delta globin\n",
                "Now we will plot a dotplot of the amino acids sequences of the two globin genes, with these substitution matrix-based points.  We will map the score of each point to its color within the plot."
            ]
        },
        {
            "cell_type": "code",
            "execution_count": null,
            "metadata": {
                "collapsed": true,
                "nbgrader": {
                    "grade": false,
                    "grade_id": "cell-4c24d7dff41920ed",
                    "locked": true,
                    "schema_version": 1,
                    "solution": false
                },
                "editable": false,
                "deletable": false
            },
            "outputs": [],
            "source": [
                "globin_dot_plot_scored_points = dot_plot_points_with_matrix(globin_seqs[\"alpha\"], \n",
                "                                                            globin_seqs[\"delta\"],\n",
                "                                                            blosum62)\n",
                "scored_column_names = (\"seq1 position\", \"seq2 position\", \"score\")\n",
                "globin_dot_plot_scored_data_frame = data_frame_from_tuple_list(globin_dot_plot_scored_points, \n",
                "                                                               scored_column_names)"
            ]
        },
        {
            "cell_type": "code",
            "execution_count": null,
            "metadata": {
                "nbgrader": {
                    "grade": false,
                    "grade_id": "cell-862161365af4bdd5",
                    "locked": true,
                    "schema_version": 1,
                    "solution": false
                },
                "scrolled": false,
                "editable": false,
                "deletable": false
            },
            "outputs": [],
            "source": [
                "plt.figure(figsize=(10, 10))\n",
                "plt.scatter(\"seq1 position\", \"seq2 position\", c=\"score\", marker=\".\", \n",
                "            cmap=\"YlOrRd\", data=globin_dot_plot_scored_data_frame)\n",
                "plt.xlabel(\"position in alpha globin\")\n",
                "plt.ylabel(\"position in delta globin\")\n",
                "cbar = plt.colorbar()\n",
                "cbar.set_label(\"substitution score\")\n",
                "plt.show()"
            ]
        },
        {
            "cell_type": "markdown",
            "metadata": {
                "nbgrader": {
                    "grade": false,
                    "grade_id": "cell-7855e6949049f00a",
                    "locked": true,
                    "schema_version": 1,
                    "solution": false
                },
                "editable": false,
                "deletable": false
            },
            "source": [
                "What do you notice in this dot plot compared to the previous one?\n",
                "\n",
                "*ENTER YOUR THOUGHTS HERE*"
            ]
        },
        {
            "cell_type": "markdown",
            "metadata": {},
            "source": []
        },
        {
            "cell_type": "markdown",
            "metadata": {
                "nbgrader": {
                    "grade": false,
                    "locked": true,
                    "solution": false
                },
                "editable": false,
                "deletable": false
            },
            "source": [
                "## PROBLEM 3: Generating dot plot points using k-mer matches (1 point)\n",
                "As yet another variation on a dot plot, we can generalize the approach in problem 1 to compute points at which there are identical length $k$ substrings in the two strings (i.e., in problem 1, $k = 1$).  Setting $k > 1$ may allow us to filter out many of the spurious points in the problem 1 plot."
            ]
        },
        {
            "cell_type": "code",
            "execution_count": null,
            "metadata": {
                "collapsed": true,
                "nbgrader": {
                    "grade": false,
                    "grade_id": "cell-c06d23a5a2ede610",
                    "locked": false,
                    "schema_version": 1,
                    "solution": true
                }
            },
            "outputs": [],
            "source": [
                "def dot_plot_kmer_points(seq1, seq2, k):\n",
                "    \"\"\"Computes the coordinates of the points in a k-mer dot plot for seq1 compared to seq2.\n",
                "    \n",
                "    A point, (x,y), in such a plot represents positions at which the length k substrings \n",
                "    starting at position x in seq1 and position y in seq2 are identical.\n",
                "\n",
                "    Args:\n",
                "        seq1: the first string\n",
                "        seq2: the second string\n",
                "        k: the length of the substrings to compare\n",
                "    Returns:\n",
                "        A list of points, where each point is represented as a tuple, (x, y)\n",
                "    \"\"\"\n",
                "    ###\n",
                "    ### YOUR CODE HERE\n",
                "    ###\n"
            ]
        },
        {
            "cell_type": "code",
            "execution_count": null,
            "metadata": {
                "nbgrader": {
                    "grade": true,
                    "grade_id": "dot_plot_kmer_points",
                    "locked": true,
                    "points": 1,
                    "schema_version": 1,
                    "solution": false
                },
                "editable": false,
                "deletable": false
            },
            "outputs": [],
            "source": [
                "# tests for dot_plot_kmer_points\n",
                "assert sorted(dot_plot_kmer_points(\"ATCGTAGC\", \"ACGTAGCGG\", 2)) == [(2, 1), (2, 6), (3, 2), (4, 3), (5, 4), (6, 5)]\n",
                "assert sorted(dot_plot_kmer_points(\"ATCGTAGC\", \"ACGTAGCGG\", 3)) == [(2, 1), (3, 2), (4, 3), (5, 4)]\n",
                "assert sorted(dot_plot_kmer_points(\"ATCGTAGC\", \"ACGTAGCGG\", 4)) == [(2, 1), (3, 2), (4, 3)]\n",
                "assert sorted(dot_plot_kmer_points(\"ATCGTAGC\", \"ACGTAGCGG\", 7)) == []\n",
                "assert sorted(dot_plot_kmer_points(\"CACG\", \"TT\", 7)) == []\n",
                "print(\"SUCCESS: tests for dot_plot_kmer_points passed!\")"
            ]
        },
        {
            "cell_type": "markdown",
            "metadata": {
                "nbgrader": {
                    "grade": false,
                    "grade_id": "cell-b389ddaa7caa0c21",
                    "locked": true,
                    "schema_version": 1,
                    "solution": false
                },
                "editable": false,
                "deletable": false
            },
            "source": [
                "### A k-mer dot plot of alpha and delta globin\n",
                "Now we will plot a dotplot of the amino acids sequences of the two globin genes, with k-mer derived points, starting with $k = 2$."
            ]
        },
        {
            "cell_type": "code",
            "execution_count": null,
            "metadata": {
                "collapsed": true
            },
            "outputs": [],
            "source": [
                "globin_dot_plot_kmer_points = dot_plot_kmer_points(globin_seqs[\"alpha\"], \n",
                "                                                   globin_seqs[\"delta\"],\n",
                "                                                   2)\n",
                "kmer_column_names = (\"seq1 position\", \"seq2 position\")\n",
                "globin_dot_plot_kmer_data_frame = data_frame_from_tuple_list(globin_dot_plot_kmer_points, \n",
                "                                                             scored_column_names)"
            ]
        },
        {
            "cell_type": "code",
            "execution_count": null,
            "metadata": {
                "scrolled": false
            },
            "outputs": [],
            "source": [
                "plt.figure(figsize=(10, 10))\n",
                "plt.scatter(\"seq1 position\", \"seq2 position\", marker=\".\", \n",
                "            data=globin_dot_plot_kmer_data_frame)\n",
                "plt.xlabel(\"position in alpha globin\")\n",
                "plt.ylabel(\"position in delta globin\")\n",
                "plt.show()"
            ]
        },
        {
            "cell_type": "markdown",
            "metadata": {
                "nbgrader": {
                    "grade": false,
                    "grade_id": "p3_what_do_you_notice",
                    "locked": true,
                    "schema_version": 1,
                    "solution": false
                },
                "editable": false,
                "deletable": false
            },
            "source": [
                "What do you notice in this dot plot compared to the plot from problem 1?  What happens as you increase the value of $k$ beyond 2?\n",
                "\n",
                "*ENTER YOUR THOUGHTS BELOW*"
            ]
        },
        {
            "cell_type": "markdown",
            "metadata": {},
            "source": []
        },
        {
            "cell_type": "markdown",
            "metadata": {
                "nbgrader": {
                    "grade": false,
                    "grade_id": "cell-fc5a7c272e578372",
                    "locked": true,
                    "schema_version": 1,
                    "solution": false
                },
                "editable": false,
                "deletable": false
            },
            "source": [
                "## PROBLEM 4: Scoring a sequence alignment (1 POINT)\n",
                "Next, let us practice computing the score of a sequence alignment given a substitution matrix and a linear gap penalty.  Recall that the score of an alignment is the sum of the substitution scores for each aligned pair of characters plus the scores for the gaps in the alignment."
            ]
        },
        {
            "cell_type": "markdown",
            "metadata": {
                "nbgrader": {
                    "grade": false,
                    "grade_id": "cell-d82d2b49aa08c648",
                    "locked": true,
                    "schema_version": 1,
                    "solution": false
                },
                "editable": false,
                "deletable": false
            },
            "source": [
                "Below, write a function that scores an alignment, given a substitution matrix and space penalty."
            ]
        },
        {
            "cell_type": "code",
            "execution_count": null,
            "metadata": {
                "collapsed": true,
                "nbgrader": {
                    "grade": false,
                    "grade_id": "cell-4561ca077defcb0a",
                    "locked": false,
                    "schema_version": 1,
                    "solution": true
                }
            },
            "outputs": [],
            "source": [
                "def score_alignment(alignment, matrix, space_penalty):\n",
                "    \"\"\"Scores an alignment with the given substitution_matrix and space_penalty.\n",
                "    Assumes a linear gap penalty, i.e., that the score of a length k gap is w(k) = space_penalty * k\n",
                "    \n",
                "    Args:\n",
                "        alignment: a list of two strings, each string representing one row of the alignment\n",
                "        matrix: a substitution matrix, using the representation of the submatrix module\n",
                "        space_penalty: a number giving the score of an individual space in the alignment.\n",
                "    Returns:\n",
                "        A number representing the score of the alignment.\n",
                "    \"\"\"\n",
                "    ###\n",
                "    ### YOUR CODE HERE\n",
                "    ###\n"
            ]
        },
        {
            "cell_type": "code",
            "execution_count": null,
            "metadata": {
                "nbgrader": {
                    "grade": true,
                    "grade_id": "score_alignment",
                    "locked": true,
                    "points": 1,
                    "schema_version": 1,
                    "solution": false
                },
                "editable": false,
                "deletable": false
            },
            "outputs": [],
            "source": [
                "# tests for score_alignment\n",
                "assert score_alignment([\"IRK\", \n",
                "                        \"I-K\"], \n",
                "                        blosum62, -1) == 8\n",
                "assert score_alignment([\"IRK\", \n",
                "                        \"IR-\"], \n",
                "                        blosum62, -2) == 7\n",
                "assert score_alignment([\"-RK\", \n",
                "                        \"IRK\"], \n",
                "                        blosum62, -1) == 9\n",
                "assert score_alignment([\"-RK\", \n",
                "                        \"IR-\"], \n",
                "                        blosum62, -1) == 3\n",
                "assert score_alignment([\"IRK\", \n",
                "                        \"---\"], \n",
                "                        blosum62, -2) == -6\n",
                "assert score_alignment([\"\", \n",
                "                        \"\"], \n",
                "                        blosum62, -1) == 0\n",
                "print(\"SUCCESS: score_alignment passed all tests!\")"
            ]
        },
        {
            "cell_type": "markdown",
            "metadata": {
                "nbgrader": {
                    "grade": false,
                    "grade_id": "cell-4dcd0ea3144197ba",
                    "locked": true,
                    "schema_version": 1,
                    "solution": false
                },
                "editable": false,
                "deletable": false
            },
            "source": [
                "### Scoring alignments of the alpha and delta globins\n",
                "Below are two candidate alignments for prefixes (to save screen space) of the alpha and delta globins.  Use your `score_alignment` function to determine which alignment is \"better\" in the sense of optimizing the scoring function.  Use the BLOSUM62 scoring matrix and the a space penalty of -1."
            ]
        },
        {
            "cell_type": "code",
            "execution_count": null,
            "metadata": {
                "collapsed": true,
                "nbgrader": {
                    "grade": false,
                    "grade_id": "cell-d4daa7842094af0d",
                    "locked": true,
                    "schema_version": 1,
                    "solution": false
                },
                "editable": false,
                "deletable": false
            },
            "outputs": [],
            "source": [
                "globin_alignment1 = [\"MV-LSPADKTNVKAAWGKVGAHAGEYGAEALERMFLSFPTTKTYFPHF-DLSH-----GSAQVKGH\",\n",
                "                     \"MVHLTPEEKTAVNALWGKVNVDA--VGGEALGRLLVVYPWTQRFFESFGDLSSPDAVMGNPKVKAH\"]\n",
                "\n",
                "globin_alignment2 = [\"MV-LSPADKTNVKAAWGKVGAHAGEYGAEALERMFLSFPTTKTYFPHF-DLSHGSAQVKG------H\",\n",
                "                     \"MVHLTPEEKTAVNALWGKVNVDA--VGGEALGRLLVVYPWTQRFFESFGDLSSPDA-VMGNPKVKAH\"]"
            ]
        },
        {
            "cell_type": "code",
            "execution_count": null,
            "metadata": {
                "scrolled": true
            },
            "outputs": [],
            "source": [
                "###\n",
                "### YOUR CODE HERE\n",
                "###\n"
            ]
        }
    ],
    "metadata": {
        "celltoolbar": "Create Assignment",
        "kernelspec": {
            "display_name": "Python 3 [3.6]",
            "language": "python",
            "name": "python3"
        },
        "language_info": {
            "codemirror_mode": {
                "name": "ipython",
                "version": 3
            },
            "file_extension": ".py",
            "mimetype": "text\/x-python",
            "name": "python",
            "nbconvert_exporter": "python",
            "pygments_lexer": "ipython3",
            "version": "3.6.4"
        }
    },
    "nbformat": 4,
    "nbformat_minor": 2
}