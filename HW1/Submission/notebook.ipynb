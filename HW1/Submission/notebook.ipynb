{
 "cells": [
  {
   "cell_type": "markdown",
   "metadata": {
    "deletable": false,
    "editable": false,
    "nbgrader": {
     "grade": false,
     "grade_id": "cell-1cfef6f801e46019",
     "locked": true,
     "schema_version": 1,
     "solution": false
    }
   },
   "source": [
    "# BMI/CS 576 HW1\n",
    "The objectives of this homework are to practice\n",
    "\n",
    "* with the basic algorithms for sequence assembly\n",
    "* reasoning about graphs and paths for the sequence assembly task\n",
    "\n",
    "## HW policies\n",
    "Before starting this homework, please read over the [homework policies](https://canvas.wisc.edu/courses/167969/pages/hw-policies) for this course.  In particular, note that homeworks are to be completed *individually*.\n",
    "\n",
    "You are welcome to use any code from the weekly notebooks in your solutions to the HW."
   ]
  },
  {
   "cell_type": "markdown",
   "metadata": {
    "deletable": false,
    "editable": false,
    "nbgrader": {
     "grade": false,
     "grade_id": "cell-b7e70bd885b91622",
     "locked": true,
     "schema_version": 1,
     "solution": false
    }
   },
   "source": [
    "## PROBLEM 1: The greedy algorithm for fragment assembly (60 points)\n",
    "Write a function, `greedy_assemble`, that takes as input a list of read strings and uses the greedy fragment assembly algorithm to output a *single* superstring that contains all reads as substrings. You must use the graph-based (Hamiltonian path) version of the greedy algorithm. We will assume that:\n",
    "1. we are assembling a single-stranded sequence and\n",
    "2. that no read is a substring of any other read.\n",
    "\n",
    "To keep things simple, for this homeowork, we will allow overlaps of any length (including zero).  In practice, for sequence assembly we would typically require some minimum overlap length.\n",
    "\n",
    "### Tie-breaking criteria\n",
    "\n",
    "For the purpose of making this algorithm deterministic, we must establish tiebreaking criteria for edges in the overlap graph that have the same weight. For two edges with the same weight, we will first choose the edge whose source vertex read is first in lexicographical order. If the source vertices are identical, then we choose the edge whose target vertex read is first in lexicographical order. For example, if e1 = ATCGGA → GGAT and e2 = ATCGGA → GGAA, we will attempt to use edge e2 first because GGAA < GGAT according to lexicographical order."
   ]
  },
  {
   "cell_type": "code",
   "execution_count": 3,
   "metadata": {
    "collapsed": true,
    "nbgrader": {
     "grade": false,
     "grade_id": "cell-11ef4347de632758",
     "locked": false,
     "schema_version": 1,
     "solution": true
    }
   },
   "outputs": [],
   "source": [
    "# Code for PROBLEM 1\n",
    "# You are welcome to develop your code as a separate Python module\n",
    "# and import it here if that is more convenient for you.\n",
    "import itertools\n",
    "import queue\n",
    "from operator import itemgetter\n",
    "\n",
    "class Graph:\n",
    "    def __init__(self, vertices):\n",
    "        self.out_edges = {v : [] for v in vertices}\n",
    "        self.in_edges = {v : [] for v in vertices}\n",
    "        self.num_edges = 0\n",
    "    \n",
    "    def add_edge(self, i, j):\n",
    "        self.out_edges[i].append(j)\n",
    "        self.in_edges[j].append(i)\n",
    "        self.num_edges += 1\n",
    "    \n",
    "    def indegree(self, i):\n",
    "        return len(self.in_edges[i])\n",
    "        \n",
    "    def outdegree(self, i):\n",
    "        return len(self.out_edges[i])\n",
    "    \n",
    "    def is_connected(self, start, end):\n",
    "        out_vertices = self.out_edges[start]\n",
    "        while out_vertices:\n",
    "            v = out_vertices[0]\n",
    "            if v == end:\n",
    "                return True\n",
    "            out_vertices = self.out_edges[v]\n",
    "        return False\n",
    "    \n",
    "    def get_path(self, start):\n",
    "        path = [start]\n",
    "        out_vertices = self.out_edges[start]\n",
    "        while out_vertices:\n",
    "            v = out_vertices[0]\n",
    "            path.append(v)\n",
    "            out_vertices = self.out_edges[v]\n",
    "        return path\n",
    "\n",
    "    \n",
    "def overlap_length(left, right):    \n",
    "    length = min(len(left), len(right))\n",
    "    return next((i for i in range(length, 0, -1) if left.endswith(right[:i])), 0)\n",
    "\n",
    "    \n",
    "def merge_ordered_reads(reads):\n",
    "    result = \"\"\n",
    "    \n",
    "    for read in reads:\n",
    "        result += read[overlap_length(result, read):]\n",
    "        \n",
    "    return result \n",
    "\n",
    "\n",
    "def greedy_assemble(reads):\n",
    "    \"\"\"Assembles a set of reads using the graph-based greedy algorithm.\n",
    "    \n",
    "    Args:\n",
    "        reads: a list of strings\n",
    "    Returns:\n",
    "        A string that is a superstring of the input reads\n",
    "    \"\"\"\n",
    "    q = queue.PriorityQueue()\n",
    "    for (u, v) in itertools.permutations(reads, 2):\n",
    "        q.put((-overlap_length(u, v), u, v))\n",
    "    \n",
    "    g = Graph(reads)\n",
    "    \n",
    "    length = len(reads)\n",
    "    while g.num_edges < length - 1:\n",
    "        _, u, v = q.get()\n",
    "        if g.outdegree(u) == 0 and g.indegree(v) == 0 and not g.is_connected(v, u):\n",
    "            g.add_edge(u, v)\n",
    "        \n",
    "    \n",
    "    start = next(e for e in reads if g.indegree(e) == 0)\n",
    "    path = g.get_path(start)\n",
    "    return merge_ordered_reads(path)"
   ]
  },
  {
   "cell_type": "markdown",
   "metadata": {
    "deletable": false,
    "editable": false,
    "nbgrader": {
     "grade": false,
     "grade_id": "cell-4420925e7c715bff",
     "locked": true,
     "schema_version": 1,
     "solution": false
    }
   },
   "source": [
    "Tests for `greedy_assemble` are provided at the bottom of this notebook."
   ]
  },
  {
   "cell_type": "markdown",
   "metadata": {
    "deletable": false,
    "editable": false,
    "nbgrader": {
     "grade": false,
     "grade_id": "cell-83f65a46d5679261",
     "locked": true,
     "schema_version": 1,
     "solution": false
    }
   },
   "source": [
    "## PROBLEM 2: Assembling a small subset of Ebola virus reads (10 points)"
   ]
  },
  {
   "cell_type": "markdown",
   "metadata": {
    "deletable": false,
    "editable": false,
    "nbgrader": {
     "grade": false,
     "grade_id": "cell-88391004f10fc368",
     "locked": true,
     "schema_version": 1,
     "solution": false
    }
   },
   "source": [
    "Included with this notebook is the file `ebola_reads.txt` which is small subset of the Illumina reads used to assemble the genome of an isolate of the Ebola virus, which caused a major epidemic in West Africa. \n",
    "\n",
    "Use your greedy assemble function to assemble these reads. Once correctly assembled, these reads form a short segment of the genome of this virus. To allow your assembler to succeed, the reads have been cleaned of errors and have have been oriented so that they all come from the same strand of the genome.  You may find the following function below of use, which produces a list of reads from the contents of a file."
   ]
  },
  {
   "cell_type": "code",
   "execution_count": 4,
   "metadata": {
    "collapsed": true,
    "deletable": false,
    "editable": false,
    "nbgrader": {
     "grade": false,
     "grade_id": "cell-4781468a16877496",
     "locked": true,
     "schema_version": 1,
     "solution": false
    }
   },
   "outputs": [],
   "source": [
    "def read_strings_from_file(filename):\n",
    "    return [line.rstrip() for line in open(filename)]"
   ]
  },
  {
   "cell_type": "code",
   "execution_count": 7,
   "metadata": {
    "nbgrader": {
     "grade": false,
     "grade_id": "cell-d08017f16c0169bf",
     "locked": false,
     "schema_version": 1,
     "solution": true
    }
   },
   "outputs": [
    {
     "data": {
      "text/plain": [
       "'ATTAAGAAAAACTGCTTATTGGGTCTTTCCGTGTTTTAGATGAAGCAGTTGACATTCTTCCTCTTGATATTAAATGGCTACACAACATACCCAATACCCAGACGCCAGGTTATCATCACCAATTGTATTGGACCAATGTGACCTTGTCACTAGAGCTTGCGGGTTGTATTCATCATACTCCCTTAATCCGCAACTACGCAACTGTAAACTCCCGAAACATATATACCGTTTAAAATATGATGTAACTGTTACCAAGTTCTTAAGTGATGTACCAGTGGCGACATTGCCCATAGATTTCATAGTCCCAATTCTTCTCAAGGCACTATCAGGCAATGGGTTCTGTCCTGTTGAGCCGCGGTGCCAACAGTTCTTAGATGAAATTATTAAGTACACAATGCAAGATGCTCTCTTCCTGAAATATTATCTCAAAAATGTGGGTGCTCAAGAAGACTGTGTTGATGACCACTTTCAAGAAAAAATCTTATCTTCAATTCAGGGCAATGAATTTTTACATCAAATGTTTTTCTGGTATGACCTGGCTATTTTAACTCGAAGGGGTAGATTAAATCGAGGAAACTCTAGATCAACGTGGTTTGTTCATGATGATTTAATAGACATCTTAGGCTATGGGGACTATGTTTTTTGGAAGATCCCAATTTCACTGTTACCACTGAACACACAAGGAATCCCCCATGCTGCTATGGATTGGTATCAGACATCAGTATTCAAAGAAGCGGTTCAAGGGCATACACACATTGTTTCTGTTTCTACTGCCGATGTCTTGATAATGTGCAAAGATTTAATTACATGTCGATTCAACACAACTCTAATCTCAAAAATAGCAGAGGTTGAGGACCCAGTTTGCTCTGATTATCCCAATTTTAAGATTGTGTCTATGCTTTACCAGAGCGGAGATTACTTACTCTCCATATTAGGGTCTGATGGGTATAAAATCATTAAGTTTCTCGAACCATTGTGCTTGGCTAAAATTCAATTGTGCTCAAAGTACACCGAGAGGAAGGGCCGATTCTTAACACAAATGCATTTAGCTGTAAATCACACCCTGGAAGAAATTACAGAAATACGTGCACTAAAGCCTTCACAGGCTCACAAGATCCGTGAATTCCATAGAACATTGATAAGGCTGGAGATGACGCCACAACAACTTTGTGAGCTATTTTCCATACAAAAACACTGGGGGCATCCTGTGCTACATAGTGAAACAGCAATCCAAAAAGTTAAAAAACATGCTACGGTGCTAAAAGCATTACGCCCTATCGTGATTTTCGAGACATATTGTGTTTTTAAATATAGCATTGCAAAACATTATTTTGATAGTCAAGGATCTTGGTACAGTGTTACCTCAGATAGAAATCTAACACCAGGTCTTAATTCTTATATCAAAAGAAATCAATTCCCTCCGTTGCCAATGATTAAAGAACTGCTATGGGAATTTTACCACCTTGACCATCCTCCACTTTTCTCAACCAAAATTATTAGTGACTTAAGTATTTTTATAAAAGACAGAGCTACTGCAGTAGAAAGGACATGCTGGGATGCAGTATTCGAGCCTAATGTTCTGGGATATAATCCACCTCACAAATTCAGTACCAAACGTGTACCGGAACAATTTTTAGAGCAAGAAAACTTTTCTATTGAGAATGTTCTTTCCTACGCGCAAAAACTCGAGTATCTACTACCACAATATCGGAATTTTTCTTTCTCATTGAAAGAGAAAGAGTTGAATGTAGGTAGAACTTTCGGAAAATTGCCTTATCCGACTCGCAATGTTCAAACACTTTGTGAAGCTCTGTTAGCTGATGGTCTTGCTAAAGCATTTCCTAGCAATATGATGGTAGTTACGGAACGTGAACAAAAAGAAAGCTTATTGCATCAAGCATCATGGCACCACACAAGTGATGATTTCGGTGAGCATGCCACAGTTAGAGGGAGTAGCTTTGTAACTGATTTAGAGAAATACAATCTTGCATTTAGGTATGAGTTTACAGCACCTTTTATAGAATATTGCAACCGTTGCTATGGTGTTAAGAATGTTTTTAATTGGATGCATTATACAATCCCACAGTGTTATATGCATGTCAGTGATTATTATAATCCACCGCATAACCTCACACTGGAAAATCGAAACAACCCCCCTGAAGGGCCTAGTTCATACAGGGGTCATATGGGAGGGATTGAAGGACTGCAACAAAAACTCTGGACAAGTATTTCATGTGCTCAAATTTCTTTAGTTGAAATTAAGACTGGTTTTAAGTTGCGCTCAGCTGTGATGGGTGACAATCAGTGCATTACCGTTTTATCAGTCTTCCCCTTAGAGACTGATGCAGGCGAGCAGGAACAGAGCGCCGAGGACAATGCAGCGAGGGTGGCCGCCAGCCTAGCAAAAGTTACAAGTGCCTGTGGAATCTTTTTAAAACCTGATGAAACATTTGTACATTCAGGTTTTATCTATTTTGGAAAAAAACAATATTTGAATGGGGTCCAATTGCCTCAGTCCCTTAAAACGGCTACAAGAATGGCACCATTGTCTGATGCAATTTTTGATGATCTTCAAGGGACCCTGGCTAGTATAGGTACTGCTTTTGAGCGATCCATCTCTGAGACACGACATATCTTTCCTTGCAGAATAACCGCAGCTTTCCATACGTTCTTTTCGGTGAGAATCTTGCAATATCATCACCTCGGATTTAATAAAGGTTTTGACCTTGGACAGTTAACACTCGGCAAACCTCTGGATTTCGGAACAATATCATTGGCACTAGCGGTACCGCAGGTGCTTGGAGGGTTATCCTTCTTGAATCCTGAGAAATGTTTCTACCGGAATCTAGGAGATCCAGTTACCTCAGGTTTATTCCAGTTAAAAACTTATCTCCGAATGATTGAGATGGATGATTTATTCTTACCTTTAATTGCGAAGAACCCTGGGAACTGCACTGCCATTGACTTTGTGCTAAATCCTAGCGGATTAAATGTTCCTGGGTCGCAAGACTTAACTTCATTTCTGCGCCAGATTGTACGTAGGACTATCACCCTAAGTGCGAAAAACAAACTTATTAATACCTTATTTCATGCATCAGCTGACTTCGAAGACGAAATGGTTTGTAAGTGGCTCTTATCATCAACTCCTGTTATGAGTCGTTTCGCAGCCGATATATTTTCACGCACGCCGAGCGGGAAGCGATTGCAAATTCTAGGATACTTGGAAGGAACACGCACATTATTAGCCTCTAAGATCATCAACAATAATACAGAGACGCCGGTTTTGGACAGACTGAGGAAGATAACATTGCAAAGGTGGAGTCTATGGTTTAGTTATCTTGATCATTGTGATAATATCCTGGCGGAGGCTTTAACCCAAATAACTTGCACAGTTGATTTAGCACAGATCCTGAGGGAATATTCATGGGCACATATTTTAGAGGGGAGACCTCTTATTGGAGCCACACTCCCATGTATGATTGAGCAATTCAAAGTGGTTTGGCTGAAACCCTACGAACAATGTCCGCAGTGTTCAAATGCCAAGCAACCTGGTGGGAAACCATTCGTGTCAGTAGCAGTCAAGAAACATATTGTTAGTGCATGGCCAAATGCATCCCGAATAAGCTGGACTATCGGGGATGGAATCCCATACATTGGATCAAGGACAGAAGATAAGATAGGGCAACCTGCTATTAAACCAAAATGTCCTTCCGCAGCCTTAAGAGAGGCCATTGAATTGGCGTCCCGTTTAACATGGGTAACTCAAGGCAGTTCGAACAGTGACTTGCTAATAAAACCATTTTTGGAAGCACGAGTAAATTTAAGTGTTCAAGAAATACTTCAAATGACCCCTTCACATTACTCGGGAAATATTGTTCATAGGTACAACGATCAATACAGTCCTCATTCTTTCATGGCCAATCGTATGAGTAACTCAGCAACGCGATTGATTGTTTCTACAAACACTTTAGGTGAGTTTTCAGGAGGTGGCCAATCGGCACGCGACAGCAATATTATTTTCCAGAATGTTATAAATTATGCAGTTGCACTGTTCGATATTAAATTTAGAAACACTGAGGCTACAGATATCCAGTATAATCGTGCTCACCTTCATCTAACTAAGTGTTGCACCCGGGAGGTACCAGCTCAGTACTTAACATACACATCTACATTGGATTTAGATTTAACAAGATACCGAGAAAATGAATTGATTTATGACAATAATCCTCTAAAAGGAGGACTCAATTGCAATATCTCATTTGATAACCCATTTTTCCAAGGCAAACAGCTGAACATTATAGAAGATGACCTTATTCGACTGCCTCACTTATCTGGATGGGAGCTAGCTAAGACCATCATGCAATCAATTATTTCAGATAGCAATAATTCGTCTACAGACCCAATTAGCAGTGGAGAAACAAGATCATTCACTACCCATTTCTTAACTTATCCCAAAATAGGACTTCTGTACAGTTTTGGGGCCTTTGTAAGTTATTATCTTGGCAATACAATTCTTCGGACTAAGAAATTAACACTTGACAATTTTTTATATTACTTAACTACCCAAATTCATAATCTACCACATCGCTCATTGCGAATACTTAAGCCAACATTCAAACATGCAAGCGTTATGTCACGATTAATGAGTATTGATCCCCATTTTTCTATTTACATAGGCGGTGCTGCAGGTGACAGAGGACTCTCAGATGCGGCCAGGTTATTTTTGAGAACGTCCATTTCATCTTTTCTTACATTTGTAAAGGAATGGATAATTAATCGCGGAACAATTGTCCCTTTATGGATAGTATATCCATTAGAGGGTCAAAATCCAACACCTGTTAATAATTTCCTCCATCAGATCGTAGAACTGCTGGTGCATGATTCATCAAGACACCAGGCTTTTAAAACTACCATAAATGATCATGTACATCCTCACGACAATCTTGTTTACACATGTAAGAGTACAGCCAGCAATTTCTTCCATGCGTCATTGGCGTACTGGAGGAGCAGGCACAGAAACAGCAACCGAAAAGACTTGACAAGAAACTCTTCAACTGGATCAAGCACAAACAACAGTGATGGTCATATTAAGAGAAGTCAAGAACAAACCACCAGAGATCCACATGATGGCACTGAACGGAGTCTAGTCCTGCAAATGAGCCATGAAATAAAAAGAACGACAATTCCACAAGAGAACACGCACCAGGGTCCGTCGTTCCAGTCATTTCTAAGTGACTCTGCTTGCGGTACAGCAAACCCAAAACTAAATTTCGATAGATCGAGACACAATGTGAAATCTCAGGATCATAACTCAGCATCCAAGAGGGAAGGTCATCAAATAATCTCACATCGTCTAGTCCTACCTTTCTTTACATTATCTCAAGGGACACGCCAATTAACGTCATCCAATGAGTCACAAACCCAAGATGAGATATCAAAGTACTTACGGCAATTGAGATCCGTCATTGATACCACAGTTTATTGTAGGTTTACCGGTATAGTCTCGTCCATGCATTACAAACTTGATGAGGTCCTTTGGGAAATAGAGAATTTTAAGTCGGCTGTGACGCTGGCAGAGGGAGAAGGTGCTGGTGCCTTACTATTGATTCAGAAATACCAAGTTAAGACCTTATTCTTCAACACGCTAGCTACTGAGTCCAGTATAGAGTCAGAAATAGTATCAGGAATGACTACTCCTAGGATGCTTCTACCTGTTATGTCAAAATTCCATAATGACCAAATTGAGATTATTCTTAACAACTCAGCAAGCCAAATAACAGACATAACAAATCCTACTTGGTTTAAAGACCAAAGAGCAAGGCTACCTAGGCAAGTCGAGGTTATAACCATGGATGCAGAGACGACAGAGAATATAAACAGATCGAAATTGTACGAAGCTGTACATAAATTGATCTTACACCATGTTGATCCCAGCGTATTGAAAGCAGTGGTCCTTAAAGTCTTTCTAAGTGATACCGAGGGTATGTTATGGCTAAATGATAATCTAGCCCCGTTTTTTGCCACTGGGTATTTAATTAAGCCAATAACGTCAAGTGCCAGGTCTAGTGAGTGGTATCTTTGTCTGACGAACTTCTTATCAACTACACGTAAGATGCCACACCAAAACCATCTCAGTTGTAAGCAGGTAATACTTACGGCATTGCAACTGCAAATTCAACGGAGCCCATACTGGCTAAGTCATTTAACTCAGTATGCTGACTGCGATTTACATTTAAGCTATATCCGCCTTGGTTTTCCATCATTAGAGAAAGTACTATACCACAGGTATAACCTTGTCGATTCAAAAAGAGGTCCACTAGTCTCTGTCACTCAGCACTTAGCACATCTTAGGGCAGAGATTCGAGAATTGACCAATGATTATAATCAACAGCGACAAAGTCGGACTCAAACATATCACTTTATTCGTACTGCAAAAGGACGAATCACAAAACTAGTCAATGATTATTTAAAATTCTTTCTTATTGTACAAGCATTAAAACATAATGGGACATGGCAAGCTGAGTTTAAGAAATTACCAGAGTTGATTAGTGTGTGCAATAGGTTCTATCATATTAGAGATTGTAATTGTGAAGAACGTTTCTTAGTTCAAACCTTATATTTACATAGAATGCAGGATTCTGAAGTTAAGCTTATCGAAAGGCTGACAGGGCTTCTGAGTTTATTTCCAGATGGTCTCTACAGGTTCGATTGAATAACCGTGCATAGTATTTTGATACTTGTAAAGGTTGGTTATCAACATACAGATTATAAAAAACTCATAAATTGCTCTCATACATCATCTTGATCTGATTTCAATAAATAACTATTTAGATAACGAAAGGAGTCCTTACATTATACACTATATTTGGCCTCTC'"
      ]
     },
     "execution_count": 7,
     "metadata": {},
     "output_type": "execute_result"
    }
   ],
   "source": [
    "###\n",
    "### code for assembling the ebola reads\n",
    "###\n",
    "\n",
    "greedy_assemble(read_strings_from_file(\"ebola_reads.txt\"))"
   ]
  },
  {
   "cell_type": "markdown",
   "metadata": {
    "deletable": false,
    "editable": false,
    "nbgrader": {
     "grade": false,
     "grade_id": "cell-87b98e606eb6267b",
     "locked": true,
     "schema_version": 1,
     "solution": false
    }
   },
   "source": [
    "Once you have assembled the genomic segment, use the [BLAST](https://blast.ncbi.nlm.nih.gov/Blast.cgi) web service to search the NCBI database of proteins with your assembled sequence. You should use BLASTX with its default settings. Based on the results of your BLASTX search, which gene is contained within this genomic segment?"
   ]
  },
  {
   "cell_type": "markdown",
   "metadata": {
    "nbgrader": {
     "grade": true,
     "grade_id": "problem2",
     "locked": false,
     "points": 10,
     "schema_version": 1,
     "solution": true
    }
   },
   "source": [
    "\n",
    "** Zaire ebolavirus **\n"
   ]
  },
  {
   "cell_type": "markdown",
   "metadata": {
    "deletable": false,
    "editable": false,
    "nbgrader": {
     "grade": false,
     "grade_id": "cell-76337bb686267e4c",
     "locked": true,
     "schema_version": 1,
     "solution": false
    }
   },
   "source": [
    "### BONUS CHALLENGE\n",
    "A subset of Illumina reads from an Ebola virus genome sequencing experiment that cover the entire genome are included in the file `ebola_full_genome_reads.txt`. Can you get your code to assemble these reads in under 2 minutes? Sorry, no extra credit here, just personal satisfaction!"
   ]
  },
  {
   "cell_type": "markdown",
   "metadata": {
    "deletable": false,
    "editable": false,
    "nbgrader": {
     "grade": false,
     "grade_id": "cell-21682023e23904ca",
     "locked": true,
     "schema_version": 1,
     "solution": false
    }
   },
   "source": [
    "## PROBLEM 3: SBH graphs and Eulerian paths (20 points) \n",
    "For the following strings, (i) give the k = 3 spectrum for the string, (ii) draw the SBH graph for the spectrum, (iii) give one Eulerian path and its corresponding string for the SBH graph, and (iv) show whether or not there exists an Eulerian path in the graph that corresponds to the original string.\n",
    "\n",
    "(a) ATGGCCTGAATCC\n",
    "\n",
    "(b) ATAGCCTAGCAAT"
   ]
  },
  {
   "cell_type": "code",
   "execution_count": 38,
   "metadata": {
    "collapsed": true
   },
   "outputs": [],
   "source": [
    "from graphviz import Digraph\n",
    "\n",
    "def get_spectrum(string, k):\n",
    "    return {string[i:i+k] for i in range(len(string)-k+1)}\n",
    "    \n",
    "def draw_sbh(spectrum):\n",
    "    g = Digraph(engine='neato')\n",
    "    g.edges((e[:-1], e[1:]) for e in spectrum)\n",
    "    return g\n",
    "\n",
    "def answer_i_ii(string, k, ):\n",
    "    spectrum = get_spectrum(string, k)\n",
    "    print(f\"(i). The spectrum for {string} is {spectrum}\")\n",
    "    print(f\"(ii). The SBH graph for this spectrum is shown below: \")\n",
    "    return draw_sbh(spectrum)"
   ]
  },
  {
   "cell_type": "markdown",
   "metadata": {},
   "source": [
    "### Part (a): ATGGCCTGAATCC"
   ]
  },
  {
   "cell_type": "code",
   "execution_count": 45,
   "metadata": {},
   "outputs": [
    {
     "name": "stdout",
     "output_type": "stream",
     "text": [
      "(i). The spectrum for ATGGCCTGAATCC is {'GAA', 'TGA', 'ATG', 'CCT', 'GCC', 'AAT', 'ATC', 'CTG', 'TGG', 'TCC', 'GGC'}\n",
      "(ii). The SBH graph for this spectrum is shown below: \n"
     ]
    },
    {
     "data": {
      "image/svg+xml": [
       "<?xml version=\"1.0\" encoding=\"UTF-8\" standalone=\"no\"?>\n",
       "<!DOCTYPE svg PUBLIC \"-//W3C//DTD SVG 1.1//EN\"\n",
       " \"http://www.w3.org/Graphics/SVG/1.1/DTD/svg11.dtd\">\n",
       "<!-- Generated by graphviz version 2.38.0 (20140413.2041)\n",
       " -->\n",
       "<!-- Title: %3 Pages: 1 -->\n",
       "<svg width=\"241pt\" height=\"289pt\"\n",
       " viewBox=\"0.00 0.00 241.23 288.61\" xmlns=\"http://www.w3.org/2000/svg\" xmlns:xlink=\"http://www.w3.org/1999/xlink\">\n",
       "<g id=\"graph0\" class=\"graph\" transform=\"scale(1 1) rotate(0) translate(116.048 149.892)\">\n",
       "<title>%3</title>\n",
       "<polygon fill=\"white\" stroke=\"none\" points=\"-116.048,138.722 -116.048,-149.892 125.18,-149.892 125.18,138.722 -116.048,138.722\"/>\n",
       "<!-- GA -->\n",
       "<g id=\"node1\" class=\"node\"><title>GA</title>\n",
       "<ellipse fill=\"none\" stroke=\"black\" cx=\"-53.6442\" cy=\"-100.18\" rx=\"27\" ry=\"18\"/>\n",
       "<text text-anchor=\"middle\" x=\"-53.6442\" y=\"-96.48\" font-family=\"Times,serif\" font-size=\"14.00\">GA</text>\n",
       "</g>\n",
       "<!-- AA -->\n",
       "<g id=\"node2\" class=\"node\"><title>AA</title>\n",
       "<ellipse fill=\"none\" stroke=\"black\" cx=\"22.8164\" cy=\"-127.892\" rx=\"27\" ry=\"18\"/>\n",
       "<text text-anchor=\"middle\" x=\"22.8164\" y=\"-124.192\" font-family=\"Times,serif\" font-size=\"14.00\">AA</text>\n",
       "</g>\n",
       "<!-- GA&#45;&gt;AA -->\n",
       "<g id=\"edge1\" class=\"edge\"><title>GA&#45;&gt;AA</title>\n",
       "<path fill=\"none\" stroke=\"black\" d=\"M-29.8707,-108.796C-23.8292,-110.986 -17.2229,-113.38 -10.7935,-115.71\"/>\n",
       "<polygon fill=\"black\" stroke=\"black\" points=\"-11.5366,-119.164 -0.942372,-119.281 -9.15134,-112.583 -11.5366,-119.164\"/>\n",
       "</g>\n",
       "<!-- AT -->\n",
       "<g id=\"node4\" class=\"node\"><title>AT</title>\n",
       "<ellipse fill=\"none\" stroke=\"black\" cx=\"45.2228\" cy=\"-51.945\" rx=\"27\" ry=\"18\"/>\n",
       "<text text-anchor=\"middle\" x=\"45.2228\" y=\"-48.245\" font-family=\"Times,serif\" font-size=\"14.00\">AT</text>\n",
       "</g>\n",
       "<!-- AA&#45;&gt;AT -->\n",
       "<g id=\"edge6\" class=\"edge\"><title>AA&#45;&gt;AT</title>\n",
       "<path fill=\"none\" stroke=\"black\" d=\"M28.1264,-109.893C30.8052,-100.813 34.1125,-89.6035 37.1021,-79.47\"/>\n",
       "<polygon fill=\"black\" stroke=\"black\" points=\"40.4781,-80.3958 39.9509,-69.8141 33.7642,-78.4149 40.4781,-80.3958\"/>\n",
       "</g>\n",
       "<!-- TG -->\n",
       "<g id=\"node3\" class=\"node\"><title>TG</title>\n",
       "<ellipse fill=\"none\" stroke=\"black\" cx=\"-37.3407\" cy=\"-23.0181\" rx=\"27\" ry=\"18\"/>\n",
       "<text text-anchor=\"middle\" x=\"-37.3407\" y=\"-19.3181\" font-family=\"Times,serif\" font-size=\"14.00\">TG</text>\n",
       "</g>\n",
       "<!-- TG&#45;&gt;GA -->\n",
       "<g id=\"edge2\" class=\"edge\"><title>TG&#45;&gt;GA</title>\n",
       "<path fill=\"none\" stroke=\"black\" d=\"M-41.122,-40.9146C-43.0833,-50.1971 -45.5238,-61.7476 -47.728,-72.1796\"/>\n",
       "<polygon fill=\"black\" stroke=\"black\" points=\"-51.1839,-71.6058 -49.8269,-82.1134 -44.3351,-73.0529 -51.1839,-71.6058\"/>\n",
       "</g>\n",
       "<!-- GG -->\n",
       "<g id=\"node9\" class=\"node\"><title>GG</title>\n",
       "<ellipse fill=\"none\" stroke=\"black\" cx=\"-85.048\" cy=\"46.9807\" rx=\"27\" ry=\"18\"/>\n",
       "<text text-anchor=\"middle\" x=\"-85.048\" y=\"50.6807\" font-family=\"Times,serif\" font-size=\"14.00\">GG</text>\n",
       "</g>\n",
       "<!-- TG&#45;&gt;GG -->\n",
       "<g id=\"edge9\" class=\"edge\"><title>TG&#45;&gt;GG</title>\n",
       "<path fill=\"none\" stroke=\"black\" d=\"M-48.6467,-6.42937C-54.4692,2.11376 -61.6861,12.7028 -68.1546,22.1938\"/>\n",
       "<polygon fill=\"black\" stroke=\"black\" points=\"-65.2992,24.2189 -73.8232,30.511 -71.0835,20.2765 -65.2992,24.2189\"/>\n",
       "</g>\n",
       "<!-- AT&#45;&gt;TG -->\n",
       "<g id=\"edge3\" class=\"edge\"><title>AT&#45;&gt;TG</title>\n",
       "<path fill=\"none\" stroke=\"black\" d=\"M20.8976,-43.4224C13.2549,-40.7447 4.67379,-37.7383 -3.50417,-34.873\"/>\n",
       "<polygon fill=\"black\" stroke=\"black\" points=\"-2.59451,-31.4832 -13.1894,-31.4798 -4.90913,-38.0895 -2.59451,-31.4832\"/>\n",
       "</g>\n",
       "<!-- TC -->\n",
       "<g id=\"node8\" class=\"node\"><title>TC</title>\n",
       "<ellipse fill=\"none\" stroke=\"black\" cx=\"94.1798\" cy=\"15.4689\" rx=\"27\" ry=\"18\"/>\n",
       "<text text-anchor=\"middle\" x=\"94.1798\" y=\"19.1689\" font-family=\"Times,serif\" font-size=\"14.00\">TC</text>\n",
       "</g>\n",
       "<!-- AT&#45;&gt;TC -->\n",
       "<g id=\"edge7\" class=\"edge\"><title>AT&#45;&gt;TC</title>\n",
       "<path fill=\"none\" stroke=\"black\" d=\"M57.0739,-35.626C62.762,-27.7935 69.7027,-18.2361 76.0359,-9.5153\"/>\n",
       "<polygon fill=\"black\" stroke=\"black\" points=\"79.0536,-11.3163 82.0977,-1.16818 73.3896,-7.20296 79.0536,-11.3163\"/>\n",
       "</g>\n",
       "<!-- CC -->\n",
       "<g id=\"node5\" class=\"node\"><title>CC</title>\n",
       "<ellipse fill=\"none\" stroke=\"black\" cx=\"47.1073\" cy=\"86.2876\" rx=\"27\" ry=\"18\"/>\n",
       "<text text-anchor=\"middle\" x=\"47.1073\" y=\"89.9876\" font-family=\"Times,serif\" font-size=\"14.00\">CC</text>\n",
       "</g>\n",
       "<!-- CT -->\n",
       "<g id=\"node6\" class=\"node\"><title>CT</title>\n",
       "<ellipse fill=\"none\" stroke=\"black\" cx=\"-0.412642\" cy=\"37.5761\" rx=\"27\" ry=\"18\"/>\n",
       "<text text-anchor=\"middle\" x=\"-0.412642\" y=\"41.2761\" font-family=\"Times,serif\" font-size=\"14.00\">CT</text>\n",
       "</g>\n",
       "<!-- CC&#45;&gt;CT -->\n",
       "<g id=\"edge4\" class=\"edge\"><title>CC&#45;&gt;CT</title>\n",
       "<path fill=\"none\" stroke=\"black\" d=\"M32.3322,71.142C28.9674,67.6928 25.3207,63.9546 21.7238,60.2676\"/>\n",
       "<polygon fill=\"black\" stroke=\"black\" points=\"18.9947,62.4822 14.517,52.8801 24.0054,57.5941 18.9947,62.4822\"/>\n",
       "</g>\n",
       "<!-- CT&#45;&gt;TG -->\n",
       "<g id=\"edge8\" class=\"edge\"><title>CT&#45;&gt;TG</title>\n",
       "<path fill=\"none\" stroke=\"black\" d=\"M-10.6992,20.6972C-14.1404,15.0505 -18.0566,8.62454 -21.8073,2.47022\"/>\n",
       "<polygon fill=\"black\" stroke=\"black\" points=\"-24.894,4.13086 -27.1093,-6.22978 -18.9165,0.48799 -24.894,4.13086\"/>\n",
       "</g>\n",
       "<!-- GC -->\n",
       "<g id=\"node7\" class=\"node\"><title>GC</title>\n",
       "<ellipse fill=\"none\" stroke=\"black\" cx=\"-32.8808\" cy=\"116.722\" rx=\"27\" ry=\"18\"/>\n",
       "<text text-anchor=\"middle\" x=\"-32.8808\" y=\"120.422\" font-family=\"Times,serif\" font-size=\"14.00\">GC</text>\n",
       "</g>\n",
       "<!-- GC&#45;&gt;CC -->\n",
       "<g id=\"edge5\" class=\"edge\"><title>GC&#45;&gt;CC</title>\n",
       "<path fill=\"none\" stroke=\"black\" d=\"M-9.31435,107.755C-2.05627,104.993 6.07547,101.899 13.8566,98.9389\"/>\n",
       "<polygon fill=\"black\" stroke=\"black\" points=\"12.8419,95.5802 23.4329,95.2952 15.3312,102.123 12.8419,95.5802\"/>\n",
       "</g>\n",
       "<!-- TC&#45;&gt;CC -->\n",
       "<g id=\"edge10\" class=\"edge\"><title>TC&#45;&gt;CC</title>\n",
       "<path fill=\"none\" stroke=\"black\" d=\"M83.0243,32.2519C77.2793,40.8951 70.1584,51.6082 63.7759,61.2103\"/>\n",
       "<polygon fill=\"black\" stroke=\"black\" points=\"66.6333,63.2344 58.1828,69.625 60.8036,59.3594 66.6333,63.2344\"/>\n",
       "</g>\n",
       "<!-- GG&#45;&gt;GC -->\n",
       "<g id=\"edge11\" class=\"edge\"><title>GG&#45;&gt;GC</title>\n",
       "<path fill=\"none\" stroke=\"black\" d=\"M-72.9487,63.1559C-66.5235,71.7456 -58.4909,82.4841 -51.3083,92.0864\"/>\n",
       "<polygon fill=\"black\" stroke=\"black\" points=\"-48.464,90.0456 -45.2768,100.15 -54.0693,94.2385 -48.464,90.0456\"/>\n",
       "</g>\n",
       "</g>\n",
       "</svg>\n"
      ],
      "text/plain": [
       "<graphviz.dot.Digraph at 0x7f80adcc67f0>"
      ]
     },
     "execution_count": 45,
     "metadata": {},
     "output_type": "execute_result"
    }
   ],
   "source": [
    "answer_i_ii(\"ATGGCCTGAATCC\", 3)"
   ]
  },
  {
   "cell_type": "markdown",
   "metadata": {},
   "source": [
    "(iii). A Eulerian path for this SBH graph is AT -> TG -> GG -> GC -> CC -> CT -> TG -> GA -> AA -> AT -> TC -> CC. Its corrseponding string is \"ATGGCCTGAATCC\"\n",
    "\n",
    "(iv).  There exists an Eulerian path in the graph that corresponds to the original string."
   ]
  },
  {
   "cell_type": "markdown",
   "metadata": {},
   "source": [
    "### Part (b): ATAGCCTAGCAAT"
   ]
  },
  {
   "cell_type": "code",
   "execution_count": 46,
   "metadata": {},
   "outputs": [
    {
     "name": "stdout",
     "output_type": "stream",
     "text": [
      "(i). The spectrum for ATAGCCTAGCAAT is {'CTA', 'CAA', 'GCC', 'CCT', 'AGC', 'AAT', 'GCA', 'ATA', 'TAG'}\n",
      "(ii). The SBH graph for this spectrum is shown below: \n"
     ]
    },
    {
     "data": {
      "image/svg+xml": [
       "<?xml version=\"1.0\" encoding=\"UTF-8\" standalone=\"no\"?>\n",
       "<!DOCTYPE svg PUBLIC \"-//W3C//DTD SVG 1.1//EN\"\n",
       " \"http://www.w3.org/Graphics/SVG/1.1/DTD/svg11.dtd\">\n",
       "<!-- Generated by graphviz version 2.38.0 (20140413.2041)\n",
       " -->\n",
       "<!-- Title: %3 Pages: 1 -->\n",
       "<svg width=\"266pt\" height=\"192pt\"\n",
       " viewBox=\"0.00 0.00 265.59 191.94\" xmlns=\"http://www.w3.org/2000/svg\" xmlns:xlink=\"http://www.w3.org/1999/xlink\">\n",
       "<g id=\"graph0\" class=\"graph\" transform=\"scale(1 1) rotate(0) translate(126.725 96.3507)\">\n",
       "<title>%3</title>\n",
       "<polygon fill=\"white\" stroke=\"none\" points=\"-126.725,95.5925 -126.725,-96.3507 138.866,-96.3507 138.866,95.5925 -126.725,95.5925\"/>\n",
       "<!-- CT -->\n",
       "<g id=\"node1\" class=\"node\"><title>CT</title>\n",
       "<ellipse fill=\"none\" stroke=\"black\" cx=\"-93.926\" cy=\"44.7647\" rx=\"27\" ry=\"18\"/>\n",
       "<text text-anchor=\"middle\" x=\"-93.926\" y=\"48.4647\" font-family=\"Times,serif\" font-size=\"14.00\">CT</text>\n",
       "</g>\n",
       "<!-- TA -->\n",
       "<g id=\"node2\" class=\"node\"><title>TA</title>\n",
       "<ellipse fill=\"none\" stroke=\"black\" cx=\"-16.0264\" cy=\"73.5925\" rx=\"27\" ry=\"18\"/>\n",
       "<text text-anchor=\"middle\" x=\"-16.0264\" y=\"77.2925\" font-family=\"Times,serif\" font-size=\"14.00\">TA</text>\n",
       "</g>\n",
       "<!-- CT&#45;&gt;TA -->\n",
       "<g id=\"edge1\" class=\"edge\"><title>CT&#45;&gt;TA</title>\n",
       "<path fill=\"none\" stroke=\"black\" d=\"M-70.1303,53.5707C-63.4858,56.0295 -56.1443,58.7464 -49.0691,61.3647\"/>\n",
       "<polygon fill=\"black\" stroke=\"black\" points=\"-47.8401,58.0874 -39.6764,64.8405 -50.2696,64.6523 -47.8401,58.0874\"/>\n",
       "</g>\n",
       "<!-- AG -->\n",
       "<g id=\"node7\" class=\"node\"><title>AG</title>\n",
       "<ellipse fill=\"none\" stroke=\"black\" cx=\"-15.4161\" cy=\"0.718389\" rx=\"27\" ry=\"18\"/>\n",
       "<text text-anchor=\"middle\" x=\"-15.4161\" y=\"4.41839\" font-family=\"Times,serif\" font-size=\"14.00\">AG</text>\n",
       "</g>\n",
       "<!-- TA&#45;&gt;AG -->\n",
       "<g id=\"edge9\" class=\"edge\"><title>TA&#45;&gt;AG</title>\n",
       "<path fill=\"none\" stroke=\"black\" d=\"M-15.8756,55.5787C-15.8081,47.5204 -15.7269,37.8307 -15.6517,28.8515\"/>\n",
       "<polygon fill=\"black\" stroke=\"black\" points=\"-19.1511,28.7479 -15.5673,18.7776 -12.1513,28.8066 -19.1511,28.7479\"/>\n",
       "</g>\n",
       "<!-- CA -->\n",
       "<g id=\"node3\" class=\"node\"><title>CA</title>\n",
       "<ellipse fill=\"none\" stroke=\"black\" cx=\"64.5133\" cy=\"-74.3507\" rx=\"27\" ry=\"18\"/>\n",
       "<text text-anchor=\"middle\" x=\"64.5133\" y=\"-70.6507\" font-family=\"Times,serif\" font-size=\"14.00\">CA</text>\n",
       "</g>\n",
       "<!-- AA -->\n",
       "<g id=\"node4\" class=\"node\"><title>AA</title>\n",
       "<ellipse fill=\"none\" stroke=\"black\" cx=\"107.866\" cy=\"-2.62949\" rx=\"27\" ry=\"18\"/>\n",
       "<text text-anchor=\"middle\" x=\"107.866\" y=\"1.07051\" font-family=\"Times,serif\" font-size=\"14.00\">AA</text>\n",
       "</g>\n",
       "<!-- CA&#45;&gt;AA -->\n",
       "<g id=\"edge2\" class=\"edge\"><title>CA&#45;&gt;AA</title>\n",
       "<path fill=\"none\" stroke=\"black\" d=\"M74.7873,-57.3538C80.0244,-48.6897 86.5028,-37.972 92.3344,-28.3244\"/>\n",
       "<polygon fill=\"black\" stroke=\"black\" points=\"95.488,-29.873 97.6658,-19.5044 89.4974,-26.2519 95.488,-29.873\"/>\n",
       "</g>\n",
       "<!-- AT -->\n",
       "<g id=\"node8\" class=\"node\"><title>AT</title>\n",
       "<ellipse fill=\"none\" stroke=\"black\" cx=\"67.8468\" cy=\"71.0503\" rx=\"27\" ry=\"18\"/>\n",
       "<text text-anchor=\"middle\" x=\"67.8468\" y=\"74.7503\" font-family=\"Times,serif\" font-size=\"14.00\">AT</text>\n",
       "</g>\n",
       "<!-- AA&#45;&gt;AT -->\n",
       "<g id=\"edge6\" class=\"edge\"><title>AA&#45;&gt;AT</title>\n",
       "<path fill=\"none\" stroke=\"black\" d=\"M98.5842,14.4593C93.6343,23.5727 87.4409,34.9755 81.913,45.1529\"/>\n",
       "<polygon fill=\"black\" stroke=\"black\" points=\"84.9269,46.9373 77.0783,54.0542 78.7756,43.5962 84.9269,46.9373\"/>\n",
       "</g>\n",
       "<!-- GC -->\n",
       "<g id=\"node5\" class=\"node\"><title>GC</title>\n",
       "<ellipse fill=\"none\" stroke=\"black\" cx=\"-19.1321\" cy=\"-72.2803\" rx=\"27\" ry=\"18\"/>\n",
       "<text text-anchor=\"middle\" x=\"-19.1321\" y=\"-68.5803\" font-family=\"Times,serif\" font-size=\"14.00\">GC</text>\n",
       "</g>\n",
       "<!-- GC&#45;&gt;CA -->\n",
       "<g id=\"edge7\" class=\"edge\"><title>GC&#45;&gt;CA</title>\n",
       "<path fill=\"none\" stroke=\"black\" d=\"M8.25653,-72.9582C14.239,-73.1063 20.6706,-73.2655 26.9713,-73.4214\"/>\n",
       "<polygon fill=\"black\" stroke=\"black\" points=\"27.2652,-76.9297 37.3488,-73.6783 27.4385,-69.9318 27.2652,-76.9297\"/>\n",
       "</g>\n",
       "<!-- CC -->\n",
       "<g id=\"node6\" class=\"node\"><title>CC</title>\n",
       "<ellipse fill=\"none\" stroke=\"black\" cx=\"-95.7255\" cy=\"-40.8656\" rx=\"27\" ry=\"18\"/>\n",
       "<text text-anchor=\"middle\" x=\"-95.7255\" y=\"-37.1656\" font-family=\"Times,serif\" font-size=\"14.00\">CC</text>\n",
       "</g>\n",
       "<!-- GC&#45;&gt;CC -->\n",
       "<g id=\"edge3\" class=\"edge\"><title>GC&#45;&gt;CC</title>\n",
       "<path fill=\"none\" stroke=\"black\" d=\"M-42.5288,-62.6841C-48.9134,-60.0655 -55.9525,-57.1784 -62.7622,-54.3854\"/>\n",
       "<polygon fill=\"black\" stroke=\"black\" points=\"-61.8918,-50.9595 -72.472,-50.4029 -64.5482,-57.4359 -61.8918,-50.9595\"/>\n",
       "</g>\n",
       "<!-- CC&#45;&gt;CT -->\n",
       "<g id=\"edge4\" class=\"edge\"><title>CC&#45;&gt;CT</title>\n",
       "<path fill=\"none\" stroke=\"black\" d=\"M-95.3439,-22.7056C-95.1053,-11.3527 -94.793,3.50868 -94.5222,16.3932\"/>\n",
       "<polygon fill=\"black\" stroke=\"black\" points=\"-91.0181,16.5596 -94.3071,26.6309 -98.0165,16.7067 -91.0181,16.5596\"/>\n",
       "</g>\n",
       "<!-- AG&#45;&gt;GC -->\n",
       "<g id=\"edge5\" class=\"edge\"><title>AG&#45;&gt;GC</title>\n",
       "<path fill=\"none\" stroke=\"black\" d=\"M-16.3346,-17.3262C-16.7456,-25.3983 -17.2397,-35.1046 -17.6975,-44.0991\"/>\n",
       "<polygon fill=\"black\" stroke=\"black\" points=\"-21.1982,-44.0252 -18.2112,-54.1902 -14.2073,-44.3811 -21.1982,-44.0252\"/>\n",
       "</g>\n",
       "<!-- AT&#45;&gt;TA -->\n",
       "<g id=\"edge8\" class=\"edge\"><title>AT&#45;&gt;TA</title>\n",
       "<path fill=\"none\" stroke=\"black\" d=\"M40.8471,71.8687C34.6246,72.0573 27.8975,72.2612 21.3225,72.4605\"/>\n",
       "<polygon fill=\"black\" stroke=\"black\" points=\"21.3117,75.9623 11.2102,72.767 21.0996,68.9656 21.3117,75.9623\"/>\n",
       "</g>\n",
       "</g>\n",
       "</svg>\n"
      ],
      "text/plain": [
       "<graphviz.dot.Digraph at 0x7f80adcc6da0>"
      ]
     },
     "execution_count": 46,
     "metadata": {},
     "output_type": "execute_result"
    }
   ],
   "source": [
    "answer_i_ii(\"ATAGCCTAGCAAT\", 3)"
   ]
  },
  {
   "cell_type": "markdown",
   "metadata": {},
   "source": [
    "(iii). A Eulerian path for this SBH graph is GC -> CA -> AA -> AT -> TA -> AG -> GC -> CC -> CT -> TA. Its corrseponding string is \"GCAATAGCCTA\"\n",
    "\n",
    "(iv).  There does not exist an Eulerian path in the graph that corresponds to the original string."
   ]
  },
  {
   "cell_type": "markdown",
   "metadata": {
    "deletable": false,
    "editable": false,
    "nbgrader": {
     "grade": false,
     "grade_id": "cell-595590e6c27d63ba",
     "locked": true,
     "schema_version": 1,
     "solution": false
    }
   },
   "source": [
    "## PROBLEM 4: Existence of DNA sequence with complete spectrum (10 points)\n",
    "For any value of $k$, does there exist a DNA sequence that contains every possible $k$-mer exactly once?  Prove your answer.  *Hint: consider the SBH graph for the spectrum of such a sequence, should it exist*"
   ]
  },
  {
   "cell_type": "markdown",
   "metadata": {
    "nbgrader": {
     "grade": true,
     "grade_id": "problem4",
     "locked": false,
     "points": 10,
     "schema_version": 1,
     "solution": true
    }
   },
   "source": [
    "Construct a SBH graph with \n",
    "- $V$ = { all $(k-1)$-mer }\n",
    "- $E$ = { $(u,v)$ | the last $(k-2)$ characters of $u$ is the same as the first $(k-2)$ characters of $v$ }\n",
    "\n",
    "Then there are $4^k$ edges in total, each corrseponds to a unique $k$-mer by merging the source vertex and destination vertex with one copy of the overlay"
   ]
  },
  {
   "cell_type": "markdown",
   "metadata": {
    "deletable": false,
    "editable": false,
    "nbgrader": {
     "grade": false,
     "grade_id": "cell-f886d5b063ddba39",
     "locked": true,
     "schema_version": 1,
     "solution": false
    }
   },
   "source": [
    "### Tests for problem 1"
   ]
  },
  {
   "cell_type": "code",
   "execution_count": 42,
   "metadata": {
    "collapsed": true,
    "deletable": false,
    "editable": false,
    "nbgrader": {
     "grade": false,
     "grade_id": "cell-edb12d33afef11ca",
     "locked": true,
     "schema_version": 1,
     "solution": false
    }
   },
   "outputs": [],
   "source": [
    "def test_greedy_assemble_with_files(reads_filename, superstring_filename):\n",
    "    reads = read_strings_from_file(reads_filename)\n",
    "    [superstring] = read_strings_from_file(superstring_filename)\n",
    "    assert greedy_assemble(reads) == superstring "
   ]
  },
  {
   "cell_type": "code",
   "execution_count": 43,
   "metadata": {
    "deletable": false,
    "editable": false,
    "nbgrader": {
     "grade": true,
     "grade_id": "greedy_assemble_returns_a_string",
     "locked": true,
     "points": 20,
     "schema_version": 1,
     "solution": false
    }
   },
   "outputs": [
    {
     "name": "stdout",
     "output_type": "stream",
     "text": [
      "SUCCESS: greedy_assemble returns a string passed!\n"
     ]
    }
   ],
   "source": [
    "# TEST: greedy_assemble returns a string\n",
    "sanity_test_reads = read_strings_from_file(\"tests/test_reads.txt\")\n",
    "assert isinstance(greedy_assemble(sanity_test_reads), str)\n",
    "print(\"SUCCESS: greedy_assemble returns a string passed!\")"
   ]
  },
  {
   "cell_type": "code",
   "execution_count": 44,
   "metadata": {
    "deletable": false,
    "editable": false,
    "nbgrader": {
     "grade": true,
     "grade_id": "greedy_assemble_returns_a_superstring",
     "locked": true,
     "points": 10,
     "schema_version": 1,
     "solution": false
    }
   },
   "outputs": [
    {
     "name": "stdout",
     "output_type": "stream",
     "text": [
      "SUCCESS: greedy_assemble returns a superstring passed!\n"
     ]
    }
   ],
   "source": [
    "# TEST: greedy_assemble returns a superstring\n",
    "def is_superstring(s, reads):\n",
    "    return all(read in s for read in reads)\n",
    "assert is_superstring(greedy_assemble(sanity_test_reads), sanity_test_reads)\n",
    "print(\"SUCCESS: greedy_assemble returns a superstring passed!\")"
   ]
  },
  {
   "cell_type": "code",
   "execution_count": 45,
   "metadata": {
    "deletable": false,
    "editable": false,
    "nbgrader": {
     "grade": true,
     "grade_id": "greedy_assemble_small_test_1",
     "locked": true,
     "points": 5,
     "schema_version": 1,
     "solution": false
    }
   },
   "outputs": [
    {
     "name": "stdout",
     "output_type": "stream",
     "text": [
      "SUCCESS: greedy_assemble_small_test_1 passed!\n"
     ]
    }
   ],
   "source": [
    "# TEST: greedy_assemble_small_test_1\n",
    "small_test1_reads = [\"GTT\", \"ATCTC\", \"CTCAA\"]\n",
    "assert greedy_assemble(small_test1_reads) == \"ATCTCAAGTT\"\n",
    "print(\"SUCCESS: greedy_assemble_small_test_1 passed!\")"
   ]
  },
  {
   "cell_type": "code",
   "execution_count": 46,
   "metadata": {
    "deletable": false,
    "editable": false,
    "nbgrader": {
     "grade": true,
     "grade_id": "greedy_assemble_small_test_2",
     "locked": true,
     "points": 5,
     "schema_version": 1,
     "solution": false
    }
   },
   "outputs": [
    {
     "name": "stdout",
     "output_type": "stream",
     "text": [
      "SUCCESS: greedy_assemble_small_test_2 passed!\n"
     ]
    }
   ],
   "source": [
    "# TEST: greedy_assemble_small_test_2\n",
    "small_test2_reads = [\"CGAAG\", \"ATCGA\", \"AGAG\", \"GGG\"]\n",
    "assert greedy_assemble(small_test2_reads) == \"ATCGAAGAGGG\"\n",
    "print(\"SUCCESS: greedy_assemble_small_test_2 passed!\")"
   ]
  },
  {
   "cell_type": "code",
   "execution_count": 47,
   "metadata": {
    "deletable": false,
    "editable": false,
    "nbgrader": {
     "grade": true,
     "grade_id": "greedy_assemble_small_test_3",
     "locked": true,
     "points": 5,
     "schema_version": 1,
     "solution": false
    }
   },
   "outputs": [
    {
     "name": "stdout",
     "output_type": "stream",
     "text": [
      "SUCCESS: greedy_assemble_small_test_3 passed!\n"
     ]
    }
   ],
   "source": [
    "# TEST: greedy_assemble_small_test_3\n",
    "small_test3_reads = [\"C\", \"T\", \"G\", \"A\"]\n",
    "assert greedy_assemble(small_test3_reads) == 'ACGT'\n",
    "print(\"SUCCESS: greedy_assemble_small_test_3 passed!\")"
   ]
  },
  {
   "cell_type": "code",
   "execution_count": 48,
   "metadata": {
    "deletable": false,
    "editable": false,
    "nbgrader": {
     "grade": true,
     "grade_id": "greedy_assemble_large_test_1",
     "locked": true,
     "points": 5,
     "schema_version": 1,
     "solution": false
    }
   },
   "outputs": [
    {
     "name": "stdout",
     "output_type": "stream",
     "text": [
      "SUCCESS: greedy_assemble large test 1 passed!\n"
     ]
    }
   ],
   "source": [
    "# TEST: greedy_assemble large test 1\n",
    "test_greedy_assemble_with_files(\"tests/large_test1_reads.txt\", \"tests/large_test1_superstring.txt\")\n",
    "print(\"SUCCESS: greedy_assemble large test 1 passed!\")"
   ]
  },
  {
   "cell_type": "code",
   "execution_count": 19,
   "metadata": {
    "collapsed": true,
    "deletable": false,
    "editable": false,
    "nbgrader": {
     "grade": true,
     "grade_id": "greedy_assemble_reads_7",
     "locked": true,
     "points": 2,
     "schema_version": 1,
     "solution": false
    }
   },
   "outputs": [],
   "source": [
    "# TEST: greedy_assemble_reads_7 (hidden)\n",
    "###\n",
    "### AUTOGRADER TEST - DO NOT REMOVE\n",
    "###\n"
   ]
  },
  {
   "cell_type": "code",
   "execution_count": null,
   "metadata": {
    "collapsed": true,
    "deletable": false,
    "editable": false,
    "nbgrader": {
     "grade": true,
     "grade_id": "greedy_assemble_reads_8",
     "locked": true,
     "points": 2,
     "schema_version": 1,
     "solution": false
    }
   },
   "outputs": [],
   "source": [
    "# TEST: greedy_assemble_reads_8 (hidden)\n",
    "###\n",
    "### AUTOGRADER TEST - DO NOT REMOVE\n",
    "###\n"
   ]
  },
  {
   "cell_type": "code",
   "execution_count": null,
   "metadata": {
    "collapsed": true,
    "deletable": false,
    "editable": false,
    "nbgrader": {
     "grade": true,
     "grade_id": "greedy_assemble_reads_9",
     "locked": true,
     "points": 2,
     "schema_version": 1,
     "solution": false
    }
   },
   "outputs": [],
   "source": [
    "# TEST: greedy_assemble_reads_9 (hidden)\n",
    "###\n",
    "### AUTOGRADER TEST - DO NOT REMOVE\n",
    "###\n"
   ]
  },
  {
   "cell_type": "code",
   "execution_count": null,
   "metadata": {
    "collapsed": true,
    "deletable": false,
    "editable": false,
    "nbgrader": {
     "grade": true,
     "grade_id": "greedy_assemble_reads_10",
     "locked": true,
     "points": 2,
     "schema_version": 1,
     "solution": false
    }
   },
   "outputs": [],
   "source": [
    "# TEST: greedy_assemble_reads_10 (hidden)\n",
    "###\n",
    "### AUTOGRADER TEST - DO NOT REMOVE\n",
    "###\n"
   ]
  },
  {
   "cell_type": "code",
   "execution_count": null,
   "metadata": {
    "collapsed": true,
    "deletable": false,
    "editable": false,
    "nbgrader": {
     "grade": true,
     "grade_id": "greedy_assemble_reads_11",
     "locked": true,
     "points": 2,
     "schema_version": 1,
     "solution": false
    }
   },
   "outputs": [],
   "source": [
    "# TEST: greedy_assemble_reads_11 (hidden)\n",
    "###\n",
    "### AUTOGRADER TEST - DO NOT REMOVE\n",
    "###\n"
   ]
  }
 ],
 "metadata": {
  "celltoolbar": "Create Assignment",
  "kernelspec": {
   "display_name": "Python 3 [3.6]",
   "language": "python",
   "name": "python3"
  },
  "language_info": {
   "codemirror_mode": {
    "name": "ipython",
    "version": 3
   },
   "file_extension": ".py",
   "mimetype": "text/x-python",
   "name": "python",
   "nbconvert_exporter": "python",
   "pygments_lexer": "ipython3",
   "version": "3.6.4"
  }
 },
 "nbformat": 4,
 "nbformat_minor": 2
}
