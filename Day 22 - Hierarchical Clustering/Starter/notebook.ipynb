{
    "cells": [
        {
            "cell_type": "markdown",
            "metadata": {
                "nbgrader": {
                    "grade": false,
                    "grade_id": "cell-587860ea3db6949e",
                    "locked": true,
                    "schema_version": 1,
                    "solution": false
                },
                "editable": false,
                "deletable": false
            },
            "source": [
                "# Day 22 notebook\n",
                "The objectives of this notebook are to practice\n",
                "\n",
                "* Generating data from a Gaussian mixture model\n",
                "* Top-down hierarchical clustering\n",
                "* Clustering gene expression data"
            ]
        },
        {
            "cell_type": "markdown",
            "metadata": {
                "nbgrader": {
                    "grade": false,
                    "grade_id": "cell-da8dd46a6c3a1913",
                    "locked": true,
                    "schema_version": 1,
                    "solution": false
                },
                "editable": false,
                "deletable": false
            },
            "source": [
                "## Modules for this activity"
            ]
        },
        {
            "cell_type": "code",
            "execution_count": null,
            "metadata": {
                "collapsed": true,
                "nbgrader": {
                    "grade": false,
                    "grade_id": "cell-5ba5c558fcdd1c99",
                    "locked": true,
                    "schema_version": 1,
                    "solution": false
                },
                "editable": false,
                "deletable": false
            },
            "outputs": [],
            "source": [
                "# standard library modules\n",
                "import random                         # for sample\n",
                "\n",
                "# third-party modules\n",
                "from matplotlib import pyplot as plt  # for plotting\n",
                "import toytree                        # for working with trees\n",
                "from toytree.TreeNode import TreeNode # make TreeNode directly available\n",
                "\n",
                "# course modules\n",
                "import kmeans\n",
                "import clusterplot"
            ]
        },
        {
            "cell_type": "markdown",
            "metadata": {
                "nbgrader": {
                    "grade": false,
                    "grade_id": "cell-cf7eb6ff1db292d4",
                    "locked": true,
                    "schema_version": 1,
                    "solution": false
                },
                "editable": false,
                "deletable": false
            },
            "source": [
                "## PROBLEM 1: Sampling from a multivariate Gaussian distribution (1 POINT)\n",
                "Implement the `sample_profile` function below which samples from a multivariate Gaussian distribution, given the means and standard deviations for each dimension (we are using a diagonal covariance matrix).  You should use the [`random.gauss`](https:\/\/docs.python.org\/3\/library\/random.html#random.gauss) function to sample from a (one-dimensional) Gaussian distribution for each dimension.  You should consider using the `isinstance` builtin Python function for handling the `sd` argument to this function."
            ]
        },
        {
            "cell_type": "code",
            "execution_count": null,
            "metadata": {
                "collapsed": true
            },
            "outputs": [],
            "source": [
                "def sample_profile(mean, sd=1):\n",
                "    \"\"\"Randomly samples a profile from a multivariate Gaussian distribution.\n",
                "    \n",
                "    Args:\n",
                "        mean: a tuple giving the mean of each dimension\n",
                "        sd: either a tuple giving the standard deviation of each dimension\n",
                "            or a single number specifying the standard deviation for all dimensions\n",
                "    Returns:\n",
                "        The sampled profile as a tuple\n",
                "    \"\"\"\n",
                "    ###\n",
                "    ### YOUR CODE HERE\n",
                "    ###\n"
            ]
        },
        {
            "cell_type": "code",
            "execution_count": null,
            "metadata": {
                "nbgrader": {
                    "grade": true,
                    "grade_id": "sample_profile",
                    "locked": true,
                    "points": 1,
                    "schema_version": 1,
                    "solution": false
                },
                "editable": false,
                "deletable": false
            },
            "outputs": [],
            "source": [
                "# tests for sample_profile\n",
                "def round_profile(t, digits=2): return tuple(round(elt, digits) for elt in t)\n",
                "random.seed(43)\n",
                "assert round_profile(sample_profile((3, 2, 1))) == (4.5, 2.37, 1.69)\n",
                "random.seed(43)\n",
                "assert round_profile(sample_profile((3, 2, 1), sd=10)) == (17.99, 5.7, 7.89)\n",
                "random.seed(43)\n",
                "assert round_profile(sample_profile((3, 2, 1), sd=(1, 10, 5))) == (4.5, 5.7, 4.44)\n",
                "random.seed(43)\n",
                "assert round_profile(sample_profile((3,))) == (4.5,)\n",
                "print(\"SUCCESS: sample_profile passed all tests!\")"
            ]
        },
        {
            "cell_type": "markdown",
            "metadata": {
                "nbgrader": {
                    "grade": false,
                    "grade_id": "cell-6a4b4f037af0fbca",
                    "locked": true,
                    "schema_version": 1,
                    "solution": false
                },
                "editable": false,
                "deletable": false
            },
            "source": [
                "## PROBLEM 2: Sampling from a Gaussian mixture model (1 POINT)\n",
                "Implement the `sample_gmm` function below which samples $n$ profiles from a Gaussian mixture model, given the prior probabilities, means, and standard deviations for each cluster.  To pass the tests, you will need to simulate each profile one by one.  You should use the `sample_categorical` function below to sample the cluster assignment for each profile (even in the case of uniform cluster probabilities!).  We will have this function return both the profiles and the indices of the clusters from which the profiles were generated, so that we can see how the profiles originated."
            ]
        },
        {
            "cell_type": "code",
            "execution_count": null,
            "metadata": {
                "collapsed": true
            },
            "outputs": [],
            "source": [
                "def sample_gmm(n, means, sds=1, probs=None):\n",
                "    \"\"\"Randomly samples profiles from a Gaussian mixture model.\n",
                "    \n",
                "    Args:\n",
                "        n: the number of profiles to sample\n",
                "        means: a list of tuples giving the mean profile of each cluster\n",
                "        sds: either a list of numbers (or tuples) giving the standard deviation of each cluster\n",
                "            or a single number (or tuple) giving the standard deviation for all clusters\n",
                "        probs: a list of the prior probabilities of a profile coming from each cluster\n",
                "            If None, a uniform distribution will be used.\n",
                "    Returns:\n",
                "        A tuple of the form (profiles, cluster_assignments) where \n",
                "        profiles is a list of the sampled profiles (each profile represented as a tuple) and\n",
                "        cluster_assignments is a list of indices of the clusters from which the profiles originated.\n",
                "    \"\"\"\n",
                "    ###\n",
                "    ### YOUR CODE HERE\n",
                "    ###\n",
                "    \n",
                "def sample_categorical(distribution):\n",
                "    \"\"\"Randomly sample from a categorical distribution (a discrete distribution over K categories).\n",
                "    \n",
                "    Args:\n",
                "        distribution: a list of probabilities representing a discrete distribution over K categories.\n",
                "    Returns:\n",
                "        The index of the category sampled.\n",
                "    \"\"\"\n",
                "    r = random.random()\n",
                "    for i, prob in enumerate(distribution):\n",
                "        if r < prob:\n",
                "            return i\n",
                "        else:\n",
                "            r -= prob\n",
                "    # in case we encounter floating point issues return the last index\n",
                "    return len(distribution) - 1"
            ]
        },
        {
            "cell_type": "code",
            "execution_count": null,
            "metadata": {
                "nbgrader": {
                    "grade": true,
                    "grade_id": "sample_gmm",
                    "locked": true,
                    "points": 1,
                    "schema_version": 1,
                    "solution": false
                },
                "editable": false,
                "deletable": false
            },
            "outputs": [],
            "source": [
                "# tests for sample_gmm\n",
                "def round_profiles(profiles, digits=2): return [round_profile(p, digits) for p in profiles]\n",
                "\n",
                "random.seed(42)\n",
                "profiles, cluster_indices = sample_gmm(4, [(1, 2), (0, 0), (3, 1)])\n",
                "assert round_profiles(profiles) == [(0.79, 0.13), (0.87, 0.5), (3.89, 1.54), (1.23, 3.16)]\n",
                "assert cluster_indices == [1, 0, 2, 0]\n",
                "\n",
                "random.seed(42)\n",
                "profiles, cluster_indices = sample_gmm(4, [(3, 1), (0, 0)], sds=[0.1, 10])\n",
                "assert round_profiles(profiles) == [(7.92, 1.26), (2.99, 0.85), (8.95, 5.44), (3.02, 1.12)]\n",
                "assert cluster_indices == [1, 0, 1, 0]\n",
                "\n",
                "random.seed(42)\n",
                "profiles, cluster_indices = sample_gmm(4, [(1, 2), (0, 0), (3, 1)], probs=[0.3, 0.2, 0.5])\n",
                "assert round_profiles(profiles) == [(3.79, 1.13), (0.87, 0.5), (3.89, 1.54), (1.23, 3.16)]\n",
                "assert cluster_indices == [2, 0, 2, 0]\n",
                "print(\"SUCCESS: sample_gmm passed all tests!\")"
            ]
        },
        {
            "cell_type": "markdown",
            "metadata": {
                "nbgrader": {
                    "grade": false,
                    "grade_id": "cell-e35e57cc65a26bf4",
                    "locked": true,
                    "schema_version": 1,
                    "solution": false
                },
                "editable": false,
                "deletable": false
            },
            "source": [
                "## Plotting GMM simulated data\n",
                "\n",
                "Let's now generate some data from the Gaussian mixture model and plot it.  Several plotting functions are made available in the `clusterplot` module included with this activity.  In particular, we will use the `plot_profiles_interact_hidden` function to show the profiles with and without the (hidden) cluster information.  Note the checkbox at the top which allows you to toggle between showing and hiding the hidden cluster information."
            ]
        },
        {
            "cell_type": "markdown",
            "metadata": {
                "nbgrader": {
                    "grade": false,
                    "grade_id": "cell-192459bd678d4242",
                    "locked": true,
                    "schema_version": 1,
                    "solution": false
                },
                "editable": false,
                "deletable": false
            },
            "source": [
                "### Equal variances and uniform probabilities"
            ]
        },
        {
            "cell_type": "code",
            "execution_count": null,
            "metadata": {
                "nbgrader": {
                    "grade": false,
                    "grade_id": "cell-ec77a040173af161",
                    "locked": true,
                    "schema_version": 1,
                    "solution": false
                },
                "editable": false,
                "deletable": false
            },
            "outputs": [],
            "source": [
                "n = 400\n",
                "means = [(1, 3), (0, 0), (3, 1)]\n",
                "profiles, cluster_indices = sample_gmm(n, means)\n",
                "clusterplot.plot_profiles_interact_hidden(profiles, cluster_indices, means)"
            ]
        },
        {
            "cell_type": "markdown",
            "metadata": {
                "nbgrader": {
                    "grade": false,
                    "grade_id": "cell-8efd05ce620b601a",
                    "locked": true,
                    "schema_version": 1,
                    "solution": false
                },
                "editable": false,
                "deletable": false
            },
            "source": [
                "### Other simulations"
            ]
        },
        {
            "cell_type": "markdown",
            "metadata": {
                "nbgrader": {
                    "grade": false,
                    "grade_id": "cell-daceb19e3c27f031",
                    "locked": true,
                    "schema_version": 1,
                    "solution": false
                },
                "editable": false,
                "deletable": false
            },
            "source": [
                "Simulate some other data sets with different parameters and visualize them.  For example, simluate data sets with:\n",
                "* Different variances for each cluster\n",
                "* Non-uniform cluster probabilties"
            ]
        },
        {
            "cell_type": "code",
            "execution_count": null,
            "metadata": {
                "collapsed": true
            },
            "outputs": [],
            "source": [
                "###\n",
                "### your simulations and plots here\n",
                "###\n"
            ]
        },
        {
            "cell_type": "markdown",
            "metadata": {},
            "source": [
                "## Hierarchical clustering"
            ]
        },
        {
            "cell_type": "markdown",
            "metadata": {
                "nbgrader": {
                    "grade": false,
                    "grade_id": "cell-2a2cb1b834545792",
                    "locked": true,
                    "schema_version": 1,
                    "solution": false
                },
                "editable": false,
                "deletable": false
            },
            "source": [
                "### Constructing ETE trees\n",
                "\n",
                "In the second half of this notebook we will build tree structures that represent hierarchical clusterings.  The data structure that we will use for this is implemented by the `TreeNode` class contained within the [toytree](https:\/\/toytree.readthedocs.io\/) module.  A reference for all functionality of this class can be found in the [documentation for the ETE Toolkit Master Tree class](http:\/\/etetoolkit.org\/docs\/latest\/reference\/reference_tree.html).\n",
                "\n",
                "Here is an example of constructing a tree using this class:"
            ]
        },
        {
            "cell_type": "code",
            "execution_count": null,
            "metadata": {
                "nbgrader": {
                    "grade": false,
                    "grade_id": "cell-2657f313f073b9de",
                    "locked": true,
                    "schema_version": 1,
                    "solution": false
                },
                "editable": false,
                "deletable": false
            },
            "outputs": [],
            "source": [
                "leaf_a = TreeNode(name=\"a\")\n",
                "leaf_b = TreeNode(name=\"b\")\n",
                "leaf_c = TreeNode(name=\"c\")\n",
                "\n",
                "ancestor1 = TreeNode()\n",
                "ancestor1.add_child(leaf_a, dist=1.5)\n",
                "ancestor1.add_child(leaf_b, dist=0.5)\n",
                "\n",
                "ancestor2 = TreeNode()\n",
                "ancestor2.add_child(ancestor1, dist=0.5)\n",
                "ancestor2.add_child(leaf_c, dist=2.0)\n",
                "\n",
                "print(ancestor2)"
            ]
        },
        {
            "cell_type": "markdown",
            "metadata": {
                "nbgrader": {
                    "grade": false,
                    "grade_id": "cell-88942fd33f4e3b43",
                    "locked": true,
                    "schema_version": 1,
                    "solution": false
                },
                "editable": false,
                "deletable": false
            },
            "source": [
                "To convert a `TreeNode` object into a toytree tree, which we may want to do for visualization, we can write the `TreeNode` object out as a Newick-formatted string (use `format=1`) and construct a toytree tree from that string:"
            ]
        },
        {
            "cell_type": "code",
            "execution_count": null,
            "metadata": {
                "nbgrader": {
                    "grade": false,
                    "grade_id": "cell-e1708cb68b7fb226",
                    "locked": true,
                    "schema_version": 1,
                    "solution": false
                },
                "editable": false,
                "deletable": false
            },
            "outputs": [],
            "source": [
                "ancestor2_toytree = toytree.tree(ancestor2.write(format=1))\n",
                "ancestor2_toytree.draw()"
            ]
        },
        {
            "cell_type": "markdown",
            "metadata": {
                "nbgrader": {
                    "grade": false,
                    "grade_id": "cell-e480dd5ad87ea7fb",
                    "locked": true,
                    "schema_version": 1,
                    "solution": false
                },
                "editable": false,
                "deletable": false
            },
            "source": [
                "## PROBLEM 3: Top-down hierarchical clustering (1 POINT)\n",
                "\n",
                "Implement a function `cluster_top_down` that *recursively* computes a top-down hierarchical clustering of a set of profiles.  This function will call the `cluster_kmeans` function that we have developed in the previous activities in order to split a set of profiles into two subsets.  The distance from a parent node to each of its two children nodes will be defined as half of the Euclidean distance between the cluster centers for the two K-means clusters that correspond to the children.\n",
                "\n",
                "To pass the tests, you will need to follow these conventions:\n",
                "* you should not modify the call to the `cluster_kmeans` function provided in the template code below\n",
                "* the first recursive call to `cluster_top_down` should be on the first cluster (cluster index = 0) from k-means\n",
                "* when constructing lists of subsets of profiles (for recursive calls) you should keep the profiles in the same order as they were given in the input.\n",
                "\n",
                "You will likely find the following functions from the `kmeans` module of use:\n",
                "* `group_by_cluster_assignment`\n",
                "* `euclidean_distance`"
            ]
        },
        {
            "cell_type": "markdown",
            "metadata": {},
            "source": [
                "### IMPORTANT NOTEBOOK NOTE\n",
                "To make the `kmeans` module functional for this problem, you will need to paste your solutions to the `closest_center` and `mean_profile` functions below."
            ]
        },
        {
            "cell_type": "code",
            "execution_count": null,
            "metadata": {
                "collapsed": true
            },
            "outputs": [],
            "source": [
                "# we will import the squared_euclidean_distance\n",
                "# and euclidean_distance functions here in case your functions reference them\n",
                "from kmeans import squared_euclidean_distance, euclidean_distance\n",
                "\n",
                "###\n",
                "### your closest_center and mean_profile functions\n",
                "###\n",
                "\n",
                "# we will plug these functions into the kmeans module via the assignments below\n",
                "kmeans.closest_center = closest_center\n",
                "kmeans.mean_profile = mean_profile"
            ]
        },
        {
            "cell_type": "code",
            "execution_count": null,
            "metadata": {
                "collapsed": true
            },
            "outputs": [],
            "source": [
                "def cluster_top_down(profiles, profile_names):\n",
                "    \"\"\"Performs a top-down hierarchical clustering of a list of profiles, returning\n",
                "    a tree that has the given profile names labeling the leaves.\n",
                "    \n",
                "    Args:\n",
                "        profiles: a list of profiles\/points (each of which is represented as a tuple)\n",
                "        profile_names: a list of the same length as profiles giving the names of the profiles\n",
                "    Returns:\n",
                "        A TreeNode instance representing the root of the hierarchical clustering tree.\n",
                "    \"\"\"\n",
                "    if len(profiles) == 1:\n",
                "        return TreeNode(name=profile_names[0])\n",
                "    else:\n",
                "        cluster_assignments, centers = kmeans.cluster_kmeans(profiles, k=2, num_runs=10)\n",
                "        ###\n",
                "        ### YOUR CODE HERE\n",
                "        ###\n"
            ]
        },
        {
            "cell_type": "code",
            "execution_count": null,
            "metadata": {
                "nbgrader": {
                    "grade": true,
                    "grade_id": "cluster_top_down",
                    "locked": true,
                    "points": 1,
                    "schema_version": 1,
                    "solution": false
                },
                "editable": false,
                "deletable": false
            },
            "outputs": [],
            "source": [
                "# tests for cluster_top_down\n",
                "test1_profiles = [(0, 0), (4, 3)]\n",
                "test1_names = [\"A\", \"B\"]\n",
                "random.seed(1)\n",
                "test1_tree = cluster_top_down(test1_profiles, test1_names)\n",
                "assert test1_tree.write(format=1) == \"(A:2.5,B:2.5);\"\n",
                "\n",
                "test2_profiles = [(0, 0), (2, 2), (4, 5)]\n",
                "test2_names = [\"A\", \"B\", \"C\"]\n",
                "random.seed(1)\n",
                "test2_tree = cluster_top_down(test2_profiles, test2_names)\n",
                "assert test2_tree.write(format=1) == \"((A:1.41421,B:1.41421):2.5,C:2.5);\"\n",
                "\n",
                "test3_profiles = [(0, 0), (0, 1), (2, 2), (4, 5), (5, 5)]\n",
                "test3_names = [\"A\", \"B\", \"C\", \"D\", \"E\"]\n",
                "random.seed(1)\n",
                "test3_tree = cluster_top_down(test3_profiles, test3_names)\n",
                "assert test3_tree.write(format=1) == \"((E:0.5,D:0.5):2.77013,(C:1.25,(B:0.5,A:0.5):1.25):2.77013);\"\n",
                "\n",
                "test4_profiles = [(5, 5), (0, 1), (0, 0), (4, 5), (2, 2)]\n",
                "test4_names = [\"A\", \"B\", \"C\", \"D\", \"E\"]\n",
                "random.seed(1)\n",
                "test4_tree = cluster_top_down(test4_profiles, test4_names)\n",
                "assert test4_tree.write(format=1) == \"(((C:0.5,B:0.5):1.25,E:1.25):2.77013,(A:0.5,D:0.5):2.77013);\"\n",
                "\n",
                "test5_profiles = [(0, 0, 0, 0, 0, 0), (0, 1, 2, 3, 4, 5), (5, 4, 3, 2, 1, 0)]\n",
                "test5_names = [\"A\", \"B\", \"C\"]\n",
                "random.seed(1)\n",
                "test5_tree = cluster_top_down(test5_profiles, test5_names)\n",
                "assert test5_tree.write(format=1) == \"((A:3.7081,B:3.7081):3.49106,C:3.49106);\"\n",
                "print(\"SUCCESS: cluster_top_down passed all tests\")"
            ]
        },
        {
            "cell_type": "markdown",
            "metadata": {
                "collapsed": true,
                "nbgrader": {
                    "grade": false,
                    "grade_id": "cell-47891017662e5c46",
                    "locked": true,
                    "schema_version": 1,
                    "solution": false
                },
                "editable": false,
                "deletable": false
            },
            "source": [
                "## PROBLEM 4: Clustering of gene expression data from various human cell types (1 POINT)\n",
                "\n",
                "In this problem, you are to use your `cluster_top_down` function from above to cluster a set of real gene expression data from human samples.  The provided data set is a set of expression measurements taken from 95 different human cell types using RNA-seq technology.  For space and time considerations, expression values for only the most variable 1000 genes are given.  The expression value for gene $i$ in sample $j$ is given as $log_{10}{cpm_{ij} + 1}$ where $cpm_{ij}$ is the RNA-seq measurement in units of \"counts per million\" (CPM)."
            ]
        },
        {
            "cell_type": "code",
            "execution_count": null,
            "metadata": {
                "collapsed": true,
                "nbgrader": {
                    "grade": false,
                    "grade_id": "cell-71806614f48fb6cb",
                    "locked": true,
                    "schema_version": 1,
                    "solution": false
                },
                "editable": false,
                "deletable": false
            },
            "outputs": [],
            "source": [
                "def read_gene_expression_profiles(filename):\n",
                "    rows = [line.rstrip().split(\"\\t\") for line in open(filename)]\n",
                "    sample_names = rows[0]\n",
                "    columns = zip(*rows[1:])\n",
                "    profiles = [tuple(map(float, column)) for column in columns]\n",
                "    return profiles, sample_names\n",
                "\n",
                "expression_profiles, sample_names = read_gene_expression_profiles(\"cell_type_expression.txt\")"
            ]
        },
        {
            "cell_type": "markdown",
            "metadata": {
                "nbgrader": {
                    "grade": false,
                    "grade_id": "cell-865764a35e17cc81",
                    "locked": true,
                    "schema_version": 1,
                    "solution": false
                },
                "editable": false,
                "deletable": false
            },
            "source": [
                "Cluster these expression profiles with `cluster_top_down` and then visualize the resulting tree.  One of the samples is labeled \"***UNKNOWN***\".  Based on how that sample clusters with the others, what is the most likely cell type for this sample?  Submit your answer by assigning a string to the variable `unknown_cell_type_prediction`.  Your answer should be one of \"B cell\", \"T cell\", \"epithelial cell\", or \"macrophage\"."
            ]
        },
        {
            "cell_type": "code",
            "execution_count": null,
            "metadata": {},
            "outputs": [],
            "source": [
                "###\n",
                "### unknown_cell_type_prediction=?\n",
                "###\n"
            ]
        },
        {
            "cell_type": "code",
            "execution_count": null,
            "metadata": {
                "collapsed": true,
                "nbgrader": {
                    "grade": true,
                    "grade_id": "unknown_cell_type_prediction",
                    "locked": true,
                    "points": 1,
                    "schema_version": 1,
                    "solution": false
                },
                "editable": false,
                "deletable": false
            },
            "outputs": [],
            "source": [
                "# tests for unknown_cell_type_prediction\n",
                "assert isinstance(unknown_cell_type_prediction, str)\n",
                "assert unknown_cell_type_prediction in (\"B cell\", \"T cell\", \"epithelial cell\", \"macrophage\")\n",
                "###\n",
                "### AUTOGRADER TEST - DO NOT REMOVE\n",
                "###\n"
            ]
        }
    ],
    "metadata": {
        "celltoolbar": "Create Assignment",
        "kernelspec": {
            "display_name": "Python 3 [3.6]",
            "language": "python",
            "name": "python3"
        },
        "language_info": {
            "codemirror_mode": {
                "name": "ipython",
                "version": 3
            },
            "file_extension": ".py",
            "mimetype": "text\/x-python",
            "name": "python",
            "nbconvert_exporter": "python",
            "pygments_lexer": "ipython3",
            "version": "3.6.4"
        }
    },
    "nbformat": 4,
    "nbformat_minor": 2
}