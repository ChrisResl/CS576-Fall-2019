{
 "cells": [
  {
   "cell_type": "markdown",
   "metadata": {
    "deletable": false,
    "editable": false,
    "nbgrader": {
     "grade": false,
     "grade_id": "cell-8ea1291f2dde9a37",
     "locked": true,
     "schema_version": 1,
     "solution": false
    }
   },
   "source": [
    "# Day 9 notebook\n",
    "\n",
    "The objectives of this notebook are to practice running (by hand) the dynamic programming algorithms for \n",
    "\n",
    "* global alignment with linear gap penalty\n",
    "* local alignment with linear gap penalty\n",
    "* global alignment with affine gap penalty"
   ]
  },
  {
   "cell_type": "markdown",
   "metadata": {
    "deletable": false,
    "editable": false,
    "nbgrader": {
     "grade": false,
     "grade_id": "cell-fd8f76b65a977bef",
     "locked": true,
     "schema_version": 1,
     "solution": false
    }
   },
   "source": [
    "## Sequences to align\n",
    "\n",
    "In this activity, you will align the same pair of sequences multiple times, but with different alignment algorithms.  The two sequences to align are: `CAATATG` and `CATA`.\n",
    "\n",
    "You may find the included [worksheet](day09_activity_worksheet.pdf) useful for running the dynamic programming algorithms."
   ]
  },
  {
   "cell_type": "markdown",
   "metadata": {
    "deletable": false,
    "editable": false,
    "nbgrader": {
     "grade": false,
     "grade_id": "cell-12aecf613ceacaf7",
     "locked": true,
     "schema_version": 1,
     "solution": false
    }
   },
   "source": [
    "### PROBLEM 1: Global alignment with linear gap penalty (3 POINTS)\n",
    "\n",
    "Align the sequences by hand using the Needleman–Wunsch algorithm (global alignment with linear gap penalty).  Use the following scoring scheme:\n",
    "* Match: +1\n",
    "* Mismatch: -1\n",
    "* Space: -2\n",
    "\n",
    "To submit your solution, do the following variable assignments in the solution cell below:\n",
    "\n",
    "* assign to the variable `global_linear_opt_score` the optimal alignment *score* \n",
    "* assign to the variable `global_linear_opt_alignments` a *list* of *all* alignments that achieve that optimal score\n",
    "* assign to the variable `global_linear_last_row` a *list* representing the entries in the last row of the dynamic programming matrix.\n",
    "\n",
    "Each alignment should be represented by a list of two strings.  The first sequence, `CAATATG`, should be represented by the first string.  For example, here is an example of a list of alignments (non-optimal alignments):"
   ]
  },
  {
   "cell_type": "code",
   "execution_count": 105,
   "metadata": {
    "deletable": false,
    "editable": false,
    "nbgrader": {
     "grade": false,
     "grade_id": "cell-c324a7d07edd0817",
     "locked": true,
     "schema_version": 1,
     "solution": false
    },
    "scrolled": true
   },
   "outputs": [
    {
     "data": {
      "text/plain": [
       "[['CAATATG', 'CATA---'], ['CAATATG', '--C-ATA'], ['CA-ATATG', 'CATA----']]"
      ]
     },
     "execution_count": 105,
     "metadata": {},
     "output_type": "execute_result"
    }
   ],
   "source": [
    "# example of a list of alignments\n",
    "[[\"CAATATG\",\n",
    "  \"CATA---\"],\n",
    " [\"CAATATG\",\n",
    "  \"--C-ATA\"],\n",
    " [\"CA-ATATG\",\n",
    "  \"CATA----\"]]"
   ]
  },
  {
   "cell_type": "code",
   "execution_count": 208,
   "metadata": {},
   "outputs": [],
   "source": [
    "NEG_INF = float(\"-inf\")\n",
    "match_score = 1\n",
    "mismatch_score = -1\n",
    "g = -3\n",
    "s = -2\n",
    "x = \"CAATATG\"\n",
    "y = \"CATA\"\n",
    "\n",
    "def memoize(func):\n",
    "    outputs = dict()\n",
    "    def memoized(arg1, arg2):\n",
    "        if (arg1, arg2) in outputs:\n",
    "            return outputs[(arg1, arg2)]\n",
    "        outputs[(arg1, arg2)] = func(arg1, arg2)\n",
    "        return outputs[(arg1, arg2)]\n",
    "    return memoized\n",
    "\n",
    "def S(i, j):\n",
    "    if i > len(x) or j > len(y):\n",
    "        return NEG_INF\n",
    "    return match_score if x[i - 1] == y[j - 1] else mismatch_score\n",
    "\n",
    "def print_matrix(F):\n",
    "    for i in range(len(x) + 1):\n",
    "        for j in range(len(y) + 1):\n",
    "            print(F(i, j), end=\"\\t\")\n",
    "        print()\n",
    "        \n",
    "def compute_score(stra, strb):\n",
    "    in_gap = False\n",
    "    length = max(len(stra), len(strb))\n",
    "    score = 0\n",
    "    for i in range(length):\n",
    "        if stra[i] == strb[i]:\n",
    "            in_gap = False\n",
    "            score += match_score\n",
    "        elif stra[i] == '-' or strb[i] == '-':\n",
    "            score += s\n",
    "            if in_gap == False:\n",
    "                score += g\n",
    "            in_gap = True\n",
    "        else:\n",
    "            score += mismatch_score\n",
    "    return score"
   ]
  },
  {
   "cell_type": "code",
   "execution_count": 209,
   "metadata": {},
   "outputs": [
    {
     "name": "stdout",
     "output_type": "stream",
     "text": [
      "0\t-2\t-4\t-6\t-8\t\n",
      "-2\t1\t-1\t-3\t-5\t\n",
      "-4\t-1\t2\t0\t-2\t\n",
      "-6\t-3\t0\t1\t1\t\n",
      "-8\t-5\t-2\t1\t0\t\n",
      "-10\t-7\t-4\t-1\t2\t\n",
      "-12\t-9\t-6\t-3\t0\t\n",
      "-14\t-11\t-8\t-5\t-2\t\n"
     ]
    }
   ],
   "source": [
    "@memoize\n",
    "def F(i, j):\n",
    "    if i == 0 or j == 0:\n",
    "        return s * (i + j)\n",
    "    return max(\n",
    "        F(i - 1, j - 1) + S(i, j),\n",
    "        F(i - 1, j) + s,\n",
    "        F(i, j - 1) + s,\n",
    "    ) \n",
    "\n",
    "print_matrix(F)"
   ]
  },
  {
   "cell_type": "code",
   "execution_count": 210,
   "metadata": {
    "collapsed": true,
    "nbgrader": {
     "grade": false,
     "grade_id": "cell-20a6640bc4fe8616",
     "locked": false,
     "schema_version": 1,
     "solution": true
    }
   },
   "outputs": [],
   "source": [
    "global_linear_opt_score = -2\n",
    "\n",
    "global_linear_opt_alignments = [\n",
    "    [\n",
    "        \"CAATATG\",\n",
    "        \"CA-TA--\"\n",
    "    ],\n",
    "    [\n",
    "        \"CAATATG\",\n",
    "        \"C-ATA--\"\n",
    "    ]\n",
    "]\n",
    "\n",
    "global_linear_last_row = [-14, -11, -8, -5]"
   ]
  },
  {
   "cell_type": "code",
   "execution_count": 211,
   "metadata": {
    "collapsed": true,
    "deletable": false,
    "editable": false,
    "nbgrader": {
     "grade": true,
     "grade_id": "global_linear_opt_score",
     "locked": true,
     "points": 1,
     "schema_version": 1,
     "solution": false
    },
    "scrolled": false
   },
   "outputs": [],
   "source": [
    "# tests for global_linear_opt_score\n",
    "assert isinstance(global_linear_opt_score, int)\n",
    "###\n",
    "### AUTOGRADER TEST - DO NOT REMOVE\n",
    "###\n"
   ]
  },
  {
   "cell_type": "code",
   "execution_count": 212,
   "metadata": {
    "collapsed": true,
    "deletable": false,
    "editable": false,
    "nbgrader": {
     "grade": true,
     "grade_id": "global_linear_opt_alignments",
     "locked": true,
     "points": 1,
     "schema_version": 1,
     "solution": false
    },
    "scrolled": false
   },
   "outputs": [],
   "source": [
    "# test for global_linear_opt_alignments\n",
    "assert isinstance(global_linear_opt_alignments, list)\n",
    "###\n",
    "### AUTOGRADER TEST - DO NOT REMOVE\n",
    "###\n"
   ]
  },
  {
   "cell_type": "code",
   "execution_count": 213,
   "metadata": {
    "collapsed": true,
    "deletable": false,
    "editable": false,
    "nbgrader": {
     "grade": true,
     "grade_id": "global_linear_last_row_entry_0",
     "locked": true,
     "points": 0.25,
     "schema_version": 1,
     "solution": false
    },
    "scrolled": false
   },
   "outputs": [],
   "source": [
    "# test for global_linear_last_row_entry_0\n",
    "assert isinstance(global_linear_last_row[0], int)\n",
    "###\n",
    "### AUTOGRADER TEST - DO NOT REMOVE\n",
    "###\n"
   ]
  },
  {
   "cell_type": "code",
   "execution_count": 214,
   "metadata": {
    "collapsed": true,
    "deletable": false,
    "editable": false,
    "nbgrader": {
     "grade": true,
     "grade_id": "global_linear_last_row_entry_1",
     "locked": true,
     "points": 0.25,
     "schema_version": 1,
     "solution": false
    },
    "scrolled": false
   },
   "outputs": [],
   "source": [
    "# test for global_linear_last_row_entry_1\n",
    "assert isinstance(global_linear_last_row[1], int)\n",
    "###\n",
    "### AUTOGRADER TEST - DO NOT REMOVE\n",
    "###\n"
   ]
  },
  {
   "cell_type": "code",
   "execution_count": 215,
   "metadata": {
    "collapsed": true,
    "deletable": false,
    "editable": false,
    "nbgrader": {
     "grade": true,
     "grade_id": "global_linear_last_row_entry_2",
     "locked": true,
     "points": 0.25,
     "schema_version": 1,
     "solution": false
    },
    "scrolled": false
   },
   "outputs": [],
   "source": [
    "# test for global_linear_last_row_entry_2\n",
    "assert isinstance(global_linear_last_row[2], int)\n",
    "###\n",
    "### AUTOGRADER TEST - DO NOT REMOVE\n",
    "###\n"
   ]
  },
  {
   "cell_type": "code",
   "execution_count": 216,
   "metadata": {
    "collapsed": true,
    "deletable": false,
    "editable": false,
    "nbgrader": {
     "grade": true,
     "grade_id": "global_linear_last_row_entry_3",
     "locked": true,
     "points": 0.25,
     "schema_version": 1,
     "solution": false
    },
    "scrolled": false
   },
   "outputs": [],
   "source": [
    "# test for global_linear_last_row_entry_3\n",
    "assert isinstance(global_linear_last_row[3], int)\n",
    "###\n",
    "### AUTOGRADER TEST - DO NOT REMOVE\n",
    "###\n"
   ]
  },
  {
   "cell_type": "markdown",
   "metadata": {
    "deletable": false,
    "editable": false,
    "nbgrader": {
     "grade": false,
     "grade_id": "cell-4cbc0a5ad85897c2",
     "locked": true,
     "schema_version": 1,
     "solution": false
    }
   },
   "source": [
    "### PROBLEM 2: Local alignment with linear gap penalty (3 POINTS)\n",
    "\n",
    "Align the sequences by hand using the Smith–Waterman algorithm (local alignment with linear gap penalty).  Use the following scoring scheme:\n",
    "* Match: +1\n",
    "* Mismatch: -1\n",
    "* Space: -2\n",
    "\n",
    "To submit your solution, do the following variable assignments in the solution cell below:\n",
    "\n",
    "* assign to the variable `local_linear_opt_score` the optimal alignment *score* \n",
    "* assign to the variable `local_linear_opt_alignments` a *list* of *all* alignments that achieve that optimal score\n",
    "* assign to the variable `local_linear_last_row` a *list* representing the entries in the last row of the dynamic programming matrix."
   ]
  },
  {
   "cell_type": "code",
   "execution_count": 217,
   "metadata": {},
   "outputs": [
    {
     "name": "stdout",
     "output_type": "stream",
     "text": [
      "0\t0\t0\t0\t0\t\n",
      "0\t1\t0\t0\t0\t\n",
      "0\t0\t2\t0\t1\t\n",
      "0\t0\t1\t1\t1\t\n",
      "0\t0\t0\t2\t0\t\n",
      "0\t0\t1\t0\t3\t\n",
      "0\t0\t0\t2\t1\t\n",
      "0\t0\t0\t0\t1\t\n"
     ]
    }
   ],
   "source": [
    "@memoize\n",
    "def F(i, j):\n",
    "    if i == 0 or j == 0:\n",
    "        return 0\n",
    "    return max(\n",
    "        F(i - 1, j - 1) + S(i, j),\n",
    "        F(i - 1, j) + s,\n",
    "        F(i, j - 1) + s,\n",
    "        0\n",
    "    ) \n",
    "\n",
    "print_matrix(F)"
   ]
  },
  {
   "cell_type": "code",
   "execution_count": 218,
   "metadata": {
    "collapsed": true,
    "nbgrader": {
     "grade": false,
     "grade_id": "cell-1fad94222ab0532a",
     "locked": false,
     "schema_version": 1,
     "solution": true
    }
   },
   "outputs": [],
   "source": [
    "local_linear_opt_score = 3\n",
    "\n",
    "local_linear_opt_alignments = [[\n",
    "    \"ATA\",\n",
    "    \"ATA\"\n",
    "]]\n",
    "\n",
    "local_linear_last_row = [0, 0, 0, 0]"
   ]
  },
  {
   "cell_type": "code",
   "execution_count": 219,
   "metadata": {
    "collapsed": true,
    "deletable": false,
    "editable": false,
    "nbgrader": {
     "grade": true,
     "grade_id": "local_linear_opt_score",
     "locked": true,
     "points": 1,
     "schema_version": 1,
     "solution": false
    },
    "scrolled": true
   },
   "outputs": [],
   "source": [
    "# tests for local_linear_opt_score\n",
    "assert isinstance(local_linear_opt_score, int)\n",
    "###\n",
    "### AUTOGRADER TEST - DO NOT REMOVE\n",
    "###\n"
   ]
  },
  {
   "cell_type": "code",
   "execution_count": 220,
   "metadata": {
    "collapsed": true,
    "deletable": false,
    "editable": false,
    "nbgrader": {
     "grade": true,
     "grade_id": "local_linear_opt_alignments",
     "locked": true,
     "points": 1,
     "schema_version": 1,
     "solution": false
    },
    "scrolled": false
   },
   "outputs": [],
   "source": [
    "# test for local_linear_opt_alignments\n",
    "assert isinstance(local_linear_opt_alignments, list)\n",
    "###\n",
    "### AUTOGRADER TEST - DO NOT REMOVE\n",
    "###\n"
   ]
  },
  {
   "cell_type": "code",
   "execution_count": 221,
   "metadata": {
    "collapsed": true,
    "deletable": false,
    "editable": false,
    "nbgrader": {
     "grade": true,
     "grade_id": "local_linear_last_row_entry_0",
     "locked": true,
     "points": 0.25,
     "schema_version": 1,
     "solution": false
    },
    "scrolled": false
   },
   "outputs": [],
   "source": [
    "# test for local_linear_last_row_entry_0\n",
    "assert isinstance(local_linear_last_row[0], int)\n",
    "###\n",
    "### AUTOGRADER TEST - DO NOT REMOVE\n",
    "###\n"
   ]
  },
  {
   "cell_type": "code",
   "execution_count": 222,
   "metadata": {
    "collapsed": true,
    "deletable": false,
    "editable": false,
    "nbgrader": {
     "grade": true,
     "grade_id": "local_linear_last_row_entry_1",
     "locked": true,
     "points": 0.25,
     "schema_version": 1,
     "solution": false
    },
    "scrolled": false
   },
   "outputs": [],
   "source": [
    "# test for local_linear_last_row_entry_1\n",
    "assert isinstance(local_linear_last_row[1], int)\n",
    "###\n",
    "### AUTOGRADER TEST - DO NOT REMOVE\n",
    "###\n"
   ]
  },
  {
   "cell_type": "code",
   "execution_count": 223,
   "metadata": {
    "collapsed": true,
    "deletable": false,
    "editable": false,
    "nbgrader": {
     "grade": true,
     "grade_id": "local_linear_last_row_entry_2",
     "locked": true,
     "points": 0.25,
     "schema_version": 1,
     "solution": false
    },
    "scrolled": false
   },
   "outputs": [],
   "source": [
    "# test for local_linear_last_row_entry_2\n",
    "assert isinstance(local_linear_last_row[0], int)\n",
    "###\n",
    "### AUTOGRADER TEST - DO NOT REMOVE\n",
    "###\n"
   ]
  },
  {
   "cell_type": "code",
   "execution_count": 224,
   "metadata": {
    "collapsed": true,
    "deletable": false,
    "editable": false,
    "nbgrader": {
     "grade": true,
     "grade_id": "local_linear_last_row_entry_3",
     "locked": true,
     "points": 0.25,
     "schema_version": 1,
     "solution": false
    },
    "scrolled": false
   },
   "outputs": [],
   "source": [
    "# test for local_linear_last_row_entry_3\n",
    "assert isinstance(local_linear_last_row[0], int)\n",
    "###\n",
    "### AUTOGRADER TEST - DO NOT REMOVE\n",
    "###\n"
   ]
  },
  {
   "cell_type": "markdown",
   "metadata": {
    "deletable": false,
    "editable": false,
    "nbgrader": {
     "grade": false,
     "grade_id": "cell-55189aaf6eaad576",
     "locked": true,
     "schema_version": 1,
     "solution": false
    }
   },
   "source": [
    "### PROBLEM 3: Global alignment with affine gap penalty (3 POINTS)\n",
    "\n",
    "Align the sequences by hand using the global alignment with affine gap penalty algorithm.  Use the following scoring scheme:\n",
    "* Match: +1\n",
    "* Mismatch: -1\n",
    "* Gap: -3\n",
    "* Space: -2\n",
    "\n",
    "To submit your solution, do the following variable assignments in the solution cell below:\n",
    "\n",
    "* assign to the variable `global_affine_opt_score` the optimal alignment *score* \n",
    "* assign to the variable `global_affine_opt_alignments` a *list* of *all* alignments that achieve that optimal score\n",
    "* assign to the variable `global_affine_last_row` a *list* representing the entries in the last row of the dynamic programming matrix.\n",
    "\n",
    "For the last row, we will imagine that the three matrices, $M$, $I_x$, and $I_y$ have been collapsed into a single matrix, where the entry in each cell of the collapsed matrix has the entries from the three matrices represented as a tuple.  That is, if $C$ is the collapsed matrix, then $C[i, j] = (M[i,j], I_x[i,j], I_y[i,j])$."
   ]
  },
  {
   "cell_type": "code",
   "execution_count": 225,
   "metadata": {
    "collapsed": true,
    "deletable": false,
    "editable": false,
    "nbgrader": {
     "grade": false,
     "grade_id": "cell-895d65f931b27e48",
     "locked": true,
     "schema_version": 1,
     "solution": false
    }
   },
   "outputs": [],
   "source": [
    "# Constant variable with the value of negative infinity to use in specifying entries of the last row\n",
    "NEG_INF = float(\"-inf\")"
   ]
  },
  {
   "cell_type": "code",
   "execution_count": 226,
   "metadata": {},
   "outputs": [
    {
     "name": "stdout",
     "output_type": "stream",
     "text": [
      "0\t-inf\t-inf\t-inf\t-inf\t\n",
      "-inf\t1\t-6\t-8\t-10\t\n",
      "-inf\t-6\t2\t-5\t-5\t\n",
      "-inf\t-8\t-3\t1\t-2\t\n",
      "-inf\t-10\t-7\t-2\t0\t\n",
      "-inf\t-12\t-7\t-6\t-1\t\n",
      "-inf\t-14\t-11\t-6\t-7\t\n",
      "-inf\t-16\t-13\t-10\t-7\t\n",
      "\n",
      "-3\t-inf\t-inf\t-inf\t-inf\t\n",
      "-5\t-inf\t-inf\t-inf\t-inf\t\n",
      "-7\t-4\t-11\t-13\t-15\t\n",
      "-9\t-6\t-3\t-10\t-10\t\n",
      "-11\t-8\t-5\t-4\t-7\t\n",
      "-13\t-10\t-7\t-6\t-5\t\n",
      "-15\t-12\t-9\t-8\t-6\t\n",
      "-17\t-14\t-11\t-10\t-8\t\n",
      "\n",
      "-3\t-5\t-7\t-9\t-11\t\n",
      "-inf\t-inf\t-4\t-6\t-8\t\n",
      "-inf\t-inf\t-11\t-3\t-5\t\n",
      "-inf\t-inf\t-13\t-8\t-4\t\n",
      "-inf\t-inf\t-15\t-12\t-7\t\n",
      "-inf\t-inf\t-17\t-12\t-11\t\n",
      "-inf\t-inf\t-19\t-16\t-11\t\n",
      "-inf\t-inf\t-21\t-18\t-15\t\n"
     ]
    }
   ],
   "source": [
    "@memoize\n",
    "def M(i, j):\n",
    "    if i == 0 and j == 0:\n",
    "        return 0\n",
    "    if i == 0 or j == 0:\n",
    "        return NEG_INF\n",
    "    return max(\n",
    "        M(i - 1, j - 1) + S(i, j),\n",
    "        Ix(i - 1, j - 1) + S(i, j),\n",
    "        Iy(i - 1, j - 1) + S(i, j),\n",
    "    ) \n",
    "\n",
    "@memoize\n",
    "def Ix(i, j):\n",
    "    if j == 0:\n",
    "        return g + s * i\n",
    "    if i == 0:\n",
    "        return NEG_INF\n",
    "    return max(\n",
    "        M(i - 1, j) + g + s,\n",
    "        Ix(i - 1, j) + s,\n",
    "    ) \n",
    "\n",
    "@memoize\n",
    "def Iy(i, j):\n",
    "    if i == 0:\n",
    "        return g + s * j\n",
    "    if j == 0:\n",
    "        return NEG_INF\n",
    "    return max(\n",
    "        M(i, j - 1) + g + s,\n",
    "        Iy(i, j - 1) + s,\n",
    "    ) \n",
    "\n",
    "print_matrix(M)\n",
    "print()\n",
    "print_matrix(Ix)\n",
    "print()\n",
    "print_matrix(Iy)"
   ]
  },
  {
   "cell_type": "code",
   "execution_count": 227,
   "metadata": {
    "collapsed": true,
    "nbgrader": {
     "grade": false,
     "grade_id": "cell-d39e491fb0cf19d5",
     "locked": false,
     "schema_version": 1,
     "solution": true
    }
   },
   "outputs": [],
   "source": [
    "global_affine_opt_score = -7\n",
    "\n",
    "global_affine_opt_alignments = [\n",
    "    [\n",
    "        \"CAATATG\",\n",
    "        \"C---ATA\"\n",
    "    ],\n",
    "    [\n",
    "        \"CAATATG\", \n",
    "        \"CA---TA\"\n",
    "    ]\n",
    "]\n",
    "\n",
    "global_affine_last_row = [\n",
    "    (NEG_INF, -17, NEG_INF),\n",
    "    (-16, -14, NEG_INF),\n",
    "    (-13, -11, -21),\n",
    "    (-10, -10, -18),\n",
    "]"
   ]
  },
  {
   "cell_type": "code",
   "execution_count": 126,
   "metadata": {
    "collapsed": true,
    "deletable": false,
    "editable": false,
    "nbgrader": {
     "grade": true,
     "grade_id": "global_affine_opt_score",
     "locked": true,
     "points": 1,
     "schema_version": 1,
     "solution": false
    },
    "scrolled": true
   },
   "outputs": [],
   "source": [
    "# tests for global_affine_opt_score\n",
    "assert isinstance(global_affine_opt_score, int)\n",
    "###\n",
    "### AUTOGRADER TEST - DO NOT REMOVE\n",
    "###\n"
   ]
  },
  {
   "cell_type": "code",
   "execution_count": 77,
   "metadata": {
    "collapsed": true,
    "deletable": false,
    "editable": false,
    "nbgrader": {
     "grade": true,
     "grade_id": "global_affine_opt_alignments",
     "locked": true,
     "points": 1,
     "schema_version": 1,
     "solution": false
    },
    "scrolled": false
   },
   "outputs": [],
   "source": [
    "# test for global_affine_opt_alignments\n",
    "assert isinstance(global_affine_opt_alignments, list)\n",
    "###\n",
    "### AUTOGRADER TEST - DO NOT REMOVE\n",
    "###\n"
   ]
  },
  {
   "cell_type": "code",
   "execution_count": 78,
   "metadata": {
    "deletable": false,
    "editable": false,
    "nbgrader": {
     "grade": true,
     "grade_id": "global_affine_last_row_entry_0",
     "locked": true,
     "points": 0.25,
     "schema_version": 1,
     "solution": false
    },
    "scrolled": false
   },
   "outputs": [],
   "source": [
    "# test for global_affine_last_row_entry_0\n",
    "assert isinstance(global_affine_last_row[0], tuple)\n",
    "assert len(global_affine_last_row[0]) == 3\n",
    "###\n",
    "### AUTOGRADER TEST - DO NOT REMOVE\n",
    "###\n"
   ]
  },
  {
   "cell_type": "code",
   "execution_count": 79,
   "metadata": {
    "deletable": false,
    "editable": false,
    "nbgrader": {
     "grade": true,
     "grade_id": "global_affine_last_row_entry_1",
     "locked": true,
     "points": 0.25,
     "schema_version": 1,
     "solution": false
    },
    "scrolled": false
   },
   "outputs": [],
   "source": [
    "# test for global_affine_last_row_entry_1\n",
    "assert isinstance(global_affine_last_row[1], tuple)\n",
    "assert len(global_affine_last_row[1]) == 3\n",
    "###\n",
    "### AUTOGRADER TEST - DO NOT REMOVE\n",
    "###\n"
   ]
  },
  {
   "cell_type": "code",
   "execution_count": 80,
   "metadata": {
    "collapsed": true,
    "deletable": false,
    "editable": false,
    "nbgrader": {
     "grade": true,
     "grade_id": "global_affine_last_row_entry_2",
     "locked": true,
     "points": 0.25,
     "schema_version": 1,
     "solution": false
    },
    "scrolled": false
   },
   "outputs": [],
   "source": [
    "# test for global_affine_last_row_entry_2\n",
    "assert isinstance(global_affine_last_row[2], tuple)\n",
    "assert len(global_affine_last_row[2]) == 3\n",
    "###\n",
    "### AUTOGRADER TEST - DO NOT REMOVE\n",
    "###\n"
   ]
  },
  {
   "cell_type": "code",
   "execution_count": 81,
   "metadata": {
    "collapsed": true,
    "deletable": false,
    "editable": false,
    "nbgrader": {
     "grade": true,
     "grade_id": "global_affine_last_row_entry_3",
     "locked": true,
     "points": 0.25,
     "schema_version": 1,
     "solution": false
    },
    "scrolled": false
   },
   "outputs": [],
   "source": [
    "# test for global_affine_last_row_entry_3\n",
    "assert isinstance(global_affine_last_row[3], tuple)\n",
    "assert len(global_affine_last_row[3]) == 3\n",
    "###\n",
    "### AUTOGRADER TEST - DO NOT REMOVE\n",
    "###\n"
   ]
  }
 ],
 "metadata": {
  "celltoolbar": "Create Assignment",
  "kernelspec": {
   "display_name": "Python 3 [3.6]",
   "language": "python",
   "name": "python3"
  },
  "language_info": {
   "codemirror_mode": {
    "name": "ipython",
    "version": 3
   },
   "file_extension": ".py",
   "mimetype": "text/x-python",
   "name": "python",
   "nbconvert_exporter": "python",
   "pygments_lexer": "ipython3",
   "version": "3.6.4"
  }
 },
 "nbformat": 4,
 "nbformat_minor": 2
}
