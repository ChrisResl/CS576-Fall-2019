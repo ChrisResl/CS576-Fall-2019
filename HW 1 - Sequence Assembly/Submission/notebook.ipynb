{
 "cells": [
  {
   "cell_type": "markdown",
   "metadata": {
    "deletable": false,
    "editable": false,
    "nbgrader": {
     "grade": false,
     "grade_id": "cell-1cfef6f801e46019",
     "locked": true,
     "schema_version": 1,
     "solution": false
    }
   },
   "source": [
    "# BMI/CS 576 HW1\n",
    "The objectives of this homework are to practice\n",
    "\n",
    "* with the basic algorithms for sequence assembly\n",
    "* reasoning about graphs and paths for the sequence assembly task\n",
    "\n",
    "## HW policies\n",
    "Before starting this homework, please read over the [homework policies](https://canvas.wisc.edu/courses/167969/pages/hw-policies) for this course.  In particular, note that homeworks are to be completed *individually*.\n",
    "\n",
    "You are welcome to use any code from the weekly notebooks in your solutions to the HW."
   ]
  },
  {
   "cell_type": "markdown",
   "metadata": {
    "deletable": false,
    "editable": false,
    "nbgrader": {
     "grade": false,
     "grade_id": "cell-b7e70bd885b91622",
     "locked": true,
     "schema_version": 1,
     "solution": false
    }
   },
   "source": [
    "## PROBLEM 1: The greedy algorithm for fragment assembly (60 points)\n",
    "Write a function, `greedy_assemble`, that takes as input a list of read strings and uses the greedy fragment assembly algorithm to output a *single* superstring that contains all reads as substrings. You must use the graph-based (Hamiltonian path) version of the greedy algorithm. We will assume that:\n",
    "1. we are assembling a single-stranded sequence and\n",
    "2. that no read is a substring of any other read.\n",
    "\n",
    "To keep things simple, for this homeowork, we will allow overlaps of any length (including zero).  In practice, for sequence assembly we would typically require some minimum overlap length.\n",
    "\n",
    "### Tie-breaking criteria\n",
    "\n",
    "For the purpose of making this algorithm deterministic, we must establish tiebreaking criteria for edges in the overlap graph that have the same weight. For two edges with the same weight, we will first choose the edge whose source vertex read is first in lexicographical order. If the source vertices are identical, then we choose the edge whose target vertex read is first in lexicographical order. For example, if e1 = ATCGGA → GGAT and e2 = ATCGGA → GGAA, we will attempt to use edge e2 first because GGAA < GGAT according to lexicographical order."
   ]
  },
  {
   "cell_type": "code",
   "execution_count": 2,
   "metadata": {
    "collapsed": true,
    "nbgrader": {
     "grade": false,
     "grade_id": "cell-11ef4347de632758",
     "locked": false,
     "schema_version": 1,
     "solution": true
    }
   },
   "outputs": [],
   "source": [
    "# Code for PROBLEM 1\n",
    "# You are welcome to develop your code as a separate Python module\n",
    "# and import it here if that is more convenient for you.\n",
    "import itertools\n",
    "import queue\n",
    "from operator import itemgetter\n",
    "\n",
    "class Graph:\n",
    "    def __init__(self, vertices):\n",
    "        self.out_edges = {v : [] for v in vertices}\n",
    "        self.in_edges = {v : [] for v in vertices}\n",
    "        self.num_edges = 0\n",
    "    \n",
    "    def add_edge(self, i, j):\n",
    "        self.out_edges[i].append(j)\n",
    "        self.in_edges[j].append(i)\n",
    "        self.num_edges += 1\n",
    "    \n",
    "    def indegree(self, i):\n",
    "        return len(self.in_edges[i])\n",
    "        \n",
    "    def outdegree(self, i):\n",
    "        return len(self.out_edges[i])\n",
    "    \n",
    "    def is_connected(self, start, end):\n",
    "        out_vertices = self.out_edges[start]\n",
    "        while out_vertices:\n",
    "            v = out_vertices[0]\n",
    "            if v == end:\n",
    "                return True\n",
    "            out_vertices = self.out_edges[v]\n",
    "        return False\n",
    "    \n",
    "    def get_path(self, start):\n",
    "        path = [start]\n",
    "        out_vertices = self.out_edges[start]\n",
    "        while out_vertices:\n",
    "            v = out_vertices[0]\n",
    "            path.append(v)\n",
    "            out_vertices = self.out_edges[v]\n",
    "        return path\n",
    "\n",
    "    \n",
    "def overlap_length(left, right):    \n",
    "    length = min(len(left), len(right))\n",
    "    return next((i for i in range(length, 0, -1) if left.endswith(right[:i])), 0)\n",
    "\n",
    "    \n",
    "def merge_ordered_reads(reads):\n",
    "    result = \"\"\n",
    "    \n",
    "    for read in reads:\n",
    "        result += read[overlap_length(result, read):]\n",
    "        \n",
    "    return result \n",
    "\n",
    "\n",
    "def greedy_assemble(reads):\n",
    "    \"\"\"Assembles a set of reads using the graph-based greedy algorithm.\n",
    "    \n",
    "    Args:\n",
    "        reads: a list of strings\n",
    "    Returns:\n",
    "        A string that is a superstring of the input reads\n",
    "    \"\"\"\n",
    "    q = queue.PriorityQueue()\n",
    "    for (u, v) in itertools.permutations(reads, 2):\n",
    "        q.put((-overlap_length(u, v), u, v))\n",
    "    \n",
    "    g = Graph(reads)\n",
    "    \n",
    "    length = len(reads)\n",
    "    while g.num_edges < length - 1:\n",
    "        _, u, v = q.get()\n",
    "        if g.outdegree(u) == 0 and g.indegree(v) == 0 and not g.is_connected(v, u):\n",
    "            g.add_edge(u, v)\n",
    "        \n",
    "    \n",
    "    start = next(e for e in reads if g.indegree(e) == 0)\n",
    "    path = g.get_path(start)\n",
    "    return merge_ordered_reads(path)"
   ]
  },
  {
   "cell_type": "markdown",
   "metadata": {
    "deletable": false,
    "editable": false,
    "nbgrader": {
     "grade": false,
     "grade_id": "cell-4420925e7c715bff",
     "locked": true,
     "schema_version": 1,
     "solution": false
    }
   },
   "source": [
    "Tests for `greedy_assemble` are provided at the bottom of this notebook."
   ]
  },
  {
   "cell_type": "markdown",
   "metadata": {
    "deletable": false,
    "editable": false,
    "nbgrader": {
     "grade": false,
     "grade_id": "cell-83f65a46d5679261",
     "locked": true,
     "schema_version": 1,
     "solution": false
    }
   },
   "source": [
    "## PROBLEM 2: Assembling a small subset of Ebola virus reads (10 points)"
   ]
  },
  {
   "cell_type": "markdown",
   "metadata": {
    "deletable": false,
    "editable": false,
    "nbgrader": {
     "grade": false,
     "grade_id": "cell-88391004f10fc368",
     "locked": true,
     "schema_version": 1,
     "solution": false
    }
   },
   "source": [
    "Included with this notebook is the file `ebola_reads.txt` which is small subset of the Illumina reads used to assemble the genome of an isolate of the Ebola virus, which caused a major epidemic in West Africa. \n",
    "\n",
    "Use your greedy assemble function to assemble these reads. Once correctly assembled, these reads form a short segment of the genome of this virus. To allow your assembler to succeed, the reads have been cleaned of errors and have have been oriented so that they all come from the same strand of the genome.  You may find the following function below of use, which produces a list of reads from the contents of a file."
   ]
  },
  {
   "cell_type": "code",
   "execution_count": 3,
   "metadata": {
    "collapsed": true,
    "deletable": false,
    "editable": false,
    "nbgrader": {
     "grade": false,
     "grade_id": "cell-4781468a16877496",
     "locked": true,
     "schema_version": 1,
     "solution": false
    }
   },
   "outputs": [],
   "source": [
    "def read_strings_from_file(filename):\n",
    "    return [line.rstrip() for line in open(filename)]"
   ]
  },
  {
   "cell_type": "code",
   "execution_count": 5,
   "metadata": {
    "nbgrader": {
     "grade": false,
     "grade_id": "cell-d08017f16c0169bf",
     "locked": false,
     "schema_version": 1,
     "solution": true
    }
   },
   "outputs": [
    {
     "data": {
      "text/plain": [
       "'ATTAAGAAAAACTGCTTATTGGGTCTTTCCGTGTTTTAGATGAAGCAGTTGACATTCTTCCTCTTGATATTAAATGGCTACACAACATACCCAATACCCAGACGCCAGGTTATCATCACCAATTGTATTGGACCAATGTGACCTTGTCACTAGAGCTTGCGGGTTGTATTCATCATACTCCCTTAATCCGCAACTACGCAACTGTAAACTCCCGAAACATATATACCGTTTAAAATATGATGTAACTGTTACCAAGTTCTTAAGTGATGTACCAGTGGCGACATTGCCCATAGATTTCATAGTCCCAATTCTTCTCAAGGCACTATCAGGCAATGGGTTCTGTCCTGTTGAGCCGCGGTGCCAACAGTTCTTAGATGAAATTATTAAGTACACAATGCAAGATGCTCTCTTCCTGAAATATTATCTCAAAAATGTGGGTGCTCAAGAAGACTGTGTTGATGACCACTTTCAAGAAAAAATCTTATCTTCAATTCAGGGCAATGAATTTTTACATCAAATGTTTTTCTGGTATGACCTGGCTATTTTAACTCGAAGGGGTAGATTAAATCGAGGAAACTCTAGATCAACGTGGTTTGTTCATGATGATTTAATAGACATCTTAGGCTATGGGGACTATGTTTTTTGGAAGATCCCAATTTCACTGTTACCACTGAACACACAAGGAATCCCCCATGCTGCTATGGATTGGTATCAGACATCAGTATTCAAAGAAGCGGTTCAAGGGCATACACACATTGTTTCTGTTTCTACTGCCGATGTCTTGATAATGTGCAAAGATTTAATTACATGTCGATTCAACACAACTCTAATCTCAAAAATAGCAGAGGTTGAGGACCCAGTTTGCTCTGATTATCCCAATTTTAAGATTGTGTCTATGCTTTACCAGAGCGGAGATTACTTACTCTCCATATTAGGGTCTGATGGGTATAAAATCATTAAGTTTCTCGAACCATTGTGCTTGGCTAAAATTCAATTGTGCTCAAAGTACACCGAGAGGAAGGGCCGATTCTTAACACAAATGCATTTAGCTGTAAATCACACCCTGGAAGAAATTACAGAAATACGTGCACTAAAGCCTTCACAGGCTCACAAGATCCGTGAATTCCATAGAACATTGATAAGGCTGGAGATGACGCCACAACAACTTTGTGAGCTATTTTCCATACAAAAACACTGGGGGCATCCTGTGCTACATAGTGAAACAGCAATCCAAAAAGTTAAAAAACATGCTACGGTGCTAAAAGCATTACGCCCTATCGTGATTTTCGAGACATATTGTGTTTTTAAATATAGCATTGCAAAACATTATTTTGATAGTCAAGGATCTTGGTACAGTGTTACCTCAGATAGAAATCTAACACCAGGTCTTAATTCTTATATCAAAAGAAATCAATTCCCTCCGTTGCCAATGATTAAAGAACTGCTATGGGAATTTTACCACCTTGACCATCCTCCACTTTTCTCAACCAAAATTATTAGTGACTTAAGTATTTTTATAAAAGACAGAGCTACTGCAGTAGAAAGGACATGCTGGGATGCAGTATTCGAGCCTAATGTTCTGGGATATAATCCACCTCACAAATTCAGTACCAAACGTGTACCGGAACAATTTTTAGAGCAAGAAAACTTTTCTATTGAGAATGTTCTTTCCTACGCGCAAAAACTCGAGTATCTACTACCACAATATCGGAATTTTTCTTTCTCATTGAAAGAGAAAGAGTTGAATGTAGGTAGAACTTTCGGAAAATTGCCTTATCCGACTCGCAATGTTCAAACACTTTGTGAAGCTCTGTTAGCTGATGGTCTTGCTAAAGCATTTCCTAGCAATATGATGGTAGTTACGGAACGTGAACAAAAAGAAAGCTTATTGCATCAAGCATCATGGCACCACACAAGTGATGATTTCGGTGAGCATGCCACAGTTAGAGGGAGTAGCTTTGTAACTGATTTAGAGAAATACAATCTTGCATTTAGGTATGAGTTTACAGCACCTTTTATAGAATATTGCAACCGTTGCTATGGTGTTAAGAATGTTTTTAATTGGATGCATTATACAATCCCACAGTGTTATATGCATGTCAGTGATTATTATAATCCACCGCATAACCTCACACTGGAAAATCGAAACAACCCCCCTGAAGGGCCTAGTTCATACAGGGGTCATATGGGAGGGATTGAAGGACTGCAACAAAAACTCTGGACAAGTATTTCATGTGCTCAAATTTCTTTAGTTGAAATTAAGACTGGTTTTAAGTTGCGCTCAGCTGTGATGGGTGACAATCAGTGCATTACCGTTTTATCAGTCTTCCCCTTAGAGACTGATGCAGGCGAGCAGGAACAGAGCGCCGAGGACAATGCAGCGAGGGTGGCCGCCAGCCTAGCAAAAGTTACAAGTGCCTGTGGAATCTTTTTAAAACCTGATGAAACATTTGTACATTCAGGTTTTATCTATTTTGGAAAAAAACAATATTTGAATGGGGTCCAATTGCCTCAGTCCCTTAAAACGGCTACAAGAATGGCACCATTGTCTGATGCAATTTTTGATGATCTTCAAGGGACCCTGGCTAGTATAGGTACTGCTTTTGAGCGATCCATCTCTGAGACACGACATATCTTTCCTTGCAGAATAACCGCAGCTTTCCATACGTTCTTTTCGGTGAGAATCTTGCAATATCATCACCTCGGATTTAATAAAGGTTTTGACCTTGGACAGTTAACACTCGGCAAACCTCTGGATTTCGGAACAATATCATTGGCACTAGCGGTACCGCAGGTGCTTGGAGGGTTATCCTTCTTGAATCCTGAGAAATGTTTCTACCGGAATCTAGGAGATCCAGTTACCTCAGGTTTATTCCAGTTAAAAACTTATCTCCGAATGATTGAGATGGATGATTTATTCTTACCTTTAATTGCGAAGAACCCTGGGAACTGCACTGCCATTGACTTTGTGCTAAATCCTAGCGGATTAAATGTTCCTGGGTCGCAAGACTTAACTTCATTTCTGCGCCAGATTGTACGTAGGACTATCACCCTAAGTGCGAAAAACAAACTTATTAATACCTTATTTCATGCATCAGCTGACTTCGAAGACGAAATGGTTTGTAAGTGGCTCTTATCATCAACTCCTGTTATGAGTCGTTTCGCAGCCGATATATTTTCACGCACGCCGAGCGGGAAGCGATTGCAAATTCTAGGATACTTGGAAGGAACACGCACATTATTAGCCTCTAAGATCATCAACAATAATACAGAGACGCCGGTTTTGGACAGACTGAGGAAGATAACATTGCAAAGGTGGAGTCTATGGTTTAGTTATCTTGATCATTGTGATAATATCCTGGCGGAGGCTTTAACCCAAATAACTTGCACAGTTGATTTAGCACAGATCCTGAGGGAATATTCATGGGCACATATTTTAGAGGGGAGACCTCTTATTGGAGCCACACTCCCATGTATGATTGAGCAATTCAAAGTGGTTTGGCTGAAACCCTACGAACAATGTCCGCAGTGTTCAAATGCCAAGCAACCTGGTGGGAAACCATTCGTGTCAGTAGCAGTCAAGAAACATATTGTTAGTGCATGGCCAAATGCATCCCGAATAAGCTGGACTATCGGGGATGGAATCCCATACATTGGATCAAGGACAGAAGATAAGATAGGGCAACCTGCTATTAAACCAAAATGTCCTTCCGCAGCCTTAAGAGAGGCCATTGAATTGGCGTCCCGTTTAACATGGGTAACTCAAGGCAGTTCGAACAGTGACTTGCTAATAAAACCATTTTTGGAAGCACGAGTAAATTTAAGTGTTCAAGAAATACTTCAAATGACCCCTTCACATTACTCGGGAAATATTGTTCATAGGTACAACGATCAATACAGTCCTCATTCTTTCATGGCCAATCGTATGAGTAACTCAGCAACGCGATTGATTGTTTCTACAAACACTTTAGGTGAGTTTTCAGGAGGTGGCCAATCGGCACGCGACAGCAATATTATTTTCCAGAATGTTATAAATTATGCAGTTGCACTGTTCGATATTAAATTTAGAAACACTGAGGCTACAGATATCCAGTATAATCGTGCTCACCTTCATCTAACTAAGTGTTGCACCCGGGAGGTACCAGCTCAGTACTTAACATACACATCTACATTGGATTTAGATTTAACAAGATACCGAGAAAATGAATTGATTTATGACAATAATCCTCTAAAAGGAGGACTCAATTGCAATATCTCATTTGATAACCCATTTTTCCAAGGCAAACAGCTGAACATTATAGAAGATGACCTTATTCGACTGCCTCACTTATCTGGATGGGAGCTAGCTAAGACCATCATGCAATCAATTATTTCAGATAGCAATAATTCGTCTACAGACCCAATTAGCAGTGGAGAAACAAGATCATTCACTACCCATTTCTTAACTTATCCCAAAATAGGACTTCTGTACAGTTTTGGGGCCTTTGTAAGTTATTATCTTGGCAATACAATTCTTCGGACTAAGAAATTAACACTTGACAATTTTTTATATTACTTAACTACCCAAATTCATAATCTACCACATCGCTCATTGCGAATACTTAAGCCAACATTCAAACATGCAAGCGTTATGTCACGATTAATGAGTATTGATCCCCATTTTTCTATTTACATAGGCGGTGCTGCAGGTGACAGAGGACTCTCAGATGCGGCCAGGTTATTTTTGAGAACGTCCATTTCATCTTTTCTTACATTTGTAAAGGAATGGATAATTAATCGCGGAACAATTGTCCCTTTATGGATAGTATATCCATTAGAGGGTCAAAATCCAACACCTGTTAATAATTTCCTCCATCAGATCGTAGAACTGCTGGTGCATGATTCATCAAGACACCAGGCTTTTAAAACTACCATAAATGATCATGTACATCCTCACGACAATCTTGTTTACACATGTAAGAGTACAGCCAGCAATTTCTTCCATGCGTCATTGGCGTACTGGAGGAGCAGGCACAGAAACAGCAACCGAAAAGACTTGACAAGAAACTCTTCAACTGGATCAAGCACAAACAACAGTGATGGTCATATTAAGAGAAGTCAAGAACAAACCACCAGAGATCCACATGATGGCACTGAACGGAGTCTAGTCCTGCAAATGAGCCATGAAATAAAAAGAACGACAATTCCACAAGAGAACACGCACCAGGGTCCGTCGTTCCAGTCATTTCTAAGTGACTCTGCTTGCGGTACAGCAAACCCAAAACTAAATTTCGATAGATCGAGACACAATGTGAAATCTCAGGATCATAACTCAGCATCCAAGAGGGAAGGTCATCAAATAATCTCACATCGTCTAGTCCTACCTTTCTTTACATTATCTCAAGGGACACGCCAATTAACGTCATCCAATGAGTCACAAACCCAAGATGAGATATCAAAGTACTTACGGCAATTGAGATCCGTCATTGATACCACAGTTTATTGTAGGTTTACCGGTATAGTCTCGTCCATGCATTACAAACTTGATGAGGTCCTTTGGGAAATAGAGAATTTTAAGTCGGCTGTGACGCTGGCAGAGGGAGAAGGTGCTGGTGCCTTACTATTGATTCAGAAATACCAAGTTAAGACCTTATTCTTCAACACGCTAGCTACTGAGTCCAGTATAGAGTCAGAAATAGTATCAGGAATGACTACTCCTAGGATGCTTCTACCTGTTATGTCAAAATTCCATAATGACCAAATTGAGATTATTCTTAACAACTCAGCAAGCCAAATAACAGACATAACAAATCCTACTTGGTTTAAAGACCAAAGAGCAAGGCTACCTAGGCAAGTCGAGGTTATAACCATGGATGCAGAGACGACAGAGAATATAAACAGATCGAAATTGTACGAAGCTGTACATAAATTGATCTTACACCATGTTGATCCCAGCGTATTGAAAGCAGTGGTCCTTAAAGTCTTTCTAAGTGATACCGAGGGTATGTTATGGCTAAATGATAATCTAGCCCCGTTTTTTGCCACTGGGTATTTAATTAAGCCAATAACGTCAAGTGCCAGGTCTAGTGAGTGGTATCTTTGTCTGACGAACTTCTTATCAACTACACGTAAGATGCCACACCAAAACCATCTCAGTTGTAAGCAGGTAATACTTACGGCATTGCAACTGCAAATTCAACGGAGCCCATACTGGCTAAGTCATTTAACTCAGTATGCTGACTGCGATTTACATTTAAGCTATATCCGCCTTGGTTTTCCATCATTAGAGAAAGTACTATACCACAGGTATAACCTTGTCGATTCAAAAAGAGGTCCACTAGTCTCTGTCACTCAGCACTTAGCACATCTTAGGGCAGAGATTCGAGAATTGACCAATGATTATAATCAACAGCGACAAAGTCGGACTCAAACATATCACTTTATTCGTACTGCAAAAGGACGAATCACAAAACTAGTCAATGATTATTTAAAATTCTTTCTTATTGTACAAGCATTAAAACATAATGGGACATGGCAAGCTGAGTTTAAGAAATTACCAGAGTTGATTAGTGTGTGCAATAGGTTCTATCATATTAGAGATTGTAATTGTGAAGAACGTTTCTTAGTTCAAACCTTATATTTACATAGAATGCAGGATTCTGAAGTTAAGCTTATCGAAAGGCTGACAGGGCTTCTGAGTTTATTTCCAGATGGTCTCTACAGGTTCGATTGAATAACCGTGCATAGTATTTTGATACTTGTAAAGGTTGGTTATCAACATACAGATTATAAAAAACTCATAAATTGCTCTCATACATCATCTTGATCTGATTTCAATAAATAACTATTTAGATAACGAAAGGAGTCCTTACATTATACACTATATTTGGCCTCTC'"
      ]
     },
     "execution_count": 5,
     "metadata": {},
     "output_type": "execute_result"
    }
   ],
   "source": [
    "###\n",
    "### code for assembling the ebola reads\n",
    "###\n",
    "\n",
    "greedy_assemble(read_strings_from_file(\"ebola_reads.txt\"))"
   ]
  },
  {
   "cell_type": "markdown",
   "metadata": {
    "deletable": false,
    "editable": false,
    "nbgrader": {
     "grade": false,
     "grade_id": "cell-87b98e606eb6267b",
     "locked": true,
     "schema_version": 1,
     "solution": false
    }
   },
   "source": [
    "Once you have assembled the genomic segment, use the [BLAST](https://blast.ncbi.nlm.nih.gov/Blast.cgi) web service to search the NCBI database of proteins with your assembled sequence. You should use BLASTX with its default settings. Based on the results of your BLASTX search, which gene is contained within this genomic segment?"
   ]
  },
  {
   "cell_type": "markdown",
   "metadata": {
    "nbgrader": {
     "grade": true,
     "grade_id": "problem2",
     "locked": false,
     "points": 10,
     "schema_version": 1,
     "solution": true
    }
   },
   "source": [
    "\n",
    "** Zaire ebolavirus **\n"
   ]
  },
  {
   "cell_type": "markdown",
   "metadata": {
    "deletable": false,
    "editable": false,
    "nbgrader": {
     "grade": false,
     "grade_id": "cell-76337bb686267e4c",
     "locked": true,
     "schema_version": 1,
     "solution": false
    }
   },
   "source": [
    "### BONUS CHALLENGE\n",
    "A subset of Illumina reads from an Ebola virus genome sequencing experiment that cover the entire genome are included in the file `ebola_full_genome_reads.txt`. Can you get your code to assemble these reads in under 2 minutes? Sorry, no extra credit here, just personal satisfaction!"
   ]
  },
  {
   "cell_type": "markdown",
   "metadata": {
    "deletable": false,
    "editable": false,
    "nbgrader": {
     "grade": false,
     "grade_id": "cell-21682023e23904ca",
     "locked": true,
     "schema_version": 1,
     "solution": false
    }
   },
   "source": [
    "## PROBLEM 3: SBH graphs and Eulerian paths (20 points) \n",
    "For the following strings, (i) give the k = 3 spectrum for the string, (ii) draw the SBH graph for the spectrum, (iii) give one Eulerian path and its corresponding string for the SBH graph, and (iv) show whether or not there exists an Eulerian path in the graph that corresponds to the original string.\n",
    "\n",
    "(a) ATGGCCTGAATCC\n",
    "\n",
    "(b) ATAGCCTAGCAAT"
   ]
  },
  {
   "cell_type": "code",
   "execution_count": 4,
   "metadata": {
    "collapsed": true
   },
   "outputs": [],
   "source": [
    "from graphviz import Digraph\n",
    "\n",
    "def get_spectrum(string, k):\n",
    "    return {string[i:i+k] for i in range(len(string)-k+1)}\n",
    "    \n",
    "def draw_sbh(spectrum):\n",
    "    g = Digraph(engine='neato')\n",
    "    g.edges((e[:-1], e[1:]) for e in spectrum)\n",
    "    return g\n",
    "\n",
    "def answer_i_ii(string, k, ):\n",
    "    spectrum = get_spectrum(string, k)\n",
    "    print(f\"(i). The spectrum for {string} is {spectrum}\")\n",
    "    print(f\"(ii). The SBH graph for this spectrum is shown below: \")\n",
    "    return draw_sbh(spectrum)"
   ]
  },
  {
   "cell_type": "markdown",
   "metadata": {},
   "source": [
    "### Part (a): ATGGCCTGAATCC"
   ]
  },
  {
   "cell_type": "code",
   "execution_count": 5,
   "metadata": {},
   "outputs": [
    {
     "name": "stdout",
     "output_type": "stream",
     "text": [
      "(i). The spectrum for ATGGCCTGAATCC is {'GCC', 'TCC', 'TGG', 'CTG', 'GAA', 'ATG', 'AAT', 'TGA', 'GGC', 'ATC', 'CCT'}\n",
      "(ii). The SBH graph for this spectrum is shown below: \n"
     ]
    },
    {
     "data": {
      "image/svg+xml": [
       "<?xml version=\"1.0\" encoding=\"UTF-8\" standalone=\"no\"?>\n",
       "<!DOCTYPE svg PUBLIC \"-//W3C//DTD SVG 1.1//EN\"\n",
       " \"http://www.w3.org/Graphics/SVG/1.1/DTD/svg11.dtd\">\n",
       "<!-- Generated by graphviz version 2.38.0 (20140413.2041)\n",
       " -->\n",
       "<!-- Title: %3 Pages: 1 -->\n",
       "<svg width=\"249pt\" height=\"279pt\"\n",
       " viewBox=\"0.00 0.00 249.10 279.26\" xmlns=\"http://www.w3.org/2000/svg\" xmlns:xlink=\"http://www.w3.org/1999/xlink\">\n",
       "<g id=\"graph0\" class=\"graph\" transform=\"scale(1 1) rotate(0) translate(130.611 137.797)\">\n",
       "<title>%3</title>\n",
       "<polygon fill=\"white\" stroke=\"none\" points=\"-130.611,141.467 -130.611,-137.797 118.494,-137.797 118.494,141.467 -130.611,141.467\"/>\n",
       "<!-- GC -->\n",
       "<g id=\"node1\" class=\"node\"><title>GC</title>\n",
       "<ellipse fill=\"none\" stroke=\"black\" cx=\"35.3829\" cy=\"-115.797\" rx=\"27\" ry=\"18\"/>\n",
       "<text text-anchor=\"middle\" x=\"35.3829\" y=\"-112.097\" font-family=\"Times,serif\" font-size=\"14.00\">GC</text>\n",
       "</g>\n",
       "<!-- CC -->\n",
       "<g id=\"node2\" class=\"node\"><title>CC</title>\n",
       "<ellipse fill=\"none\" stroke=\"black\" cx=\"86.6824\" cy=\"-46.9834\" rx=\"27\" ry=\"18\"/>\n",
       "<text text-anchor=\"middle\" x=\"86.6824\" y=\"-43.2834\" font-family=\"Times,serif\" font-size=\"14.00\">CC</text>\n",
       "</g>\n",
       "<!-- GC&#45;&gt;CC -->\n",
       "<g id=\"edge1\" class=\"edge\"><title>GC&#45;&gt;CC</title>\n",
       "<path fill=\"none\" stroke=\"black\" d=\"M47.5401,-99.4889C53.8011,-91.0904 61.5614,-80.6807 68.517,-71.3505\"/>\n",
       "<polygon fill=\"black\" stroke=\"black\" points=\"71.4416,-73.2833 74.6124,-63.1741 65.8295,-69.0995 71.4416,-73.2833\"/>\n",
       "</g>\n",
       "<!-- CT -->\n",
       "<g id=\"node6\" class=\"node\"><title>CT</title>\n",
       "<ellipse fill=\"none\" stroke=\"black\" cx=\"20.6597\" cy=\"-31.7128\" rx=\"27\" ry=\"18\"/>\n",
       "<text text-anchor=\"middle\" x=\"20.6597\" y=\"-28.0128\" font-family=\"Times,serif\" font-size=\"14.00\">CT</text>\n",
       "</g>\n",
       "<!-- CC&#45;&gt;CT -->\n",
       "<g id=\"edge11\" class=\"edge\"><title>CC&#45;&gt;CT</title>\n",
       "<path fill=\"none\" stroke=\"black\" d=\"M60.9672,-41.0357C59.4737,-40.6902 57.9592,-40.3399 56.4368,-39.9878\"/>\n",
       "<polygon fill=\"black\" stroke=\"black\" points=\"56.9448,-36.513 46.4133,-37.6694 55.3673,-43.3329 56.9448,-36.513\"/>\n",
       "</g>\n",
       "<!-- TC -->\n",
       "<g id=\"node3\" class=\"node\"><title>TC</title>\n",
       "<ellipse fill=\"none\" stroke=\"black\" cx=\"87.4936\" cy=\"38.2559\" rx=\"27\" ry=\"18\"/>\n",
       "<text text-anchor=\"middle\" x=\"87.4936\" y=\"41.9559\" font-family=\"Times,serif\" font-size=\"14.00\">TC</text>\n",
       "</g>\n",
       "<!-- TC&#45;&gt;CC -->\n",
       "<g id=\"edge2\" class=\"edge\"><title>TC&#45;&gt;CC</title>\n",
       "<path fill=\"none\" stroke=\"black\" d=\"M87.3216,20.1788C87.214,8.87774 87.0732,-5.91572 86.9512,-18.7414\"/>\n",
       "<polygon fill=\"black\" stroke=\"black\" points=\"83.4496,-18.8995 86.8542,-28.9324 90.4493,-18.9662 83.4496,-18.8995\"/>\n",
       "</g>\n",
       "<!-- TG -->\n",
       "<g id=\"node4\" class=\"node\"><title>TG</title>\n",
       "<ellipse fill=\"none\" stroke=\"black\" cx=\"-43.337\" cy=\"-0.781109\" rx=\"27\" ry=\"18\"/>\n",
       "<text text-anchor=\"middle\" x=\"-43.337\" y=\"2.91889\" font-family=\"Times,serif\" font-size=\"14.00\">TG</text>\n",
       "</g>\n",
       "<!-- GG -->\n",
       "<g id=\"node5\" class=\"node\"><title>GG</title>\n",
       "<ellipse fill=\"none\" stroke=\"black\" cx=\"-46.149\" cy=\"-85.3387\" rx=\"27\" ry=\"18\"/>\n",
       "<text text-anchor=\"middle\" x=\"-46.149\" y=\"-81.6387\" font-family=\"Times,serif\" font-size=\"14.00\">GG</text>\n",
       "</g>\n",
       "<!-- TG&#45;&gt;GG -->\n",
       "<g id=\"edge3\" class=\"edge\"><title>TG&#45;&gt;GG</title>\n",
       "<path fill=\"none\" stroke=\"black\" d=\"M-43.9471,-19.1289C-44.3144,-30.1738 -44.7898,-44.4676 -45.2047,-56.946\"/>\n",
       "<polygon fill=\"black\" stroke=\"black\" points=\"-48.7153,-57.2064 -45.5496,-67.3173 -41.7191,-57.4392 -48.7153,-57.2064\"/>\n",
       "</g>\n",
       "<!-- GA -->\n",
       "<g id=\"node7\" class=\"node\"><title>GA</title>\n",
       "<ellipse fill=\"none\" stroke=\"black\" cx=\"-99.6109\" cy=\"54.3824\" rx=\"27\" ry=\"18\"/>\n",
       "<text text-anchor=\"middle\" x=\"-99.6109\" y=\"58.0824\" font-family=\"Times,serif\" font-size=\"14.00\">GA</text>\n",
       "</g>\n",
       "<!-- TG&#45;&gt;GA -->\n",
       "<g id=\"edge8\" class=\"edge\"><title>TG&#45;&gt;GA</title>\n",
       "<path fill=\"none\" stroke=\"black\" d=\"M-58.714,14.2926C-64.2971,19.7654 -70.7305,26.0719 -76.8175,32.0388\"/>\n",
       "<polygon fill=\"black\" stroke=\"black\" points=\"-74.6611,34.8261 -84.2524,39.3269 -79.5613,29.8272 -74.6611,34.8261\"/>\n",
       "</g>\n",
       "<!-- GG&#45;&gt;GC -->\n",
       "<g id=\"edge9\" class=\"edge\"><title>GG&#45;&gt;GC</title>\n",
       "<path fill=\"none\" stroke=\"black\" d=\"M-22.5666,-94.1484C-14.8595,-97.0275 -6.14946,-100.281 2.13198,-103.375\"/>\n",
       "<polygon fill=\"black\" stroke=\"black\" points=\"0.97848,-106.68 11.571,-106.901 3.42817,-100.123 0.97848,-106.68\"/>\n",
       "</g>\n",
       "<!-- CT&#45;&gt;TG -->\n",
       "<g id=\"edge4\" class=\"edge\"><title>CT&#45;&gt;TG</title>\n",
       "<path fill=\"none\" stroke=\"black\" d=\"M-1.36433,-21.0679C-4.74493,-19.4339 -8.29056,-17.7202 -11.8282,-16.0103\"/>\n",
       "<polygon fill=\"black\" stroke=\"black\" points=\"-10.5285,-12.7512 -21.0551,-11.5507 -13.5747,-19.0536 -10.5285,-12.7512\"/>\n",
       "</g>\n",
       "<!-- AA -->\n",
       "<g id=\"node8\" class=\"node\"><title>AA</title>\n",
       "<ellipse fill=\"none\" stroke=\"black\" cx=\"-50.937\" cy=\"119.467\" rx=\"27\" ry=\"18\"/>\n",
       "<text text-anchor=\"middle\" x=\"-50.937\" y=\"123.167\" font-family=\"Times,serif\" font-size=\"14.00\">AA</text>\n",
       "</g>\n",
       "<!-- GA&#45;&gt;AA -->\n",
       "<g id=\"edge5\" class=\"edge\"><title>GA&#45;&gt;AA</title>\n",
       "<path fill=\"none\" stroke=\"black\" d=\"M-87.3284,70.806C-81.8103,78.1846 -75.186,87.0422 -69.1104,95.1663\"/>\n",
       "<polygon fill=\"black\" stroke=\"black\" points=\"-66.2331,93.1697 -63.0469,103.274 -71.8389,97.3621 -66.2331,93.1697\"/>\n",
       "</g>\n",
       "<!-- AT -->\n",
       "<g id=\"node9\" class=\"node\"><title>AT</title>\n",
       "<ellipse fill=\"none\" stroke=\"black\" cx=\"9.81523\" cy=\"68.5073\" rx=\"27\" ry=\"18\"/>\n",
       "<text text-anchor=\"middle\" x=\"9.81523\" y=\"72.2073\" font-family=\"Times,serif\" font-size=\"14.00\">AT</text>\n",
       "</g>\n",
       "<!-- AA&#45;&gt;AT -->\n",
       "<g id=\"edge7\" class=\"edge\"><title>AA&#45;&gt;AT</title>\n",
       "<path fill=\"none\" stroke=\"black\" d=\"M-34.0141,105.272C-28.0894,100.302 -21.309,94.6147 -14.8805,89.2224\"/>\n",
       "<polygon fill=\"black\" stroke=\"black\" points=\"-16.9278,86.3714 -7.0169,82.6263 -12.4291,91.7345 -16.9278,86.3714\"/>\n",
       "</g>\n",
       "<!-- AT&#45;&gt;TC -->\n",
       "<g id=\"edge10\" class=\"edge\"><title>AT&#45;&gt;TC</title>\n",
       "<path fill=\"none\" stroke=\"black\" d=\"M33.5434,59.2665C40.2303,56.6623 47.6253,53.7824 54.7407,51.0113\"/>\n",
       "<polygon fill=\"black\" stroke=\"black\" points=\"53.5892,47.7038 64.1777,47.3362 56.1295,54.2266 53.5892,47.7038\"/>\n",
       "</g>\n",
       "<!-- AT&#45;&gt;TG -->\n",
       "<g id=\"edge6\" class=\"edge\"><title>AT&#45;&gt;TG</title>\n",
       "<path fill=\"none\" stroke=\"black\" d=\"M-2.51255,52.437C-9.05907,43.9031 -17.2433,33.2343 -24.5616,23.6942\"/>\n",
       "<polygon fill=\"black\" stroke=\"black\" points=\"-27.3974,25.7479 -30.7069,15.6832 -21.8433,21.4873 -27.3974,25.7479\"/>\n",
       "</g>\n",
       "</g>\n",
       "</svg>\n"
      ],
      "text/plain": [
       "<graphviz.dot.Digraph at 0x7f59d447b8d0>"
      ]
     },
     "execution_count": 5,
     "metadata": {},
     "output_type": "execute_result"
    }
   ],
   "source": [
    "answer_i_ii(\"ATGGCCTGAATCC\", 3)"
   ]
  },
  {
   "cell_type": "markdown",
   "metadata": {},
   "source": [
    "(iii). A Eulerian path for this SBH graph is AT -> TG -> GG -> GC -> CC -> CT -> TG -> GA -> AA -> AT -> TC -> CC. Its corrseponding string is \"ATGGCCTGAATCC\"\n",
    "\n",
    "(iv).  There exists an Eulerian path in the graph that corresponds to the original string."
   ]
  },
  {
   "cell_type": "markdown",
   "metadata": {},
   "source": [
    "### Part (b): ATAGCCTAGCAAT"
   ]
  },
  {
   "cell_type": "code",
   "execution_count": 6,
   "metadata": {},
   "outputs": [
    {
     "name": "stdout",
     "output_type": "stream",
     "text": [
      "(i). The spectrum for ATAGCCTAGCAAT is {'AGC', 'GCC', 'ATA', 'CAA', 'AAT', 'TAG', 'CTA', 'GCA', 'CCT'}\n",
      "(ii). The SBH graph for this spectrum is shown below: \n"
     ]
    },
    {
     "data": {
      "image/svg+xml": [
       "<?xml version=\"1.0\" encoding=\"UTF-8\" standalone=\"no\"?>\n",
       "<!DOCTYPE svg PUBLIC \"-//W3C//DTD SVG 1.1//EN\"\n",
       " \"http://www.w3.org/Graphics/SVG/1.1/DTD/svg11.dtd\">\n",
       "<!-- Generated by graphviz version 2.38.0 (20140413.2041)\n",
       " -->\n",
       "<!-- Title: %3 Pages: 1 -->\n",
       "<svg width=\"262pt\" height=\"220pt\"\n",
       " viewBox=\"0.00 0.00 261.63 220.43\" xmlns=\"http://www.w3.org/2000/svg\" xmlns:xlink=\"http://www.w3.org/1999/xlink\">\n",
       "<g id=\"graph0\" class=\"graph\" transform=\"scale(1 1) rotate(0) translate(126.659 117.203)\">\n",
       "<title>%3</title>\n",
       "<polygon fill=\"white\" stroke=\"none\" points=\"-126.659,103.223 -126.659,-117.203 134.972,-117.203 134.972,103.223 -126.659,103.223\"/>\n",
       "<!-- AG -->\n",
       "<g id=\"node1\" class=\"node\"><title>AG</title>\n",
       "<ellipse fill=\"none\" stroke=\"black\" cx=\"12.6156\" cy=\"6.97149\" rx=\"27\" ry=\"18\"/>\n",
       "<text text-anchor=\"middle\" x=\"12.6156\" y=\"10.6715\" font-family=\"Times,serif\" font-size=\"14.00\">AG</text>\n",
       "</g>\n",
       "<!-- GC -->\n",
       "<g id=\"node2\" class=\"node\"><title>GC</title>\n",
       "<ellipse fill=\"none\" stroke=\"black\" cx=\"-17.5744\" cy=\"73.3353\" rx=\"27\" ry=\"18\"/>\n",
       "<text text-anchor=\"middle\" x=\"-17.5744\" y=\"77.0353\" font-family=\"Times,serif\" font-size=\"14.00\">GC</text>\n",
       "</g>\n",
       "<!-- AG&#45;&gt;GC -->\n",
       "<g id=\"edge1\" class=\"edge\"><title>AG&#45;&gt;GC</title>\n",
       "<path fill=\"none\" stroke=\"black\" d=\"M4.68355,24.4078C1.58804,31.2124 -2.03064,39.167 -5.43966,46.6607\"/>\n",
       "<polygon fill=\"black\" stroke=\"black\" points=\"-2.26373,48.1319 -9.59045,55.785 -8.63541,45.2333 -2.26373,48.1319\"/>\n",
       "</g>\n",
       "<!-- CC -->\n",
       "<g id=\"node3\" class=\"node\"><title>CC</title>\n",
       "<ellipse fill=\"none\" stroke=\"black\" cx=\"65.0333\" cy=\"81.2232\" rx=\"27\" ry=\"18\"/>\n",
       "<text text-anchor=\"middle\" x=\"65.0333\" y=\"84.9232\" font-family=\"Times,serif\" font-size=\"14.00\">CC</text>\n",
       "</g>\n",
       "<!-- GC&#45;&gt;CC -->\n",
       "<g id=\"edge2\" class=\"edge\"><title>GC&#45;&gt;CC</title>\n",
       "<path fill=\"none\" stroke=\"black\" d=\"M9.47447,75.9181C15.3827,76.4822 21.7346,77.0888 27.957,77.6829\"/>\n",
       "<polygon fill=\"black\" stroke=\"black\" points=\"28.5838,74.2268 38.2058,78.6615 27.9184,81.1951 28.5838,74.2268\"/>\n",
       "</g>\n",
       "<!-- CA -->\n",
       "<g id=\"node6\" class=\"node\"><title>CA</title>\n",
       "<ellipse fill=\"none\" stroke=\"black\" cx=\"-92.0454\" cy=\"34.4587\" rx=\"27\" ry=\"18\"/>\n",
       "<text text-anchor=\"middle\" x=\"-92.0454\" y=\"38.1587\" font-family=\"Times,serif\" font-size=\"14.00\">CA</text>\n",
       "</g>\n",
       "<!-- GC&#45;&gt;CA -->\n",
       "<g id=\"edge8\" class=\"edge\"><title>GC&#45;&gt;CA</title>\n",
       "<path fill=\"none\" stroke=\"black\" d=\"M-39.1145,62.0906C-46.0615,58.464 -53.9006,54.3717 -61.3753,50.4696\"/>\n",
       "<polygon fill=\"black\" stroke=\"black\" points=\"-63.3086,53.4086 -70.5537,45.6782 -60.0692,47.2033 -63.3086,53.4086\"/>\n",
       "</g>\n",
       "<!-- CT -->\n",
       "<g id=\"node8\" class=\"node\"><title>CT</title>\n",
       "<ellipse fill=\"none\" stroke=\"black\" cx=\"103.972\" cy=\"5.18707\" rx=\"27\" ry=\"18\"/>\n",
       "<text text-anchor=\"middle\" x=\"103.972\" y=\"8.88707\" font-family=\"Times,serif\" font-size=\"14.00\">CT</text>\n",
       "</g>\n",
       "<!-- CC&#45;&gt;CT -->\n",
       "<g id=\"edge9\" class=\"edge\"><title>CC&#45;&gt;CT</title>\n",
       "<path fill=\"none\" stroke=\"black\" d=\"M73.8691,63.9694C78.7979,54.3449 85.0382,42.1594 90.5575,31.3817\"/>\n",
       "<polygon fill=\"black\" stroke=\"black\" points=\"87.4977,29.6779 95.1712,22.3726 93.7283,32.8687 87.4977,29.6779\"/>\n",
       "</g>\n",
       "<!-- AT -->\n",
       "<g id=\"node4\" class=\"node\"><title>AT</title>\n",
       "<ellipse fill=\"none\" stroke=\"black\" cx=\"-25.2992\" cy=\"-95.2029\" rx=\"27\" ry=\"18\"/>\n",
       "<text text-anchor=\"middle\" x=\"-25.2992\" y=\"-91.5029\" font-family=\"Times,serif\" font-size=\"14.00\">AT</text>\n",
       "</g>\n",
       "<!-- TA -->\n",
       "<g id=\"node5\" class=\"node\"><title>TA</title>\n",
       "<ellipse fill=\"none\" stroke=\"black\" cx=\"48.9573\" cy=\"-56.5293\" rx=\"27\" ry=\"18\"/>\n",
       "<text text-anchor=\"middle\" x=\"48.9573\" y=\"-52.8293\" font-family=\"Times,serif\" font-size=\"14.00\">TA</text>\n",
       "</g>\n",
       "<!-- AT&#45;&gt;TA -->\n",
       "<g id=\"edge3\" class=\"edge\"><title>AT&#45;&gt;TA</title>\n",
       "<path fill=\"none\" stroke=\"black\" d=\"M-3.82112,-84.0169C3.10587,-80.4092 10.9225,-76.3383 18.3756,-72.4566\"/>\n",
       "<polygon fill=\"black\" stroke=\"black\" points=\"20.275,-75.4137 27.5275,-67.6902 17.0416,-69.2052 20.275,-75.4137\"/>\n",
       "</g>\n",
       "<!-- TA&#45;&gt;AG -->\n",
       "<g id=\"edge6\" class=\"edge\"><title>TA&#45;&gt;AG</title>\n",
       "<path fill=\"none\" stroke=\"black\" d=\"M39.2184,-39.5123C35.6336,-33.2485 31.4863,-26.0017 27.5486,-19.1212\"/>\n",
       "<polygon fill=\"black\" stroke=\"black\" points=\"30.3863,-17.0332 22.3814,-10.0925 24.3109,-20.5102 30.3863,-17.0332\"/>\n",
       "</g>\n",
       "<!-- AA -->\n",
       "<g id=\"node7\" class=\"node\"><title>AA</title>\n",
       "<ellipse fill=\"none\" stroke=\"black\" cx=\"-95.6594\" cy=\"-49.4435\" rx=\"27\" ry=\"18\"/>\n",
       "<text text-anchor=\"middle\" x=\"-95.6594\" y=\"-45.7435\" font-family=\"Times,serif\" font-size=\"14.00\">AA</text>\n",
       "</g>\n",
       "<!-- CA&#45;&gt;AA -->\n",
       "<g id=\"edge4\" class=\"edge\"><title>CA&#45;&gt;AA</title>\n",
       "<path fill=\"none\" stroke=\"black\" d=\"M-92.8295,16.2532C-93.2984,5.36841 -93.9042,-8.6964 -94.435,-21.018\"/>\n",
       "<polygon fill=\"black\" stroke=\"black\" points=\"-97.943,-21.1321 -94.8767,-31.2735 -90.9495,-21.4334 -97.943,-21.1321\"/>\n",
       "</g>\n",
       "<!-- AA&#45;&gt;AT -->\n",
       "<g id=\"edge5\" class=\"edge\"><title>AA&#45;&gt;AT</title>\n",
       "<path fill=\"none\" stroke=\"black\" d=\"M-76.0601,-62.1901C-69.0459,-66.7518 -60.9961,-71.9871 -53.4048,-76.9242\"/>\n",
       "<polygon fill=\"black\" stroke=\"black\" points=\"-55.0846,-80.0067 -44.7933,-82.5247 -51.2682,-74.1386 -55.0846,-80.0067\"/>\n",
       "</g>\n",
       "<!-- CT&#45;&gt;TA -->\n",
       "<g id=\"edge7\" class=\"edge\"><title>CT&#45;&gt;TA</title>\n",
       "<path fill=\"none\" stroke=\"black\" d=\"M90.0895,-10.3866C84.0117,-17.2048 76.7467,-25.3548 70.0251,-32.8951\"/>\n",
       "<polygon fill=\"black\" stroke=\"black\" points=\"67.0683,-30.9523 63.0268,-40.746 72.2936,-35.6102 67.0683,-30.9523\"/>\n",
       "</g>\n",
       "</g>\n",
       "</svg>\n"
      ],
      "text/plain": [
       "<graphviz.dot.Digraph at 0x7f59d447bfd0>"
      ]
     },
     "execution_count": 6,
     "metadata": {},
     "output_type": "execute_result"
    }
   ],
   "source": [
    "answer_i_ii(\"ATAGCCTAGCAAT\", 3)"
   ]
  },
  {
   "cell_type": "markdown",
   "metadata": {},
   "source": [
    "(iii). A Eulerian path for this SBH graph is GC -> CA -> AA -> AT -> TA -> AG -> GC -> CC -> CT -> TA. Its corrseponding string is \"GCAATAGCCTA\"\n",
    "\n",
    "(iv).  There does not exist an Eulerian path in the graph that corresponds to the original string."
   ]
  },
  {
   "cell_type": "markdown",
   "metadata": {
    "deletable": false,
    "editable": false,
    "nbgrader": {
     "grade": false,
     "grade_id": "cell-595590e6c27d63ba",
     "locked": true,
     "schema_version": 1,
     "solution": false
    }
   },
   "source": [
    "## PROBLEM 4: Existence of DNA sequence with complete spectrum (10 points)\n",
    "For any value of $k$, does there exist a DNA sequence that contains every possible $k$-mer exactly once?  Prove your answer.  *Hint: consider the SBH graph for the spectrum of such a sequence, should it exist*"
   ]
  },
  {
   "cell_type": "markdown",
   "metadata": {
    "nbgrader": {
     "grade": true,
     "grade_id": "problem4",
     "locked": false,
     "points": 10,
     "schema_version": 1,
     "solution": true
    }
   },
   "source": [
    "Construct a SBH graph with \n",
    "- $V$ = { all $(k-1)$-mer }\n",
    "- $E$ = { $(u,v)$ | the last $(k-2)$ characters of $u$ is the same as the first $(k-2)$ characters of $v$ }\n",
    "\n",
    "Then there are $4^k$ edges in total, each corrseponds to a unique $k$-mer by merging the source vertex and destination vertex with one copy of the overlay\n",
    "\n",
    "For each edge in the graph, there are exactly 4 in-edges and 4 out-edges since the last/first character can only differ by 4 bases. Furthermore, the graph is strongly connected (i.e., there exists a path between every pair of vertices). \n",
    "\n",
    "Therefore the graph contains a Eulerian path, which corresponds to a sequence that contains every possible $k$-mer exactly once. "
   ]
  },
  {
   "cell_type": "markdown",
   "metadata": {
    "deletable": false,
    "editable": false,
    "nbgrader": {
     "grade": false,
     "grade_id": "cell-f886d5b063ddba39",
     "locked": true,
     "schema_version": 1,
     "solution": false
    }
   },
   "source": [
    "### Tests for problem 1"
   ]
  },
  {
   "cell_type": "code",
   "execution_count": 7,
   "metadata": {
    "collapsed": true,
    "deletable": false,
    "editable": false,
    "nbgrader": {
     "grade": false,
     "grade_id": "cell-edb12d33afef11ca",
     "locked": true,
     "schema_version": 1,
     "solution": false
    }
   },
   "outputs": [],
   "source": [
    "def test_greedy_assemble_with_files(reads_filename, superstring_filename):\n",
    "    reads = read_strings_from_file(reads_filename)\n",
    "    [superstring] = read_strings_from_file(superstring_filename)\n",
    "    assert greedy_assemble(reads) == superstring "
   ]
  },
  {
   "cell_type": "code",
   "execution_count": 8,
   "metadata": {
    "deletable": false,
    "editable": false,
    "nbgrader": {
     "grade": true,
     "grade_id": "greedy_assemble_returns_a_string",
     "locked": true,
     "points": 20,
     "schema_version": 1,
     "solution": false
    }
   },
   "outputs": [
    {
     "name": "stdout",
     "output_type": "stream",
     "text": [
      "SUCCESS: greedy_assemble returns a string passed!\n"
     ]
    }
   ],
   "source": [
    "# TEST: greedy_assemble returns a string\n",
    "sanity_test_reads = read_strings_from_file(\"tests/test_reads.txt\")\n",
    "assert isinstance(greedy_assemble(sanity_test_reads), str)\n",
    "print(\"SUCCESS: greedy_assemble returns a string passed!\")"
   ]
  },
  {
   "cell_type": "code",
   "execution_count": 9,
   "metadata": {
    "deletable": false,
    "editable": false,
    "nbgrader": {
     "grade": true,
     "grade_id": "greedy_assemble_returns_a_superstring",
     "locked": true,
     "points": 10,
     "schema_version": 1,
     "solution": false
    }
   },
   "outputs": [
    {
     "name": "stdout",
     "output_type": "stream",
     "text": [
      "SUCCESS: greedy_assemble returns a superstring passed!\n"
     ]
    }
   ],
   "source": [
    "# TEST: greedy_assemble returns a superstring\n",
    "def is_superstring(s, reads):\n",
    "    return all(read in s for read in reads)\n",
    "assert is_superstring(greedy_assemble(sanity_test_reads), sanity_test_reads)\n",
    "print(\"SUCCESS: greedy_assemble returns a superstring passed!\")"
   ]
  },
  {
   "cell_type": "code",
   "execution_count": 10,
   "metadata": {
    "deletable": false,
    "editable": false,
    "nbgrader": {
     "grade": true,
     "grade_id": "greedy_assemble_small_test_1",
     "locked": true,
     "points": 5,
     "schema_version": 1,
     "solution": false
    }
   },
   "outputs": [
    {
     "name": "stdout",
     "output_type": "stream",
     "text": [
      "SUCCESS: greedy_assemble_small_test_1 passed!\n"
     ]
    }
   ],
   "source": [
    "# TEST: greedy_assemble_small_test_1\n",
    "small_test1_reads = [\"GTT\", \"ATCTC\", \"CTCAA\"]\n",
    "assert greedy_assemble(small_test1_reads) == \"ATCTCAAGTT\"\n",
    "print(\"SUCCESS: greedy_assemble_small_test_1 passed!\")"
   ]
  },
  {
   "cell_type": "code",
   "execution_count": 11,
   "metadata": {
    "deletable": false,
    "editable": false,
    "nbgrader": {
     "grade": true,
     "grade_id": "greedy_assemble_small_test_2",
     "locked": true,
     "points": 5,
     "schema_version": 1,
     "solution": false
    }
   },
   "outputs": [
    {
     "name": "stdout",
     "output_type": "stream",
     "text": [
      "SUCCESS: greedy_assemble_small_test_2 passed!\n"
     ]
    }
   ],
   "source": [
    "# TEST: greedy_assemble_small_test_2\n",
    "small_test2_reads = [\"CGAAG\", \"ATCGA\", \"AGAG\", \"GGG\"]\n",
    "assert greedy_assemble(small_test2_reads) == \"ATCGAAGAGGG\"\n",
    "print(\"SUCCESS: greedy_assemble_small_test_2 passed!\")"
   ]
  },
  {
   "cell_type": "code",
   "execution_count": 12,
   "metadata": {
    "deletable": false,
    "editable": false,
    "nbgrader": {
     "grade": true,
     "grade_id": "greedy_assemble_small_test_3",
     "locked": true,
     "points": 5,
     "schema_version": 1,
     "solution": false
    }
   },
   "outputs": [
    {
     "name": "stdout",
     "output_type": "stream",
     "text": [
      "SUCCESS: greedy_assemble_small_test_3 passed!\n"
     ]
    }
   ],
   "source": [
    "# TEST: greedy_assemble_small_test_3\n",
    "small_test3_reads = [\"C\", \"T\", \"G\", \"A\"]\n",
    "assert greedy_assemble(small_test3_reads) == 'ACGT'\n",
    "print(\"SUCCESS: greedy_assemble_small_test_3 passed!\")"
   ]
  },
  {
   "cell_type": "code",
   "execution_count": 13,
   "metadata": {
    "deletable": false,
    "editable": false,
    "nbgrader": {
     "grade": true,
     "grade_id": "greedy_assemble_large_test_1",
     "locked": true,
     "points": 5,
     "schema_version": 1,
     "solution": false
    }
   },
   "outputs": [
    {
     "name": "stdout",
     "output_type": "stream",
     "text": [
      "SUCCESS: greedy_assemble large test 1 passed!\n"
     ]
    }
   ],
   "source": [
    "# TEST: greedy_assemble large test 1\n",
    "test_greedy_assemble_with_files(\"tests/large_test1_reads.txt\", \"tests/large_test1_superstring.txt\")\n",
    "print(\"SUCCESS: greedy_assemble large test 1 passed!\")"
   ]
  },
  {
   "cell_type": "code",
   "execution_count": 14,
   "metadata": {
    "collapsed": true,
    "deletable": false,
    "editable": false,
    "nbgrader": {
     "grade": true,
     "grade_id": "greedy_assemble_reads_7",
     "locked": true,
     "points": 2,
     "schema_version": 1,
     "solution": false
    }
   },
   "outputs": [],
   "source": [
    "# TEST: greedy_assemble_reads_7 (hidden)\n",
    "###\n",
    "### AUTOGRADER TEST - DO NOT REMOVE\n",
    "###\n"
   ]
  },
  {
   "cell_type": "code",
   "execution_count": 15,
   "metadata": {
    "collapsed": true,
    "deletable": false,
    "editable": false,
    "nbgrader": {
     "grade": true,
     "grade_id": "greedy_assemble_reads_8",
     "locked": true,
     "points": 2,
     "schema_version": 1,
     "solution": false
    }
   },
   "outputs": [],
   "source": [
    "# TEST: greedy_assemble_reads_8 (hidden)\n",
    "###\n",
    "### AUTOGRADER TEST - DO NOT REMOVE\n",
    "###\n"
   ]
  },
  {
   "cell_type": "code",
   "execution_count": 16,
   "metadata": {
    "collapsed": true,
    "deletable": false,
    "editable": false,
    "nbgrader": {
     "grade": true,
     "grade_id": "greedy_assemble_reads_9",
     "locked": true,
     "points": 2,
     "schema_version": 1,
     "solution": false
    }
   },
   "outputs": [],
   "source": [
    "# TEST: greedy_assemble_reads_9 (hidden)\n",
    "###\n",
    "### AUTOGRADER TEST - DO NOT REMOVE\n",
    "###\n"
   ]
  },
  {
   "cell_type": "code",
   "execution_count": 17,
   "metadata": {
    "collapsed": true,
    "deletable": false,
    "editable": false,
    "nbgrader": {
     "grade": true,
     "grade_id": "greedy_assemble_reads_10",
     "locked": true,
     "points": 2,
     "schema_version": 1,
     "solution": false
    }
   },
   "outputs": [],
   "source": [
    "# TEST: greedy_assemble_reads_10 (hidden)\n",
    "###\n",
    "### AUTOGRADER TEST - DO NOT REMOVE\n",
    "###\n"
   ]
  },
  {
   "cell_type": "code",
   "execution_count": 18,
   "metadata": {
    "collapsed": true,
    "deletable": false,
    "editable": false,
    "nbgrader": {
     "grade": true,
     "grade_id": "greedy_assemble_reads_11",
     "locked": true,
     "points": 2,
     "schema_version": 1,
     "solution": false
    }
   },
   "outputs": [],
   "source": [
    "# TEST: greedy_assemble_reads_11 (hidden)\n",
    "###\n",
    "### AUTOGRADER TEST - DO NOT REMOVE\n",
    "###\n"
   ]
  }
 ],
 "metadata": {
  "celltoolbar": "Create Assignment",
  "kernelspec": {
   "display_name": "Python 3 [3.6]",
   "language": "python",
   "name": "python3"
  },
  "language_info": {
   "codemirror_mode": {
    "name": "ipython",
    "version": 3
   },
   "file_extension": ".py",
   "mimetype": "text/x-python",
   "name": "python",
   "nbconvert_exporter": "python",
   "pygments_lexer": "ipython3",
   "version": "3.6.4"
  }
 },
 "nbformat": 4,
 "nbformat_minor": 2
}
