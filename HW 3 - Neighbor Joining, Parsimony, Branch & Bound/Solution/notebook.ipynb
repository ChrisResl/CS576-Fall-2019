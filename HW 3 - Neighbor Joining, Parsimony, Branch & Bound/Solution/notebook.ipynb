{
 "cells": [
  {
   "cell_type": "markdown",
   "metadata": {
    "nbgrader": {
     "grade": false,
     "grade_id": "cell-fd91a97c0a7166df",
     "locked": true,
     "schema_version": 1,
     "solution": false
    }
   },
   "source": [
    "# BMI/CS 576 Fall 2019 - HW3\n",
    "The objectives of this homework are to practice phylogenetic tree reconstruction algorithms.  Specifically, you will gain practice with the following techniques:\n",
    "\n",
    "* Neighbor-joining\n",
    "* branch and bound\n",
    "* unweighted and weighted parsimony\n",
    "\n",
    "## HW policies\n",
    "Before starting this homework, please read over the [homework policies](https://canvas.wisc.edu/courses/167969/pages/hw-policies) for this course.  In particular, note that homeworks are to be completed *individually*.\n",
    "\n",
    "You are welcome to use any code from the weekly notebooks in your solutions to the HW."
   ]
  },
  {
   "cell_type": "markdown",
   "metadata": {
    "nbgrader": {
     "grade": false,
     "grade_id": "cell-e632c3d68ef6e040",
     "locked": true,
     "schema_version": 1,
     "solution": false
    }
   },
   "source": [
    "## PROBLEM 1: Neighbor-joining (20 points)\n",
    "\n",
    "Construct a tree from these distances using the neighbor-joining algorithm. Show your updated distance matrix after each merge and give branch lengths for the final tree.\n",
    "\n",
    "|       | A | B | C | D | E |\n",
    "|-------|---|---|---|---|---|\n",
    "| **A** |   | 7 | 13|  9| 10| \n",
    "| **B** |   |   |  8|  4|  5|\n",
    "| **C** |   |   |   |  6|  9|\n",
    "| **D** |   |   |   |   |  5|\n",
    "| **E** |   |   |   |   |  &nbsp; |\n"
   ]
  },
  {
   "cell_type": "markdown",
   "metadata": {},
   "source": [
    "### BEGIN SOLUTION template=Your solution to Problem 1 here\n",
    "*Note that in steps 1, 2, and 3, there are ties for the minimum $D_{ij}$, however, all choices for the next pair of nodes to join lead to the same tree.*\n",
    "\n",
    "![neighbor_joining_solution](neighbor_joining.png)\n",
    "\n",
    "### END SOLUTION"
   ]
  },
  {
   "cell_type": "markdown",
   "metadata": {
    "nbgrader": {
     "grade": false,
     "grade_id": "cell-1f115a62bb2dd441",
     "locked": true,
     "schema_version": 1,
     "solution": false
    }
   },
   "source": [
    "## Trees for Problem 2 and 3\n",
    "![parsimony_trees](parsimony_trees.png)"
   ]
  },
  {
   "cell_type": "markdown",
   "metadata": {
    "nbgrader": {
     "grade": false,
     "grade_id": "cell-d388d0f01da01423",
     "locked": true,
     "schema_version": 1,
     "solution": false
    }
   },
   "source": [
    "## PROBLEM 2: Unweighted parsimony (20 POINTS)\n",
    "\n",
    "Suppose we are given five DNA sequences (1, 2, 3, 4, and 5), each of which is one base long. The figure above gives two possible trees relating these five sequences.\n",
    "\n",
    "**(a)** For each of the two trees, find the minimal cost of the tree using Fitch’s algorithm (unweighted parsimony). Show the intermediate computations of the algorithm.\n",
    "\n",
    "**(b)** For each of the two trees, determine an assignment of ancestral bases that achieves the minimal cost that you found in (a).\n",
    "\n",
    "**(c)** Which tree would be preferred when using unweighted parsimony?"
   ]
  },
  {
   "cell_type": "markdown",
   "metadata": {},
   "source": [
    "### BEGIN SOLUTION template=Your solution to Problem 2 here\n",
    "\n",
    "![problem2_solution](parsimony_trees_unweighted_solution.png)\n",
    "In the figure above, each internal node, $i$, is labeled by the set of characters, $R_i$, that minimize the cost of the subtree rooted by that node. The bold characters are one assignment of ancestral bases that achieve the minimal cost. For both trees, there is one alternative assignment of ancestral bases that differs only in that it has a T at the root node instead of a G.\n",
    "\n",
    "**(a)** The minimal cost of both trees is 2.  See the figure above for the intermediate calculations.\n",
    "\n",
    "**(b)** See the figure above for the assignment of ancestral bases that achieves the minimal cost of 2.\n",
    "\n",
    "**(c)** Since both trees have the same cost, neither would be preferred over the other.\n",
    "### END SOLUTION"
   ]
  },
  {
   "cell_type": "markdown",
   "metadata": {
    "nbgrader": {
     "grade": false,
     "grade_id": "cell-47a34506ea0189d7",
     "locked": true,
     "schema_version": 1,
     "solution": false
    }
   },
   "source": [
    "## PROBLEM 3: Weighted parsimony (20 POINTS)\n",
    "\n",
    "(25points) Suppose we are given the same five sequences as in Problem 2 and the same two possible trees. Given the weighted parsimony costs given in the matrix below:\n",
    "\n",
    "![weighted_parsimony_weights](weighted_parsimony_weights.png)\n",
    "\n",
    "**(a)** For each of the two trees, find the minimal cost of the tree using the weighted parsimony algorithm. Show the intermediate computations of the algorithm.\n",
    "\n",
    "**(b)** For each of the two trees, determine an assignment of ancestral bases that achieves the minimal cost that you found in (a).\n",
    "\n",
    "**(c)** Which tree would be preferred when using weighted parsimony with the given costs?\n"
   ]
  },
  {
   "cell_type": "markdown",
   "metadata": {},
   "source": [
    "### BEGIN SOLUTION template=Your solution to Problem 3 here\n",
    "![problem3_solution](parsimony_trees_weighted_solution.png)\n",
    "In the figure above, for each internal node, $i$, given is the minimum cost of the subtree rooted at $i$, $R_i(c)$, for each character $c$. The bold characters labeling the $R$ vectors indicate the an assignment of ancestral bases that achieve the minimum cost. For both trees, there is one alternative assignment of ancestral bases that differs only in that it has a T at the root node instead of a G.\n",
    "\n",
    "**(a)** The minimal cost of Tree 1 is 4. The minimal cost of Tree 2 is 3.  See the figure above for the intermediate calculations.\n",
    "\n",
    "**(b)** See the figure above for the assignment of ancestral bases that achieves the minimal cost for each tree.\n",
    "\n",
    "**(c)** Tree 2 would be preferred because it has the smaller cost (3).\n",
    "\n",
    "### END SOLUTION"
   ]
  },
  {
   "cell_type": "markdown",
   "metadata": {
    "nbgrader": {
     "grade": false,
     "grade_id": "cell-8cc69ce21bfbf312",
     "locked": true,
     "schema_version": 1,
     "solution": false
    }
   },
   "source": [
    "## PROBLEM 4: Branch and bound (40 POINTS)\n",
    "\n",
    "Implement the basic branch and bound algorithm (page 7 of the \"Searching through tree space\" lecture slides) for finding an optimal tree with an unweighted parsimony objective function.  Your implementation should be broken down into three functions, `best_tree_branch_and_bound`, `branch`, and `bound`, which you are to implement below.\n",
    "\n",
    "Some implementation specifications for each function:\n",
    "### `best_tree_branch_and_bound`\n",
    "\n",
    "* You should use the [Heap queue algorithm](https://docs.python.org/3/library/heapq.html) module functions to efficiently maintain the queue (Q) \n",
    "* Q should be sorted by lower bound of the trees, with ties broken by lexicographical ordering of the trees' newick strings.\n",
    "* The algorithm should begin with an unrooted tree consisting of the first three names in `sequence_names`, and add leaves in the order in which they appear in the sequence_names list.\n",
    "\n",
    "### `branch`\n",
    "\n",
    "* This function should call the `add_leaf` function (provided) to grow an unrooted tree with the next leaf in all possible ways\n",
    "\n",
    "### `bound`\n",
    "\n",
    "* You will likely want to take advantage of your work in the day 16 notebook for this function\n",
    "* To convert an unrooted tree to a rooted tree (such that you can use your parsimony scoring code), it is recommended that you call the provided `root` function"
   ]
  },
  {
   "cell_type": "code",
   "execution_count": 1,
   "metadata": {
    "collapsed": true,
    "nbgrader": {
     "grade": false,
     "grade_id": "cell-0db645b3e786815e",
     "locked": false,
     "schema_version": 1,
     "solution": true
    }
   },
   "outputs": [],
   "source": [
    "# Code for PROBLEM 4\n",
    "# You are welcome to develop your code as a separate Python module\n",
    "# and import it here if that is more convenient for you.\n",
    "\n",
    "import heapq\n",
    "import toytree\n",
    "\n",
    "def best_tree_branch_and_bound(alignment, sequence_names, branch, bound):\n",
    "    \"\"\"Computes an optimal (lowest scoring) tree using a branch and bound algorithm.\n",
    "    \n",
    "    Args:\n",
    "        alignment: a list of strings corresponding to the rows of a multiple alignment.\n",
    "        sequence_names: a list of the names of the sequences in the same order as the\n",
    "                        rows of the multiple alignment.\n",
    "        branch: a function that grows a partial tree in multiple ways\n",
    "        bound: a function that computes the lower bound of a partial tree\n",
    "    Returns:\n",
    "        A tuple (score, newick_string) where newick_string is a Newick formatted string\n",
    "        representing the optimal tree (unrooted) and score is its score.\n",
    "    \"\"\"\n",
    "    ### BEGIN SOLUTION\n",
    "    # make a tree with the first three names\n",
    "    first_three_tree_newick = \"({},{},{});\".format(*sequence_names[0:3])\n",
    "    \n",
    "    # initialize a queue with the first tree and its lower bound\n",
    "    first_tree_bound = bound(first_three_tree_newick, alignment, sequence_names)\n",
    "    q = [(first_tree_bound, first_three_tree_newick)]\n",
    "    \n",
    "    while True:\n",
    "        t_bound, t_newick_tree = heapq.heappop(q)\n",
    "        t_tree = toytree.tree(t_newick_tree)\n",
    "        if t_tree.ntips == len(sequence_names):\n",
    "            return t_bound, t_newick_tree\n",
    "        else:\n",
    "            for new_tree in branch(t_newick_tree, sequence_names[t_tree.ntips]):\n",
    "                new_tree_bound = bound(new_tree, alignment, sequence_names)\n",
    "                heapq.heappush(q, (new_tree_bound, new_tree))\n",
    "    ### END SOLUTION\n",
    "    \n",
    "def branch(newick_tree, next_leaf_name):\n",
    "    \"\"\"Grows a partial unrooted tree by adding the next leaf in all possible ways.\n",
    "    \n",
    "    Args:\n",
    "        newick_tree: a partial unrooted tree as a Newick string\n",
    "        next_leaf_name: the name of the next leaf to add to the tree\n",
    "    Returns:\n",
    "        A list of Newick strings representing all possible ways in which to add the next leaf.\n",
    "    \"\"\"\n",
    "    ### BEGIN SOLUTION    \n",
    "    tree = toytree.tree(newick_tree)\n",
    "    num_edges = 2 * tree.ntips - 3\n",
    "    return [add_leaf(newick_tree, next_leaf_name, i) for i in range(1, num_edges + 1)]\n",
    "    ### END SOLUTION\n",
    "\n",
    "def bound(newick_tree, alignment, sequence_names):\n",
    "    \"\"\"Computes a lower bound for the unweighted parsimony score of a full tree that can be \n",
    "    grown from a given partial tree.\n",
    "    \n",
    "    Args:\n",
    "        newick_tree: a partial unrooted tree as a Newick string\n",
    "        alignment: a list of strings corresponding to the rows of a multiple alignment.\n",
    "        sequence_names: a list of the names of the sequences in the same order as the\n",
    "                        rows of the multiple alignment.\n",
    "    Returns:\n",
    "        The lower bound as an integer.\n",
    "    \"\"\"\n",
    "    ### BEGIN SOLUTION    \n",
    "    rooted_newick = root(newick_tree)\n",
    "    return score_tree_parsimony(toytree.tree(rooted_newick), alignment, sequence_names)\n",
    "    ### END SOLUTION\n",
    "\n",
    "def add_leaf(newick_tree, leaf_name, edge_index):\n",
    "    \"\"\"Adds a new leaf on to the specified edge in an unrooted tree.\n",
    "    \n",
    "    Args:\n",
    "        newick_tree: a partial unrooted tree as a Newick string\n",
    "        leaf_name: the name of the next leaf to add to the tree\n",
    "        edge_index: the index (from 1 to the number of edges) of the edge on\n",
    "                    which to add the leaf.  Edges are ordered by the order\n",
    "                    in which their child node is encountered in a preorder\n",
    "                    traversal of the tree.\n",
    "    Returns:\n",
    "        A newick string representing the tree with the added leaf.\n",
    "    \"\"\"\n",
    "    new_tree = toytree.tree(newick_tree)\n",
    "    if len(new_tree.treenode.children) != 3:\n",
    "        raise ValueError(\"Tree does not look unrooted: \" +  newick_tree)\n",
    "    for i, node in enumerate(new_tree.treenode.traverse(\"preorder\")):\n",
    "        if i == edge_index:\n",
    "            break\n",
    "    parent = node.up\n",
    "    node.detach()\n",
    "    new_internal_node = parent.add_child()\n",
    "    new_internal_node.add_child(node)\n",
    "    new_internal_node.add_child(name=leaf_name)\n",
    "    return new_tree.treenode.write(format=9)\n",
    "\n",
    "def root(newick_tree):\n",
    "    \"\"\"Converts an unrooted tree into a rooted tree.\n",
    "    (useful for scoring an unrooted tree with parsimony).\n",
    "    \n",
    "    Args:\n",
    "        newick_tree: an unrooted tree as a Newick string\n",
    "    Returns:\n",
    "        A rooted version of the tree as a newick string.\n",
    "    \"\"\"\n",
    "    unrooted_tree = toytree.tree(newick_tree)\n",
    "    if len(unrooted_tree.treenode.children) != 3:\n",
    "        raise ValueError(\"Tree does not look unrooted: \" +  newick_tree)\n",
    "    unrooted_tree_root = unrooted_tree.treenode\n",
    "    first_child = unrooted_tree.treenode.children[0]\n",
    "    first_child.detach()\n",
    "    rooted_tree_root = toytree.TreeNode.TreeNode()\n",
    "    rooted_tree_root.add_child(first_child)\n",
    "    rooted_tree_root.add_child(unrooted_tree_root)\n",
    "    return rooted_tree_root.write(format=9)\n",
    "\n",
    "### BEGIN SOLUTION template=\n",
    "def fitch_score(tree, leaf_states):\n",
    "    \"\"\"Runs the first stage of Fitch's algorithm for\n",
    "       the given tree and character states as the leaves.\n",
    "    \n",
    "    Args:\n",
    "        tree: a toytree tree.\n",
    "        leaf_states: a dictionary mapping leaf names to characters.  \n",
    "    Returns:\n",
    "        The minimum cost of the tree (minimum number of changes required to explain\n",
    "        the leaf data)\n",
    "    \"\"\"\n",
    "    R = {}\n",
    "    num_changes = 0\n",
    "    for node in tree.treenode.traverse(\"postorder\"):\n",
    "        if node.is_leaf():\n",
    "            R[node.name] = {leaf_states[node.name]}\n",
    "        else:\n",
    "            left_states, right_states = [R[child.name] for child in node.children]\n",
    "            intersection = left_states & right_states\n",
    "            if intersection:\n",
    "                R[node.name] = intersection\n",
    "            else:\n",
    "                R[node.name] = left_states | right_states\n",
    "                num_changes += 1\n",
    "    return num_changes\n",
    "\n",
    "def score_tree_parsimony(tree, alignment, sequence_names):\n",
    "    \"\"\"Computes the parsimony score for a given tree and alignment.\n",
    "    \n",
    "    Args:\n",
    "        tree: a toytree tree object\n",
    "        alignment: a list of strings corresponding to the rows of a multiple alignment.\n",
    "        sequence_names: a list of the names of the sequences in the same order as the\n",
    "                        rows of the multiple alignment.\n",
    "    Returns:\n",
    "        The parsimony score (a number)\n",
    "    \"\"\"\n",
    "    return sum(fitch_score(tree, leaf_states)\n",
    "               for leaf_states in alignment_leaf_states_list(alignment, sequence_names))\n",
    "    \n",
    "def alignment_leaf_states_list(alignment, sequence_names):\n",
    "    \"\"\"Returns a list of dictionaries, where each dictionary corresponds to the leaf states\n",
    "    for a column of the alignment.\"\"\"\n",
    "    return [dict(zip(sequence_names, column)) for column in zip(*alignment)]\n",
    "### END SOLUTION"
   ]
  },
  {
   "cell_type": "markdown",
   "metadata": {
    "nbgrader": {
     "grade": false,
     "grade_id": "cell-74ce6b4272ffdd9b",
     "locked": true,
     "schema_version": 1,
     "solution": false
    }
   },
   "source": [
    "## Tests for PROBLEM 4"
   ]
  },
  {
   "cell_type": "markdown",
   "metadata": {
    "nbgrader": {
     "grade": false,
     "grade_id": "cell-34048ad0320bda93",
     "locked": true,
     "schema_version": 1,
     "solution": false
    }
   },
   "source": [
    "### Data sets for testing"
   ]
  },
  {
   "cell_type": "code",
   "execution_count": 2,
   "metadata": {
    "collapsed": true,
    "nbgrader": {
     "grade": false,
     "grade_id": "cell-34048",
     "locked": true,
     "schema_version": 1,
     "solution": false
    }
   },
   "outputs": [],
   "source": [
    "import fasta\n",
    "def read_names_and_alignments_from_fasta(filename):\n",
    "    return zip(*fasta.read_sequences_from_fasta_file(filename))\n",
    "\n",
    "v3_sequence_names, v3_alignment = read_names_and_alignments_from_fasta(\"v3_alignment.fasta\")\n",
    "\n",
    "v3_big_sequence_names, v3_big_alignment = read_names_and_alignments_from_fasta(\"v3_big_alignment.fasta\")\n",
    "\n",
    "medium_num_seqs = 7\n",
    "v3_medium_alignment = v3_big_alignment[:medium_num_seqs]\n",
    "v3_medium_sequence_names = v3_big_sequence_names[:medium_num_seqs]"
   ]
  },
  {
   "cell_type": "markdown",
   "metadata": {},
   "source": [
    "### Tests"
   ]
  },
  {
   "cell_type": "code",
   "execution_count": 3,
   "metadata": {
    "nbgrader": {
     "grade": true,
     "grade_id": "branch3",
     "locked": true,
     "points": 4,
     "schema_version": 1,
     "solution": false
    }
   },
   "outputs": [
    {
     "name": "stdout",
     "output_type": "stream",
     "text": [
      "SUCCESS: branch passed all tests\n"
     ]
    }
   ],
   "source": [
    "# tests for branch3\n",
    "assert sorted(branch('(D,PA,PB);', 'C1')) == ['(D,PA,(PB,C1));', \n",
    "                                              '(D,PB,(PA,C1));', \n",
    "                                              '(PA,PB,(D,C1));']\n",
    "print(\"SUCCESS: branch passed all tests\")"
   ]
  },
  {
   "cell_type": "code",
   "execution_count": 4,
   "metadata": {
    "nbgrader": {
     "grade": true,
     "grade_id": "branch4",
     "locked": true,
     "points": 3,
     "schema_version": 1,
     "solution": false
    }
   },
   "outputs": [
    {
     "name": "stdout",
     "output_type": "stream",
     "text": [
      "SUCCESS: branch4 passed all tests\n"
     ]
    }
   ],
   "source": [
    "# tests for branch4\n",
    "assert sorted(branch('(D,PA,(PB,C1));', 'C2')) == ['(D,(PB,C1),(PA,C2));',\n",
    "                                                   '(D,PA,((PB,C1),C2));',\n",
    "                                                   '(D,PA,(C1,(PB,C2)));',\n",
    "                                                   '(D,PA,(PB,(C1,C2)));',\n",
    "                                                   '(PA,(PB,C1),(D,C2));']\n",
    "print(\"SUCCESS: branch4 passed all tests\")"
   ]
  },
  {
   "cell_type": "code",
   "execution_count": 5,
   "metadata": {
    "nbgrader": {
     "grade": true,
     "grade_id": "branch5",
     "locked": true,
     "points": 3,
     "schema_version": 1,
     "solution": false
    }
   },
   "outputs": [
    {
     "name": "stdout",
     "output_type": "stream",
     "text": [
      "SUCCESS: branch5 passed all tests\n"
     ]
    }
   ],
   "source": [
    "# tests for branch5\n",
    "assert sorted(branch('(D,(PB,C1),(PA,C2));', 'C3')) == ['((PB,C1),(PA,C2),(D,C3));',\n",
    "                                                        '(D,(C1,(PB,C3)),(PA,C2));',\n",
    "                                                        '(D,(PA,C2),((PB,C1),C3));',\n",
    "                                                        '(D,(PB,(C1,C3)),(PA,C2));',\n",
    "                                                        '(D,(PB,C1),((PA,C2),C3));',\n",
    "                                                        '(D,(PB,C1),(C2,(PA,C3)));',\n",
    "                                                        '(D,(PB,C1),(PA,(C2,C3)));']\n",
    "print(\"SUCCESS: branch5 passed all tests\")"
   ]
  },
  {
   "cell_type": "code",
   "execution_count": 6,
   "metadata": {
    "nbgrader": {
     "grade": true,
     "grade_id": "bound_one_column",
     "locked": true,
     "points": 5,
     "schema_version": 1,
     "solution": false
    }
   },
   "outputs": [
    {
     "name": "stdout",
     "output_type": "stream",
     "text": [
      "SUCCESS: bound_one_column passed all tests\n"
     ]
    }
   ],
   "source": [
    "# tests for bound_one_column\n",
    "v3_alignment_column0 = [s[0] for s in v3_alignment]\n",
    "v3_alignment_column3 = [s[3] for s in v3_alignment]\n",
    "v3_alignment_column29 = [s[29] for s in v3_alignment]\n",
    "assert bound('(D,PA,PB);', v3_alignment_column0, v3_sequence_names) == 0\n",
    "assert bound('(D,PA,PB);', v3_alignment_column3, v3_sequence_names) == 1\n",
    "assert bound('((C1,C2),(PA,PB),D);', v3_alignment_column29, v3_sequence_names) == 1\n",
    "print(\"SUCCESS: bound_one_column passed all tests\")"
   ]
  },
  {
   "cell_type": "code",
   "execution_count": 7,
   "metadata": {
    "nbgrader": {
     "grade": true,
     "grade_id": "bound_alignment",
     "locked": true,
     "points": 5,
     "schema_version": 1,
     "solution": false
    }
   },
   "outputs": [
    {
     "name": "stdout",
     "output_type": "stream",
     "text": [
      "SUCCESS: bound_alignment passed all tests\n"
     ]
    }
   ],
   "source": [
    "# tests for bound_alignment\n",
    "assert bound('(D,PA,PB);', v3_alignment, v3_sequence_names) == 25\n",
    "assert bound('((D, C1),PA,PB);', v3_alignment, v3_sequence_names) == 48\n",
    "assert bound('((C1,PA),(C2,PB),D);', v3_alignment, v3_sequence_names) == 64\n",
    "print(\"SUCCESS: bound_alignment passed all tests\")"
   ]
  },
  {
   "cell_type": "code",
   "execution_count": 8,
   "metadata": {
    "collapsed": true,
    "nbgrader": {
     "grade": false,
     "grade_id": "cell-0b40486d279ff93d",
     "locked": true,
     "schema_version": 1,
     "solution": false
    }
   },
   "outputs": [],
   "source": [
    "class CallCounter:\n",
    "    def __init__(self, func):\n",
    "        self._func = func\n",
    "        self._num_calls = 0\n",
    "    def __call__(self, *args, **kwds):\n",
    "        self._num_calls += 1\n",
    "        return self._func(*args, **kwds)\n",
    "    def num_calls(self):\n",
    "        return self._num_calls\n",
    "    def reset(self):\n",
    "        self._num_calls = 0"
   ]
  },
  {
   "cell_type": "code",
   "execution_count": 9,
   "metadata": {
    "nbgrader": {
     "grade": true,
     "grade_id": "branch_and_bound_v3",
     "locked": true,
     "points": 8,
     "schema_version": 1,
     "solution": false
    }
   },
   "outputs": [
    {
     "name": "stdout",
     "output_type": "stream",
     "text": [
      "SUCCESS: branch_and_bound_v3 passed all tests\n"
     ]
    }
   ],
   "source": [
    "# tests for branch_and_bound_v3\n",
    "counting_bound = CallCounter(bound)\n",
    "assert best_tree_branch_and_bound(v3_alignment, v3_sequence_names, branch, counting_bound) == (58, '(D,PA,(PB,(C1,C2)));')\n",
    "assert counting_bound.num_calls() == 19\n",
    "print(\"SUCCESS: branch_and_bound_v3 passed all tests\")"
   ]
  },
  {
   "cell_type": "code",
   "execution_count": 10,
   "metadata": {
    "nbgrader": {
     "grade": true,
     "grade_id": "branch_and_bound_v3_medium",
     "locked": true,
     "points": 7,
     "schema_version": 1,
     "solution": false
    }
   },
   "outputs": [
    {
     "name": "stdout",
     "output_type": "stream",
     "text": [
      "SUCCESS: branch_and_bound_v3 passed all tests\n"
     ]
    }
   ],
   "source": [
    "# tests for branch_and_bound_v3_medium\n",
    "counting_bound = CallCounter(bound)\n",
    "assert best_tree_branch_and_bound(v3_medium_alignment, v3_medium_sequence_names, branch, counting_bound) == (75, '(C09,(C35,(PD1,PD3)),(PA5,(PB6,PB8)));')\n",
    "assert counting_bound.num_calls() == 133\n",
    "print(\"SUCCESS: branch_and_bound_v3 passed all tests\")"
   ]
  },
  {
   "cell_type": "code",
   "execution_count": 11,
   "metadata": {
    "nbgrader": {
     "grade": true,
     "grade_id": "branch_and_bound_v3_big",
     "locked": true,
     "points": 5,
     "schema_version": 1,
     "solution": false
    }
   },
   "outputs": [
    {
     "name": "stdout",
     "output_type": "stream",
     "text": [
      "SUCCESS: branch_and_bound_v3 passed all tests\n"
     ]
    }
   ],
   "source": [
    "# tests for branch_and_bound_v3_big\n",
    "### BEGIN HIDDEN TESTS\n",
    "counting_bound = CallCounter(bound)\n",
    "assert best_tree_branch_and_bound(v3_big_alignment, v3_big_sequence_names, branch, counting_bound) == (99, '(C09,((PB6,PB8),(PA5,D1)),((PF1,PF3),(C35,(PD1,PD3))));')\n",
    "assert counting_bound.num_calls() == 2998\n",
    "print(\"SUCCESS: branch_and_bound_v3 passed all tests\")\n",
    "### END HIDDEN TESTS"
   ]
  }
 ],
 "metadata": {
  "celltoolbar": "Create Assignment",
  "kernelspec": {
   "display_name": "Python 3 [3.6]",
   "language": "python",
   "name": "python3"
  },
  "language_info": {
   "codemirror_mode": {
    "name": "ipython",
    "version": 3
   },
   "file_extension": ".py",
   "mimetype": "text/x-python",
   "name": "python",
   "nbconvert_exporter": "python",
   "pygments_lexer": "ipython3",
   "version": "3.6.4"
  }
 },
 "nbformat": 4,
 "nbformat_minor": 2
}
