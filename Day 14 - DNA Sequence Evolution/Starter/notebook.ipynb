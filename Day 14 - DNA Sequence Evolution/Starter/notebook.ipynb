{
    "cells": [
        {
            "cell_type": "markdown",
            "metadata": {
                "nbgrader": {
                    "grade": false,
                    "grade_id": "cell-122da478470e7bbe",
                    "locked": true,
                    "schema_version": 1,
                    "solution": false
                },
                "editable": false,
                "deletable": false
            },
            "source": [
                "# Day 14 notebook\n",
                "\n",
                "The objectives of this notebook are to practice\n",
                "\n",
                "* simulating DNA sequence evolution\n",
                "* computing distances from sequences\n",
                "\n",
                "We will practice these tasks by building a DNA sequence evolution simulator, that takes as input a phylogenetic tree and a sequence for the ancestral (root) node of the tree.  The simulation task will be broken down into three steps:\n",
                "1. Converting branch lengths to substitution probabilities (problem 1)\n",
                "2. Evolving a sequence along a single branch of the tree (problem 2)\n",
                "3. Evolving sequences over the entire tree (provided)\n",
                "\n",
                "We will then perform a simulation and compute the pairwise distance matrix of the resulting leaf sequences (problem 3), as one would do in the first step of a distance-based phylogenetic tree method.  Lastly, we will see how the pairwise distance matrix compares with the original tree."
            ]
        },
        {
            "cell_type": "markdown",
            "metadata": {
                "nbgrader": {
                    "grade": false,
                    "grade_id": "cell-c154395a02f03743",
                    "locked": true,
                    "schema_version": 1,
                    "solution": false
                },
                "editable": false,
                "deletable": false
            },
            "source": [
                "## Modules used for this assignment"
            ]
        },
        {
            "cell_type": "code",
            "execution_count": null,
            "metadata": {
                "collapsed": true,
                "nbgrader": {
                    "grade": false,
                    "grade_id": "cell-90793dc912dca761",
                    "locked": true,
                    "schema_version": 1,
                    "solution": false
                },
                "editable": false,
                "deletable": false
            },
            "outputs": [],
            "source": [
                "# standard library modules\n",
                "import math                   # for log and exp\n",
                "import random                 # for random sampling\n",
                "import collections            # for Counter\n",
                "\n",
                "# third-party modules\n",
                "import numpy                  # for sampling from a binomial distribution\n",
                "import toytree                # for working with trees\n",
                "from matplotlib import pyplot # for plotting"
            ]
        },
        {
            "cell_type": "markdown",
            "metadata": {
                "nbgrader": {
                    "grade": false,
                    "grade_id": "cell-a865475479898227",
                    "locked": true,
                    "schema_version": 1,
                    "solution": false
                },
                "editable": false,
                "deletable": false
            },
            "source": [
                "## The `toytree` module and Newick format\n",
                "\n",
                "In this activity we will use again use the [`toytree` module](https:\/\/toytree.readthedocs.io\/en\/latest\/4-tutorial.html) to work with phylogenetic trees and [Newick format](https:\/\/en.wikipedia.org\/wiki\/Newick_format) to specify trees."
            ]
        },
        {
            "cell_type": "markdown",
            "metadata": {
                "nbgrader": {
                    "grade": false,
                    "grade_id": "cell-0b4aaf8b19eab326",
                    "locked": true,
                    "schema_version": 1,
                    "solution": false
                },
                "editable": false,
                "deletable": false
            },
            "source": [
                "## PROBLEM 1: Converting branch lengths to substitution probabilities (1 POINT)\n",
                "The branch lengths of phylogenetic trees often represent the number of mutation events that have occurred along that branch, from the parent sequence to the child sequence.  More precisely, branch lengths are often measured in terms of *expected substitutions per site*, which is essentially the average number of mutations that have occurred at each position within the sequence.  This differs from the frequency of mismatches between the child and parent sequences because multiple mutations may occur at the same site.  Recall that the Jukes\u2014Cantor correction is a way to estimate a distance from an observed frequency of mismatches between two sequences.  The equation for this correction is:\n",
                "$d = -\\frac{3}{4}\\log(1 - \\frac{4}{3}f)$\n",
                "where $f$ is the fraction of positions in the two sequences that are mismatched.  This equation is implemented in the function below.\n",
                " "
            ]
        },
        {
            "cell_type": "code",
            "execution_count": null,
            "metadata": {
                "collapsed": true,
                "nbgrader": {
                    "grade": false,
                    "grade_id": "cell-a6d041e8f539859c",
                    "locked": true,
                    "schema_version": 1,
                    "solution": false
                },
                "editable": false,
                "deletable": false
            },
            "outputs": [],
            "source": [
                "def jukes_cantor_distance(mismatch_prob):\n",
                "    \"\"\"Computes the Jukes Cantor distance estimate given a frequency of mismatches.\n",
                "    \n",
                "    Args:\n",
                "        mismatch_prob: The frequency of mismatches in a sequence (floating point value in [0, 1])\n",
                "    Returns:\n",
                "        The Jukes Cantor distance estimate (floating point value in [0, 0.75])\n",
                "    \"\"\"\n",
                "    \n",
                "    \"\"\"Returns the Jukes Cantor distance estimate given a frequency of mismatches.\"\"\"\n",
                "    return -3\/4 * math.log(1 - 4\/3 * mismatch_prob) if mismatch_prob < 0.75 else float(\"inf\")"
            ]
        },
        {
            "cell_type": "markdown",
            "metadata": {
                "nbgrader": {
                    "grade": false,
                    "grade_id": "cell-f169070ba40b95e6",
                    "locked": true,
                    "schema_version": 1,
                    "solution": false
                },
                "editable": false,
                "deletable": false
            },
            "source": [
                "For the purposes of simulation, we will need to convert branch lengths (distances) to the probability of a given site having a mismatch.  Implement the inverse of the Juke Cantor distance below:"
            ]
        },
        {
            "cell_type": "code",
            "execution_count": null,
            "metadata": {
                "collapsed": true
            },
            "outputs": [],
            "source": [
                "def mismatch_prob_from_distance(distance):\n",
                "    \"\"\"Computes a frequency\/probability of mismatches given a distance, assuming the Jukes Cantor model.\n",
                "    \n",
                "    Args:\n",
                "        distance: a non-negative floating point value\n",
                "    Returns:\n",
                "        The expected frequency of mismatches in a sequence (a floating point value in [0, 0.75])\n",
                "    \"\"\"\n",
                "    ###\n",
                "    ### YOUR CODE HERE\n",
                "    ###\n"
            ]
        },
        {
            "cell_type": "code",
            "execution_count": null,
            "metadata": {
                "nbgrader": {
                    "grade": true,
                    "grade_id": "mismatch_prob_from_distance",
                    "locked": true,
                    "points": 1,
                    "schema_version": 1,
                    "solution": false
                },
                "editable": false,
                "deletable": false
            },
            "outputs": [],
            "source": [
                "# tests for mismatch_prob_from_distance\n",
                "assert mismatch_prob_from_distance(0) == 0\n",
                "assert mismatch_prob_from_distance(float(\"inf\")) == 0.75\n",
                "assert round(mismatch_prob_from_distance(0.01), 2) == 0.01\n",
                "assert round(mismatch_prob_from_distance(1), 2) == 0.55\n",
                "print(\"SUCCESS: mismatch_prob_from_distance passed all tests\")"
            ]
        },
        {
            "cell_type": "markdown",
            "metadata": {
                "nbgrader": {
                    "grade": false,
                    "grade_id": "cell-430396e83c7273e1",
                    "locked": true,
                    "schema_version": 1,
                    "solution": false
                },
                "editable": false,
                "deletable": false
            },
            "source": [
                "Let's plot this inverse function."
            ]
        },
        {
            "cell_type": "code",
            "execution_count": null,
            "metadata": {},
            "outputs": [],
            "source": [
                "num_points = 100\n",
                "max_distance = 5\n",
                "distances = [max_distance * (i \/ num_points) for i in range(num_points)]\n",
                "mismatch_probs = list(map(mismatch_prob_from_distance, distances))\n",
                "pyplot.plot(distances, mismatch_probs)\n",
                "pyplot.xlabel(\"distance\")\n",
                "pyplot.ylabel(\"mismatch probability\")\n",
                "pyplot.hlines(0.75, 0, max_distance, linestyles=\"dashed\", alpha=0.25)\n",
                "pyplot.show()"
            ]
        },
        {
            "cell_type": "markdown",
            "metadata": {
                "nbgrader": {
                    "grade": false,
                    "grade_id": "cell-ead87f6d54d4ee06",
                    "locked": true,
                    "schema_version": 1,
                    "solution": false
                },
                "editable": false,
                "deletable": false
            },
            "source": [
                "## PROBLEM 2: Simulating DNA sequence evolution (1 POINT)\n",
                "We will now implement a function that simulates DNA sequence evolution along a single branch in a tree.  For simplicity, we will only consider subsitutions (i.e., not insertions or deletions) in this simulation.  The top level function for this is given below, which takes as input a parent sequence and an evolutionary distance, and returns an evolved child sequence.  It calls your `mismatch_prob_from_distance` function from above to compute the probablity of a mismatch at any given position and then samples from a binomial distribution with this probability to determine the number of mismatches in the child sequence.  You are to provide the function `mutate_sequence`, which is given a parent sequence and a number of mismatches, and returns a sequence with the given number of mismatches with respect to the parent, and with mismatched positions selected uniformly and at random across the sequence.  I have provided the function `mutate_base` which I recommend that you use to randomly sample a mismatched base for a given position."
            ]
        },
        {
            "cell_type": "code",
            "execution_count": null,
            "metadata": {
                "collapsed": true,
                "nbgrader": {
                    "grade": false,
                    "grade_id": "cell-35c0521e81805247",
                    "locked": true,
                    "schema_version": 1,
                    "solution": false
                },
                "editable": false,
                "deletable": false
            },
            "outputs": [],
            "source": [
                "def evolve_sequence(parent_seq, distance):\n",
                "    \"\"\"Evolves a DNA sequence over a given evolutionary distance.\n",
                "    \n",
                "    Args:\n",
                "        parent_seq: the parent DNA sequence (a string)\n",
                "        distance: the distance over which to evolve the sequence (a non-negative float)\n",
                "    Returns:\n",
                "        The child (evolved) sequence.\n",
                "    \"\"\"\n",
                "    p_mismatch = mismatch_prob_from_distance(distance)\n",
                "    num_mismatches = numpy.random.binomial(len(parent_seq), p_mismatch)\n",
                "    return mutate_sequence(parent_seq, num_mismatches)"
            ]
        },
        {
            "cell_type": "code",
            "execution_count": null,
            "metadata": {
                "collapsed": true,
                "nbgrader": {
                    "grade": false,
                    "grade_id": "cell-3ae9d0ae7a636c7d",
                    "locked": true,
                    "schema_version": 1,
                    "solution": false
                },
                "editable": false,
                "deletable": false
            },
            "outputs": [],
            "source": [
                "BASES = \"ACGT\"\n",
                "MUTANTS = {base: BASES.replace(base, '') for base in BASES}\n",
                "def mutate_base(base):\n",
                "    \"\"\"Returns a randomly sampled base that mismatches with the base given as input.\"\"\"\n",
                "    return random.choice(MUTANTS[base])"
            ]
        },
        {
            "cell_type": "markdown",
            "metadata": {
                "nbgrader": {
                    "grade": false,
                    "grade_id": "cell-f656fb5bc8a10397",
                    "locked": true,
                    "schema_version": 1,
                    "solution": false
                },
                "editable": false,
                "deletable": false
            },
            "source": [
                "You are to fill in the function below.  I recommend that you use the `random.sample` function to sample the positions at which there are mismatches."
            ]
        },
        {
            "cell_type": "code",
            "execution_count": null,
            "metadata": {
                "collapsed": true
            },
            "outputs": [],
            "source": [
                "def mutate_sequence(seq, num_mismatches):\n",
                "    \"\"\"Mutates a DNA sequence at a given number of randomly selected positions.\n",
                "\n",
                "    Args:\n",
                "        seq: the original sequence (a string)\n",
                "        num_mismatches: the number of mismatches that the mutated sequence should\n",
                "                        have with respect to the original sequence.\n",
                "    Returns:\n",
                "        The mutated sequence as a string.\n",
                "    \"\"\"\n",
                "    ###\n",
                "    ### YOUR CODE HERE\n",
                "    ###\n"
            ]
        },
        {
            "cell_type": "markdown",
            "metadata": {
                "nbgrader": {
                    "grade": false,
                    "grade_id": "cell-193a07855aa37fef",
                    "locked": true,
                    "schema_version": 1,
                    "solution": false
                },
                "editable": false,
                "deletable": false
            },
            "source": [
                "The functions below will be useful for counting mismatches in alignments."
            ]
        },
        {
            "cell_type": "code",
            "execution_count": null,
            "metadata": {
                "collapsed": true,
                "nbgrader": {
                    "grade": false,
                    "grade_id": "cell-7740db0c1d505162",
                    "locked": true,
                    "schema_version": 1,
                    "solution": false
                },
                "editable": false,
                "deletable": false
            },
            "outputs": [],
            "source": [
                "def num_alignment_mismatches(alignment):\n",
                "    \"\"\"Returns the number of mismatched positions in the given ungapped alignment.\"\"\"\n",
                "    return sum(c1 != c2 for c1, c2 in zip(*alignment))\n",
                "\n",
                "def mismatched_alignment_positions(alignment):\n",
                "    \"\"\"Returns a list of the positions at which there are mismatches in the given ungapped alignment.\"\"\"\n",
                "    return [i for i, (c1, c2) in enumerate(zip(*alignment)) if c1 != c2]"
            ]
        },
        {
            "cell_type": "code",
            "execution_count": null,
            "metadata": {
                "nbgrader": {
                    "grade": true,
                    "grade_id": "mutate_sequence",
                    "locked": true,
                    "points": 1,
                    "schema_version": 1,
                    "solution": false
                },
                "scrolled": true,
                "editable": false,
                "deletable": false
            },
            "outputs": [],
            "source": [
                "# tests for mutate_sequence\n",
                "seq = \"TACTACTATTTTCGTACCGA\"\n",
                "assert mutate_sequence(seq, 0) == seq\n",
                "assert num_alignment_mismatches([seq, mutate_sequence(seq, 1)]) == 1\n",
                "assert num_alignment_mismatches([seq, mutate_sequence(seq, 7)]) == 7\n",
                "assert num_alignment_mismatches([seq, mutate_sequence(seq, len(seq))]) == len(seq)\n",
                "\n",
                "num_trials = 5000\n",
                "num_mismatches = 4\n",
                "mismatch_counts = collections.Counter()\n",
                "for i in range(num_trials):\n",
                "    alignment = [seq, mutate_sequence(seq, num_mismatches)]\n",
                "    mismatch_counts.update(mismatched_alignment_positions(alignment))\n",
                "mismatch_freqs = [round(mismatch_counts[i] \/ num_trials, 1) for i in range(len(seq))]\n",
                "# With 4 mismatches the average number of times that each position is mismatched should be 0.2\n",
                "# this assertion should pass with very high probability\n",
                "assert mismatch_freqs == [4 \/ len(seq)] * len(seq)\n",
                "print(\"SUCCESS: mutate_sequence passed all tests\")"
            ]
        },
        {
            "cell_type": "markdown",
            "metadata": {
                "nbgrader": {
                    "grade": false,
                    "grade_id": "cell-c98da91c5635efd7",
                    "locked": true,
                    "schema_version": 1,
                    "solution": false
                },
                "editable": false,
                "deletable": false
            },
            "source": [
                "### A function for simulating evolution along an entire tree\n",
                "Finally, here is a function that performs an evolutionary simulation along an entire tree."
            ]
        },
        {
            "cell_type": "code",
            "execution_count": null,
            "metadata": {
                "collapsed": true,
                "nbgrader": {
                    "grade": false,
                    "grade_id": "cell-ad6f7ded738b8cf4",
                    "locked": true,
                    "schema_version": 1,
                    "solution": false
                },
                "editable": false,
                "deletable": false
            },
            "outputs": [],
            "source": [
                "def evolve_sequences_along_tree(ancestral_seq, newick_tree):\n",
                "    \"\"\"Evolves DNA sequences along a tree given an ancestral sequence at the root.\n",
                "\n",
                "    The ancestral sequence is assigned to the root node and evolution is simulated along \n",
                "    each branch according to the branch lengths.\n",
                "    \n",
                "    Args:\n",
                "        ancestral_seq: the ancestral DNA sequence\n",
                "        newick_tree: A newick string specifying the tree\n",
                "    Returns:\n",
                "        A toytree.tree object with simulated evolved sequences assigned to each node.\n",
                "    \"\"\"\n",
                "    tree = toytree.tree(newick_tree)\n",
                "    for node in tree.treenode.traverse(\"preorder\"):\n",
                "        if node.is_root():\n",
                "            node_seq = ancestral_seq\n",
                "        else:\n",
                "            node_seq = evolve_sequence(node.up.sequence, node.dist)\n",
                "        node.add_feature(\"sequence\", node_seq)\n",
                "    return tree"
            ]
        },
        {
            "cell_type": "markdown",
            "metadata": {
                "nbgrader": {
                    "grade": false,
                    "grade_id": "cell-79faa68e223f4a13",
                    "locked": true,
                    "schema_version": 1,
                    "solution": false
                },
                "editable": false,
                "deletable": false
            },
            "source": [
                "The following function will be useful for extracting the resulting leaf sequences from the tree."
            ]
        },
        {
            "cell_type": "code",
            "execution_count": null,
            "metadata": {
                "collapsed": true,
                "nbgrader": {
                    "grade": false,
                    "grade_id": "cell-9b3f1d839664773e",
                    "locked": true,
                    "schema_version": 1,
                    "solution": false
                },
                "editable": false,
                "deletable": false
            },
            "outputs": [],
            "source": [
                "def leaf_sequences(tree):\n",
                "    \"\"\"Returns a dictionary of the leaf names mapped to their sequences for the given toytree.tree.\"\"\"\n",
                "    return {leaf.name: leaf.sequence for leaf in tree.treenode}"
            ]
        },
        {
            "cell_type": "markdown",
            "metadata": {
                "nbgrader": {
                    "grade": false,
                    "grade_id": "cell-4362de47810100f2",
                    "locked": true,
                    "schema_version": 1,
                    "solution": false
                },
                "editable": false,
                "deletable": false
            },
            "source": [
                "Here are some test runs of the simulator with small trees and an ancestral sequence that is all As (so that it is easier to visualize where the subsitutions have occurred)."
            ]
        },
        {
            "cell_type": "code",
            "execution_count": null,
            "metadata": {
                "nbgrader": {
                    "grade": false,
                    "grade_id": "cell-19847d0651fd3550",
                    "locked": true,
                    "schema_version": 1,
                    "solution": false
                },
                "scrolled": false,
                "editable": false,
                "deletable": false
            },
            "outputs": [],
            "source": [
                "ancestral_sequence = \"A\" * 40\n",
                "newick1 = \"((A:0.05, B:0.05):0.25, (C:0.15, D:0.15):0.15);\"\n",
                "test_tree1 = evolve_sequences_along_tree(ancestral_sequence, newick1)\n",
                "newick2 = \"((A:0.1, B:0.05):0.1, (C:0.2, D:0.15):0.15, E:0.25);\"\n",
                "test_tree2 = evolve_sequences_along_tree(ancestral_sequence, newick2)\n",
                "\n",
                "def tip_labels_with_seqs(tree):\n",
                "    leaf_seqs = leaf_sequences(tree)\n",
                "    label_format = \"<span style=\\\"font-family:monospace;font-size:150%\\\">{}: {}<\/span>\"\n",
                "    return [label_format.format(name, leaf_seqs[name]) for name in tree.get_tip_labels()]\n",
                "\n",
                "canvas, axes = test_tree1.draw(tree_style=\"c\", node_labels=False, orient=\"right\", width=1200, \n",
                "                               tip_labels=tip_labels_with_seqs(test_tree1))\n",
                "\n",
                "canvas, axes = test_tree2.draw(tree_style=\"c\", node_labels=False, orient=\"right\", width=1200, \n",
                "                               tip_labels_align=True,\n",
                "                               tip_labels=tip_labels_with_seqs(test_tree2))"
            ]
        },
        {
            "cell_type": "markdown",
            "metadata": {
                "nbgrader": {
                    "grade": false,
                    "grade_id": "cell-1d843569c7d6fdfa",
                    "locked": true,
                    "schema_version": 1,
                    "solution": false
                },
                "editable": false,
                "deletable": false
            },
            "source": [
                "## PROBLEM 3: Computing pairwise distances between sequences (1 POINT)\n",
                "We will now write a function that computes all pairwise distances for a set of sequences.  The function will take as input a dictionary mapping names to sequences and the output will be a dictionary mapping pairs (two element tuples) of names to pairwise distances of the corresponding sequences.  Your function should use the `jukes_cantor_distance` function."
            ]
        },
        {
            "cell_type": "code",
            "execution_count": null,
            "metadata": {
                "collapsed": true
            },
            "outputs": [],
            "source": [
                "def compute_pairwise_distances(sequences):\n",
                "    \"\"\"Computes the pairwise distance matrix for the given set of DNA sequences.\n",
                "    \n",
                "    Args:\n",
                "        sequences: a dictionary mapping names to sequences.\n",
                "    Returns:\n",
                "        A pairwise distance matrix in the form of a dictionary that maps pairs (tuples)\n",
                "        of names to pairwise distances of the corresponding sequences.  The output matrix\n",
                "        will be symmetric (i.e., both (a, b) and (b, a) will map to the same distance value).\n",
                "    \"\"\"    \n",
                "    ###\n",
                "    ### YOUR CODE HERE\n",
                "    ###\n"
            ]
        },
        {
            "cell_type": "code",
            "execution_count": null,
            "metadata": {
                "nbgrader": {
                    "grade": true,
                    "grade_id": "compute_pairwise_distances",
                    "locked": true,
                    "points": 1,
                    "schema_version": 1,
                    "solution": false
                },
                "editable": false,
                "deletable": false
            },
            "outputs": [],
            "source": [
                "# tests for compute_pairwise_distances\n",
                "def round_dict(d, digits=2):\n",
                "    return {key: round(value, 2) for key, value in d.items()}\n",
                "test_seqs1 = {\n",
                "    'A': 'AAAAACAAAAAAAGCAAAGGAAAAAGATTGAAATGAAAAA',\n",
                "    'B': 'AAAAACATAAAATCCAAAGGAAAAAGATGCAAATGAAAAA',\n",
                "    'C': 'AAAAAAAGAAAAGAAGAAAAAGATAAAATACAAAAAAAAA',\n",
                "    'D': 'AAGAACAGAAAAAAAAAAGAACATAAAAGACAAAAAAAAA'}\n",
                "test_dists1 = {\n",
                "    ('A', 'A'): 0,    ('A', 'B'): 0.14, ('A', 'C'): 0.57, ('A', 'D'): 0.47,\n",
                "    ('B', 'A'): 0.14, ('B', 'B'): 0,    ('B', 'C'): 0.63, ('B', 'D'): 0.47,\n",
                "    ('C', 'A'): 0.57, ('C', 'B'): 0.63, ('C', 'C'): 0,    ('C', 'D'): 0.2,\n",
                "    ('D', 'A'): 0.47, ('D', 'B'): 0.47, ('D', 'C'): 0.2,  ('D', 'D'): 0}\n",
                "assert round_dict(compute_pairwise_distances(test_seqs1)) == test_dists1\n",
                "\n",
                "test_seqs2 = {\n",
                "    'A': 'CATCTAG',\n",
                "    'B': 'CATCTAG',\n",
                "    'C': 'CATCTAG'}\n",
                "test_dists2 = {\n",
                "    ('A', 'A'): 0, ('A', 'B'): 0, ('A', 'C'): 0,\n",
                "    ('B', 'A'): 0, ('B', 'B'): 0, ('B', 'C'): 0,\n",
                "    ('C', 'A'): 0, ('C', 'B'): 0, ('C', 'C'): 0}\n",
                "assert round_dict(compute_pairwise_distances(test_seqs2)) == test_dists2\n",
                "\n",
                "test_seqs3 = {\n",
                "    'A': 'AAAAATAAAAAAATAGTCAAAAATTAAAAAAACAAAAAAA',\n",
                "    'B': 'AAAAATAAAAAAATAAACAAAAATAAAAAAAAAAAAAAAA',\n",
                "    'C': 'AAGACTGAAAAACGAAAGGAACAGTAGACCATAATAAAGA',\n",
                "    'D': 'AAAAATAAAAAAAGAAAGGAAAAAAAAAACAAAATAAAGA',\n",
                "    'E': 'GCGGAAAAGAAAAGATATAAAAAAAAAAAATTTACGAAAA'}\n",
                "test_dists3 = {\n",
                "    ('A', 'A'): 0,    ('A', 'B'): 0.11, ('A', 'C'): 0.69, ('A', 'D'): 0.34, ('A', 'E'): 0.63,\n",
                "    ('B', 'A'): 0.11, ('B', 'B'): 0,    ('B', 'C'): 0.57, ('B', 'D'): 0.2,  ('B', 'E'): 0.52, \n",
                "    ('C', 'A'): 0.69, ('C', 'B'): 0.57, ('C', 'C'): 0,    ('C', 'D'): 0.3,  ('C', 'E'): 0.99,\n",
                "    ('D', 'A'): 0.34, ('D', 'B'): 0.2,  ('D', 'C'): 0.3,  ('D', 'D'): 0,    ('D', 'E'): 0.57,\n",
                "    ('E', 'A'): 0.63, ('E', 'B'): 0.52, ('E', 'C'): 0.99, ('E', 'D'): 0.57, ('E', 'E'): 0}\n",
                "assert round_dict(compute_pairwise_distances(test_seqs3)) == test_dists3\n",
                "print(\"SUCCESS: compute_pairwise_distances passed all tests\")"
            ]
        },
        {
            "cell_type": "markdown",
            "metadata": {
                "nbgrader": {
                    "grade": false,
                    "grade_id": "cell-92a2018a95b3ba9a",
                    "locked": true,
                    "schema_version": 1,
                    "solution": false
                },
                "editable": false,
                "deletable": false
            },
            "source": [
                "## Bonus exploration\n",
                "\n",
                "Try some simulations and compute the pairwise distance marix for each result.\n",
                "\n",
                "1. How well do the pairwise distances match the tree?\n",
                "2. Do the pairwise distances satisfy the ultrametric property?\n",
                "3. How do your results (and answers to 1 and 2) change as you increase the length of the sequences?"
            ]
        },
        {
            "cell_type": "markdown",
            "metadata": {},
            "source": [
                "###\n",
                "### Your results here\n",
                "###\n"
            ]
        }
    ],
    "metadata": {
        "celltoolbar": "Create Assignment",
        "kernelspec": {
            "display_name": "Python 3 [3.6]",
            "language": "python",
            "name": "python3"
        },
        "language_info": {
            "codemirror_mode": {
                "name": "ipython",
                "version": 3
            },
            "file_extension": ".py",
            "mimetype": "text\/x-python",
            "name": "python",
            "nbconvert_exporter": "python",
            "pygments_lexer": "ipython3",
            "version": "3.6.4"
        }
    },
    "nbformat": 4,
    "nbformat_minor": 2
}