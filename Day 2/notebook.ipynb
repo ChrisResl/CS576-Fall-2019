{
 "cells": [
  {
   "cell_type": "markdown",
   "metadata": {
    "nbgrader": {
     "grade": false,
     "locked": true,
     "solution": false
    }
   },
   "source": [
    "# Day 2 notebook\n",
    "\n",
    "The objectives of this notebook are to practice\n",
    "* the biological concepts of \n",
    "  * the translation of RNA to protein\n",
    "  * the consequences of mutations in protein-coding DNA\n",
    "  * gene regulatory networks\n",
    "* the Python concepts of \n",
    "  * creating and using Python modules\n",
    "  * reading input from files\n",
    "  * calling functions on lists of arguments using unpacking"
   ]
  },
  {
   "cell_type": "markdown",
   "metadata": {
    "nbgrader": {
     "grade": false,
     "locked": true,
     "solution": false
    }
   },
   "source": [
    "## Translation of RNA to protein"
   ]
  },
  {
   "cell_type": "markdown",
   "metadata": {
    "nbgrader": {
     "grade": false,
     "locked": true,
     "solution": false
    }
   },
   "source": [
    "### PROBLEM 1 - RNA fragment translation (1 POINT)"
   ]
  },
  {
   "cell_type": "markdown",
   "metadata": {
    "nbgrader": {
     "grade": false,
     "locked": true,
     "solution": false
    }
   },
   "source": [
    "Continuing our work on writing functions that work with DNA, RNA, and protein sequences, let us write a function that translates all codons of a string representing an RNA fragment, where we again assume that the first three bases of the RNA correspond to a codon and that the length of RNA is a multiple of three. At this point, we will not require that the first codon is the start codon and that the last codon is a stop codon."
   ]
  },
  {
   "cell_type": "markdown",
   "metadata": {
    "nbgrader": {
     "grade": false,
     "locked": true,
     "solution": false
    }
   },
   "source": [
    "You will likely want to copy some of your functions from the Day 1 notebook here to help with implementing this function.  If you wish, you may create a Python module with those functions (see the related Problem 8 below).  Also, as in the previous in-class activities, you will likely find the `join` method of the empty string convenient for concatenating all of the strings in a list together.  For example,"
   ]
  },
  {
   "cell_type": "code",
   "execution_count": null,
   "metadata": {
    "nbgrader": {
     "grade": false,
     "locked": true,
     "solution": false
    }
   },
   "outputs": [],
   "source": [
    "bases = [\"A\", \"C\", \"G\", \"T\"]\n",
    "''.join(bases)"
   ]
  },
  {
   "cell_type": "code",
   "execution_count": null,
   "metadata": {
    "collapsed": true
   },
   "outputs": [],
   "source": [
    "### BEGIN SOLUTION template=\"\"\n",
    "import translation\n",
    "### END SOLUTION\n",
    "\n",
    "def translate_rna_fragment(rna):\n",
    "### BEGIN SOLUTION\n",
    "    amino_acids = [translation.translate_codon(codon) \n",
    "                   for codon in translation.codons(rna)]\n",
    "    return ''.join(amino_acids)\n",
    "### END SOLUTION"
   ]
  },
  {
   "cell_type": "code",
   "execution_count": null,
   "metadata": {
    "nbgrader": {
     "grade": true,
     "grade_id": "translate_rna_fragment",
     "locked": true,
     "points": "1",
     "solution": false
    }
   },
   "outputs": [],
   "source": [
    "# tests for translate_rna_fragment\n",
    "assert translate_rna_fragment(\"UUUGCGACUUAU\") == \"FAUY\", \"Failed on input 'UUUGCGACUUAU'\"\n",
    "assert translate_rna_fragment(\"ACG\") == \"U\", \"Failed on input 'UGA'\"\n",
    "assert translate_rna_fragment(\"\") == \"\", \"Failed on the empty string\"\n",
    "print(\"SUCCESS: translate_rna_fragment passed all tests!\")"
   ]
  },
  {
   "cell_type": "markdown",
   "metadata": {
    "collapsed": true,
    "nbgrader": {
     "grade": false,
     "locked": true,
     "solution": false
    }
   },
   "source": [
    "### PROBLEM 2 - RNA translation (1 POINT)"
   ]
  },
  {
   "cell_type": "markdown",
   "metadata": {
    "nbgrader": {
     "grade": false,
     "locked": true,
     "solution": false
    }
   },
   "source": [
    "In this problem we step up the complexity and perform RNA translation of an entire RNA molecule.  Recall that RNA translation of a full RNA molecules involves:\n",
    "1. Scanning for the first occurrence of a start codon (\"AUG\")\n",
    "2. Translation of the start codon and successive codons in the same reading frame\n",
    "3. Termination of translation when a stop codon is reached\n",
    "\n",
    "You may assume that the RNA molecule contains a start codon as well as a downstream, in-frame, stop codon."
   ]
  },
  {
   "cell_type": "code",
   "execution_count": null,
   "metadata": {
    "collapsed": true
   },
   "outputs": [],
   "source": [
    "def translate_rna(rna):\n",
    "### BEGIN SOLUTION\n",
    "    # Find the first start codon\n",
    "    start_codon = \"AUG\"\n",
    "    start_codon_position = rna.find(start_codon)\n",
    "    codons_from_start = translation.codons(rna[start_codon_position:])\n",
    "    amino_acids = []\n",
    "    for codon in codons_from_start:\n",
    "        amino_acid = translation.translate_codon(codon)\n",
    "        if amino_acid == \"*\":\n",
    "            break\n",
    "        amino_acids.append(amino_acid)\n",
    "    return ''.join(amino_acids)\n",
    "### END SOLUTION"
   ]
  },
  {
   "cell_type": "code",
   "execution_count": null,
   "metadata": {
    "nbgrader": {
     "grade": true,
     "grade_id": "translate_rna",
     "locked": true,
     "points": "1",
     "solution": false
    }
   },
   "outputs": [],
   "source": [
    "# tests for translate_rna\n",
    "assert translate_rna(\"AUGACUUAUUAG\") == \"MUY\", \"Failed on input 'AUGACUUAUUAG'\"\n",
    "assert translate_rna(\"AAUGACUUAUUAG\") == \"MUY\", \"Failed on input 'AAUGACUUAUUAG'\"\n",
    "assert translate_rna(\"AUGACUUAUUAGCT\") == \"MUY\", \"Failed on input 'AUGACUUAUUAGCT'\"\n",
    "assert translate_rna(\"AAUGACUUAUUAGCT\") == \"MUY\", \"Failed on input 'AAUGACUUAUUAGCT'\"\n",
    "print(\"SUCCESS: translate_rna passed all tests!\")"
   ]
  },
  {
   "cell_type": "markdown",
   "metadata": {
    "nbgrader": {
     "grade": false,
     "locked": true,
     "solution": false
    }
   },
   "source": [
    "### PROBLEM 3 - Consequences of the deltaF508 mutation in CFTR (2 POINTS)\n",
    "\n",
    "We will now revisit the CFTR gene fragment that we saw in the day 1 notebook and examine how the deltaF508 mutation impacts the resulting amino acid sequence of the encoded protein.  Below is again the sequence of the CFTR gene fragment."
   ]
  },
  {
   "cell_type": "code",
   "execution_count": null,
   "metadata": {
    "nbgrader": {
     "grade": false,
     "locked": true,
     "solution": false
    }
   },
   "outputs": [],
   "source": [
    "cftr_gene_fragment = (\"ACTTCACTTCTAATGGTGATTATGGGAGAACTGGAGCCTTCAGAGGGTAA\"\n",
    "                      \"AATTAAGCACAGTGGAAGAATTTCATTCTGTTCTCAGTTTTCCTGGATTA\"\n",
    "                      \"TGCCTGGCACCATTAAAGAAAATATCATCTTTGGTGTTTCCTATGATGAA\"\n",
    "                      \"TATAGATACAGAAGCGTCATCAAAGCATGCCAACTAGAAGAG\")\n",
    "print(cftr_gene_fragment)"
   ]
  },
  {
   "cell_type": "markdown",
   "metadata": {
    "nbgrader": {
     "grade": false,
     "locked": true,
     "solution": false
    }
   },
   "source": [
    "And here is the sequence of the mutated CFTR gene fragment, which has bases 129, 130, and 131 (1-based coordinates) removed."
   ]
  },
  {
   "cell_type": "code",
   "execution_count": null,
   "metadata": {
    "nbgrader": {
     "grade": false,
     "locked": true,
     "solution": false
    }
   },
   "outputs": [],
   "source": [
    "deltaf508_fragment = cftr_gene_fragment[:128] + cftr_gene_fragment[131:]\n",
    "print(deltaf508_fragment)"
   ]
  },
  {
   "cell_type": "markdown",
   "metadata": {
    "nbgrader": {
     "grade": false,
     "locked": true,
     "solution": false
    }
   },
   "source": [
    "Recall that the removed bases were"
   ]
  },
  {
   "cell_type": "code",
   "execution_count": null,
   "metadata": {
    "nbgrader": {
     "grade": false,
     "locked": true,
     "solution": false
    }
   },
   "outputs": [],
   "source": [
    "print(cftr_gene_fragment[128:131])"
   ]
  },
  {
   "cell_type": "markdown",
   "metadata": {
    "nbgrader": {
     "grade": false,
     "locked": true,
     "solution": false
    }
   },
   "source": [
    "Using your translation function and considering the coordinates of the deltaF508 mutation, determine\n",
    "1. how many codons of the non-mutant fragment overlap with this deletion\n",
    "2. which single amino acid is effectively deleted from the resulting mutant RNA fragment\n",
    "\n",
    "Note that this CFTR sequence is only a fragment (substring) of the entire CFTR gene and so will not begin with a start codon or end with a stop codon.  You will also need to know that the first three bases of the fragment are a codon.\n",
    "\n",
    "Answer the above two questions by assigning your answers to the variables in the code below."
   ]
  },
  {
   "cell_type": "code",
   "execution_count": null,
   "metadata": {
    "collapsed": true
   },
   "outputs": [],
   "source": [
    "# Assign to the variable 'num_codons_overlapping_with_deletion' an integer\n",
    "### BEGIN SOLUTION template=num_codons_overlapping_with_deletion = ?\n",
    "num_codons_overlapping_with_deletion = 2\n",
    "### END SOLUTION\n",
    "# Assign to the variable 'amino_acid_deleted' a single character string\n",
    "### BEGIN SOLUTION template=amino_acid_deleted = ?\n",
    "amino_acid_deleted = \"F\"\n",
    "### END SOLUTION"
   ]
  },
  {
   "cell_type": "code",
   "execution_count": null,
   "metadata": {
    "nbgrader": {
     "grade": true,
     "grade_id": "deltaf508_num_codons",
     "locked": true,
     "points": "1",
     "solution": false
    }
   },
   "outputs": [],
   "source": [
    "# test for num_codon_overlapping_with_deletion\n",
    "assert isinstance(num_codons_overlapping_with_deletion, int), \"num_codons_overlapping_with_deletion is not an integer\"\n",
    "### BEGIN HIDDEN TESTS\n",
    "assert num_codons_overlapping_with_deletion == 2, \"num_codons_overlapping_with_deletion is incorrect\"\n",
    "print(\"SUCCESS: num_codons_overlapping_with_deletion passed all tests!\")\n",
    "### END HIDDEN TESTS"
   ]
  },
  {
   "cell_type": "code",
   "execution_count": null,
   "metadata": {
    "nbgrader": {
     "grade": true,
     "grade_id": "deltaf508_amino_acid",
     "locked": true,
     "points": "1",
     "solution": false
    }
   },
   "outputs": [],
   "source": [
    "# test for amino_acid_deleted\n",
    "assert isinstance(amino_acid_deleted, str), \"amino_acid_deleted is not a string\"\n",
    "### BEGIN HIDDEN TESTS\n",
    "assert amino_acid_deleted == \"F\", \"amino_acid_deleted is incorrect\"\n",
    "print(\"SUCCESS: amino_acid_deleted passed all tests!\")\n",
    "### END HIDDEN TESTS"
   ]
  },
  {
   "cell_type": "markdown",
   "metadata": {
    "nbgrader": {
     "grade": false,
     "locked": true,
     "solution": false
    }
   },
   "source": [
    "## The lac operon gene regulatory network\n",
    "For the remainder of this notebook, we will practice with very simple modeling of the lac operon gene regulatory network that was described in lecture.  \n",
    "\n",
    "We will add one more component to this network, which is the *CAP* protein.  In an environment with low levels of glucose the CAP protein binds to the regulatory region for the lac operon and increases transcription of the lac operon, but only when *lacI* is not bound to the regulatory region.  This allows the cell to try to make up for the lack of glucose by increasing its metabolism of lactose instead.\n",
    "\n",
    "The entire network, along with the deterministic functions/circuits for each downstream variable, is defined by the figure below.  The `lactose`, `lacI`, `glucose`, and `CAP` input variables take the value `True` when they are present and the value `False` when they are absent.  The `lacI_bound` and `CAP_bound` variables are also boolean valued and depend on a subset of the input variables.  The `lacZ` variable represents the transcription level of the lac operon, and can take one of three values: \"absent\", \"low\", and \"high.\""
   ]
  },
  {
   "cell_type": "markdown",
   "metadata": {
    "nbgrader": {
     "grade": false,
     "locked": true,
     "solution": false
    }
   },
   "source": [
    "![Lac circuit](network.png)"
   ]
  },
  {
   "cell_type": "markdown",
   "metadata": {
    "nbgrader": {
     "grade": false,
     "locked": true,
     "solution": false
    }
   },
   "source": [
    "We will define this network in Python using a series of very simple functions, which can then be composed."
   ]
  },
  {
   "cell_type": "markdown",
   "metadata": {
    "nbgrader": {
     "grade": false,
     "locked": true,
     "solution": false
    }
   },
   "source": [
    "### PROBLEM 4 - lacI_bound (1 POINT)\n",
    "Write a function that specifies the lacI-bound circuit, as defined in the figure above.  This should be a simple one-liner that uses a boolean expression."
   ]
  },
  {
   "cell_type": "code",
   "execution_count": null,
   "metadata": {
    "collapsed": true
   },
   "outputs": [],
   "source": [
    "def lacI_bound(lactose, lacI):\n",
    "### BEGIN SOLUTION\n",
    "    return not lactose and lacI\n",
    "### END SOLUTION"
   ]
  },
  {
   "cell_type": "code",
   "execution_count": null,
   "metadata": {
    "nbgrader": {
     "grade": true,
     "grade_id": "lacI_bound",
     "locked": true,
     "points": "1",
     "solution": false
    }
   },
   "outputs": [],
   "source": [
    "# tests for function lacI_bound\n",
    "assert lacI_bound(False, False) == False, \"Failed on input False, False\"\n",
    "assert lacI_bound(False, True) == True, \"Failed on input False, True\"\n",
    "assert lacI_bound(True, False) == False, \"Failed on input True, False\"\n",
    "assert lacI_bound(True, True) == False, \"Failed on input True, True\"\n",
    "print(\"SUCCESS: lacI_bound passed all tests!\")"
   ]
  },
  {
   "cell_type": "markdown",
   "metadata": {
    "nbgrader": {
     "grade": false,
     "locked": true,
     "solution": false
    }
   },
   "source": [
    "### PROBLEM 5 - CAP_bound (1 POINT)\n",
    "Write a function that specifies the CAP-bound circuit, as defined in the figure above.  This should also be a simple one-liner that uses a boolean expression."
   ]
  },
  {
   "cell_type": "code",
   "execution_count": null,
   "metadata": {
    "collapsed": true
   },
   "outputs": [],
   "source": [
    "def CAP_bound(glucose, CAP):\n",
    "### BEGIN SOLUTION\n",
    "    return not glucose and CAP\n",
    "### END SOLUTION"
   ]
  },
  {
   "cell_type": "code",
   "execution_count": null,
   "metadata": {
    "nbgrader": {
     "grade": true,
     "grade_id": "CAP_bound",
     "locked": true,
     "points": "1",
     "solution": false
    }
   },
   "outputs": [],
   "source": [
    "# tests for function CAP_bound\n",
    "assert CAP_bound(False, False) == False, \"Failed on input False, False\"\n",
    "assert CAP_bound(False, True) == True, \"Failed on input False, True\"\n",
    "assert CAP_bound(True, False) == False, \"Failed on input True, False\"\n",
    "assert CAP_bound(True, True) == False, \"Failed on input True, True\"\n",
    "print(\"SUCCESS: CAP_bound passed all tests!\")"
   ]
  },
  {
   "cell_type": "markdown",
   "metadata": {
    "nbgrader": {
     "grade": false,
     "locked": true,
     "solution": false
    }
   },
   "source": [
    "### PROBLEM 6 - lacZ (1 POINT)\n",
    "Write a function that specifies the lacZ circuit, as defined in the figure above."
   ]
  },
  {
   "cell_type": "code",
   "execution_count": null,
   "metadata": {
    "collapsed": true,
    "nbgrader": {
     "grade": false,
     "locked": false,
     "solution": false
    }
   },
   "outputs": [],
   "source": [
    "def lacZ(is_lacI_bound, is_CAP_bound):\n",
    "### BEGIN SOLUTION\n",
    "    if is_lacI_bound:\n",
    "        return \"absent\"\n",
    "    elif is_CAP_bound:\n",
    "        return \"high\"\n",
    "    else:\n",
    "        return \"low\"\n",
    "### END SOLUTION"
   ]
  },
  {
   "cell_type": "code",
   "execution_count": null,
   "metadata": {
    "nbgrader": {
     "grade": true,
     "grade_id": "lacZ",
     "locked": true,
     "points": "1",
     "solution": false
    }
   },
   "outputs": [],
   "source": [
    "# tests for function lacZ\n",
    "assert lacZ(False, False) == \"low\", \"Failed on input False, False\"\n",
    "assert lacZ(False, True) == \"high\", \"Failed on input False, True\"\n",
    "assert lacZ(True, False) == \"absent\", \"Failed on input True, False\"\n",
    "assert lacZ(True, True) == \"absent\", \"Failed on input True, True\"\n",
    "print(\"SUCCESS: lacZ passed all tests!\")"
   ]
  },
  {
   "cell_type": "markdown",
   "metadata": {
    "nbgrader": {
     "grade": false,
     "locked": true,
     "solution": false
    }
   },
   "source": [
    "### PROBLEM 7 - lacZ full circuit (1 POINT)\n",
    "Finally, let us write a function that gives the value of lacZ depending on the input variables `lactose`, `lacI`, `glucose`, and `CAP`.  Use composition of the functions above to accomplish this in a simple one-liner."
   ]
  },
  {
   "cell_type": "code",
   "execution_count": null,
   "metadata": {
    "collapsed": true
   },
   "outputs": [],
   "source": [
    "def lacZ_full_circuit(lactose, lacI, glucose, CAP):\n",
    "### BEGIN SOLUTION\n",
    "    return lacZ(lacI_bound(lactose, lacI), CAP_bound(glucose, CAP))\n",
    "### END SOLUTION"
   ]
  },
  {
   "cell_type": "code",
   "execution_count": null,
   "metadata": {
    "nbgrader": {
     "grade": true,
     "grade_id": "lacZ_full_circuit",
     "locked": true,
     "points": "1",
     "solution": false
    }
   },
   "outputs": [],
   "source": [
    "# tests for function lacZ_full_circuit\n",
    "# note that these are only a subset of the possible inputs\n",
    "assert lacZ_full_circuit(False, False, False, False) == \"low\", \"Failed on input False, False, False, False\"\n",
    "assert lacZ_full_circuit(False, False, False, True) == \"high\", \"Failed on input False, False, False, True\"\n",
    "assert lacZ_full_circuit(False, True, False, True) == \"absent\", \"Failed on input False, True, False, True\"\n",
    "assert lacZ_full_circuit(False, True, True, True) == \"absent\", \"Failed on input False, True, True, True\"\n",
    "print(\"SUCCESS: lacZ_full_circuit passed all tests!\")"
   ]
  },
  {
   "cell_type": "markdown",
   "metadata": {
    "nbgrader": {
     "grade": false,
     "locked": true,
     "solution": false
    }
   },
   "source": [
    "### PROBLEM 8 - creating and using a module (1 POINT)\n",
    "We will now practice with creating a Python module.  Modules make it easy to reuse your code and keep related functions, variables, and classes in a separate namespace.\n",
    "\n",
    "For this problem, you are to do the following:\n",
    "1. Create a new file `lac_network.py` in your workspace by clicking on the jupyter icon above, clicking on the \"new\" drop down menu at the right of the interface, and selecting \"text file\".\n",
    "2. Copy the Python code for each of your lac circuit functions that you have written above into the `lac_network.py` file.\n",
    "3. Import your `lac_network` module within this notebook and test that you can call functions defined within the module.\n",
    "\n",
    "*Important note regarding module import in notebooks*: If you have already run the import statement for a module in a notebook and then make a change to the source code of the module, using the `import` statement again will not use the updated code.  You can either restart the Python kernel and re-run the cell with the `import` statement (recommended) or use the `reload` function from the [`importlib`](https://docs.python.org/3.6/library/importlib.html) standard module. "
   ]
  },
  {
   "cell_type": "code",
   "execution_count": null,
   "metadata": {
    "nbgrader": {
     "grade": true,
     "grade_id": "lac_network_module",
     "locked": true,
     "points": "1",
     "solution": false
    }
   },
   "outputs": [],
   "source": [
    "# tests for the lac_network module\n",
    "import lac_network\n",
    "assert lac_network.lacZ_full_circuit(False, False, False, False) == \"low\", \"lac_network.lacZ_full_circuit failed\"\n",
    "assert lac_network.lacI_bound(False, False) == False, \"lac_network.lacI_bound failed\"\n",
    "assert lac_network.CAP_bound(False, False) == False, \"lac_network.CAP_bound failed\"\n",
    "assert lac_network.lacZ(False, False) == \"low\", \"lac_network.lacZ failed\"\n",
    "print(\"SUCCESS: lacZ_network module passed all tests!\")"
   ]
  },
  {
   "cell_type": "markdown",
   "metadata": {
    "nbgrader": {
     "grade": false,
     "locked": true,
     "solution": false
    }
   },
   "source": [
    "### PROBLEM 9 - reading from a file (1 POINT)\n",
    "We will now practice with reading data from a text file.  In particular, we will read a file that contains some input values for the `lacZ_full_circuit`, with a different set of input values on each line.  The input values will be specified for the variables `lactose`, `lacI`, `glucose`, and `CAP`, and in that order.  On each line, the values will be separated by one or more whitespace characters.\n",
    "\n",
    "Write a function that takes as input the name of a file containing input values for the `lacZ_full_circuit` function and outputs a list of lists of the input values.  The first tuple in the list should correspond to the input values from the first line of the file, and so on for the other lines in the file.\n",
    "\n",
    "You will likely find the following function, which converts the strings \"True\" and \"False\" to Python boolean values, of use.\n",
    "\n",
    "You will also likely find the `split` method of string functions helpful for converting each line of the file into a list of tokens."
   ]
  },
  {
   "cell_type": "code",
   "execution_count": null,
   "metadata": {
    "collapsed": true,
    "nbgrader": {
     "grade": false,
     "locked": true,
     "solution": false
    }
   },
   "outputs": [],
   "source": [
    "def str_to_bool(s):\n",
    "    if s == 'True':\n",
    "         return True\n",
    "    elif s == 'False':\n",
    "         return False\n",
    "    else:\n",
    "         raise ValueError(\"Input is neither 'True' nor 'False': \" + s)"
   ]
  },
  {
   "cell_type": "code",
   "execution_count": null,
   "metadata": {
    "collapsed": true
   },
   "outputs": [],
   "source": [
    "def read_lacZ_full_circuit_inputs(filename):\n",
    "    ### BEGIN SOLUTION\n",
    "    return [[str_to_bool(token) for token in line.split()] for line in open(filename)]\n",
    "    ### END SOLUTION"
   ]
  },
  {
   "cell_type": "code",
   "execution_count": null,
   "metadata": {
    "nbgrader": {
     "grade": true,
     "grade_id": "read_lacZ_full_circuit_inputs",
     "locked": true,
     "points": "1",
     "solution": false
    }
   },
   "outputs": [],
   "source": [
    "# tests for read_lacZ_full_circuit_inputs\n",
    "assert read_lacZ_full_circuit_inputs(\"lac_network_inputs.txt\") == [[False, False, False, False],\n",
    "                                                                   [False, False, False, True],\n",
    "                                                                   [False, False, True, False],\n",
    "                                                                   [False, False, True, True]]\n",
    "print(\"SUCCESS: read_lacZ_full_circuit_inputs passed all tests!\")"
   ]
  },
  {
   "cell_type": "markdown",
   "metadata": {
    "nbgrader": {
     "grade": false,
     "locked": true,
     "solution": false
    }
   },
   "source": [
    "### PROBLEM 10 - calling functions with arguments in a list (1 POINT)\n",
    "Finally, we will practice calling a function that takes multiple arguments when the arguments are packed within a single list or tuple.  For this we will use Python's [unpacking](https://docs.python.org/3/tutorial/controlflow.html#unpacking-argument-lists) syntax.\n",
    "\n",
    "For example, suppose we have a number of words in a list, and we want to use the print statement to print all of the words on a single line, separated by a single space character.  We can use unpacking to make this easy."
   ]
  },
  {
   "cell_type": "code",
   "execution_count": null,
   "metadata": {
    "collapsed": true,
    "nbgrader": {
     "grade": false,
     "locked": true,
     "solution": false
    }
   },
   "outputs": [],
   "source": [
    "some_words = [\"Here\", \"are\", \"some\", \"words\"]"
   ]
  },
  {
   "cell_type": "code",
   "execution_count": null,
   "metadata": {
    "nbgrader": {
     "grade": false,
     "locked": true,
     "solution": false
    }
   },
   "outputs": [],
   "source": [
    "print(some_words)"
   ]
  },
  {
   "cell_type": "code",
   "execution_count": null,
   "metadata": {
    "nbgrader": {
     "grade": false,
     "locked": true,
     "solution": false
    }
   },
   "outputs": [],
   "source": [
    "print(*some_words)"
   ]
  },
  {
   "cell_type": "markdown",
   "metadata": {
    "nbgrader": {
     "grade": false,
     "locked": true,
     "solution": false
    }
   },
   "source": [
    "Notice the difference in the output from the two print statements above.  In the first statement, `print` is given a single argument, a list of strings.  In the second statement, `print` is given multiple arguments, each an element from the list `some_words`."
   ]
  },
  {
   "cell_type": "markdown",
   "metadata": {
    "nbgrader": {
     "grade": false,
     "locked": true,
     "solution": false
    }
   },
   "source": [
    "Use this argument unpacking technique to write a function that calls `lacZ_full_circuit` on each of a list of input value lists, such as is returned by the `read_lacZ_full_circuit_inputs` function you defined in the previous problem.  The function should return a list of the corresponding outputs from the `lacZ_full_circuit` function."
   ]
  },
  {
   "cell_type": "code",
   "execution_count": null,
   "metadata": {
    "collapsed": true
   },
   "outputs": [],
   "source": [
    "def call_lacZ_full_circuit_on_list(inputs_list):\n",
    "    ### BEGIN SOLUTION\n",
    "    return [lacZ_full_circuit(*inputs) for inputs in inputs_list]\n",
    "    ### END SOLUTION"
   ]
  },
  {
   "cell_type": "code",
   "execution_count": null,
   "metadata": {
    "nbgrader": {
     "grade": true,
     "grade_id": "call_lacZ_full_circuit_on_list",
     "locked": true,
     "points": "1",
     "solution": false
    },
    "scrolled": true
   },
   "outputs": [],
   "source": [
    "# tests for call_lacZ_full_circuit_on_list\n",
    "test1_list = [[False, False, False, False],\n",
    "              [False, False, False, True],\n",
    "              [False, False, True, False],\n",
    "              [False, False, True, True]]\n",
    "assert call_lacZ_full_circuit_on_list(test1_list) == ['low', 'high', 'low', 'low'], \"Failed on test1_list\"\n",
    "test2_list = [[False, False, False, True]]\n",
    "assert call_lacZ_full_circuit_on_list(test2_list) == ['high'], \"Failed on test2_list\"\n",
    "print(\"SUCCESS: call_lacZ_full_circuit_on_list passed all tests!\")"
   ]
  },
  {
   "cell_type": "markdown",
   "metadata": {
    "nbgrader": {
     "grade": false,
     "locked": true,
     "solution": false
    }
   },
   "source": [
    "## Submitting your notebook"
   ]
  },
  {
   "cell_type": "markdown",
   "metadata": {
    "nbgrader": {
     "grade": false,
     "locked": true,
     "solution": false
    }
   },
   "source": [
    "Congratulations, you have reached the end of this notebook!  To double check that you have completed all of the problems correctly, you are encouraged to restart Python and run all of the cells in the notebook from beginning to end.  You can do so automatically by running the command \"Restart & Run All\" from the \"Kernel\" menu.  After running this command, look through your noteobok and check that all of the tests ran successfully.\n",
    "\n",
    "To submit your work, press the big blue \"Submit\" button at the top of this web page.  You may submit as many times as you wish and your final grade will be based on your most recent submission.  After you submit, a grade report will become available telling you how many points you received on each problem in the notebook."
   ]
  }
 ],
 "metadata": {
  "kernelspec": {
   "display_name": "Python 3 [3.6]",
   "language": "python",
   "name": "python3"
  },
  "language_info": {
   "codemirror_mode": {
    "name": "ipython",
    "version": 3
   },
   "file_extension": ".py",
   "mimetype": "text/x-python",
   "name": "python",
   "nbconvert_exporter": "python",
   "pygments_lexer": "ipython3",
   "version": "3.6.4"
  }
 },
 "nbformat": 4,
 "nbformat_minor": 2
}
