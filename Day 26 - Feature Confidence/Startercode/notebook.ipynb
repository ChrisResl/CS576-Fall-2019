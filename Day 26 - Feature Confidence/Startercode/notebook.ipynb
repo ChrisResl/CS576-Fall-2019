{
    "cells": [
        {
            "cell_type": "markdown",
            "metadata": {
                "nbgrader": {
                    "grade": false,
                    "grade_id": "cell-48ca7a403222923a",
                    "locked": true,
                    "schema_version": 1,
                    "solution": false
                },
                "editable": false,
                "deletable": false
            },
            "source": [
                "# Day 26 notebook\n",
                "\n",
                "The objectives of this notebook are to practice\n",
                "\n",
                "* the bootstrap\n",
                "* permutation testing\n",
                "* computing confidence measures of network features"
            ]
        },
        {
            "cell_type": "markdown",
            "metadata": {
                "nbgrader": {
                    "grade": false,
                    "grade_id": "cell-6cee35f82f146819",
                    "locked": true,
                    "schema_version": 1,
                    "solution": false
                },
                "editable": false,
                "deletable": false
            },
            "source": [
                "## Modules used for this assignment"
            ]
        },
        {
            "cell_type": "code",
            "execution_count": null,
            "metadata": {
                "collapsed": true,
                "nbgrader": {
                    "grade": false,
                    "grade_id": "cell-f613df6f66db0a9e",
                    "locked": true,
                    "schema_version": 1,
                    "solution": false
                },
                "editable": false,
                "deletable": false
            },
            "outputs": [],
            "source": [
                "# standard library modules\n",
                "import random           # for seed and other randomizing functions\n",
                "import collections      # for Counter\n",
                "\n",
                "# course modules\n",
                "import bayesian_network # for the BayesianNetwork class"
            ]
        },
        {
            "cell_type": "markdown",
            "metadata": {
                "nbgrader": {
                    "grade": false,
                    "grade_id": "cell-5a82e08ead9bf57e",
                    "locked": true,
                    "schema_version": 1,
                    "solution": false
                },
                "editable": false,
                "deletable": false
            },
            "source": [
                "## Sample data\n",
                "As some toy data to work with in this notebook, we'll use some stats from the regular season games that the Green Bay Packers have played thus far."
            ]
        },
        {
            "cell_type": "code",
            "execution_count": null,
            "metadata": {
                "collapsed": true,
                "nbgrader": {
                    "grade": false,
                    "grade_id": "cell-a7961c44ab65b778",
                    "locked": true,
                    "schema_version": 1,
                    "solution": false
                },
                "editable": false,
                "deletable": false
            },
            "outputs": [],
            "source": [
                "# Green Bay Packers 2019 regular season games\n",
                "# variables: opponent, home\/away, packers score, opponent score, packers pass yards, packers rush yards\n",
                "packers_data = [\n",
                "    ('Bears',    'away', 10,  3, 166,  47),\n",
                "    ('Vikings',  'home', 21, 16, 191, 144),\n",
                "    ('Broncos',  'home', 27, 16, 235,  77),\n",
                "    ('Eagles',   'home', 27, 34, 414,  77),\n",
                "    ('Cowboys',  'away', 34, 24, 215, 120),\n",
                "    ('Lions',    'home', 23, 22, 277, 170),\n",
                "    ('Raiders',  'home', 42, 24, 421,  60),\n",
                "    ('Chiefs',   'away', 31, 24, 256, 118),\n",
                "    ('Chargers', 'away', 11, 26, 139,  45),\n",
                "    ('Panthers', 'home', 24, 16, 225, 163),\n",
                "    ('49ers',    'away',  8, 37,  81, 117),\n",
                "    ('Giants',   'away', 31, 13, 243,  79),\n",
                "    ('Redskins', 'home', 20, 15, 167, 174)]"
            ]
        },
        {
            "cell_type": "markdown",
            "metadata": {
                "nbgrader": {
                    "grade": false,
                    "grade_id": "cell-0580c7953611f6f6",
                    "locked": true,
                    "schema_version": 1,
                    "solution": false
                },
                "editable": false,
                "deletable": false
            },
            "source": [
                "## PROBLEM 1: The bootstrap (1 POINT)\n",
                "Implement the `bootstrap` function below which constructs a bootstrapped data set from a given data set.  Recall that a bootstrapped data set is generated by sampling, *with replacement*, observations from the original data set.  Your function should simply be a **single function call** to the appropriate function in Python's [`random`](https:\/\/docs.python.org\/library\/random.html) module."
            ]
        },
        {
            "cell_type": "code",
            "execution_count": null,
            "metadata": {
                "collapsed": true
            },
            "outputs": [],
            "source": [
                "def bootstrap(data):\n",
                "    \"\"\"Returns a bootstrap sample from the data set.\n",
                "    \n",
                "    Args:\n",
                "        data: a list of observations (tuples)\n",
                "    Returns:\n",
                "        A list of observations with the same number of observations as in data.\n",
                "    \"\"\"\n",
                "    ###\n",
                "    ### YOUR CODE HERE\n",
                "    ###\n"
            ]
        },
        {
            "cell_type": "code",
            "execution_count": null,
            "metadata": {
                "nbgrader": {
                    "grade": true,
                    "grade_id": "bootstrap",
                    "locked": true,
                    "points": 1,
                    "schema_version": 1,
                    "solution": false
                },
                "editable": false,
                "deletable": false
            },
            "outputs": [],
            "source": [
                "# tests for bootstrap\n",
                "random.seed(42)\n",
                "assert bootstrap(packers_data) == [\n",
                "    ('Chargers', 'away', 11, 26, 139,  45),\n",
                "    ('Bears',    'away', 10,  3, 166,  47),\n",
                "    ('Eagles',   'home', 27, 34, 414,  77),\n",
                "    ('Broncos',  'home', 27, 16, 235,  77),\n",
                "    ('Panthers', 'home', 24, 16, 225, 163),\n",
                "    ('Chargers', 'away', 11, 26, 139,  45),\n",
                "    ('Giants',   'away', 31, 13, 243,  79),\n",
                "    ('Vikings',  'home', 21, 16, 191, 144),\n",
                "    ('Lions',    'home', 23, 22, 277, 170),\n",
                "    ('Bears',    'away', 10,  3, 166,  47),\n",
                "    ('Broncos',  'home', 27, 16, 235,  77),\n",
                "    ('Raiders',  'home', 42, 24, 421,  60),\n",
                "    ('Bears',    'away', 10,  3, 166,  47)]\n",
                "\n",
                "packers_points = [(obs[2],) for obs in packers_data]\n",
                "random.seed(1)\n",
                "assert bootstrap(packers_points) == [(21,), (31,), (24,), (27,), (42,), (23,), (11,), (8,), (21,), (10,), (8,), (23,), (24,)]\n",
                "\n",
                "random.seed(2)\n",
                "assert bootstrap([(\"single\",)]) == [(\"single\",)]\n",
                "print(\"SUCCESS: bootstrap passed all tests!\")"
            ]
        },
        {
            "cell_type": "markdown",
            "metadata": {
                "nbgrader": {
                    "grade": false,
                    "grade_id": "cell-a90c979a36c93bab",
                    "locked": true,
                    "schema_version": 1,
                    "solution": false
                },
                "editable": false,
                "deletable": false
            },
            "source": [
                "## PROBLEM 2: Permuting (randomizing) data (1 POINT)\n",
                "Implement the `permute` function below which constructs a permuted version of the given data set.  Recall that permuting a data set involves shuffling the values within each variable (column in our tables).  In your implementation, you should shuffle the values of each variable (column) separately using the [`random.sample`](https:\/\/docs.python.org\/library\/random.html#random.sample) function (not the `random.shuffle` function!), with the first variable shuffled first, the second variable shuffled second, and so on.  Recall that `zip(*seq)` is useful for transposing a data matrix (`seq`) that is represented as a list of tuples\/lists."
            ]
        },
        {
            "cell_type": "code",
            "execution_count": null,
            "metadata": {
                "collapsed": true
            },
            "outputs": [],
            "source": [
                "def permute(data):\n",
                "    \"\"\"Returns a permuted (randomized) version of the data set.\n",
                "    \n",
                "    Args:\n",
                "        data: a list of observations (tuples)\n",
                "    Returns:\n",
                "        A list of observations with the same number of observations as in data.\n",
                "    \"\"\"\n",
                "    by_variable = zip(*data)\n",
                "    ###\n",
                "    ### YOUR CODE HERE\n",
                "    ###\n"
            ]
        },
        {
            "cell_type": "code",
            "execution_count": null,
            "metadata": {
                "nbgrader": {
                    "grade": true,
                    "grade_id": "permute",
                    "locked": true,
                    "points": 1,
                    "schema_version": 1,
                    "solution": false
                },
                "editable": false,
                "deletable": false
            },
            "outputs": [],
            "source": [
                "# tests for permute\n",
                "random.seed(42)\n",
                "assert permute(packers_data) == [\n",
                "    ('49ers',    'away', 20, 22, 225,  77),\n",
                "    ('Vikings',  'home', 10, 15, 414, 170),\n",
                "    ('Bears',    'home', 27, 16, 191,  79),\n",
                "    ('Cowboys',  'away', 42, 24, 166,  77),\n",
                "    ('Eagles',   'away', 23,  3, 243, 120),\n",
                "    ('Chargers', 'home', 34, 24, 215, 144),\n",
                "    ('Giants',   'away', 21, 37, 167,  45),\n",
                "    ('Lions',    'away', 24, 26,  81, 117),\n",
                "    ('Redskins', 'home',  8, 34, 421, 118),\n",
                "    ('Panthers', 'home', 31, 13, 139,  60),\n",
                "    ('Broncos',  'away', 27, 16, 277,  47),\n",
                "    ('Raiders',  'home', 11, 16, 235, 163),\n",
                "    ('Chiefs',   'home', 31, 24, 256, 174)]\n",
                "\n",
                "packers_points_and_pass_yards = [(obs[2], obs[4]) for obs in packers_data]\n",
                "random.seed(1)\n",
                "assert permute(packers_points_and_pass_yards) == [\n",
                "    (27, 166),\n",
                "    (24, 421),\n",
                "    (21, 243),\n",
                "    (34, 225),\n",
                "    ( 8, 167),\n",
                "    (31, 256),\n",
                "    (42, 235),\n",
                "    (27, 277),\n",
                "    (23, 191),\n",
                "    (31, 139),\n",
                "    (10, 215),\n",
                "    (20, 414),\n",
                "    (11,  81)]\n",
                "\n",
                "print(\"SUCCESS: permute passed all tests!\")"
            ]
        },
        {
            "cell_type": "markdown",
            "metadata": {
                "nbgrader": {
                    "grade": false,
                    "grade_id": "cell-99ff8a74faca9ce7",
                    "locked": true,
                    "schema_version": 1,
                    "solution": false
                },
                "editable": false,
                "deletable": false
            },
            "source": [
                "## Updates to the `BayesianNetwork` class\n",
                "\n",
                "The `BayesianNetwork` class has now been filled out a bit more to include two key methods\/functions:\n",
                "\n",
                "1. `all_possible_networks`: An iterator over all possible Bayesian Networks structures for the given random variables\n",
                "2. `BayesianNetwork.model_evidence`: Returns the model evidence: $\\log P(D)$\n",
                "\n",
                "With these two functions, we can now define a function that does a brute force search over all possible networks and returns the network that maximizes the model evidence score:"
            ]
        },
        {
            "cell_type": "code",
            "execution_count": null,
            "metadata": {
                "collapsed": true,
                "nbgrader": {
                    "grade": false,
                    "grade_id": "cell-ab84a42a09689436",
                    "locked": true,
                    "schema_version": 1,
                    "solution": false
                },
                "editable": false,
                "deletable": false
            },
            "outputs": [],
            "source": [
                "def best_net(data, possible_nets):\n",
                "    model_evidences = [net.model_evidence(data) for net in possible_nets]\n",
                "    return possible_nets[model_evidences.index(max(model_evidences))]"
            ]
        },
        {
            "cell_type": "markdown",
            "metadata": {
                "nbgrader": {
                    "grade": false,
                    "grade_id": "cell-70128b805d855822",
                    "locked": true,
                    "schema_version": 1,
                    "solution": false
                },
                "editable": false,
                "deletable": false
            },
            "source": [
                "For example, we can use this function to attempt to reconstruct the flight\/weather\/airline model from a data set simulated from that model.  In this example, the best network turns out to be the true network!"
            ]
        },
        {
            "cell_type": "code",
            "execution_count": null,
            "metadata": {
                "nbgrader": {
                    "grade": false,
                    "grade_id": "cell-09e002ab59cbb86f",
                    "locked": true,
                    "schema_version": 1,
                    "solution": false
                },
                "scrolled": false,
                "editable": false,
                "deletable": false
            },
            "outputs": [],
            "source": [
                "flight_weather_network = bayesian_network.make_flight_weather_network()\n",
                "\n",
                "all_possible_flight_weather_nets = list(bayesian_network.all_possible_networks(flight_weather_network.vertex_labels(),\n",
                "                                                                               flight_weather_network.possible_values))\n",
                "\n",
                "# Generate a data set from the model, as well as a permuted version of this data set\n",
                "random.seed(1)\n",
                "flight_weather_dataset = [flight_weather_network.sample() for _ in range(300)]\n",
                "permuted_flight_weather_dataset = permute(flight_weather_dataset)\n",
                "\n",
                "# Predict the network structure from this data set using the model evidence score\n",
                "best_net(flight_weather_dataset, all_possible_flight_weather_nets).plot()"
            ]
        },
        {
            "cell_type": "markdown",
            "metadata": {
                "nbgrader": {
                    "grade": false,
                    "grade_id": "cell-204f408eab8eae27",
                    "locked": true,
                    "schema_version": 1,
                    "solution": false
                },
                "editable": false,
                "deletable": false
            },
            "source": [
                "## PROBLEM 3: Feature confidence via the bootstrap (1 POINT)\n",
                "You are to use the `best_net` function, along with your `bootstrap` function from Problem 1 to compute confidence levels in the features of a network learned from a given data set.  The confidence levels of each feature should be the fraction of bootstrap data sets in which the feature is present in the learned network (the one output by `best_net`).  Your function should take as input a `features_func` function, which extracts the features of interest from a single learned network.  A couple of such feature extraction functions are provided below.  I recommend that you use [`collections.Counter`](https:\/\/docs.python.org\/3.6\/library\/collections.html#collections.Counter) in your implementation."
            ]
        },
        {
            "cell_type": "code",
            "execution_count": null,
            "metadata": {
                "collapsed": true
            },
            "outputs": [],
            "source": [
                "def extract_edges(net):\n",
                "    \"\"\"Extracts the directed edges (with variable names) of the network.\"\"\"\n",
                "    return {(net.vertex_label(i), net.vertex_label(j)) for i, j in net.edges()}\n",
                "\n",
                "def extract_undirected_edges(net):\n",
                "    \"\"\"Extracts the undirected edges (with variable names) of the network.\"\"\"\n",
                "    return {tuple(sorted(edge)) for edge in extract_edges(net)}\n",
                "\n",
                "def compute_feature_confidences(data, possible_networks, features_func, num_bootstraps):\n",
                "    \"\"\"Computes the bootstrap confidence levels of features in networks learned from the data set.\n",
                "    Args:\n",
                "        data: a list of observations (tuples)\n",
                "        possible_networks: a list of all possible BayesianNetworks\n",
                "        features_func: a function that returns a set of features present in a learned network\n",
                "        num_bootstraps: the number of bootstrapped data sets to use\n",
                "    Returns:\n",
                "        A dictionary mapping network features to confidence levels (fraction of bootstrap datasets \n",
                "        in which the feature is present in the learned network)\n",
                "    \"\"\"\n",
                "    ###\n",
                "    ### YOUR CODE HERE\n",
                "    ###\n"
            ]
        },
        {
            "cell_type": "code",
            "execution_count": null,
            "metadata": {
                "nbgrader": {
                    "grade": true,
                    "grade_id": "compute_feature_confidences",
                    "locked": true,
                    "points": 1,
                    "schema_version": 1,
                    "solution": false
                },
                "scrolled": true,
                "editable": false,
                "deletable": false
            },
            "outputs": [],
            "source": [
                "# tests for compute_feature_confidences\n",
                "\n",
                "# test with just one bootstrapped data set\n",
                "random.seed(41)\n",
                "assert compute_feature_confidences(flight_weather_dataset, \n",
                "                                   all_possible_flight_weather_nets,\n",
                "                                   extract_undirected_edges,\n",
                "                                   1) == {\n",
                "    ('airline', 'flight_status'): 1.0, \n",
                "    ('flight_status', 'weather'): 1.0}\n",
                "\n",
                "# test with 10 bootstrapped data sets\n",
                "random.seed(42)\n",
                "assert compute_feature_confidences(flight_weather_dataset, \n",
                "                                   all_possible_flight_weather_nets,\n",
                "                                   extract_undirected_edges,\n",
                "                                   10) == {\n",
                "    ('flight_status', 'weather'): 1.0,\n",
                "    ('airline', 'flight_status'): 0.6,\n",
                "    ('airline',       'weather'): 0.5}\n",
                "\n",
                "# test with 100 bootstrapped data sets\n",
                "random.seed(42)\n",
                "assert compute_feature_confidences(flight_weather_dataset, \n",
                "                                   all_possible_flight_weather_nets,\n",
                "                                   extract_undirected_edges,\n",
                "                                   100) == {\n",
                "    ('flight_status', 'weather'): 1.0,\n",
                "    ('airline', 'flight_status'): 0.71,\n",
                "    ('airline',       'weather'): 0.41}\n",
                "\n",
                "# test with a permuted data set, which shouldn't have any real associations\n",
                "random.seed(42)\n",
                "assert compute_feature_confidences(permuted_flight_weather_dataset, \n",
                "                                   all_possible_flight_weather_nets,\n",
                "                                   extract_undirected_edges,\n",
                "                                   100) == {\n",
                "    ('airline', 'flight_status'): 0.14,\n",
                "    ('flight_status', 'weather'): 0.67,\n",
                "    ('airline',       'weather'): 0.15}\n",
                "\n",
                "print(\"SUCCESS: compute_feature_confidences passed all tests!\")"
            ]
        },
        {
            "cell_type": "markdown",
            "metadata": {
                "nbgrader": {
                    "grade": false,
                    "grade_id": "cell-541a72c3978aad66",
                    "locked": true,
                    "schema_version": 1,
                    "solution": false
                },
                "editable": false,
                "deletable": false
            },
            "source": [
                "## BONUS ACTIVITIES"
            ]
        },
        {
            "cell_type": "markdown",
            "metadata": {
                "nbgrader": {
                    "grade": false,
                    "grade_id": "cell-13bf927c846a0010",
                    "locked": true,
                    "schema_version": 1,
                    "solution": false
                },
                "editable": false,
                "deletable": false
            },
            "source": [
                "1. How much data is needed from the flight\/weather\/airline model in order for the airline->flight_status edge to be confidently learned?\n",
                "2. Below is a toy four variable model.  Simulate a data set from this model and then see if you can the edges of the model confidently.  There are many more four variable models, so this will take some time to run.\n",
                "3. Implement another feature extraction function, `markov_blanket_relations`, which outputs a set of pairs of variables (i, j), for which i is in the Markov blanket of j.  Try using it with the toy four variable model."
            ]
        },
        {
            "cell_type": "code",
            "execution_count": null,
            "metadata": {
                "nbgrader": {
                    "grade": false,
                    "grade_id": "cell-115115669f161ab5",
                    "locked": true,
                    "schema_version": 1,
                    "solution": false
                },
                "editable": false,
                "deletable": false
            },
            "outputs": [],
            "source": [
                "four_var_network = bayesian_network.BayesianNetwork([\"x1\", \"x2\", \"x3\", \"x4\"])\n",
                "four_var_network.set_cpd(\"x1\", [], [0, 1], \n",
                "                         {(): [0.75, 0.25]})\n",
                "four_var_network.set_cpd(\"x2\", [\"x1\"], [0, 1],\n",
                "                         {(0,): [0.9, 0.1],\n",
                "                          (1,): [0.1, 0.9]})\n",
                "four_var_network.set_cpd(\"x3\", [\"x2\"], [0, 1],\n",
                "                         {(0,): [0.8, 0.2],\n",
                "                          (1,): [0.2, 0.8]})\n",
                "four_var_network.set_cpd(\"x4\", [\"x3\"], [0, 1],\n",
                "                         {(0,): [0.7, 0.3],\n",
                "                          (1,): [0.3, 0.7]})\n",
                "four_var_network.plot()"
            ]
        },
        {
            "cell_type": "code",
            "execution_count": null,
            "metadata": {
                "collapsed": true
            },
            "outputs": [],
            "source": [
                "###\n",
                "### YOUR CODE HERE\n",
                "###\n"
            ]
        }
    ],
    "metadata": {
        "celltoolbar": "Create Assignment",
        "kernelspec": {
            "display_name": "Python 3 [3.6]",
            "language": "python",
            "name": "python3"
        },
        "language_info": {
            "codemirror_mode": {
                "name": "ipython",
                "version": 3
            },
            "file_extension": ".py",
            "mimetype": "text\/x-python",
            "name": "python",
            "nbconvert_exporter": "python",
            "pygments_lexer": "ipython3",
            "version": "3.6.4"
        }
    },
    "nbformat": 4,
    "nbformat_minor": 2
}