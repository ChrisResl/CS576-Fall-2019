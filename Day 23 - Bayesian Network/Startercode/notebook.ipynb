{
    "cells": [
        {
            "cell_type": "markdown",
            "metadata": {
                "nbgrader": {
                    "grade": false,
                    "grade_id": "cell-41b5c259dd019a51",
                    "locked": true,
                    "schema_version": 1,
                    "solution": false
                },
                "editable": false,
                "deletable": false
            },
            "source": [
                "# Day 23 notebook\n",
                "\n",
                "The objectives of this notebook are to practice\n",
                "\n",
                "* sampling from a Bayesian network\n",
                "* computing the log probability of a configuration for a Bayesian network"
            ]
        },
        {
            "cell_type": "markdown",
            "metadata": {
                "nbgrader": {
                    "grade": false,
                    "grade_id": "cell-a7678fa091d858d9",
                    "locked": true,
                    "schema_version": 1,
                    "solution": false
                },
                "editable": false,
                "deletable": false
            },
            "source": [
                "## Modules used for this assignment"
            ]
        },
        {
            "cell_type": "code",
            "execution_count": null,
            "metadata": {
                "collapsed": true,
                "nbgrader": {
                    "grade": false,
                    "grade_id": "cell-feff1807d1fe02cc",
                    "locked": true,
                    "schema_version": 1,
                    "solution": false
                },
                "editable": false,
                "deletable": false
            },
            "outputs": [],
            "source": [
                "# standard library modules\n",
                "import random  # for sampling\n",
                "import math    # for log\n",
                "\n",
                "# course modules\n",
                "import graph         # for directed graph implementations \n",
                "import random_sample # for sample_categorical"
            ]
        },
        {
            "cell_type": "markdown",
            "metadata": {
                "nbgrader": {
                    "grade": false,
                    "grade_id": "cell-e6b26119b6e67514",
                    "locked": true,
                    "schema_version": 1,
                    "solution": false
                },
                "editable": false,
                "deletable": false
            },
            "source": [
                "## A Bayesian network class\n",
                "In this activity, we will fill in the implementation of a simple Bayesian network class, which will support modeling a set of discrete random variables, with conditional probability distributions (CPDs) represented by simple tables (implemented as dictionaries).  As Bayesian networks are directed acyclic graphs and often require graph algorithms for their computations, this class inherits from some of the graph classes that we developed earlier in the semester.  Below is a skeleton for this class."
            ]
        },
        {
            "cell_type": "code",
            "execution_count": null,
            "metadata": {
                "collapsed": true
            },
            "outputs": [],
            "source": [
                "class BayesianNetwork(graph.AdjacencyListDirectedGraph, graph.VertexLabeledDirectedGraph):\n",
                "    def __init__(self, random_variable_names):\n",
                "        \"\"\"Inits a BayesianNetwork\n",
                "        \n",
                "        The initial network will have a set of variables\/vertices labeled by the given names\n",
                "        but without any edges or CPDs.  set_cpd should be called for each variable to \n",
                "        specify the edges and CPDs of the network.\n",
                "        \"\"\"\n",
                "        # Call the parent graph class constructor, giving it the number of vertices\n",
                "        super().__init__(len(random_variable_names))\n",
                "        \n",
                "        # Set the labels of the vertices to the names of the variables\n",
                "        for i, name in enumerate(random_variable_names): self.set_vertex_label(i, name)\n",
                "        \n",
                "        # The cpds member variable is a list of the conditional probability distributions\n",
                "        # for the variables.  self.cpds[i] will be the CPD for the ith random variable.\n",
                "        self.cpds = [None] * len(random_variable_names)\n",
                "        \n",
                "        # The possible_values member variable is a list of lists of the possible values\n",
                "        # that each variable may take.  self.possible_values[i] will be a list of the \n",
                "        # possible values for the ith random variable.\n",
                "        self.possible_values = [None] * len(random_variable_names)\n",
                "    \n",
                "    def set_cpd(self, name, parent_names, possible_values, cpd=None):\n",
                "        \"\"\"Sets the CPD for a random variable in the network.\n",
                "        \n",
                "        The CPDs for the parents of the named random variables should be set prior to this call.\n",
                "        Args:\n",
                "            name: the name (a string) of the random variable\n",
                "            parent_names: a list of the names of the parents of the random variable \n",
                "            possible_values: a list of the values that this random variable may take on\n",
                "            cpd: the CPD for the random variable.  The CPD should be a dictionary mapping\n",
                "                tuples of parent variable values to conditional probability distributions\n",
                "                over the possible values.  Each conditional probability distribution should \n",
                "                be a list of probabilities for a categorial distribution over the possible \n",
                "                values.  If the random variable has no parents, the CPD dictionary should have\n",
                "                a single entry, with the key being the empty tuple and the value being the \n",
                "                distribution over the variables possible values.\n",
                "        \"\"\"\n",
                "        # convert from variable names to vertex indices\n",
                "        i = self.vertex_index(name)\n",
                "        parent_indices = [self.vertex_index(name) for name in parent_names]\n",
                "        \n",
                "        # add edges to the graph\n",
                "        for j in parent_indices:\n",
                "            self.add_edge(j, i)\n",
                "\n",
                "        # check that the CPDs for the parents have been set already\n",
                "        # this is important because we need to know the possible values for the parents\n",
                "        # in order to encode the CPD for this random variable\n",
                "        assert None not in [self.possible_values[j] for j in parent_indices], \"Parent CPDs need to be set first\"\n",
                "        \n",
                "        # Set the possible values for this random variable\n",
                "        self.possible_values[i] = possible_values[:]\n",
                "\n",
                "        # Set the CPD for this random variable, converting it to use encoded parent values\n",
                "        self.cpds[i] = {self.encode_values(parent_values, parent_indices): distribution[:]\n",
                "                        for parent_values, distribution in cpd.items()}\n",
                "\n",
                "    def encode_values(self, values, variable_indices=None):\n",
                "        \"\"\"Encodes variable values by their indices into the possible values lists.\n",
                "        \n",
                "        Args:\n",
                "            values: a list of variable values\n",
                "            variable_indices: a list of variable indices corresponding to the values list.  If this\n",
                "                is None, it is assumed that values is a configuration of all variables in the network.\n",
                "        Returns:\n",
                "            A list of encoded variable values.\n",
                "        \"\"\"\n",
                "        indices = variable_indices if variable_indices else range(len(values))\n",
                "        return tuple(self.possible_values[i].index(value) for i, value in zip(indices, values))\n",
                "\n",
                "    def decode_values(self, encoded_values):\n",
                "        \"\"\"Decodes variable values from indices (the inverse of encode_values).\n",
                "        \n",
                "        Args:\n",
                "            encoded_values: a list of encoded variable values, one per variable in the network.\n",
                "        Returns:\n",
                "            A list of variable values.\n",
                "        \"\"\"\n",
                "        return tuple(self.possible_values[i][encoded_values[i]] for i in range(len(encoded_values)))\n",
                "\n",
                "    def log_probability(self, values):\n",
                "        \"\"\"Computes the log joint probability of a single configuration of values for the random variables.\n",
                "        \n",
                "        Args:\n",
                "            values: a list of observed values for the random variables, one value per variable, with\n",
                "                the ith entry giving the value for the ith random variable (vertex)\n",
                "        \"\"\"\n",
                "        ###\n",
                "        ### YOUR CODE HERE\n",
                "        ###\n",
                "\n",
                "    def sample(self):\n",
                "        \"\"\"Samples a single configuration of values for the random variables in the network.\n",
                "        \n",
                "        Returns:\n",
                "            A list of sampled values for the random variables, one value per variable, with the\n",
                "            the ith entry giving the value for the ith random variable (vertex).\n",
                "        \"\"\"\n",
                "        ###\n",
                "        ### YOUR CODE HERE\n",
                "        ###\n"
            ]
        },
        {
            "cell_type": "markdown",
            "metadata": {
                "nbgrader": {
                    "grade": false,
                    "grade_id": "cell-f09debdadd64a7db",
                    "locked": true,
                    "schema_version": 1,
                    "solution": false
                },
                "editable": false,
                "deletable": false
            },
            "source": [
                "## Example Bayesian networks"
            ]
        },
        {
            "cell_type": "markdown",
            "metadata": {
                "nbgrader": {
                    "grade": false,
                    "grade_id": "cell-f08debdadd64a7db",
                    "locked": true,
                    "schema_version": 1,
                    "solution": false
                },
                "editable": false,
                "deletable": false
            },
            "source": [
                "### A simple Bayesian network\n",
                "\n",
                "Here is a simple Bayesian network that we will use for testing."
            ]
        },
        {
            "cell_type": "code",
            "execution_count": null,
            "metadata": {
                "collapsed": true,
                "nbgrader": {
                    "grade": false,
                    "grade_id": "cell-a863094bb6ac4dd5",
                    "locked": true,
                    "schema_version": 1,
                    "solution": false
                },
                "editable": false,
                "deletable": false
            },
            "outputs": [],
            "source": [
                "simple_random_variables = [\"airline\", \"weather\", \"flight_status\"]\n",
                "simple_network = BayesianNetwork(simple_random_variables)\n",
                "\n",
                "simple_network.set_cpd(\"airline\",\n",
                "                       [], [\"United\", \"Delta\"],\n",
                "                       {(): [0.7, 0.3]})\n",
                "simple_network.set_cpd(\"weather\",\n",
                "                       [], [\"sun\", \"rain\", \"snow\"],\n",
                "                       {(): [0.5, 0.3, 0.2]})\n",
                "simple_network.set_cpd(\"flight_status\",\n",
                "                       [\"airline\", \"weather\"], [\"on-time\", \"delayed\"],\n",
                "                       {(\"United\", \"sun\"):  [0.8, 0.2],\n",
                "                        (\"United\", \"rain\"): [0.5, 0.5],\n",
                "                        (\"United\", \"snow\"): [0.1, 0.9],\n",
                "                        (\"Delta\",  \"sun\"):  [0.9, 0.1],\n",
                "                        (\"Delta\",  \"rain\"): [0.4, 0.6],\n",
                "                        (\"Delta\",  \"snow\"): [0.2, 0.8]})"
            ]
        },
        {
            "cell_type": "markdown",
            "metadata": {
                "nbgrader": {
                    "grade": false,
                    "grade_id": "cell-76c1451b9ded6154",
                    "locked": true,
                    "schema_version": 1,
                    "solution": false
                },
                "editable": false,
                "deletable": false
            },
            "source": [
                "The VertexLabeledDirectedGraph class now has a `plot` method that we can use to visualize this Bayesian network and verify that we have set it up correctly."
            ]
        },
        {
            "cell_type": "code",
            "execution_count": null,
            "metadata": {
                "nbgrader": {
                    "grade": false,
                    "grade_id": "cell-28b1088fbde536ed",
                    "locked": true,
                    "schema_version": 1,
                    "solution": false
                },
                "editable": false,
                "deletable": false
            },
            "outputs": [],
            "source": [
                "simple_network.plot()"
            ]
        },
        {
            "cell_type": "markdown",
            "metadata": {
                "nbgrader": {
                    "grade": false,
                    "grade_id": "cell-8459a5e6a94d6b7b",
                    "locked": true,
                    "schema_version": 1,
                    "solution": false
                },
                "editable": false,
                "deletable": false
            },
            "source": [
                "### A lac operon Bayesian network\n",
                "We will use this simple Bayesian network class to model the lac operon regulatory network, which we discussed in the lectures.  The CPDs specified are the same as those in the Day 35 quiz."
            ]
        },
        {
            "cell_type": "code",
            "execution_count": null,
            "metadata": {
                "collapsed": true,
                "nbgrader": {
                    "grade": false,
                    "grade_id": "cell-d0d695d80dbf3537",
                    "locked": true,
                    "schema_version": 1,
                    "solution": false
                },
                "editable": false,
                "deletable": false
            },
            "outputs": [],
            "source": [
                "lac_operon_random_variables = [\"L\", \"I\", \"G\", \"C\", \"lacI-unbound\", \"CAP-bound\", \"Z\"]\n",
                "lac_operon_network = BayesianNetwork(lac_operon_random_variables)\n",
                "\n",
                "lac_operon_network.set_cpd(\"L\",\n",
                "                           [], [\"absent\", \"present\"],\n",
                "                           {(): [0.9, 0.1]})\n",
                "\n",
                "lac_operon_network.set_cpd(\"I\",\n",
                "                           [], [\"absent\", \"present\"],\n",
                "                           {(): [0.1, 0.9]})\n",
                "\n",
                "lac_operon_network.set_cpd(\"G\",\n",
                "                           [], [\"absent\", \"present\"],\n",
                "                           {(): [0.5, 0.5]})\n",
                "\n",
                "lac_operon_network.set_cpd(\"C\",\n",
                "                           [], [\"absent\", \"present\"],\n",
                "                           {(): [0.1, 0.9]})\n",
                "\n",
                "lac_operon_network.set_cpd(\"lacI-unbound\",\n",
                "                           [\"L\", \"I\"], [\"true\", \"false\"],\n",
                "                           {(\"absent\",   \"absent\"): [0.9, 0.1],\n",
                "                            (\"absent\",  \"present\"): [0.1, 0.9],\n",
                "                            (\"present\",  \"absent\"): [0.9, 0.1],\n",
                "                            (\"present\", \"present\"): [0.9, 0.1]})\n",
                "\n",
                "lac_operon_network.set_cpd(\"CAP-bound\",\n",
                "                           [\"G\", \"C\"], [\"true\", \"false\"],\n",
                "                           {(\"absent\",   \"absent\"): [0.1, 0.9],\n",
                "                            (\"absent\",  \"present\"): [0.9, 0.1],\n",
                "                            (\"present\",  \"absent\"): [0.1, 0.9],\n",
                "                            (\"present\", \"present\"): [0.2, 0.8]})\n",
                "\n",
                "lac_operon_network.set_cpd(\"Z\",\n",
                "                           [\"lacI-unbound\", \"CAP-bound\"], [\"absent\", \"low\", \"high\"],\n",
                "                           {(\"true\",  \"false\"): [0.1, 0.8, 0.1],\n",
                "                            (\"true\",   \"true\"): [0.1, 0.1, 0.8],\n",
                "                            (\"false\", \"false\"): [0.8, 0.1, 0.1],\n",
                "                            (\"false\",  \"true\"): [0.8, 0.1, 0.1]})"
            ]
        },
        {
            "cell_type": "code",
            "execution_count": null,
            "metadata": {
                "nbgrader": {
                    "grade": false,
                    "grade_id": "cell-13df849ae7b0819a",
                    "locked": true,
                    "schema_version": 1,
                    "solution": false
                },
                "editable": false,
                "deletable": false
            },
            "outputs": [],
            "source": [
                "lac_operon_network.plot()"
            ]
        },
        {
            "cell_type": "markdown",
            "metadata": {
                "nbgrader": {
                    "grade": false,
                    "grade_id": "cell-b7985a7f8f491e3a",
                    "locked": true,
                    "schema_version": 1,
                    "solution": false
                },
                "editable": false,
                "deletable": false
            },
            "source": [
                "## PROBLEM 1: Computing the log probability of a configuration for a Bayesian network (2 POINTS)\n",
                "\n",
                "Implement the `log_probability` method of the `BayesianNetwork` class above, which computes the log joint probability of a single configuration of the random variables in the network.  By \"configuration\" we are referring to a set of observed values for the random variables, one value per variable.  To avoid numerical underflow errors, you compute this probability by summing log-transformed probabilites."
            ]
        },
        {
            "cell_type": "code",
            "execution_count": null,
            "metadata": {
                "nbgrader": {
                    "grade": true,
                    "grade_id": "log_probability_simple",
                    "locked": true,
                    "points": 1,
                    "schema_version": 1,
                    "solution": false
                },
                "editable": false,
                "deletable": false
            },
            "outputs": [],
            "source": [
                "# test log_probability (simple network)\n",
                "simple_config1 = ('United', 'rain', 'on-time')\n",
                "assert round(simple_network.log_probability(simple_config1), 2) == -2.25\n",
                "simple_config2 = ('Delta', 'sun', 'on-time')\n",
                "assert round(simple_network.log_probability(simple_config2), 2) == -2.0\n",
                "print(\"SUCCESS: log_probability (simple) passed all tests\")"
            ]
        },
        {
            "cell_type": "code",
            "execution_count": null,
            "metadata": {
                "nbgrader": {
                    "grade": true,
                    "grade_id": "log_probability_lac_operon",
                    "locked": true,
                    "points": 1,
                    "schema_version": 1,
                    "solution": false
                },
                "editable": false,
                "deletable": false
            },
            "outputs": [],
            "source": [
                "# test log_probability (lac operon)\n",
                "config1 = ('absent', 'present', 'present', 'present', 'false', 'false', 'absent')\n",
                "assert round(lac_operon_network.log_probability(config1), 2) == -1.56\n",
                "config2 = ('absent', 'present', 'absent', 'present', 'true', 'false', 'low')\n",
                "assert round(lac_operon_network.log_probability(config2), 2) == -5.84\n",
                "print(\"SUCCESS: log_probability (lac operon) passed all tests\")"
            ]
        },
        {
            "cell_type": "markdown",
            "metadata": {
                "nbgrader": {
                    "grade": false,
                    "grade_id": "cell-93ad30edba118912",
                    "locked": true,
                    "schema_version": 1,
                    "solution": false
                },
                "editable": false,
                "deletable": false
            },
            "source": [
                "## PROBLEM 2: Sample a configuration from a Bayesian network (2 POINTS)\n",
                "\n",
                "Implement the `sample` method of the `BayesianNetwork` class above, which samples a single configuration from the joint probability distribution represented by the network.  This should be accomplished by sampling a single value for each variable from its CPD, given values for its parents.  This requires that the values for the parents of a random variable be sampled before sampling that variable.  To do this, you should traverse the vertices (random variables) of the network in a *topological* order, which is an ordering of the vertices such that all parents of a vertex come before it in the ordering.  You should use the `topological_order` method of the base `DirectedGraph` class to obtain such an ordering.  You should also use the `random_sample.sample_categorical` function (which we have used many times before) to obtain a sample from a discrete probability distribution."
            ]
        },
        {
            "cell_type": "code",
            "execution_count": null,
            "metadata": {
                "nbgrader": {
                    "grade": true,
                    "grade_id": "sample_simple",
                    "locked": true,
                    "points": 1,
                    "schema_version": 1,
                    "solution": false
                },
                "editable": false,
                "deletable": false
            },
            "outputs": [],
            "source": [
                "# test for sample (simple)\n",
                "random.seed(42)\n",
                "assert simple_network.sample() == ('United', 'rain', 'on-time')\n",
                "random.seed(1)\n",
                "assert simple_network.sample() == ('Delta', 'sun', 'on-time')\n",
                "print(\"SUCCESS: sample (simple) passed all tests\")"
            ]
        },
        {
            "cell_type": "code",
            "execution_count": null,
            "metadata": {
                "nbgrader": {
                    "grade": true,
                    "grade_id": "sample_lac_operon",
                    "locked": true,
                    "points": 1,
                    "schema_version": 1,
                    "solution": false
                },
                "editable": false,
                "deletable": false
            },
            "outputs": [],
            "source": [
                "# test for sample (lac operon)\n",
                "random.seed(42)\n",
                "assert lac_operon_network.sample() == ('absent', 'present', 'absent', 'present', 'false', 'true', 'low')\n",
                "random.seed(1)\n",
                "assert lac_operon_network.sample() == ('absent', 'present', 'present', 'present', 'false', 'false', 'absent')\n",
                "print(\"SUCCESS: sample (lac operon) passed all tests\")"
            ]
        }
    ],
    "metadata": {
        "celltoolbar": "Create Assignment",
        "kernelspec": {
            "display_name": "Python 3 [3.6]",
            "language": "python",
            "name": "python3"
        },
        "language_info": {
            "codemirror_mode": {
                "name": "ipython",
                "version": 3
            },
            "file_extension": ".py",
            "mimetype": "text\/x-python",
            "name": "python",
            "nbconvert_exporter": "python",
            "pygments_lexer": "ipython3",
            "version": "3.6.4"
        }
    },
    "nbformat": 4,
    "nbformat_minor": 2
}