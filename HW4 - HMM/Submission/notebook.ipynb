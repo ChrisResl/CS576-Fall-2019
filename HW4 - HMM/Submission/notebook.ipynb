{
 "cells": [
  {
   "cell_type": "markdown",
   "metadata": {
    "deletable": false,
    "editable": false,
    "nbgrader": {
     "grade": false,
     "grade_id": "cell-8f3b19b382b45fcd",
     "locked": true,
     "schema_version": 1,
     "solution": false
    }
   },
   "source": [
    "## BMI/CS 576 Fall 2019 - HW4\n",
    "The objectives of this homework are to practice\n",
    "\n",
    "* the Baum–Welch algorithm\n",
    "* designing HMMs and evaluating their accuracy\n",
    "\n",
    "## HW policies\n",
    "Before starting this homework, please read over the [homework policies](https://canvas.wisc.edu/courses/167969/pages/hw-policies) for this course.  In particular, note that homeworks are to be completed *individually*.\n",
    "\n",
    "You are welcome to use any code from the weekly notebooks in your solutions to the HW."
   ]
  },
  {
   "cell_type": "markdown",
   "metadata": {
    "deletable": false,
    "editable": false,
    "nbgrader": {
     "grade": false,
     "grade_id": "cell-161ac9e9ef6c5517",
     "locked": true,
     "schema_version": 1,
     "solution": false
    }
   },
   "source": [
    "## PROBLEM 1: Baum–Welch algorithm (60 points)\n",
    "\n",
    "For this problem you will implement the Baum–Welch algorithm.  You will implement this algorithm as a set of methods defined for a subclass, `TrainableHMM`, of the HMM class that we have been developing in class.  The high-level master method for this algorithm, `estimate_parameters_baum_welch` is already implemented for you.  This method calls two other methods, corresponding to the Expectation (E) and Maximization (M) steps of the Baum–Welch algorithm, which you are to implement.\n",
    "\n",
    "The base HMM class that we have implemented in the activities, along with a number of helper functions, are found in the `hmm` module included with this notebook.  You should add your solutions to key methods from your weekly notebooks to it and modify other aspects of it if you wish.  There are a few minor changes in how the HMM class works.  These should not affect how you implement the Baum–Welch algorithm, but will be helpful in improving efficiency for the second problem of this HW.  The changes are:\n",
    "\n",
    "1. States may now be represented by arbitrary strings, rather than individual characters.  As a result, a state path (such as what is returned by the `most_probable_path` method) is now represented by a *list of strings*.\n",
    "2. The Viterbi, Forward, and Backward algorithms now take advantage of the sparsity (of non-zero transitions) of the HMM.  This results in efficiency gains, particular for HMMs with large numbers of states but relatively few transitions.  This is important for problem 2."
   ]
  },
  {
   "cell_type": "code",
   "execution_count": 1,
   "metadata": {
    "collapsed": true,
    "nbgrader": {
     "grade": false,
     "grade_id": "cell-adeead263575b62b",
     "locked": false,
     "schema_version": 1,
     "solution": true
    }
   },
   "outputs": [],
   "source": [
    "import hmm\n",
    "import math\n",
    "import itertools\n",
    "from matplotlib import pyplot as plt\n",
    "\n",
    "class TrainableHMM(hmm.HiddenMarkovModel):\n",
    "\n",
    "    def estimate_parameters_baum_welch(self, \n",
    "                                       training_data, \n",
    "                                       pseudocount=0, \n",
    "                                       min_log_likelihood_diff=0.1,\n",
    "                                       verbose=False):\n",
    "        \"\"\"Estimates (and sets) the parameters of the model via the Baum–Welch algorithm.\n",
    "        \n",
    "        The current parameters of the model will be used as initial parameters.\n",
    "        Args:\n",
    "            training_data: A list of strings of observed sequences.\n",
    "            pseudocount: a pseudocount to add to each expected count when \n",
    "                computing the parameter values.  The default is zero, which \n",
    "                corresponds to maximimum likelihood estimates without smoothing.\n",
    "                A value of one corresponds to Laplace smoothing.\n",
    "            min_log_likelihood_diff: the algorithm will terminate once the \n",
    "                difference in the log likelihood of the data from one iteration \n",
    "                to the next is less than this value.\n",
    "            verbose: if True, print progress information during the algorithm.\n",
    "        \"\"\"\n",
    "        # keep track of the log likelihood of the previous iteration\n",
    "        last_log_likelihood = float(\"-inf\")\n",
    "        \n",
    "        # repeat the E and M steps until convergence\n",
    "        for iteration in itertools.count():\n",
    "            # E-step\n",
    "            e_step_results = self.baum_welch_expectation_step(training_data)\n",
    "            log_likelihood = e_step_results[\"log_likelihood\"]\n",
    "\n",
    "            # optionally, print log likelihood at current iteration\n",
    "            if verbose: \n",
    "                print(\"Iteration %d:\" % iteration,\n",
    "                      \"log likelihood = %f\" % log_likelihood)\n",
    "            \n",
    "            # check if difference in log likelihood is sufficiently small to terminate            \n",
    "            if log_likelihood - last_log_likelihood < min_log_likelihood_diff:\n",
    "                if log_likelihood < last_log_likelihood:\n",
    "                    raise RuntimeError(\"Log likelihood is decreasing! \"\n",
    "                                       \"Some calculations must be incorrect.\")\n",
    "                return log_likelihood\n",
    "    \n",
    "            # M-step\n",
    "            self.baum_welch_maximization_step(e_step_results, pseudocount)\n",
    "            \n",
    "            last_log_likelihood = log_likelihood\n",
    "\n",
    "    def baum_welch_expectation_step(self, training_data):\n",
    "        \"\"\"Runs the E-step of the Baum–Welch algorithm.\n",
    "        \n",
    "        Args:\n",
    "            training_data: A list of strings of observed sequences.\n",
    "        Returns:\n",
    "            A dictionary with the results of the E-step, with the keys:\n",
    "                log_likelihood: the log probability of the training data given \n",
    "                    the current parameters\n",
    "                transition_count_matrix: a matrix of the same dimensions as \n",
    "                    transition_prob_matrix giving the expected counts of\n",
    "                    each transition\n",
    "                initial_counts: a list of the same length as initial_probs giving\n",
    "                    the expected counts of each state starting a hidden path \n",
    "                    (expected count of transition from begin state)\n",
    "                emission_count_matrix: a matrix of the same dimensions as \n",
    "                    emission_prob_matrix giving the expected counts of\n",
    "                    each emission\n",
    "        \"\"\"\n",
    "        # initialize matrices of counts\n",
    "        transition_count_matrix = hmm.matrix(len(self.states), len(self.states), 0)\n",
    "        initial_counts = [0] * len(self.states)\n",
    "        emission_count_matrix = hmm.matrix(len(self.states), len(self.chars), 0)\n",
    "        \n",
    "        # initialize log likelihood\n",
    "        log_likelihood = 0\n",
    "        \n",
    "        N = len(self.states)\n",
    "\n",
    "        # add contribution of each sequence to expected counts and log probability\n",
    "        for char_string in training_data:\n",
    "            L = len(char_string)\n",
    "            f = self.forward_matrix(char_string)\n",
    "            b = self.backward_matrix(char_string)\n",
    "            a = self.log_transition_prob_matrix\n",
    "            e = [[self.log_emission_prob_matrix[i][self.chars.index(char_string[j])] for j in range(L)] for i in range(N)]\n",
    "            \n",
    "            log_prob_seq = self.log_probability(char_string, f)\n",
    "            log_likelihood += log_prob_seq\n",
    "            \n",
    "            for i in range(N):\n",
    "                for j, c in enumerate(self.chars):\n",
    "                    emission_count_matrix[i][j] += sum(math.exp(f[i][k] + b[i][k] - log_prob_seq) for k in range(L) if char_string[k] == c)\n",
    "            \n",
    "            for k in range(N):\n",
    "                for l in range(N):\n",
    "                    transition_count_matrix[k][l] += sum(math.exp(f[k][i] + a[k][l] + e[l][i + 1]+ b[l][i + 1] - log_prob_seq) for i in range(L - 1))\n",
    "\n",
    "            for k in range(N):\n",
    "                initial_counts[k] += math.exp(f[k][0] + b[k][0] - log_prob_seq)\n",
    "\n",
    "        # Return results as a dictionary\n",
    "        return {\"log_likelihood\": log_likelihood,\n",
    "                \"transition_count_matrix\": transition_count_matrix, \n",
    "                \"initial_counts\": initial_counts,\n",
    "                \"emission_count_matrix\": emission_count_matrix}\n",
    "    \n",
    "    def baum_welch_maximization_step(self, e_step_result, pseudocount=0):\n",
    "        \"\"\"Runs the M-step of the Baum–Welch algorithm, updating the parameters of the model.\n",
    "        \n",
    "        Args:\n",
    "            e_step_result: A dictionary of E-step results\n",
    "                           (see documentation for baum_welch_expectation_step)\n",
    "            pseudocount: a pseudocount to add to each expected count when \n",
    "                computing the parameter values.  The default is zero, which \n",
    "                corresponds to maximimum likelihood estimates without smoothing.\n",
    "                A value of one corresponds to Laplace smoothing.\n",
    "        \"\"\"\n",
    "        transition_count_matrix = e_step_result['transition_count_matrix']\n",
    "        initial_counts = e_step_result['initial_counts']\n",
    "        emission_count_matrix = e_step_result['emission_count_matrix']\n",
    "        \n",
    "        for i in range(len(self.states)):\n",
    "            for j in range(len(self.chars)):\n",
    "                self.emission_prob_matrix[i][j] = emission_count_matrix[i][j] + pseudocount\n",
    "                \n",
    "        for i in range(len(self.states)):\n",
    "            for j in range(len(self.states)):\n",
    "                self.transition_prob_matrix[i][j] = transition_count_matrix[i][j] + pseudocount\n",
    "                \n",
    "        for i in range(len(self.states)):\n",
    "            self.initial_probs[i] = initial_counts[i] + pseudocount\n",
    "        \n",
    "        self.transition_prob_matrix = hmm.normalize_matrix_rows(self.transition_prob_matrix)\n",
    "        self.initial_probs = hmm.normalize_vector(self.initial_probs)\n",
    "        self.emission_prob_matrix = hmm.normalize_matrix_rows(self.emission_prob_matrix)\n",
    "        \n",
    "        self._compute_log_parameters()"
   ]
  },
  {
   "cell_type": "markdown",
   "metadata": {
    "deletable": false,
    "editable": false,
    "nbgrader": {
     "grade": false,
     "grade_id": "cell-47da4ef56b0dd621",
     "locked": true,
     "schema_version": 1,
     "solution": false
    }
   },
   "source": [
    "## PROBLEM 2: An exon-intron finding HMM (40 points)\n",
    "\n",
    "Recall that genes in the genomes of eukaryotic species have substructures called *exons* and *introns*, which are involved in a process called *splicing*.  The splicing process occurs after the initial transcription of the gene from DNA to RNA.  The initial RNA transcript is called a pre-mRNA and contains alternating exon and intron intervals.  A pre-mRNA always starts and ends with an exon and can have any number of introns (including zero, which would be a single-exon pre-mRNA).  During the splicing process, intron intervals are removed and consecutive exon intervals are linked together to form a mature mRNA.  An example of this process is illustrated below:\n",
    "\n",
    "![intron_exon](intron_exon.png)\n",
    "\n",
    "For this problem you are to devise and implement an HMM that models pre-mRNA sequences and their exon-intron structures.  You will then train your HMM on a set of pre-mRNA sequences from the fruit fly species *Drosophila melanogaster* using the Baum–Welch algorithm.  With your trained HMM, you will then try to predict the locations of the exons and introns in the same set of pre-mRNA sequences."
   ]
  },
  {
   "cell_type": "markdown",
   "metadata": {
    "deletable": false,
    "editable": false,
    "nbgrader": {
     "grade": false,
     "grade_id": "cell-cb3b80351e51464e",
     "locked": true,
     "schema_version": 1,
     "solution": false
    }
   },
   "source": [
    "**(A)** Draw the state transition diagram (the graph with states as nodes and transitions as edges), for the HMM you devise.  Your HMM should, at a bare minimum, have the following features:\n",
    "1. One or more states that model *exonic* positions.\n",
    "2. One or more states that model *intronic* positions.\n",
    "3. States that enforce that the first two bases of an intron are *always* `GU`\n",
    "4. States that enforce that the last two bases of an intron are *always* `AG`\n",
    "\n",
    "You are encouraged to experiment with more complex HMMs to see if you can improve the predictive performance of the model.  For example, you might consider the following features:\n",
    "\n",
    "1. States modeling the last two bases of an exon and the first six bases of an intron (which make up the \"donor\" splice site, the signal indicating the start of an intron).  See the notebook from day 10.\n",
    "2. States modeling the last six bases of an intron and the first base of an exon (which make up the \"acceptor\" splice site, the signal indicating the end of an intron).\n",
    "3. Higher-order models of the bases within exons and or introns.  For example, you can model the probability at which each base follows each other base within an exon (instead of each base within an exon being modeled independently).\n",
    "\n",
    "**(B)** Implement your HMM as an instance of the `TrainableHMM` class and train it (via Baum–Welch) on the fly pre-mRNA sequences provided below.  Print out the estimated parameters of your model.  What statistical properties of exon and intron sequences is your model learning from the data?\n",
    "\n",
    "**(C)** With your trained model predict the locations of exons and introns within the same set of fly pre-mRNA sequences.  Compute some accuracy measures of your predictions with respect to the true exon-intron annotations provided.  For example, you could compute\n",
    "1. The base-level accuracy of your predictions: what fraction of the bases within the pre-mRNA sequences are corrected predicted as either exonic or intronic?\n",
    "2. The feature-level recall of your predictions: what fraction of the true exon (or intron) features are predicted correctly (e.g., for an exon to be predicted correctly, its start and end positions must both be predicted correctly).\n",
    "\n",
    "**(D)** With your trained model, and one (or more) of the provided pre-mRNA sequences, compute the posterior probability at each position that the position is exonic.  Make a plot of these posterior probabilities (i.e., a plot of the posterior probability of being in an exon vs. position in the sequence).  I recommend using the pyplot function [`fill_between`](https://matplotlib.org/api/_as_gen/matplotlib.pyplot.fill_between.html#matplotlib.pyplot.fill_between) for such a plot."
   ]
  },
  {
   "cell_type": "markdown",
   "metadata": {
    "deletable": false,
    "editable": false,
    "nbgrader": {
     "grade": false,
     "grade_id": "cell-e65d0556bd77ed3e",
     "locked": true,
     "schema_version": 1,
     "solution": false
    }
   },
   "source": [
    "### Fly RNA transcript data\n",
    "Below are the fly data that you are to use for this problem.  `fly_pre_mrnas` is a list of RNA strings, with each element of the list being the pre-mRNA for a different gene (gene names can be accessed in the corresponding `fly_gene_names` list).  `fly_pre_mrna_annotations` is a corresponding list of the true exon-intron structure of each pre-mRNA.  The structure is specified as a string of the same length as the pre-mRNA consisting of the characters `E` and `I`, indicating which positions of the pre-mRNA are exonic and intronic, respectively."
   ]
  },
  {
   "cell_type": "code",
   "execution_count": 2,
   "metadata": {
    "collapsed": true,
    "deletable": false,
    "editable": false,
    "nbgrader": {
     "grade": false,
     "grade_id": "cell-42eba3be10590811",
     "locked": true,
     "schema_version": 1,
     "solution": false
    }
   },
   "outputs": [],
   "source": [
    "import fasta\n",
    "fly_pre_mrna_records = fasta.read_sequences_from_fasta_file(\"fly_transcripts.fasta\")\n",
    "fly_pre_mrna_annotation_records = fasta.read_sequences_from_fasta_file(\"fly_transcripts_exon_intron_annotation.fasta\")\n",
    "\n",
    "fly_gene_names, fly_pre_mrnas = zip(*fly_pre_mrna_records)\n",
    "fly_pre_mrna_annotations = tuple(zip(*fly_pre_mrna_annotation_records))[1]"
   ]
  },
  {
   "cell_type": "markdown",
   "metadata": {},
   "source": [
    "### Part (A)"
   ]
  },
  {
   "cell_type": "code",
   "execution_count": 6,
   "metadata": {
    "scrolled": false
   },
   "outputs": [
    {
     "data": {
      "image/svg+xml": [
       "<?xml version=\"1.0\" encoding=\"UTF-8\" standalone=\"no\"?>\n",
       "<!DOCTYPE svg PUBLIC \"-//W3C//DTD SVG 1.1//EN\"\n",
       " \"http://www.w3.org/Graphics/SVG/1.1/DTD/svg11.dtd\">\n",
       "<!-- Generated by graphviz version 2.38.0 (20140413.2041)\n",
       " -->\n",
       "<!-- Title: %3 Pages: 1 -->\n",
       "<svg width=\"261pt\" height=\"1297pt\"\n",
       " viewBox=\"0.00 0.00 260.50 1297.00\" xmlns=\"http://www.w3.org/2000/svg\" xmlns:xlink=\"http://www.w3.org/1999/xlink\">\n",
       "<g id=\"graph0\" class=\"graph\" transform=\"scale(1 1) rotate(0) translate(4 1293)\">\n",
       "<title>%3</title>\n",
       "<polygon fill=\"white\" stroke=\"none\" points=\"-4,4 -4,-1293 256.5,-1293 256.5,4 -4,4\"/>\n",
       "<!-- EXON\n",
       "A = 0.25\n",
       "C = 0.25\n",
       "G = 0.25\n",
       "U = 0.25 -->\n",
       "<g id=\"node1\" class=\"node\"><title>EXON\n",
       "A = 0.25\n",
       "C = 0.25\n",
       "G = 0.25\n",
       "U = 0.25</title>\n",
       "<polygon fill=\"none\" stroke=\"black\" points=\"209.5,-1289 143.5,-1289 143.5,-1206 209.5,-1206 209.5,-1289\"/>\n",
       "<text text-anchor=\"middle\" x=\"176.5\" y=\"-1273.8\" font-family=\"Times,serif\" font-size=\"14.00\">EXON</text>\n",
       "<text text-anchor=\"middle\" x=\"176.5\" y=\"-1258.8\" font-family=\"Times,serif\" font-size=\"14.00\">A = 0.25</text>\n",
       "<text text-anchor=\"middle\" x=\"176.5\" y=\"-1243.8\" font-family=\"Times,serif\" font-size=\"14.00\">C = 0.25</text>\n",
       "<text text-anchor=\"middle\" x=\"176.5\" y=\"-1228.8\" font-family=\"Times,serif\" font-size=\"14.00\">G = 0.25</text>\n",
       "<text text-anchor=\"middle\" x=\"176.5\" y=\"-1213.8\" font-family=\"Times,serif\" font-size=\"14.00\">U = 0.25</text>\n",
       "</g>\n",
       "<!-- EXON\n",
       "A = 0.25\n",
       "C = 0.25\n",
       "G = 0.25\n",
       "U = 0.25&#45;&gt;EXON\n",
       "A = 0.25\n",
       "C = 0.25\n",
       "G = 0.25\n",
       "U = 0.25 -->\n",
       "<g id=\"edge2\" class=\"edge\"><title>EXON\n",
       "A = 0.25\n",
       "C = 0.25\n",
       "G = 0.25\n",
       "U = 0.25&#45;&gt;EXON\n",
       "A = 0.25\n",
       "C = 0.25\n",
       "G = 0.25\n",
       "U = 0.25</title>\n",
       "<path fill=\"none\" stroke=\"black\" d=\"M209.854,-1259.85C219.778,-1259.48 227.5,-1255.36 227.5,-1247.5 227.5,-1242.59 224.484,-1239.13 219.799,-1237.15\"/>\n",
       "<polygon fill=\"black\" stroke=\"black\" points=\"220.348,-1233.69 209.854,-1235.15 218.97,-1240.55 220.348,-1233.69\"/>\n",
       "<text text-anchor=\"middle\" x=\"240\" y=\"-1243.8\" font-family=\"Times,serif\" font-size=\"14.00\">0.50</text>\n",
       "</g>\n",
       "<!-- INTRON_FST_1\n",
       "A = 0\n",
       "C = 0\n",
       "G = 1\n",
       "U = 0 -->\n",
       "<g id=\"node2\" class=\"node\"><title>INTRON_FST_1\n",
       "A = 0\n",
       "C = 0\n",
       "G = 1\n",
       "U = 0</title>\n",
       "<polygon fill=\"none\" stroke=\"black\" points=\"141,-1155 30,-1155 30,-1072 141,-1072 141,-1155\"/>\n",
       "<text text-anchor=\"middle\" x=\"85.5\" y=\"-1139.8\" font-family=\"Times,serif\" font-size=\"14.00\">INTRON_FST_1</text>\n",
       "<text text-anchor=\"middle\" x=\"85.5\" y=\"-1124.8\" font-family=\"Times,serif\" font-size=\"14.00\">A = 0</text>\n",
       "<text text-anchor=\"middle\" x=\"85.5\" y=\"-1109.8\" font-family=\"Times,serif\" font-size=\"14.00\">C = 0</text>\n",
       "<text text-anchor=\"middle\" x=\"85.5\" y=\"-1094.8\" font-family=\"Times,serif\" font-size=\"14.00\">G = 1</text>\n",
       "<text text-anchor=\"middle\" x=\"85.5\" y=\"-1079.8\" font-family=\"Times,serif\" font-size=\"14.00\">U = 0</text>\n",
       "</g>\n",
       "<!-- EXON\n",
       "A = 0.25\n",
       "C = 0.25\n",
       "G = 0.25\n",
       "U = 0.25&#45;&gt;INTRON_FST_1\n",
       "A = 0\n",
       "C = 0\n",
       "G = 1\n",
       "U = 0 -->\n",
       "<g id=\"edge1\" class=\"edge\"><title>EXON\n",
       "A = 0.25\n",
       "C = 0.25\n",
       "G = 0.25\n",
       "U = 0.25&#45;&gt;INTRON_FST_1\n",
       "A = 0\n",
       "C = 0\n",
       "G = 1\n",
       "U = 0</title>\n",
       "<path fill=\"none\" stroke=\"black\" d=\"M148.454,-1205.82C139.286,-1192.52 129.003,-1177.6 119.448,-1163.74\"/>\n",
       "<polygon fill=\"black\" stroke=\"black\" points=\"122.167,-1161.52 113.61,-1155.27 116.404,-1165.49 122.167,-1161.52\"/>\n",
       "<text text-anchor=\"middle\" x=\"147\" y=\"-1176.8\" font-family=\"Times,serif\" font-size=\"14.00\">0.50</text>\n",
       "</g>\n",
       "<!-- INTRON_FST_2\n",
       "A = 0\n",
       "C = 0\n",
       "G = 0\n",
       "U = 1 -->\n",
       "<g id=\"node3\" class=\"node\"><title>INTRON_FST_2\n",
       "A = 0\n",
       "C = 0\n",
       "G = 0\n",
       "U = 1</title>\n",
       "<polygon fill=\"none\" stroke=\"black\" points=\"118,-1021 7,-1021 7,-938 118,-938 118,-1021\"/>\n",
       "<text text-anchor=\"middle\" x=\"62.5\" y=\"-1005.8\" font-family=\"Times,serif\" font-size=\"14.00\">INTRON_FST_2</text>\n",
       "<text text-anchor=\"middle\" x=\"62.5\" y=\"-990.8\" font-family=\"Times,serif\" font-size=\"14.00\">A = 0</text>\n",
       "<text text-anchor=\"middle\" x=\"62.5\" y=\"-975.8\" font-family=\"Times,serif\" font-size=\"14.00\">C = 0</text>\n",
       "<text text-anchor=\"middle\" x=\"62.5\" y=\"-960.8\" font-family=\"Times,serif\" font-size=\"14.00\">G = 0</text>\n",
       "<text text-anchor=\"middle\" x=\"62.5\" y=\"-945.8\" font-family=\"Times,serif\" font-size=\"14.00\">U = 1</text>\n",
       "</g>\n",
       "<!-- INTRON_FST_1\n",
       "A = 0\n",
       "C = 0\n",
       "G = 1\n",
       "U = 0&#45;&gt;INTRON_FST_2\n",
       "A = 0\n",
       "C = 0\n",
       "G = 0\n",
       "U = 1 -->\n",
       "<g id=\"edge3\" class=\"edge\"><title>INTRON_FST_1\n",
       "A = 0\n",
       "C = 0\n",
       "G = 1\n",
       "U = 0&#45;&gt;INTRON_FST_2\n",
       "A = 0\n",
       "C = 0\n",
       "G = 0\n",
       "U = 1</title>\n",
       "<path fill=\"none\" stroke=\"black\" d=\"M78.4116,-1071.82C76.1817,-1059.02 73.6911,-1044.73 71.3545,-1031.32\"/>\n",
       "<polygon fill=\"black\" stroke=\"black\" points=\"74.7693,-1030.53 69.6046,-1021.27 67.8732,-1031.73 74.7693,-1030.53\"/>\n",
       "<text text-anchor=\"middle\" x=\"88\" y=\"-1042.8\" font-family=\"Times,serif\" font-size=\"14.00\">1.00</text>\n",
       "</g>\n",
       "<!-- INTRON_FST_3\n",
       "A = 0.25\n",
       "C = 0.25\n",
       "G = 0.25\n",
       "U = 0.25 -->\n",
       "<g id=\"node4\" class=\"node\"><title>INTRON_FST_3\n",
       "A = 0.25\n",
       "C = 0.25\n",
       "G = 0.25\n",
       "U = 0.25</title>\n",
       "<polygon fill=\"none\" stroke=\"black\" points=\"112,-887 1,-887 1,-804 112,-804 112,-887\"/>\n",
       "<text text-anchor=\"middle\" x=\"56.5\" y=\"-871.8\" font-family=\"Times,serif\" font-size=\"14.00\">INTRON_FST_3</text>\n",
       "<text text-anchor=\"middle\" x=\"56.5\" y=\"-856.8\" font-family=\"Times,serif\" font-size=\"14.00\">A = 0.25</text>\n",
       "<text text-anchor=\"middle\" x=\"56.5\" y=\"-841.8\" font-family=\"Times,serif\" font-size=\"14.00\">C = 0.25</text>\n",
       "<text text-anchor=\"middle\" x=\"56.5\" y=\"-826.8\" font-family=\"Times,serif\" font-size=\"14.00\">G = 0.25</text>\n",
       "<text text-anchor=\"middle\" x=\"56.5\" y=\"-811.8\" font-family=\"Times,serif\" font-size=\"14.00\">U = 0.25</text>\n",
       "</g>\n",
       "<!-- INTRON_FST_2\n",
       "A = 0\n",
       "C = 0\n",
       "G = 0\n",
       "U = 1&#45;&gt;INTRON_FST_3\n",
       "A = 0.25\n",
       "C = 0.25\n",
       "G = 0.25\n",
       "U = 0.25 -->\n",
       "<g id=\"edge4\" class=\"edge\"><title>INTRON_FST_2\n",
       "A = 0\n",
       "C = 0\n",
       "G = 0\n",
       "U = 1&#45;&gt;INTRON_FST_3\n",
       "A = 0.25\n",
       "C = 0.25\n",
       "G = 0.25\n",
       "U = 0.25</title>\n",
       "<path fill=\"none\" stroke=\"black\" d=\"M60.6508,-937.819C60.0692,-925.021 59.4194,-910.727 58.8099,-897.317\"/>\n",
       "<polygon fill=\"black\" stroke=\"black\" points=\"62.3039,-897.105 58.3534,-887.274 55.3112,-897.423 62.3039,-897.105\"/>\n",
       "<text text-anchor=\"middle\" x=\"73\" y=\"-908.8\" font-family=\"Times,serif\" font-size=\"14.00\">1.00</text>\n",
       "</g>\n",
       "<!-- INTRON_FST_4\n",
       "A = 0.25\n",
       "C = 0.25\n",
       "G = 0.25\n",
       "U = 0.25 -->\n",
       "<g id=\"node5\" class=\"node\"><title>INTRON_FST_4\n",
       "A = 0.25\n",
       "C = 0.25\n",
       "G = 0.25\n",
       "U = 0.25</title>\n",
       "<polygon fill=\"none\" stroke=\"black\" points=\"111,-753 7.10543e-15,-753 7.10543e-15,-670 111,-670 111,-753\"/>\n",
       "<text text-anchor=\"middle\" x=\"55.5\" y=\"-737.8\" font-family=\"Times,serif\" font-size=\"14.00\">INTRON_FST_4</text>\n",
       "<text text-anchor=\"middle\" x=\"55.5\" y=\"-722.8\" font-family=\"Times,serif\" font-size=\"14.00\">A = 0.25</text>\n",
       "<text text-anchor=\"middle\" x=\"55.5\" y=\"-707.8\" font-family=\"Times,serif\" font-size=\"14.00\">C = 0.25</text>\n",
       "<text text-anchor=\"middle\" x=\"55.5\" y=\"-692.8\" font-family=\"Times,serif\" font-size=\"14.00\">G = 0.25</text>\n",
       "<text text-anchor=\"middle\" x=\"55.5\" y=\"-677.8\" font-family=\"Times,serif\" font-size=\"14.00\">U = 0.25</text>\n",
       "</g>\n",
       "<!-- INTRON_FST_3\n",
       "A = 0.25\n",
       "C = 0.25\n",
       "G = 0.25\n",
       "U = 0.25&#45;&gt;INTRON_FST_4\n",
       "A = 0.25\n",
       "C = 0.25\n",
       "G = 0.25\n",
       "U = 0.25 -->\n",
       "<g id=\"edge5\" class=\"edge\"><title>INTRON_FST_3\n",
       "A = 0.25\n",
       "C = 0.25\n",
       "G = 0.25\n",
       "U = 0.25&#45;&gt;INTRON_FST_4\n",
       "A = 0.25\n",
       "C = 0.25\n",
       "G = 0.25\n",
       "U = 0.25</title>\n",
       "<path fill=\"none\" stroke=\"black\" d=\"M56.1918,-803.819C56.0949,-791.021 55.9866,-776.727 55.885,-763.317\"/>\n",
       "<polygon fill=\"black\" stroke=\"black\" points=\"59.3847,-763.247 55.8089,-753.274 52.3849,-763.301 59.3847,-763.247\"/>\n",
       "<text text-anchor=\"middle\" x=\"69\" y=\"-774.8\" font-family=\"Times,serif\" font-size=\"14.00\">1.00</text>\n",
       "</g>\n",
       "<!-- INTRON_FST_5\n",
       "A = 0.25\n",
       "C = 0.25\n",
       "G = 0.25\n",
       "U = 0.25 -->\n",
       "<g id=\"node6\" class=\"node\"><title>INTRON_FST_5\n",
       "A = 0.25\n",
       "C = 0.25\n",
       "G = 0.25\n",
       "U = 0.25</title>\n",
       "<polygon fill=\"none\" stroke=\"black\" points=\"111,-619 7.10543e-15,-619 7.10543e-15,-536 111,-536 111,-619\"/>\n",
       "<text text-anchor=\"middle\" x=\"55.5\" y=\"-603.8\" font-family=\"Times,serif\" font-size=\"14.00\">INTRON_FST_5</text>\n",
       "<text text-anchor=\"middle\" x=\"55.5\" y=\"-588.8\" font-family=\"Times,serif\" font-size=\"14.00\">A = 0.25</text>\n",
       "<text text-anchor=\"middle\" x=\"55.5\" y=\"-573.8\" font-family=\"Times,serif\" font-size=\"14.00\">C = 0.25</text>\n",
       "<text text-anchor=\"middle\" x=\"55.5\" y=\"-558.8\" font-family=\"Times,serif\" font-size=\"14.00\">G = 0.25</text>\n",
       "<text text-anchor=\"middle\" x=\"55.5\" y=\"-543.8\" font-family=\"Times,serif\" font-size=\"14.00\">U = 0.25</text>\n",
       "</g>\n",
       "<!-- INTRON_FST_4\n",
       "A = 0.25\n",
       "C = 0.25\n",
       "G = 0.25\n",
       "U = 0.25&#45;&gt;INTRON_FST_5\n",
       "A = 0.25\n",
       "C = 0.25\n",
       "G = 0.25\n",
       "U = 0.25 -->\n",
       "<g id=\"edge6\" class=\"edge\"><title>INTRON_FST_4\n",
       "A = 0.25\n",
       "C = 0.25\n",
       "G = 0.25\n",
       "U = 0.25&#45;&gt;INTRON_FST_5\n",
       "A = 0.25\n",
       "C = 0.25\n",
       "G = 0.25\n",
       "U = 0.25</title>\n",
       "<path fill=\"none\" stroke=\"black\" d=\"M55.5,-669.819C55.5,-657.021 55.5,-642.727 55.5,-629.317\"/>\n",
       "<polygon fill=\"black\" stroke=\"black\" points=\"59.0001,-629.274 55.5,-619.274 52.0001,-629.274 59.0001,-629.274\"/>\n",
       "<text text-anchor=\"middle\" x=\"68\" y=\"-640.8\" font-family=\"Times,serif\" font-size=\"14.00\">1.00</text>\n",
       "</g>\n",
       "<!-- INTRON_FST_6\n",
       "A = 0.25\n",
       "C = 0.25\n",
       "G = 0.25\n",
       "U = 0.25 -->\n",
       "<g id=\"node7\" class=\"node\"><title>INTRON_FST_6\n",
       "A = 0.25\n",
       "C = 0.25\n",
       "G = 0.25\n",
       "U = 0.25</title>\n",
       "<polygon fill=\"none\" stroke=\"black\" points=\"111,-485 7.10543e-15,-485 7.10543e-15,-402 111,-402 111,-485\"/>\n",
       "<text text-anchor=\"middle\" x=\"55.5\" y=\"-469.8\" font-family=\"Times,serif\" font-size=\"14.00\">INTRON_FST_6</text>\n",
       "<text text-anchor=\"middle\" x=\"55.5\" y=\"-454.8\" font-family=\"Times,serif\" font-size=\"14.00\">A = 0.25</text>\n",
       "<text text-anchor=\"middle\" x=\"55.5\" y=\"-439.8\" font-family=\"Times,serif\" font-size=\"14.00\">C = 0.25</text>\n",
       "<text text-anchor=\"middle\" x=\"55.5\" y=\"-424.8\" font-family=\"Times,serif\" font-size=\"14.00\">G = 0.25</text>\n",
       "<text text-anchor=\"middle\" x=\"55.5\" y=\"-409.8\" font-family=\"Times,serif\" font-size=\"14.00\">U = 0.25</text>\n",
       "</g>\n",
       "<!-- INTRON_FST_5\n",
       "A = 0.25\n",
       "C = 0.25\n",
       "G = 0.25\n",
       "U = 0.25&#45;&gt;INTRON_FST_6\n",
       "A = 0.25\n",
       "C = 0.25\n",
       "G = 0.25\n",
       "U = 0.25 -->\n",
       "<g id=\"edge7\" class=\"edge\"><title>INTRON_FST_5\n",
       "A = 0.25\n",
       "C = 0.25\n",
       "G = 0.25\n",
       "U = 0.25&#45;&gt;INTRON_FST_6\n",
       "A = 0.25\n",
       "C = 0.25\n",
       "G = 0.25\n",
       "U = 0.25</title>\n",
       "<path fill=\"none\" stroke=\"black\" d=\"M55.5,-535.819C55.5,-523.021 55.5,-508.727 55.5,-495.317\"/>\n",
       "<polygon fill=\"black\" stroke=\"black\" points=\"59.0001,-495.274 55.5,-485.274 52.0001,-495.274 59.0001,-495.274\"/>\n",
       "<text text-anchor=\"middle\" x=\"68\" y=\"-506.8\" font-family=\"Times,serif\" font-size=\"14.00\">1.00</text>\n",
       "</g>\n",
       "<!-- INTRON_MID\n",
       "A = 0.25\n",
       "C = 0.25\n",
       "G = 0.25\n",
       "U = 0.25 -->\n",
       "<g id=\"node8\" class=\"node\"><title>INTRON_MID\n",
       "A = 0.25\n",
       "C = 0.25\n",
       "G = 0.25\n",
       "U = 0.25</title>\n",
       "<polygon fill=\"none\" stroke=\"black\" points=\"106,-351 5,-351 5,-268 106,-268 106,-351\"/>\n",
       "<text text-anchor=\"middle\" x=\"55.5\" y=\"-335.8\" font-family=\"Times,serif\" font-size=\"14.00\">INTRON_MID</text>\n",
       "<text text-anchor=\"middle\" x=\"55.5\" y=\"-320.8\" font-family=\"Times,serif\" font-size=\"14.00\">A = 0.25</text>\n",
       "<text text-anchor=\"middle\" x=\"55.5\" y=\"-305.8\" font-family=\"Times,serif\" font-size=\"14.00\">C = 0.25</text>\n",
       "<text text-anchor=\"middle\" x=\"55.5\" y=\"-290.8\" font-family=\"Times,serif\" font-size=\"14.00\">G = 0.25</text>\n",
       "<text text-anchor=\"middle\" x=\"55.5\" y=\"-275.8\" font-family=\"Times,serif\" font-size=\"14.00\">U = 0.25</text>\n",
       "</g>\n",
       "<!-- INTRON_FST_6\n",
       "A = 0.25\n",
       "C = 0.25\n",
       "G = 0.25\n",
       "U = 0.25&#45;&gt;INTRON_MID\n",
       "A = 0.25\n",
       "C = 0.25\n",
       "G = 0.25\n",
       "U = 0.25 -->\n",
       "<g id=\"edge8\" class=\"edge\"><title>INTRON_FST_6\n",
       "A = 0.25\n",
       "C = 0.25\n",
       "G = 0.25\n",
       "U = 0.25&#45;&gt;INTRON_MID\n",
       "A = 0.25\n",
       "C = 0.25\n",
       "G = 0.25\n",
       "U = 0.25</title>\n",
       "<path fill=\"none\" stroke=\"black\" d=\"M55.5,-401.819C55.5,-389.021 55.5,-374.727 55.5,-361.317\"/>\n",
       "<polygon fill=\"black\" stroke=\"black\" points=\"59.0001,-361.274 55.5,-351.274 52.0001,-361.274 59.0001,-361.274\"/>\n",
       "<text text-anchor=\"middle\" x=\"68\" y=\"-372.8\" font-family=\"Times,serif\" font-size=\"14.00\">1.00</text>\n",
       "</g>\n",
       "<!-- INTRON_MID\n",
       "A = 0.25\n",
       "C = 0.25\n",
       "G = 0.25\n",
       "U = 0.25&#45;&gt;INTRON_MID\n",
       "A = 0.25\n",
       "C = 0.25\n",
       "G = 0.25\n",
       "U = 0.25 -->\n",
       "<g id=\"edge9\" class=\"edge\"><title>INTRON_MID\n",
       "A = 0.25\n",
       "C = 0.25\n",
       "G = 0.25\n",
       "U = 0.25&#45;&gt;INTRON_MID\n",
       "A = 0.25\n",
       "C = 0.25\n",
       "G = 0.25\n",
       "U = 0.25</title>\n",
       "<path fill=\"none\" stroke=\"black\" d=\"M106.284,-321.403C116.607,-320.106 124,-316.139 124,-309.5 124,-305.247 120.966,-302.09 116.071,-300.03\"/>\n",
       "<polygon fill=\"black\" stroke=\"black\" points=\"116.833,-296.613 106.284,-297.597 115.144,-303.406 116.833,-296.613\"/>\n",
       "<text text-anchor=\"middle\" x=\"136.5\" y=\"-305.8\" font-family=\"Times,serif\" font-size=\"14.00\">0.50</text>\n",
       "</g>\n",
       "<!-- INTRON_END_1\n",
       "A = 1\n",
       "C = 0\n",
       "G = 0\n",
       "U = 0 -->\n",
       "<g id=\"node9\" class=\"node\"><title>INTRON_END_1\n",
       "A = 1\n",
       "C = 0\n",
       "G = 0\n",
       "U = 0</title>\n",
       "<polygon fill=\"none\" stroke=\"black\" points=\"140.5,-217 24.5,-217 24.5,-134 140.5,-134 140.5,-217\"/>\n",
       "<text text-anchor=\"middle\" x=\"82.5\" y=\"-201.8\" font-family=\"Times,serif\" font-size=\"14.00\">INTRON_END_1</text>\n",
       "<text text-anchor=\"middle\" x=\"82.5\" y=\"-186.8\" font-family=\"Times,serif\" font-size=\"14.00\">A = 1</text>\n",
       "<text text-anchor=\"middle\" x=\"82.5\" y=\"-171.8\" font-family=\"Times,serif\" font-size=\"14.00\">C = 0</text>\n",
       "<text text-anchor=\"middle\" x=\"82.5\" y=\"-156.8\" font-family=\"Times,serif\" font-size=\"14.00\">G = 0</text>\n",
       "<text text-anchor=\"middle\" x=\"82.5\" y=\"-141.8\" font-family=\"Times,serif\" font-size=\"14.00\">U = 0</text>\n",
       "</g>\n",
       "<!-- INTRON_MID\n",
       "A = 0.25\n",
       "C = 0.25\n",
       "G = 0.25\n",
       "U = 0.25&#45;&gt;INTRON_END_1\n",
       "A = 1\n",
       "C = 0\n",
       "G = 0\n",
       "U = 0 -->\n",
       "<g id=\"edge10\" class=\"edge\"><title>INTRON_MID\n",
       "A = 0.25\n",
       "C = 0.25\n",
       "G = 0.25\n",
       "U = 0.25&#45;&gt;INTRON_END_1\n",
       "A = 1\n",
       "C = 0\n",
       "G = 0\n",
       "U = 0</title>\n",
       "<path fill=\"none\" stroke=\"black\" d=\"M63.8212,-267.819C66.4388,-255.021 69.3626,-240.727 72.1056,-227.317\"/>\n",
       "<polygon fill=\"black\" stroke=\"black\" points=\"75.5848,-227.773 74.1598,-217.274 68.7268,-226.37 75.5848,-227.773\"/>\n",
       "<text text-anchor=\"middle\" x=\"83\" y=\"-238.8\" font-family=\"Times,serif\" font-size=\"14.00\">0.50</text>\n",
       "</g>\n",
       "<!-- INTRON_END_2\n",
       "A = 0\n",
       "C = 0\n",
       "G = 1\n",
       "U = 0 -->\n",
       "<g id=\"node10\" class=\"node\"><title>INTRON_END_2\n",
       "A = 0\n",
       "C = 0\n",
       "G = 1\n",
       "U = 0</title>\n",
       "<polygon fill=\"none\" stroke=\"black\" points=\"201.5,-83 85.5,-83 85.5,-0 201.5,-0 201.5,-83\"/>\n",
       "<text text-anchor=\"middle\" x=\"143.5\" y=\"-67.8\" font-family=\"Times,serif\" font-size=\"14.00\">INTRON_END_2</text>\n",
       "<text text-anchor=\"middle\" x=\"143.5\" y=\"-52.8\" font-family=\"Times,serif\" font-size=\"14.00\">A = 0</text>\n",
       "<text text-anchor=\"middle\" x=\"143.5\" y=\"-37.8\" font-family=\"Times,serif\" font-size=\"14.00\">C = 0</text>\n",
       "<text text-anchor=\"middle\" x=\"143.5\" y=\"-22.8\" font-family=\"Times,serif\" font-size=\"14.00\">G = 1</text>\n",
       "<text text-anchor=\"middle\" x=\"143.5\" y=\"-7.8\" font-family=\"Times,serif\" font-size=\"14.00\">U = 0</text>\n",
       "</g>\n",
       "<!-- INTRON_END_1\n",
       "A = 1\n",
       "C = 0\n",
       "G = 0\n",
       "U = 0&#45;&gt;INTRON_END_2\n",
       "A = 0\n",
       "C = 0\n",
       "G = 1\n",
       "U = 0 -->\n",
       "<g id=\"edge11\" class=\"edge\"><title>INTRON_END_1\n",
       "A = 1\n",
       "C = 0\n",
       "G = 0\n",
       "U = 0&#45;&gt;INTRON_END_2\n",
       "A = 0\n",
       "C = 0\n",
       "G = 1\n",
       "U = 0</title>\n",
       "<path fill=\"none\" stroke=\"black\" d=\"M101.3,-133.819C107.33,-120.77 114.079,-106.166 120.38,-92.5294\"/>\n",
       "<polygon fill=\"black\" stroke=\"black\" points=\"123.639,-93.8202 124.657,-83.2743 117.285,-90.8837 123.639,-93.8202\"/>\n",
       "<text text-anchor=\"middle\" x=\"128\" y=\"-104.8\" font-family=\"Times,serif\" font-size=\"14.00\">1.00</text>\n",
       "</g>\n",
       "<!-- INTRON_END_2\n",
       "A = 0\n",
       "C = 0\n",
       "G = 1\n",
       "U = 0&#45;&gt;EXON\n",
       "A = 0.25\n",
       "C = 0.25\n",
       "G = 0.25\n",
       "U = 0.25 -->\n",
       "<g id=\"edge12\" class=\"edge\"><title>INTRON_END_2\n",
       "A = 0\n",
       "C = 0\n",
       "G = 1\n",
       "U = 0&#45;&gt;EXON\n",
       "A = 0.25\n",
       "C = 0.25\n",
       "G = 0.25\n",
       "U = 0.25</title>\n",
       "<path fill=\"none\" stroke=\"black\" d=\"M159.604,-83.1287C168.392,-108.886 177.5,-143.144 177.5,-174.5 177.5,-1114.5 177.5,-1114.5 177.5,-1114.5 177.5,-1141.27 177.292,-1171.09 177.065,-1195.61\"/>\n",
       "<polygon fill=\"black\" stroke=\"black\" points=\"173.564,-1195.73 176.968,-1205.77 180.564,-1195.8 173.564,-1195.73\"/>\n",
       "<text text-anchor=\"middle\" x=\"190\" y=\"-640.8\" font-family=\"Times,serif\" font-size=\"14.00\">1.00</text>\n",
       "</g>\n",
       "</g>\n",
       "</svg>\n"
      ],
      "text/plain": [
       "<graphviz.dot.Digraph at 0x7fd11c67e320>"
      ]
     },
     "execution_count": 6,
     "metadata": {},
     "output_type": "execute_result"
    }
   ],
   "source": [
    "from enum import Enum, auto\n",
    "from graphviz import Digraph\n",
    "\n",
    "class State(Enum):\n",
    "    #                (  A ,   C ,   G ,   U )\n",
    "    EXON           = (0.25, 0.25, 0.25, 0.25, auto())\n",
    "    INTRON_FST_1   = (   0,    0,    1,    0, auto())\n",
    "    INTRON_FST_2   = (   0,    0,    0,    1, auto())\n",
    "    INTRON_FST_3   = (0.25, 0.25, 0.25, 0.25, auto())\n",
    "    INTRON_FST_4   = (0.25, 0.25, 0.25, 0.25, auto())\n",
    "    INTRON_FST_5   = (0.25, 0.25, 0.25, 0.25, auto())\n",
    "    INTRON_FST_6   = (0.25, 0.25, 0.25, 0.25, auto())\n",
    "    INTRON_MID     = (0.25, 0.25, 0.25, 0.25, auto())\n",
    "    INTRON_END_1   = (   1,    0,    0,    0, auto())\n",
    "    INTRON_END_2   = (   0,    0,    1,    0, auto())\n",
    "    \n",
    "\n",
    "chars = \"ACGU\"\n",
    "\n",
    "def init_transition_probs(t):\n",
    "    return {(u, v) : 1 / sum(e == u for e, _ in t) for u, v in t}\n",
    "\n",
    "transitions = init_transition_probs([\n",
    "    (State.EXON, State.INTRON_FST_1),\n",
    "    (State.EXON, State.EXON),\n",
    "    \n",
    "    (State.INTRON_FST_1, State.INTRON_FST_2),\n",
    "    (State.INTRON_FST_2, State.INTRON_FST_3),\n",
    "    (State.INTRON_FST_3, State.INTRON_FST_4),\n",
    "    (State.INTRON_FST_4, State.INTRON_FST_5),\n",
    "    (State.INTRON_FST_5, State.INTRON_FST_6),\n",
    "    \n",
    "    (State.INTRON_FST_6, State.INTRON_MID),\n",
    "    (State.INTRON_MID, State.INTRON_MID),\n",
    "    (State.INTRON_MID, State.INTRON_END_1),\n",
    "    \n",
    "    (State.INTRON_END_1, State.INTRON_END_2),\n",
    "    (State.INTRON_END_2, State.EXON),\n",
    "])\n",
    "\n",
    "\n",
    "def add_edge(u, v):\n",
    "    def state_name(state):\n",
    "        return state.name + \"\\n\" + \"\\n\".join([f\"{c} = {p}\" for c, p in zip(chars, state.value)])\n",
    "    \n",
    "    label = \"{0:.2f}\".format(1 / sum(e == u for e, _ in transitions))\n",
    "    g.edge(state_name(u), state_name(v), label=label)\n",
    "\n",
    "g = Digraph()\n",
    "g.attr('node', shape='box')\n",
    "\n",
    "for u, v in transitions:\n",
    "    add_edge(u, v)\n",
    "\n",
    "g"
   ]
  },
  {
   "cell_type": "markdown",
   "metadata": {},
   "source": [
    "### Part (B)"
   ]
  },
  {
   "cell_type": "code",
   "execution_count": 95,
   "metadata": {},
   "outputs": [],
   "source": [
    "def print_parameters(hmm_instance):\n",
    "    print(\"transition_prob_matrix: \")\n",
    "    hmm.print_matrix(hmm_instance.transition_prob_matrix)\n",
    "    print(\"\\ninitial_probs: \")\n",
    "    print(hmm_instance.initial_probs)\n",
    "    print(f\"\\nemission_prob_matrix {chars}\")\n",
    "    hmm.print_matrix(hmm_instance.emission_prob_matrix)\n",
    "\n",
    "exon_intron_hmm = TrainableHMM(\n",
    "    states=[s.name for s in State],\n",
    "    chars=chars, \n",
    "    transition_prob_matrix=[[transitions.get((u, v), 0) for v in State] for u in State], \n",
    "    initial_probs=[0.5, 0.5] + [0] * (len(State) - 2),\n",
    "    emission_prob_matrix=[list(s.value[:-1]) for s in State]\n",
    ")"
   ]
  },
  {
   "cell_type": "code",
   "execution_count": 96,
   "metadata": {},
   "outputs": [
    {
     "name": "stdout",
     "output_type": "stream",
     "text": [
      "============================== Initial Parameters ==============================\n",
      "transition_prob_matrix: \n",
      "       0.5       0.5         0         0         0         0         0         0         0         0\n",
      "         0         0         1         0         0         0         0         0         0         0\n",
      "         0         0         0         1         0         0         0         0         0         0\n",
      "         0         0         0         0         1         0         0         0         0         0\n",
      "         0         0         0         0         0         1         0         0         0         0\n",
      "         0         0         0         0         0         0         1         0         0         0\n",
      "         0         0         0         0         0         0         0         1         0         0\n",
      "         0         0         0         0         0         0         0       0.5       0.5         0\n",
      "         0         0         0         0         0         0         0         0         0         1\n",
      "         1         0         0         0         0         0         0         0         0         0\n",
      "\n",
      "initial_probs: \n",
      "[0.5, 0.5, 0, 0, 0, 0, 0, 0, 0, 0]\n",
      "\n",
      "emission_prob_matrix ACGU\n",
      "      0.25      0.25      0.25      0.25\n",
      "         0         0         1         0\n",
      "         0         0         0         1\n",
      "      0.25      0.25      0.25      0.25\n",
      "      0.25      0.25      0.25      0.25\n",
      "      0.25      0.25      0.25      0.25\n",
      "      0.25      0.25      0.25      0.25\n",
      "      0.25      0.25      0.25      0.25\n",
      "         1         0         0         0\n",
      "         0         0         1         0\n",
      "============================== Estimating Parameters ==============================\n",
      "Iteration 0: log likelihood = -68768.923295\n",
      "Iteration 1: log likelihood = -52727.974483\n",
      "Iteration 2: log likelihood = -52494.808813\n",
      "Iteration 3: log likelihood = -52373.612623\n",
      "Iteration 4: log likelihood = -52248.581232\n",
      "Iteration 5: log likelihood = -52124.515636\n",
      "Iteration 6: log likelihood = -52058.836607\n",
      "Iteration 7: log likelihood = -52030.559781\n",
      "Iteration 8: log likelihood = -52014.943070\n",
      "Iteration 9: log likelihood = -52004.382182\n",
      "Iteration 10: log likelihood = -51996.243162\n",
      "Iteration 11: log likelihood = -51989.731623\n",
      "Iteration 12: log likelihood = -51984.873413\n",
      "Iteration 13: log likelihood = -51981.680091\n",
      "Iteration 14: log likelihood = -51979.824960\n",
      "Iteration 15: log likelihood = -51978.833994\n",
      "Iteration 16: log likelihood = -51978.321628\n",
      "Iteration 17: log likelihood = -51978.053059\n",
      "Iteration 18: log likelihood = -51977.905831\n",
      "Iteration 19: log likelihood = -51977.820397\n",
      "============================== Trained Parameters ==============================\n",
      "transition_prob_matrix: \n",
      "     0.995   0.00466         0         0         0         0         0         0         0         0\n",
      "         0         0         1         0         0         0         0         0         0         0\n",
      "         0         0         0         1         0         0         0         0         0         0\n",
      "         0         0         0         0         1         0         0         0         0         0\n",
      "         0         0         0         0         0         1         0         0         0         0\n",
      "         0         0         0         0         0         0         1         0         0         0\n",
      "         0         0         0         0         0         0         0         1         0         0\n",
      "         0         0         0         0         0         0         0      0.99   0.00979         0\n",
      "         0         0         0         0         0         0         0         0         0         1\n",
      "         1         0         0         0         0         0         0         0         0         0\n",
      "\n",
      "initial_probs: \n",
      "[0.9091913108742553, 0.09080868912574469, 0.0, 0.0, 0.0, 0.0, 0.0, 0.0, 0.0, 0.0]\n",
      "\n",
      "emission_prob_matrix ACGU\n",
      "     0.258     0.241      0.24     0.262\n",
      "         0         0         1         0\n",
      "         0         0         0         1\n",
      "     0.517  0.000564     0.323     0.159\n",
      "     0.613     0.117     0.189    0.0804\n",
      "      0.17     0.105     0.573     0.152\n",
      "     0.248    0.0674    0.0751     0.609\n",
      "     0.345     0.152     0.138     0.364\n",
      "         1         0         0         0\n",
      "         0         0         1         0\n"
     ]
    }
   ],
   "source": [
    "print(\"============================== Initial Parameters ==============================\")\n",
    "print_parameters(exon_intron_hmm)\n",
    "\n",
    "print(\"============================== Estimating Parameters ==============================\")\n",
    "exon_intron_hmm.estimate_parameters_baum_welch(fly_pre_mrnas, verbose=True)\n",
    "\n",
    "print(\"============================== Trained Parameters ==============================\")\n",
    "print_parameters(exon_intron_hmm)"
   ]
  },
  {
   "cell_type": "markdown",
   "metadata": {},
   "source": [
    "#### From the initial probabilities, we can see that it is highly unlikely that the first base in the sequence is intronic since the initial probability for intron is only 0.9091913108742553. \n",
    "\n",
    "#### For exon state, the likelyhood for all four bases are roughly the same, with base U slightly higher (26.2%) than others (25.8% for A, and 24.1 for C, and 24% for G)\n",
    "\n",
    "#### The thrid and fourth bases in an intron are more likely to be an A (51.7% for third, and 61.3 for fourth)\n",
    "\n",
    "#### The fifth bases in an intron are more likely to be an G (57.3%)\n",
    "\n",
    "#### The sixth bases in an intron are more likely to be an U (60.9%)\n",
    "\n",
    "#### The middle bases (other than first 6 or ending 2) in an intron are more likely to be an A (34.5%) or U (36.4%)"
   ]
  },
  {
   "cell_type": "markdown",
   "metadata": {},
   "source": [
    "### Part (C)"
   ]
  },
  {
   "cell_type": "code",
   "execution_count": 50,
   "metadata": {
    "scrolled": true
   },
   "outputs": [
    {
     "name": "stdout",
     "output_type": "stream",
     "text": [
      "base_accuracy = 0.8093742491880687\n",
      "feature_accuracy = 0.26517857142857143\n"
     ]
    }
   ],
   "source": [
    "def compute_accuracy(exon_intron_hmm):\n",
    "    def state_to_annotation(path):\n",
    "        return \"\".join(p[0] for p in path)\n",
    "    \n",
    "    def annotation_to_exon_pair(annotation):\n",
    "        l = []\n",
    "        if annotation[0] == 'E':\n",
    "            l += [0]\n",
    "            \n",
    "        for i, (a, b) in enumerate(zip(annotation, annotation[1:])):\n",
    "            if (a, b) == (\"E\", \"I\"):\n",
    "                l += [i]\n",
    "            elif (a, b) == (\"I\", \"E\"):\n",
    "                l += [i + 1]\n",
    "            \n",
    "        if annotation[len(annotation) - 1] == 'E':\n",
    "            l += [len(annotation) - 1]\n",
    "        \n",
    "        return [(l[i], l[i + 1]) for i in range(0, len(l), 2)]\n",
    "    \n",
    "    def compute_feature_accuracy(expected_annotation, actual_annotation):\n",
    "        expected_pair = annotation_to_exon_pair(expected_annotation)\n",
    "        actual_pair = annotation_to_exon_pair(actual_annotation)\n",
    "        return sum(p in expected_pair for p in actual_pair) / len(expected_pair)\n",
    "        \n",
    "\n",
    "    base_accuracy = 0\n",
    "    feature_accuracy = 0\n",
    "    for mrna, expected_annotation in zip(fly_pre_mrnas, fly_pre_mrna_annotations):\n",
    "        path = exon_intron_hmm.most_probable_path(mrna)\n",
    "        actual_annotation = state_to_annotation(path)\n",
    "        \n",
    "        base_accuracy += sum(e == a for e, a in zip(expected_annotation, actual_annotation)) / len(mrna)\n",
    "        feature_accuracy += compute_feature_accuracy(expected_annotation, actual_annotation)\n",
    "        \n",
    "    base_accuracy /= len(fly_pre_mrnas)\n",
    "    feature_accuracy /= len(fly_pre_mrnas)\n",
    "    \n",
    "    print(f\"base_accuracy = {base_accuracy}\")\n",
    "    print(f\"feature_accuracy = {feature_accuracy}\")\n",
    "        \n",
    "    \n",
    "compute_accuracy(exon_intron_hmm)    "
   ]
  },
  {
   "cell_type": "markdown",
   "metadata": {},
   "source": [
    "### Part (D)"
   ]
  },
  {
   "cell_type": "code",
   "execution_count": 94,
   "metadata": {},
   "outputs": [
    {
     "data": {
      "image/png": "[encoded data removed]",
      "text/plain": [
       "<Figure size 432x288 with 1 Axes>"
      ]
     },
     "metadata": {},
     "output_type": "display_data"
    }
   ],
   "source": [
    "def plot_posterior_probabilities(mrna):\n",
    "    is_state_exonic = [s.name[0] == 'E' for s in State]\n",
    "    prob = [0] * len(mrna)\n",
    "    \n",
    "    for i, row in enumerate(exon_intron_hmm.posterior_matrix(mrna)):\n",
    "        if not is_state_exonic[i]:\n",
    "            continue\n",
    "        for i, val in enumerate(row):\n",
    "            prob[i] += val\n",
    "    \n",
    "    plt.fill_between(list(range(len(mrna))), prob)\n",
    "\n",
    "plot_posterior_probabilities(fly_pre_mrnas[0])"
   ]
  },
  {
   "cell_type": "markdown",
   "metadata": {},
   "source": [
    "\n",
    "## Models for testing"
   ]
  },
  {
   "cell_type": "markdown",
   "metadata": {},
   "source": [
    "### Coin flipping model"
   ]
  },
  {
   "cell_type": "code",
   "execution_count": 26,
   "metadata": {
    "collapsed": true,
    "deletable": false,
    "editable": false,
    "nbgrader": {
     "grade": false,
     "grade_id": "cell-4dc0f408fdb6171e",
     "locked": true,
     "schema_version": 1,
     "solution": false
    }
   },
   "outputs": [],
   "source": [
    "# A coin flipping model like the casino model below, but with two\n",
    "# potentially biased coin states that emit either heads or tails\n",
    "coin_states = \"12\" # 1 = coin 1, 2 = coin 2\n",
    "coin_chars = \"HT\"  # heads or tails\n",
    "coin_initial_probs = [0.5, 0.5]\n",
    "coin_transition_prob_matrix = [\n",
    "    [0.8, 0.2],\n",
    "    [0.3, 0.7]\n",
    "]\n",
    "coin_emission_prob_matrix = [\n",
    "    [0.9, 0.1],\n",
    "    [0.4, 0.6]\n",
    "]\n",
    "coin_hmm = TrainableHMM(coin_states,\n",
    "                        coin_chars,\n",
    "                        coin_transition_prob_matrix,\n",
    "                        coin_initial_probs,\n",
    "                        coin_emission_prob_matrix)\n",
    "\n",
    "# A micro example with this model\n",
    "coin_micro_dataset = [\"T\"]\n",
    "\n",
    "# A tiny example with this model\n",
    "coin_tiny_dataset = [\"TH\"]"
   ]
  },
  {
   "cell_type": "markdown",
   "metadata": {
    "deletable": false,
    "editable": false,
    "nbgrader": {
     "grade": false,
     "grade_id": "cell-31967adb20762453",
     "locked": true,
     "schema_version": 1,
     "solution": false
    }
   },
   "source": [
    "### Coin flipping model - micro tests (30 POINTS)"
   ]
  },
  {
   "cell_type": "code",
   "execution_count": 27,
   "metadata": {
    "deletable": false,
    "editable": false,
    "nbgrader": {
     "grade": true,
     "grade_id": "coin_micro_expected_emission_counts",
     "locked": true,
     "points": 6,
     "schema_version": 1,
     "solution": false
    }
   },
   "outputs": [
    {
     "name": "stdout",
     "output_type": "stream",
     "text": [
      "SUCCESS: coin micro expected emission counts test passed\n"
     ]
    }
   ],
   "source": [
    "# tests for coin micro expected emission_counts\n",
    "coin_hmm.set_parameters(coin_transition_prob_matrix, coin_initial_probs, coin_emission_prob_matrix)\n",
    "e_step_results = coin_hmm.baum_welch_expectation_step(coin_micro_dataset)\n",
    "assert hmm.round_matrix(e_step_results[\"emission_count_matrix\"], 3) == [[0, 0.143], [0, 0.857]]\n",
    "print(\"SUCCESS: coin micro expected emission counts test passed\")"
   ]
  },
  {
   "cell_type": "code",
   "execution_count": 28,
   "metadata": {
    "deletable": false,
    "editable": false,
    "nbgrader": {
     "grade": true,
     "grade_id": "coin_micro_expected_transition_counts",
     "locked": true,
     "points": 6,
     "schema_version": 1,
     "solution": false
    },
    "scrolled": true
   },
   "outputs": [
    {
     "name": "stdout",
     "output_type": "stream",
     "text": [
      "SUCCESS: coin micro expected transition counts test passed\n"
     ]
    }
   ],
   "source": [
    "# tests for coin micro expected transition_counts\n",
    "coin_hmm.set_parameters(coin_transition_prob_matrix, coin_initial_probs, coin_emission_prob_matrix)\n",
    "e_step_results = coin_hmm.baum_welch_expectation_step(coin_micro_dataset)\n",
    "assert hmm.round_matrix(e_step_results[\"transition_count_matrix\"], 3) == [[0, 0], [0, 0]]\n",
    "print(\"SUCCESS: coin micro expected transition counts test passed\")"
   ]
  },
  {
   "cell_type": "code",
   "execution_count": 29,
   "metadata": {
    "deletable": false,
    "editable": false,
    "nbgrader": {
     "grade": true,
     "grade_id": "coin_micro_expected_initial_counts",
     "locked": true,
     "points": 6,
     "schema_version": 1,
     "solution": false
    }
   },
   "outputs": [
    {
     "name": "stdout",
     "output_type": "stream",
     "text": [
      "SUCCESS: coin micro expected initial counts test passed\n"
     ]
    }
   ],
   "source": [
    "# tests for coin micro expected initial counts\n",
    "coin_hmm.set_parameters(coin_transition_prob_matrix, coin_initial_probs, coin_emission_prob_matrix)\n",
    "e_step_results = coin_hmm.baum_welch_expectation_step(coin_micro_dataset)\n",
    "assert hmm.round_vector(e_step_results[\"initial_counts\"], 3) == [0.143, 0.857]\n",
    "print(\"SUCCESS: coin micro expected initial counts test passed\")"
   ]
  },
  {
   "cell_type": "code",
   "execution_count": 30,
   "metadata": {
    "deletable": false,
    "editable": false,
    "nbgrader": {
     "grade": true,
     "grade_id": "coin_micro_log_likelihood",
     "locked": true,
     "points": 6,
     "schema_version": 1,
     "solution": false
    },
    "scrolled": true
   },
   "outputs": [
    {
     "name": "stdout",
     "output_type": "stream",
     "text": [
      "SUCCESS: coin micro log likelihood test passed\n"
     ]
    }
   ],
   "source": [
    "# tests for coin micro log likelihood\n",
    "coin_hmm.set_parameters(coin_transition_prob_matrix, coin_initial_probs, coin_emission_prob_matrix)\n",
    "e_step_results = coin_hmm.baum_welch_expectation_step(coin_micro_dataset)\n",
    "assert round(e_step_results[\"log_likelihood\"], 3) == -1.05\n",
    "print(\"SUCCESS: coin micro log likelihood test passed\")"
   ]
  },
  {
   "cell_type": "code",
   "execution_count": 31,
   "metadata": {
    "deletable": false,
    "editable": false,
    "nbgrader": {
     "grade": true,
     "grade_id": "coin_micro_M-step",
     "locked": true,
     "points": 6,
     "schema_version": 1,
     "solution": false
    }
   },
   "outputs": [
    {
     "name": "stdout",
     "output_type": "stream",
     "text": [
      "SUCCESS: coin micro M-step test passed\n"
     ]
    }
   ],
   "source": [
    "# tests for coin micro M-step\n",
    "e_step_results = {\n",
    "    \"transition_count_matrix\": [[0, 0], \n",
    "                                [0, 0]],\n",
    "    \"initial_counts\": [0.14285714285714288, 0.8571428571428572],\n",
    "    \"emission_count_matrix\": [[0, 0.14285714285714288], \n",
    "                              [0, 0.8571428571428572]],\n",
    "    \"log_likelihood\": -1.0498221244986776}\n",
    "\n",
    "pseudocount = 1\n",
    "coin_hmm.baum_welch_maximization_step(e_step_results, pseudocount)\n",
    "assert hmm.round_matrix(coin_hmm.transition_prob_matrix, 3) == [[0.5, 0.5], [0.5, 0.5]]\n",
    "assert hmm.round_vector(coin_hmm.initial_probs, 3) == [0.381, 0.619]\n",
    "assert hmm.round_matrix(coin_hmm.emission_prob_matrix, 3) == [[0.467, 0.533], [0.35, 0.65]]\n",
    "print(\"SUCCESS: coin micro M-step test passed\")"
   ]
  },
  {
   "cell_type": "markdown",
   "metadata": {
    "deletable": false,
    "editable": false,
    "nbgrader": {
     "grade": false,
     "grade_id": "cell-69624639e6aedd2f",
     "locked": true,
     "schema_version": 1,
     "solution": false
    }
   },
   "source": [
    "### Coin flipping model - tiny tests (10 POINTS)"
   ]
  },
  {
   "cell_type": "code",
   "execution_count": 32,
   "metadata": {
    "deletable": false,
    "editable": false,
    "nbgrader": {
     "grade": true,
     "grade_id": "coin_tiny_expected_emission_counts",
     "locked": true,
     "points": 2,
     "schema_version": 1,
     "solution": false
    }
   },
   "outputs": [
    {
     "name": "stdout",
     "output_type": "stream",
     "text": [
      "SUCCESS: coin tiny expected emission counts test passed\n"
     ]
    }
   ],
   "source": [
    "# tests for coin tiny expected emission_counts\n",
    "coin_hmm.set_parameters(coin_transition_prob_matrix, coin_initial_probs, coin_emission_prob_matrix)\n",
    "e_step_results = coin_hmm.baum_welch_expectation_step(coin_tiny_dataset)\n",
    "assert hmm.round_matrix(e_step_results[\"emission_count_matrix\"], 3) == [[0.571, 0.195], [0.429, 0.805]]\n",
    "print(\"SUCCESS: coin tiny expected emission counts test passed\")"
   ]
  },
  {
   "cell_type": "code",
   "execution_count": 33,
   "metadata": {
    "deletable": false,
    "editable": false,
    "nbgrader": {
     "grade": true,
     "grade_id": "coin_tiny_expected_transition_counts",
     "locked": true,
     "points": 2,
     "schema_version": 1,
     "solution": false
    },
    "scrolled": true
   },
   "outputs": [
    {
     "name": "stdout",
     "output_type": "stream",
     "text": [
      "SUCCESS: coin tiny expected transition counts test passed\n"
     ]
    }
   ],
   "source": [
    "# tests for coin tiny expected transition_counts\n",
    "coin_hmm.set_parameters(coin_transition_prob_matrix, coin_initial_probs, coin_emission_prob_matrix)\n",
    "e_step_results = coin_hmm.baum_welch_expectation_step(coin_tiny_dataset)\n",
    "assert hmm.round_matrix(e_step_results[\"transition_count_matrix\"], 3) == [[0.176, 0.02], [0.395, 0.41]]\n",
    "print(\"SUCCESS: coin tiny expected transition counts test passed\")"
   ]
  },
  {
   "cell_type": "code",
   "execution_count": 34,
   "metadata": {
    "deletable": false,
    "editable": false,
    "nbgrader": {
     "grade": true,
     "grade_id": "coin_tiny_expected_initial_counts",
     "locked": true,
     "points": 2,
     "schema_version": 1,
     "solution": false
    }
   },
   "outputs": [
    {
     "name": "stdout",
     "output_type": "stream",
     "text": [
      "SUCCESS: coin tiny expected initial counts test passed\n"
     ]
    }
   ],
   "source": [
    "# tests for coin tiny expected initial counts\n",
    "coin_hmm.set_parameters(coin_transition_prob_matrix, coin_initial_probs, coin_emission_prob_matrix)\n",
    "e_step_results = coin_hmm.baum_welch_expectation_step(coin_tiny_dataset)\n",
    "assert hmm.round_vector(e_step_results[\"initial_counts\"], 3) == [0.195, 0.805]\n",
    "print(\"SUCCESS: coin tiny expected initial counts test passed\")"
   ]
  },
  {
   "cell_type": "code",
   "execution_count": 35,
   "metadata": {
    "deletable": false,
    "editable": false,
    "nbgrader": {
     "grade": true,
     "grade_id": "coin_tiny_log_likelihood",
     "locked": true,
     "points": 2,
     "schema_version": 1,
     "solution": false
    }
   },
   "outputs": [
    {
     "name": "stdout",
     "output_type": "stream",
     "text": [
      "SUCCESS: coin tiny log likelihood test passed\n"
     ]
    }
   ],
   "source": [
    "# tests for coin tiny log likelihood\n",
    "coin_hmm.set_parameters(coin_transition_prob_matrix, coin_initial_probs, coin_emission_prob_matrix)\n",
    "e_step_results = coin_hmm.baum_welch_expectation_step(coin_tiny_dataset)\n",
    "assert round(e_step_results[\"log_likelihood\"], 3) == -1.585\n",
    "print(\"SUCCESS: coin tiny log likelihood test passed\")"
   ]
  },
  {
   "cell_type": "code",
   "execution_count": 36,
   "metadata": {
    "deletable": false,
    "editable": false,
    "nbgrader": {
     "grade": true,
     "grade_id": "coin_tiny_M-step",
     "locked": true,
     "points": 2,
     "schema_version": 1,
     "solution": false
    }
   },
   "outputs": [
    {
     "name": "stdout",
     "output_type": "stream",
     "text": [
      "SUCCESS: coin tiny M-step test passed\n"
     ]
    }
   ],
   "source": [
    "# tests for coin tiny M-step\n",
    "e_step_results = {\n",
    "    \"transition_count_matrix\":[[0.175609756097561, 0.019512195121951226], \n",
    "                               [0.3951219512195122, 0.4097560975609756]],\n",
    "    \"initial_counts\":        [0.19512195121951223, 0.8048780487804876],\n",
    "    \"emission_count_matrix\": [[0.5707317073170731, 0.19512195121951223], \n",
    "                              [0.4292682926829269, 0.8048780487804876]],\n",
    "    \"log_likelihood\": -1.5847452998437288}\n",
    "pseudocount = 0\n",
    "coin_hmm.baum_welch_maximization_step(e_step_results, pseudocount)\n",
    "assert hmm.round_matrix(coin_hmm.transition_prob_matrix, 3) == [[0.9, 0.1], [0.491, 0.509]]\n",
    "assert hmm.round_vector(coin_hmm.initial_probs, 3) == [0.195, 0.805]\n",
    "assert hmm.round_matrix(coin_hmm.emission_prob_matrix, 3) == [[0.745, 0.255], [0.348, 0.652]]\n",
    "print(\"SUCCESS: coin tiny M-step test passed\")"
   ]
  },
  {
   "cell_type": "markdown",
   "metadata": {
    "deletable": false,
    "editable": false,
    "nbgrader": {
     "grade": false,
     "grade_id": "cell-bbce6bef6c09c0df",
     "locked": true,
     "schema_version": 1,
     "solution": false
    }
   },
   "source": [
    "### Occasionally dishonest casino tests (10 POINTS)"
   ]
  },
  {
   "cell_type": "code",
   "execution_count": 37,
   "metadata": {
    "collapsed": true,
    "deletable": false,
    "editable": false,
    "nbgrader": {
     "grade": false,
     "grade_id": "cell-1f8c6c33e03531c9",
     "locked": true,
     "schema_version": 1,
     "solution": false
    },
    "scrolled": true
   },
   "outputs": [],
   "source": [
    "# The occasionally dishonest casino example described in the lecture and textbook\n",
    "casino_states = \"FL\"     # F = fair die, L = loaded die\n",
    "casino_chars = \"123456\"  # the six sides of the die\n",
    "casino_initial_probs = [0.5, 0.5]\n",
    "casino_transition_prob_matrix = [\n",
    "    [0.95, 0.05],\n",
    "    [0.10, 0.90]\n",
    "]\n",
    "casino_emission_prob_matrix = [\n",
    "    [ 1/6,  1/6,  1/6,  1/6,  1/6, 1/6],\n",
    "    [1/10, 1/10, 1/10, 1/10, 1/10, 1/2]\n",
    "]\n",
    "casino_hmm = TrainableHMM(casino_states, \n",
    "                          casino_chars, \n",
    "                          casino_transition_prob_matrix, \n",
    "                          casino_initial_probs,\n",
    "                          casino_emission_prob_matrix)\n",
    "\n",
    "casino_sequences = [\"165\", \"63\"]"
   ]
  },
  {
   "cell_type": "code",
   "execution_count": 38,
   "metadata": {
    "deletable": false,
    "editable": false,
    "nbgrader": {
     "grade": true,
     "grade_id": "casino_expected_emission_counts",
     "locked": true,
     "points": 2,
     "schema_version": 1,
     "solution": false
    }
   },
   "outputs": [
    {
     "name": "stdout",
     "output_type": "stream",
     "text": [
      "SUCCESS: casino expected emission counts test passed\n"
     ]
    }
   ],
   "source": [
    "# tests for casino expected emission counts\n",
    "casino_hmm.set_parameters(casino_transition_prob_matrix, casino_initial_probs, casino_emission_prob_matrix)\n",
    "e_step_results = casino_hmm.baum_welch_expectation_step(casino_sequences)\n",
    "assert hmm.round_matrix(e_step_results[\"emission_count_matrix\"], 3) == \\\n",
    "    [[0.484, 0, 0.431, 0, 0.535, 0.804], \n",
    "     [0.516, 0, 0.569, 0, 0.465, 1.196]]\n",
    "print(\"SUCCESS: casino expected emission counts test passed\")"
   ]
  },
  {
   "cell_type": "code",
   "execution_count": 39,
   "metadata": {
    "deletable": false,
    "editable": false,
    "nbgrader": {
     "grade": true,
     "grade_id": "casino_expected_transition_counts",
     "locked": true,
     "points": 2,
     "schema_version": 1,
     "solution": false
    }
   },
   "outputs": [
    {
     "name": "stdout",
     "output_type": "stream",
     "text": [
      "SUCCESS: casino expected transition counts test passed\n"
     ]
    }
   ],
   "source": [
    "# tests for casino expected transition counts\n",
    "casino_hmm.set_parameters(casino_transition_prob_matrix, casino_initial_probs, casino_emission_prob_matrix)\n",
    "e_step_results = casino_hmm.baum_welch_expectation_step(casino_sequences)\n",
    "log_likelihood, transition_count_matrix, initial_counts, emission_count_matrix = e_step_results\n",
    "assert hmm.round_matrix(e_step_results[\"transition_count_matrix\"], 3) == \\\n",
    "    [[1.218, 0.07], [0.215, 1.497]]\n",
    "print(\"SUCCESS: casino expected transition counts test passed\")"
   ]
  },
  {
   "cell_type": "code",
   "execution_count": 40,
   "metadata": {
    "deletable": false,
    "editable": false,
    "nbgrader": {
     "grade": true,
     "grade_id": "casino_expected_initial_counts",
     "locked": true,
     "points": 2,
     "schema_version": 1,
     "solution": false
    }
   },
   "outputs": [
    {
     "name": "stdout",
     "output_type": "stream",
     "text": [
      "SUCCESS: casino expected initial counts test passed\n"
     ]
    }
   ],
   "source": [
    "# tests for casino expected initial counts\n",
    "casino_hmm.set_parameters(casino_transition_prob_matrix, casino_initial_probs, casino_emission_prob_matrix)\n",
    "e_step_results = casino_hmm.baum_welch_expectation_step(casino_sequences)\n",
    "assert hmm.round_vector(e_step_results[\"initial_counts\"], 3) == [0.822, 1.178]\n",
    "print(\"SUCCESS: casino expected initial counts test passed\")"
   ]
  },
  {
   "cell_type": "code",
   "execution_count": 41,
   "metadata": {
    "deletable": false,
    "editable": false,
    "nbgrader": {
     "grade": true,
     "grade_id": "casino_log_likelihood",
     "locked": true,
     "points": 2,
     "schema_version": 1,
     "solution": false
    },
    "scrolled": false
   },
   "outputs": [
    {
     "name": "stdout",
     "output_type": "stream",
     "text": [
      "SUCCESS: casino log likelihood test passed\n"
     ]
    }
   ],
   "source": [
    "# tests for casino log likelihood\n",
    "casino_hmm.set_parameters(casino_transition_prob_matrix, casino_initial_probs, casino_emission_prob_matrix)\n",
    "e_step_results = casino_hmm.baum_welch_expectation_step(casino_sequences)\n",
    "assert round(e_step_results[\"log_likelihood\"], 3) == -8.528\n",
    "print(\"SUCCESS: casino log likelihood test passed\")"
   ]
  },
  {
   "cell_type": "code",
   "execution_count": 42,
   "metadata": {
    "deletable": false,
    "editable": false,
    "nbgrader": {
     "grade": true,
     "grade_id": "casino_M-step",
     "locked": true,
     "points": 2,
     "schema_version": 1,
     "solution": false
    }
   },
   "outputs": [
    {
     "name": "stdout",
     "output_type": "stream",
     "text": [
      "SUCCESS: casino M-step test passed\n"
     ]
    }
   ],
   "source": [
    "# tests for casino M-step\n",
    "e_step_results = {\n",
    "    \"transition_count_matrix\": [[1.2182391796657972, 0.06984732452392478],\n",
    "                                [0.21453844829210775, 1.497375047518171]],\n",
    "    \"initial_counts\": [0.8217716073650729, 1.178228392634928],\n",
    "    \"emission_count_matrix\": [\n",
    "        [0.48384057288231425, 0, 0.4310344827586207, 0, 0.5354282483746345, 0.8042459313074077],\n",
    "        [0.5161594271176861, 0, 0.5689655172413794, 0, 0.46457175162536557, 1.1957540686925925]]\n",
    "}\n",
    "\n",
    "pseudocount = 0\n",
    "casino_hmm.baum_welch_maximization_step(e_step_results, pseudocount)\n",
    "assert hmm.round_matrix(casino_hmm.transition_prob_matrix, 3) == [[0.946, 0.054], [0.125, 0.875]]\n",
    "assert hmm.round_vector(casino_hmm.initial_probs, 3) == [0.411, 0.589]\n",
    "assert hmm.round_matrix(casino_hmm.emission_prob_matrix, 3) == [[0.215, 0.0, 0.191, 0.0, 0.237, 0.357],\n",
    "                                                                [0.188, 0.0, 0.207, 0.0, 0.169, 0.436]]\n",
    "print(\"SUCCESS: casino M-step test passed\")"
   ]
  },
  {
   "cell_type": "markdown",
   "metadata": {
    "deletable": false,
    "editable": false,
    "nbgrader": {
     "grade": false,
     "grade_id": "cell-c076c6a8b97b5676",
     "locked": true,
     "schema_version": 1,
     "solution": false
    }
   },
   "source": [
    "### CpG model tests (10 POINTS)"
   ]
  },
  {
   "cell_type": "code",
   "execution_count": 43,
   "metadata": {
    "collapsed": true,
    "deletable": false,
    "editable": false,
    "nbgrader": {
     "grade": false,
     "grade_id": "cell-ec7fe235d646fed2",
     "locked": true,
     "schema_version": 1,
     "solution": false
    },
    "scrolled": true
   },
   "outputs": [],
   "source": [
    "# The CpG HMM example described in the lecture and textbook\n",
    "cpg_states = [\"A+\", \"C+\", \"G+\", \"T+\", # CpG states\n",
    "              \"A-\", \"C-\", \"G-\", \"T-\"] # Null states\n",
    "cpg_chars = \"ACGT\"\n",
    "\n",
    "cpg_initial_probs = [1 / len(cpg_states)] * len(cpg_states)\n",
    "\n",
    "cpg_transition_prob_matrix = hmm.matrix(len(cpg_states), len(cpg_states))\n",
    "for i in range(len(cpg_states)):\n",
    "    for j in range(len(cpg_states)):\n",
    "        same_class = cpg_states[i][-1] == cpg_states[j][-1]\n",
    "        cpg_transition_prob_matrix[i][j] = 0.2 if same_class else 0.05\n",
    "# modify transition probs from C- to model having fewer CpG in null\n",
    "cpg_transition_prob_matrix[cpg_states.index(\"C-\")][cpg_states.index(\"A-\")] = 0.25\n",
    "cpg_transition_prob_matrix[cpg_states.index(\"C-\")][cpg_states.index(\"C-\")] = 0.25\n",
    "cpg_transition_prob_matrix[cpg_states.index(\"C-\")][cpg_states.index(\"G-\")] = 0.05\n",
    "cpg_transition_prob_matrix[cpg_states.index(\"C-\")][cpg_states.index(\"T-\")] = 0.25\n",
    "\n",
    "cpg_emission_prob_matrix = hmm.matrix(len(cpg_states), len(cpg_chars))\n",
    "for i in range(len(cpg_states)):\n",
    "    for j in range(len(cpg_chars)):\n",
    "        char_matches_state = cpg_states[i][0] == cpg_chars[j]\n",
    "        cpg_emission_prob_matrix[i][j] = 1 if char_matches_state else 0\n",
    "\n",
    "cpg_hmm = TrainableHMM(cpg_states, \n",
    "                       cpg_chars, \n",
    "                       cpg_transition_prob_matrix, \n",
    "                       cpg_initial_probs,\n",
    "                       cpg_emission_prob_matrix)\n",
    "\n",
    "cpg_dataset = [\n",
    "    'CCTTGATTAAATGAGGAAAGTGCTATCATGTTTGTCCCTACAATCTTGCTCGCAGCCGCATGGTATCCCCAATTCCGGCT',\n",
    "    'CCAGGAAGTAGACTCTTCTGCGGCGAGAGGGGGGCCGGAGCATGGCTCAGGTCACATGAGCGATGTCAACTAGTGCGAGT',\n",
    "    'TTATTGGCCTACGAAAATCTACAAGAGGTTTTGACAGTTGTGAGAATCGGGCGGTACCACTCATCGATAGGGCTGAGCAT',\n",
    "    'GGGGTCTATGGCGGCGAGTCCGTCTAATTACTGACAGGGCAGGTCTTATGGCCGACGGTAAACCATGCACGCACCGGGGT',\n",
    "    'ATTGATGCCCGGATGAGGGCGCGACCCAAGACATCGACATCAAGTGGAACAGCGAGTCTCTTGTCATCAGGGCGGCCCCC',\n",
    "    'AACTACTCCTATGTTATGGTCTCGGAGGGAATTCCACCAATTAGCTGGGAAGCAGCCCCATTTTGCTTCAACTAATTCGA',\n",
    "    'CTAGCTCCACTGACGGGTGTATTCAGCCGTACTAATATCGGGACTACCAGCCTGTCTTGACCGCAGCTGGCCGACCTAAC',\n",
    "    'AGTATTGAACGTTTAACTCTCAGGACAGGGCGTCTGCATTCTGTTCACATACTGTAAATGAGCAATATCCTTTTTGAGTC',\n",
    "    'TCGTTTGTAGGTGTGAGACTTCCTAAGGTACAGGATAGCTTATTTGGGAGAATACCTTCCACCTCTGCATCCAGGCTATC',\n",
    "    'TCCCTGTGTGTTAGCGAAAATTATGGTTACAAGCATCCAATACAACTTTCATCTCCAAGCTAGTCGTAAAAGCTGATAAA']"
   ]
  },
  {
   "cell_type": "code",
   "execution_count": 44,
   "metadata": {
    "collapsed": true,
    "deletable": false,
    "editable": false,
    "nbgrader": {
     "grade": true,
     "grade_id": "cpg_expected_emission_counts",
     "locked": true,
     "points": 2,
     "schema_version": 1,
     "solution": false
    }
   },
   "outputs": [],
   "source": [
    "# tests for cpg expected emission counts\n",
    "cpg_hmm.set_parameters(cpg_transition_prob_matrix, cpg_initial_probs, cpg_emission_prob_matrix)\n",
    "e_step_results = cpg_hmm.baum_welch_expectation_step(cpg_dataset)\n",
    "###\n",
    "### AUTOGRADER TEST - DO NOT REMOVE\n",
    "###\n"
   ]
  },
  {
   "cell_type": "code",
   "execution_count": 45,
   "metadata": {
    "collapsed": true,
    "deletable": false,
    "editable": false,
    "nbgrader": {
     "grade": true,
     "grade_id": "cpg_expected_transition_counts",
     "locked": true,
     "points": 2,
     "schema_version": 1,
     "solution": false
    }
   },
   "outputs": [],
   "source": [
    "# tests for cpg expected transition counts\n",
    "cpg_hmm.set_parameters(cpg_transition_prob_matrix, cpg_initial_probs, cpg_emission_prob_matrix)\n",
    "e_step_results = cpg_hmm.baum_welch_expectation_step(cpg_dataset)\n",
    "###\n",
    "### AUTOGRADER TEST - DO NOT REMOVE\n",
    "###\n"
   ]
  },
  {
   "cell_type": "code",
   "execution_count": null,
   "metadata": {
    "collapsed": true,
    "deletable": false,
    "editable": false,
    "nbgrader": {
     "grade": true,
     "grade_id": "cpg_expected_initial_counts",
     "locked": true,
     "points": 2,
     "schema_version": 1,
     "solution": false
    }
   },
   "outputs": [],
   "source": [
    "# tests for cpg expected initial counts\n",
    "cpg_hmm.set_parameters(cpg_transition_prob_matrix, cpg_initial_probs, cpg_emission_prob_matrix)\n",
    "e_step_results = cpg_hmm.baum_welch_expectation_step(cpg_dataset)\n",
    "###\n",
    "### AUTOGRADER TEST - DO NOT REMOVE\n",
    "###\n"
   ]
  },
  {
   "cell_type": "code",
   "execution_count": null,
   "metadata": {
    "collapsed": true,
    "deletable": false,
    "editable": false,
    "nbgrader": {
     "grade": true,
     "grade_id": "cpg_log_likelihood",
     "locked": true,
     "points": 2,
     "schema_version": 1,
     "solution": false
    },
    "scrolled": false
   },
   "outputs": [],
   "source": [
    "# tests for cpg log likelihood\n",
    "cpg_hmm.set_parameters(cpg_transition_prob_matrix, cpg_initial_probs, cpg_emission_prob_matrix)\n",
    "e_step_results = cpg_hmm.baum_welch_expectation_step(cpg_dataset)\n",
    "###\n",
    "### AUTOGRADER TEST - DO NOT REMOVE\n",
    "###\n"
   ]
  },
  {
   "cell_type": "code",
   "execution_count": null,
   "metadata": {
    "collapsed": true,
    "deletable": false,
    "editable": false,
    "nbgrader": {
     "grade": true,
     "grade_id": "cpg_M-step",
     "locked": true,
     "points": 2,
     "schema_version": 1,
     "solution": false
    }
   },
   "outputs": [],
   "source": [
    "# tests for cpg M-step\n",
    "###\n",
    "### AUTOGRADER TEST - DO NOT REMOVE\n",
    "###\n"
   ]
  }
 ],
 "metadata": {
  "celltoolbar": "Create Assignment",
  "kernelspec": {
   "display_name": "Python 3 [3.6]",
   "language": "python",
   "name": "python3"
  },
  "language_info": {
   "codemirror_mode": {
    "name": "ipython",
    "version": 3
   },
   "file_extension": ".py",
   "mimetype": "text/x-python",
   "name": "python",
   "nbconvert_exporter": "python",
   "pygments_lexer": "ipython3",
   "version": "3.6.4"
  }
 },
 "nbformat": 4,
 "nbformat_minor": 2
}
